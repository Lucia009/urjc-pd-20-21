{
 "cells": [
  {
   "cell_type": "markdown",
   "metadata": {},
   "source": [
    "# Algebraic data types"
   ]
  },
  {
   "cell_type": "markdown",
   "metadata": {},
   "source": [
    "User-defined types in object-oriented languages are specified through class or trait declarations. Types can also be specified from already existing user-defined types through the inheritance mechanism.  "
   ]
  },
  {
   "cell_type": "markdown",
   "metadata": {},
   "source": [
    "In functional programming, the rules for declaring new types are different: no inheritance or classes, just _products_ and _sums_ of types (and _exponentiation_, as we will see when we talk about higher-order functions). Because of the terminology and the correspondence with arithmetic (see later on), these types are called **algebraic data types**. "
   ]
  },
  {
   "cell_type": "markdown",
   "metadata": {},
   "source": [
    "### References\n",
    "\n",
    "[__Programming in Scala, \n",
    "A comprehensive step-by-step guide__](https://www.artima.com/shop/programming_in_scala_3ed) Third Edition.\n",
    "by Martin Odersky, Lex Spoon, and Bill Venners. \n",
    "\n",
    "- Chapter 15. Case Classes and Pattern Matching\n",
    "\n",
    "__[Scala book (online)](https://docs.scala-lang.org/overviews/scala-book/introduction.html)__.\n",
    "\n",
    "- [Match Expressions](https://docs.scala-lang.org/overviews/scala-book/match-expressions.html)\n",
    "- [Case classes](https://docs.scala-lang.org/overviews/scala-book/case-classes.html)\n",
    "- [Case objects](https://docs.scala-lang.org/overviews/scala-book/case-objects.html)\n",
    "\n",
    "[__Functional programming simplified__](https://alvinalexander.com/downloads/fpsimplified-free-preview.pdf), by Alvin Alexander.\n",
    "\n",
    "- Chapters 19. Functional Programming as Algebra "
   ]
  },
  {
   "cell_type": "markdown",
   "metadata": {},
   "source": [
    "## Product types"
   ]
  },
  {
   "cell_type": "markdown",
   "metadata": {},
   "source": [
    "A value of a product type `T1 * T2` is created with a value of `T1` **and** a value of `T2`. The constructor function is:\n",
    "  - `create: (T1, T2) -> T1 * T2` (create is a 2-ary function). \n",
    "\n",
    "Given a value of a product type, we can obtain back both values with observers:\n",
    "  - `fst: T1 * T2 -> T1` \n",
    "  - `snd: T1 * T2 -> T2`\n",
    "  \n"
   ]
  },
  {
   "cell_type": "markdown",
   "metadata": {},
   "source": [
    "### Products in Scala\n",
    "\n",
    "In Scala, products are commonly called tuples. They are defined through classes that declare one public value field (conventionally named `_1`, `_2`, etc.) for each product member type."
   ]
  },
  {
   "cell_type": "code",
   "execution_count": 7,
   "metadata": {},
   "outputs": [
    {
     "data": {
      "text/plain": [
       "defined \u001b[32mclass\u001b[39m \u001b[36mPerson\u001b[39m"
      ]
     },
     "execution_count": 7,
     "metadata": {},
     "output_type": "execute_result"
    }
   ],
   "source": [
    "// type Person = Int * String * Boolean\n",
    "\n",
    "class Person(\n",
    "    val _1: Int, \n",
    "    val _2: String,\n",
    "    val _3: Boolean)\n",
    "\n"
   ]
  },
  {
   "cell_type": "markdown",
   "metadata": {},
   "source": [
    "Thus, the constructor of the product, `create`, is the constructor of the class, and the observers `fst` y `snd` the member fields `_1` y `_2`."
   ]
  },
  {
   "cell_type": "code",
   "execution_count": 6,
   "metadata": {},
   "outputs": [
    {
     "name": "stderr",
     "output_type": "stream",
     "text": [
      "cmd6.sc:2: value _1 is not a member of cmd6.this.cmd4.Person\n",
      "val res6_1 = aPerson._1\n",
      "                     ^Compilation Failed"
     ]
    },
    {
     "ename": "",
     "evalue": "",
     "output_type": "error",
     "traceback": [
      "Compilation Failed"
     ]
    }
   ],
   "source": [
    "val aPerson: Person = new Person(1,\"pepe\")\n",
    "aPerson._1\n",
    "//aPerson._2"
   ]
  },
  {
   "cell_type": "markdown",
   "metadata": {},
   "source": [
    "### Record types"
   ]
  },
  {
   "cell_type": "markdown",
   "metadata": {},
   "source": [
    "Records are like products, but we can tag the member types with a given label. For instance:"
   ]
  },
  {
   "cell_type": "code",
   "execution_count": 8,
   "metadata": {},
   "outputs": [
    {
     "data": {
      "text/plain": [
       "defined \u001b[32mclass\u001b[39m \u001b[36mRectangle\u001b[39m"
      ]
     },
     "execution_count": 8,
     "metadata": {},
     "output_type": "execute_result"
    }
   ],
   "source": [
    "// type Rectangle = {width: Int * height: Int}\n",
    "\n",
    "class Rectangle(val width: Int, val height: Int)\n",
    "\n"
   ]
  },
  {
   "cell_type": "code",
   "execution_count": 0,
   "metadata": {},
   "outputs": [],
   "source": [
    "// type Circle = {radius: Int}\n",
    "\n"
   ]
  },
  {
   "cell_type": "code",
   "execution_count": 0,
   "metadata": {},
   "outputs": [],
   "source": [
    "// type Triangle = {width: Int}\n",
    "\n"
   ]
  },
  {
   "cell_type": "markdown",
   "metadata": {},
   "source": [
    "### Scala case classes\n",
    "\n",
    "There are several things which are desirable to work with products/records:\n",
    " - Create new product objects without having to invoke `new`\n",
    " - Equality of product objects by value, not by reference\n",
    " - Off-the-shelf hash code\n",
    " - Pattern matching (more on this later on)\n"
   ]
  },
  {
   "cell_type": "markdown",
   "metadata": {},
   "source": [
    "Create objects without `new`, is that possible? Yes, it is!"
   ]
  },
  {
   "cell_type": "code",
   "execution_count": 17,
   "metadata": {},
   "outputs": [
    {
     "data": {
      "text/plain": [
       "defined \u001b[32mclass\u001b[39m \u001b[36mRectangle\u001b[39m\n",
       "defined \u001b[32mobject\u001b[39m \u001b[36mRectangle\u001b[39m"
      ]
     },
     "execution_count": 17,
     "metadata": {},
     "output_type": "execute_result"
    }
   ],
   "source": [
    "class Rectangle(\n",
    "    val width: Int,\n",
    "    val height: Int)\n",
    "\n",
    "object Rectangle{\n",
    "    def apply(w: Int, h: Int): Rectangle = \n",
    "        new Rectangle(w, h)\n",
    "}"
   ]
  },
  {
   "cell_type": "code",
   "execution_count": 18,
   "metadata": {},
   "outputs": [
    {
     "data": {
      "text/plain": [
       "\u001b[36mres17\u001b[39m: \u001b[32mRectangle\u001b[39m = ammonite.$sess.cmd16$Helper$Rectangle@5d92ce2d"
      ]
     },
     "execution_count": 18,
     "metadata": {},
     "output_type": "execute_result"
    }
   ],
   "source": [
    "Rectangle(1,2)"
   ]
  },
  {
   "cell_type": "markdown",
   "metadata": {},
   "source": [
    "Default equality is by-reference, not by-value:"
   ]
  },
  {
   "cell_type": "code",
   "execution_count": 20,
   "metadata": {},
   "outputs": [
    {
     "data": {
      "text/plain": [
       "\u001b[36mres19_0\u001b[39m: \u001b[32mBoolean\u001b[39m = false\n",
       "\u001b[36mr1\u001b[39m: \u001b[32mRectangle\u001b[39m = ammonite.$sess.cmd16$Helper$Rectangle@14319363\n",
       "\u001b[36mres19_2\u001b[39m: \u001b[32mBoolean\u001b[39m = true"
      ]
     },
     "execution_count": 20,
     "metadata": {},
     "output_type": "execute_result"
    }
   ],
   "source": [
    "Rectangle(1,2) == Rectangle(1,2)\n",
    "val r1 = Rectangle(1,2)\n",
    "r1 == r1"
   ]
  },
  {
   "cell_type": "markdown",
   "metadata": {},
   "source": [
    "So, we must re-define the `equals` method (rules for overriding `equals` are more [complex](https://alvinalexander.com/scala/how-to-define-equals-hashcode-methods-in-scala-object-equality), though):"
   ]
  },
  {
   "cell_type": "code",
   "execution_count": 21,
   "metadata": {},
   "outputs": [
    {
     "data": {
      "text/plain": [
       "defined \u001b[32mclass\u001b[39m \u001b[36mRectangle\u001b[39m\n",
       "defined \u001b[32mobject\u001b[39m \u001b[36mRectangle\u001b[39m"
      ]
     },
     "execution_count": 21,
     "metadata": {},
     "output_type": "execute_result"
    }
   ],
   "source": [
    "class Rectangle(\n",
    "    val width: Int,\n",
    "    val height: Int){\n",
    "    \n",
    "    override def equals(p1: Any): Boolean = \n",
    "       (p1.isInstanceOf[Rectangle] && \n",
    "       (p1.asInstanceOf[Rectangle].width == width && \n",
    "       (p1.asInstanceOf[Rectangle].height == height)))\n",
    "}\n",
    "\n",
    "object Rectangle{\n",
    "    def apply(width: Int, height: Int): Rectangle = \n",
    "        new Rectangle(width, height)\n",
    "}"
   ]
  },
  {
   "cell_type": "markdown",
   "metadata": {},
   "source": [
    "Now, it works as expected:"
   ]
  },
  {
   "cell_type": "code",
   "execution_count": 22,
   "metadata": {},
   "outputs": [
    {
     "data": {
      "text/plain": [
       "\u001b[36mres21\u001b[39m: \u001b[32mBoolean\u001b[39m = true"
      ]
     },
     "execution_count": 22,
     "metadata": {},
     "output_type": "execute_result"
    }
   ],
   "source": [
    "Rectangle(5, 10) == Rectangle(5, 10)"
   ]
  },
  {
   "cell_type": "markdown",
   "metadata": {},
   "source": [
    "This is tedious and repetitive, i.e. boilerplate. Scala can make it for us automatically, using so-called `case classes`: "
   ]
  },
  {
   "cell_type": "code",
   "execution_count": 23,
   "metadata": {},
   "outputs": [
    {
     "data": {
      "text/plain": [
       "defined \u001b[32mclass\u001b[39m \u001b[36mRectangle\u001b[39m\n",
       "defined \u001b[32mclass\u001b[39m \u001b[36mCircle\u001b[39m\n",
       "defined \u001b[32mclass\u001b[39m \u001b[36mTriangle\u001b[39m"
      ]
     },
     "execution_count": 23,
     "metadata": {},
     "output_type": "execute_result"
    }
   ],
   "source": [
    "\n",
    "case class Rectangle(width: Int, height: Int)\n",
    "case class Circle(radius: Int)\n",
    "case class Triangle(width: Int)\n"
   ]
  },
  {
   "cell_type": "markdown",
   "metadata": {},
   "source": [
    "This declaration of the `Rectangle` record is essentially equivalent to what we did manually: the `case` keyword tells the Scala compiler to generate a companion object with an `apply` constructor; override the `equals` and `hashCode` methods, among other things."
   ]
  },
  {
   "cell_type": "code",
   "execution_count": 24,
   "metadata": {},
   "outputs": [
    {
     "data": {
      "text/plain": [
       "\u001b[36mres23\u001b[39m: \u001b[32mBoolean\u001b[39m = true"
      ]
     },
     "execution_count": 24,
     "metadata": {},
     "output_type": "execute_result"
    }
   ],
   "source": [
    "Rectangle(1,1) == Rectangle(1,1)"
   ]
  },
  {
   "cell_type": "code",
   "execution_count": 26,
   "metadata": {},
   "outputs": [
    {
     "data": {
      "text/plain": [
       "\u001b[36mres25_0\u001b[39m: \u001b[32mInt\u001b[39m = \u001b[32m1976752844\u001b[39m\n",
       "\u001b[36mres25_1\u001b[39m: \u001b[32mInt\u001b[39m = \u001b[32m1976752844\u001b[39m"
      ]
     },
     "execution_count": 26,
     "metadata": {},
     "output_type": "execute_result"
    }
   ],
   "source": [
    "Rectangle(1,1).hashCode\n",
    "Rectangle(1,1).hashCode"
   ]
  },
  {
   "cell_type": "markdown",
   "metadata": {},
   "source": [
    "### Standard products in Scala: `TupleN` classes"
   ]
  },
  {
   "cell_type": "markdown",
   "metadata": {},
   "source": [
    "The standard library of Scala has already defined for us generic case classes that represent the n-ary products (up to 22). The rough definition of `Tuple2` goes like this:"
   ]
  },
  {
   "cell_type": "code",
   "execution_count": 28,
   "metadata": {},
   "outputs": [
    {
     "data": {
      "text/plain": [
       "defined \u001b[32mobject\u001b[39m \u001b[36mStd\u001b[39m"
      ]
     },
     "execution_count": 28,
     "metadata": {},
     "output_type": "execute_result"
    }
   ],
   "source": [
    "object Std{\n",
    "    case class Tuple2[A, B](a: A, b: B)\n",
    "    case class Tuple3[A, B, C](a: A, b: B, c: C)\n",
    "}"
   ]
  },
  {
   "cell_type": "markdown",
   "metadata": {},
   "source": [
    "And Scala offers syntactic sugar, both for Tuple types and values. So, instead of writing something like this: "
   ]
  },
  {
   "cell_type": "code",
   "execution_count": 29,
   "metadata": {},
   "outputs": [
    {
     "data": {
      "text/plain": [
       "\u001b[36mt\u001b[39m: (\u001b[32mInt\u001b[39m, \u001b[32mString\u001b[39m) = (\u001b[32m1\u001b[39m, \u001b[32m\"\"\u001b[39m)"
      ]
     },
     "execution_count": 29,
     "metadata": {},
     "output_type": "execute_result"
    }
   ],
   "source": [
    "val t: Tuple2[Int, String] = new Tuple2[Int, String](1, \"\")"
   ]
  },
  {
   "cell_type": "markdown",
   "metadata": {},
   "source": [
    "we can write it as follows:"
   ]
  },
  {
   "cell_type": "code",
   "execution_count": 34,
   "metadata": {},
   "outputs": [
    {
     "data": {
      "text/plain": [
       "\u001b[36mt\u001b[39m: (\u001b[32mInt\u001b[39m, \u001b[32mString\u001b[39m) = (\u001b[32m1\u001b[39m, \u001b[32m\"\"\u001b[39m)\n",
       "\u001b[36mt1\u001b[39m: (\u001b[32mInt\u001b[39m, \u001b[32mString\u001b[39m) = (\u001b[32m1\u001b[39m, \u001b[32m\"\"\u001b[39m)\n",
       "\u001b[36mt2\u001b[39m: (\u001b[32mInt\u001b[39m, \u001b[32mString\u001b[39m) = (\u001b[32m1\u001b[39m, \u001b[32m\"\"\u001b[39m)\n",
       "\u001b[36mt3\u001b[39m: (\u001b[32mInt\u001b[39m, \u001b[32mString\u001b[39m) = (\u001b[32m1\u001b[39m, \u001b[32m\"\"\u001b[39m)\n",
       "\u001b[36mt4\u001b[39m: (\u001b[32mInt\u001b[39m, \u001b[32mString\u001b[39m, \u001b[32mBoolean\u001b[39m, \u001b[32mChar\u001b[39m) = (\u001b[32m1\u001b[39m, \u001b[32m\"\"\u001b[39m, true, \u001b[32m'a'\u001b[39m)"
      ]
     },
     "execution_count": 34,
     "metadata": {},
     "output_type": "execute_result"
    }
   ],
   "source": [
    "val t: Tuple2[Int, String] = Tuple2[Int, String](1, \"\")\n",
    "val t1: Tuple2[Int, String] = Tuple2(1, \"\")\n",
    "val t2: (Int, String) = Tuple2(1, \"\")\n",
    "val t3: (Int, String) = (1, \"\")\n",
    "\n",
    "val t4: (Int, String, Boolean, Char) = (1, \"\", true, 'a')\n"
   ]
  },
  {
   "cell_type": "code",
   "execution_count": 35,
   "metadata": {},
   "outputs": [
    {
     "name": "stderr",
     "output_type": "stream",
     "text": [
      "cmd35.sc:5: value _5 is not a member of (Int, String, Boolean, Char)\n",
      "val res35_4 = t4._5\n",
      "                 ^Compilation Failed"
     ]
    },
    {
     "ename": "",
     "evalue": "",
     "output_type": "error",
     "traceback": [
      "Compilation Failed"
     ]
    }
   ],
   "source": [
    "t4._1\n",
    "t4._2\n",
    "t4._3\n",
    "t4._4\n",
    "//t4._5"
   ]
  },
  {
   "cell_type": "markdown",
   "metadata": {},
   "source": [
    "### Why are products called _algebraic_?"
   ]
  },
  {
   "cell_type": "markdown",
   "metadata": {},
   "source": [
    "This is an example to illustrate the analogy between algebraic data types and arithmetic."
   ]
  },
  {
   "cell_type": "code",
   "execution_count": null,
   "metadata": {},
   "outputs": [],
   "source": [
    "// Number of values of Boolean type: 2\n",
    "// |Boolean| = 2\n",
    "false: Boolean\n",
    "true: Boolean \n",
    "\n",
    "// Number of values of (Boolean, Boolean) type: 2 x 2 \n",
    "// |(Boolean, Boolean)| = |Boolean x Boolean| = 2 * 2\n",
    "\n",
    "(false, false): (Boolean, Boolean)\n",
    "(false, true): (Boolean, Boolean)\n",
    "(true, false): (Boolean, Boolean)\n",
    "(true, true): (Boolean, Boolean)\n",
    "\n",
    "// Number of values of (Boolean, Boolean, Boolean) type: 2 * 2 * ...\n",
    "// |(Boolean, Boolean, Boolean)| = 2 * 2 * 2\n",
    "\n",
    "(false, false, false): (Boolean, Boolean)\n",
    "(false, false, true): (Boolean, Boolean)\n",
    "(false, true, ???): (Boolean, Boolean)\n",
    "...\n",
    "(true, false, ???): (Boolean, Boolean)\n",
    "...\n",
    "(true, true, ???): (Boolean, Boolean)\n",
    "...\n"
   ]
  },
  {
   "cell_type": "markdown",
   "metadata": {},
   "source": [
    "In general, types may be regarded as sets of values. Then, the cardinal of `A * B`, for types `A` and `B` is: `|A * B| = |A| * |B|`"
   ]
  },
  {
   "cell_type": "markdown",
   "metadata": {},
   "source": [
    "5 $*$ 1 = 5 = 1$*$5\n",
    "\n",
    "\n",
    "Boolean * Unit $\\cong$ Boolean $\\cong$ Unit * Boolean"
   ]
  },
  {
   "cell_type": "markdown",
   "metadata": {},
   "source": [
    "If product types are analogous to number multiplication, then, is there any type which corresponds to the number 1, i.e. the neutral element of the multiplication? It has to be a type `1` such that `A*1 ~= A ~= 1*A`, where the sign `~=` represents the _isomorphism_ of types, i.e. the types do not need to be equal but there should be a 1-1 mapping between the values of `A*1` and `A`.  \n"
   ]
  },
  {
   "cell_type": "markdown",
   "metadata": {},
   "source": [
    "Since the type `1` has to comply with the identity rules, we have that `|A*1| ~= |A|`, but then `|A| * |1| = |A|`. So, `|1|` must be the type with just one value, i.e. the equivalent to the singleton set. In Scala, this type is called `Unit`."
   ]
  },
  {
   "cell_type": "code",
   "execution_count": 38,
   "metadata": {},
   "outputs": [
    {
     "data": {
      "text/plain": [
       "\u001b[36mt3\u001b[39m: (\u001b[32mBoolean\u001b[39m, \u001b[32mBoolean\u001b[39m, \u001b[32mBoolean\u001b[39m) = (true, true, false)\n",
       "\u001b[36mt2\u001b[39m: (\u001b[32mBoolean\u001b[39m, \u001b[32mBoolean\u001b[39m) = (true, true)\n",
       "defined \u001b[32mtype\u001b[39m \u001b[36mTuple0\u001b[39m"
      ]
     },
     "execution_count": 38,
     "metadata": {},
     "output_type": "execute_result"
    }
   ],
   "source": [
    "// The only value of Unit is `()`\n",
    "val t3: Tuple3[Boolean, Boolean, Boolean] = (true, true, false) // 2^3\n",
    "val t2: Tuple2[Boolean, Boolean] = (true, true) // 2^2\n",
    "//val t1: Tuple1[Boolean] = (true) // 2^1\n",
    "type Tuple0 = Unit // 2^0\n",
    "val u: Tuple0 = ()\n"
   ]
  },
  {
   "cell_type": "markdown",
   "metadata": {},
   "source": [
    "The isomorphism between `Boolean * 1` and `Boolean` is witnessed by the following functions: "
   ]
  },
  {
   "cell_type": "code",
   "execution_count": 39,
   "metadata": {},
   "outputs": [
    {
     "data": {
      "text/plain": [
       "defined \u001b[32mfunction\u001b[39m \u001b[36mfrom\u001b[39m\n",
       "defined \u001b[32mfunction\u001b[39m \u001b[36mto\u001b[39m"
      ]
     },
     "execution_count": 39,
     "metadata": {},
     "output_type": "execute_result"
    }
   ],
   "source": [
    "// (Boolean, Unit) ~= Boolean\n",
    "def from(t: (Boolean, Unit)): Boolean = \n",
    "    t._1\n",
    "\n",
    "def to(b: Boolean): (Boolean, Unit) = \n",
    "    (b, ())"
   ]
  },
  {
   "cell_type": "code",
   "execution_count": 40,
   "metadata": {},
   "outputs": [
    {
     "data": {
      "text/plain": [
       "defined \u001b[32mfunction\u001b[39m \u001b[36mfoo\u001b[39m"
      ]
     },
     "execution_count": 40,
     "metadata": {},
     "output_type": "execute_result"
    }
   ],
   "source": [
    "def foo(s: String): Unit = \n",
    "    println(s)"
   ]
  },
  {
   "cell_type": "markdown",
   "metadata": {},
   "source": [
    "which satisfy:\n",
    "- `from(to(b))=b`, for all `b: Boolean`, and \n",
    "- `to(from(b))=b` for all `b: (Boolean, Unit)`."
   ]
  },
  {
   "cell_type": "markdown",
   "metadata": {},
   "source": [
    "Note that any function that returns a value of type `Unit` is completely useless from a purely functional perspective, since we already know in advance which is the (only possible) value that it returns: `()`. Therefore, if such a function makes sense is because it does something else than returning values: it must have some side effect, i.e. it has to be _impure_."
   ]
  },
  {
   "cell_type": "markdown",
   "metadata": {},
   "source": [
    "### Working with products"
   ]
  },
  {
   "cell_type": "markdown",
   "metadata": {},
   "source": [
    "The goal is to translate algebraic rectangles, circles, etc., into SVG and be able to display these shapes in the notebook. We want to implement a function with the following signature:"
   ]
  },
  {
   "cell_type": "code",
   "execution_count": null,
   "metadata": {},
   "outputs": [],
   "source": [
    "def displayCircle(c: Circle): Unit = ??? "
   ]
  },
  {
   "cell_type": "markdown",
   "metadata": {},
   "source": [
    "Note the return type: we are interested in the side effect of displaying something in the screen, so we disregard the returning value. "
   ]
  },
  {
   "cell_type": "markdown",
   "metadata": {},
   "source": [
    "We may go with the following implementation:"
   ]
  },
  {
   "cell_type": "code",
   "execution_count": null,
   "metadata": {},
   "outputs": [],
   "source": [
    "import almond.interpreter.api.DisplayData\n",
    "    \n",
    "def displayCircle(c: Circle): Unit = \n",
    "   display(DisplayData(Map(\"text/html\" -> \n",
    "        s\"\"\"<svg width=\"200\" height=\"200\">\n",
    "              <circle cx=\"100\" cy=\"100\" r=${c.radius} fill=\"red\"/>\n",
    "            </svg>\"\"\")))"
   ]
  },
  {
   "cell_type": "code",
   "execution_count": null,
   "metadata": {},
   "outputs": [],
   "source": [
    "displayCircle(Circle(100))"
   ]
  },
  {
   "cell_type": "markdown",
   "metadata": {},
   "source": [
    "This works, but which are the problems of this implementation? Surely, this is the function we need, but it's not *modular* since there are at least two aspects that are intermingled in the code: \n",
    "- The computation of the SVG code (the pure part)\n",
    "- The actual displaying of the HTML thunk (the impure part)\n",
    "\n",
    "Lack of modularity in this case leads to the following problems:\n",
    "- Later on, we will need to compute the SVG code of larger pictures, which are made from circles, rectangles, etc., and we will certainly need for that to translate circles to SVG. But with the current implementation, we won't be able to *reuse* anything (but by copy-pasting). \n",
    "- Another problem with this implementation is *testability*: we can't unit test the single part that generates the SVG code alone. We can only do _integration_ testing, i.e. checking the effect on the screen to see if what we get is right or not. \n",
    "\n",
    "So, we better modularise our function as follows:"
   ]
  },
  {
   "cell_type": "code",
   "execution_count": null,
   "metadata": {},
   "outputs": [],
   "source": [
    "type SVG = String\n",
    "type HTML = String\n",
    "\n",
    "// Module 1: toSVG\n",
    "\n",
    "def circleToSVG(c: Circle): SVG = \n",
    "        s\"\"\"<svg width=\"200\" height=\"200\">\n",
    "              <circle cx=\"100\" cy=\"100\" r=${c.radius} fill=\"red\"/>\n",
    "            </svg>\"\"\"\n",
    "\n",
    "\n",
    "// Module 2: HtmlData\n",
    "import almond.interpreter.api.DisplayData\n",
    "\n",
    "def HtmlData(svg: SVG): DisplayData = \n",
    "    DisplayData(Map(\"text/html\" -> svg))\n",
    "    \n",
    "\n",
    "// Our very same original function, but now in a better shape\n",
    "def displayCircle(c: Circle): Unit = \n",
    "    display(HtmlData(circleToSVG(c)))\n",
    "    \n"
   ]
  },
  {
   "cell_type": "code",
   "execution_count": null,
   "metadata": {},
   "outputs": [],
   "source": [
    "displayCircle(Circle(49))"
   ]
  }
 ],
 "metadata": {
  "kernelspec": {
   "display_name": "Scala",
   "language": "scala",
   "name": "scala"
  },
  "language_info": {
   "codemirror_mode": "text/x-scala",
   "file_extension": ".sc",
   "mimetype": "text/x-scala",
   "name": "scala",
   "nbconvert_exporter": "script",
   "version": "2.13.3"
  }
 },
 "nbformat": 4,
 "nbformat_minor": 2
}
