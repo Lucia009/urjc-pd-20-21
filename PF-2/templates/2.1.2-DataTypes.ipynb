{
 "cells": [
  {
   "cell_type": "markdown",
   "metadata": {},
   "source": [
    "# 2.1.2 Algebraic data types"
   ]
  },
  {
   "cell_type": "markdown",
   "metadata": {},
   "source": [
    "User-defined types in object-oriented languages are specified through class or trait declarations. Types can also be specified from already existing user-defined types through the inheritance mechanism.  "
   ]
  },
  {
   "cell_type": "markdown",
   "metadata": {},
   "source": [
    "In functional programming, the rules for declaring new types are different: no inheritance or classes, just _products_, _sums_ and _exponentiation_ of types. Because of the correspondence with arithmetic (which goes beyond the terminology!), these types are called **algebraic data types** (ADTs). "
   ]
  },
  {
   "cell_type": "markdown",
   "metadata": {},
   "source": [
    "### References\n",
    "\n",
    "[__Programming in Scala, \n",
    "A comprehensive step-by-step guide__](https://www.artima.com/shop/programming_in_scala_3ed) Third Edition.\n",
    "by Martin Odersky, Lex Spoon, and Bill Venners. \n",
    "\n",
    "- Chapter 15. Case Classes and Pattern Matching\n",
    "\n",
    "__[Scala book (online)](https://docs.scala-lang.org/overviews/scala-book/introduction.html)__.\n",
    "\n",
    "- [Match Expressions](https://docs.scala-lang.org/overviews/scala-book/match-expressions.html)\n",
    "- [Case classes](https://docs.scala-lang.org/overviews/scala-book/case-classes.html)\n",
    "- [Case objects](https://docs.scala-lang.org/overviews/scala-book/case-objects.html)\n",
    "\n",
    "[__Functional programming simplified__](https://alvinalexander.com/downloads/fpsimplified-free-preview.pdf), by Alvin Alexander.\n",
    "\n",
    "- Chapters 19. Functional Programming as Algebra \n",
    "\n",
    "[__Tony Morris on ADTs__](https://about.chatroulette.com/posts/algebraic-data-types/)"
   ]
  },
  {
   "cell_type": "markdown",
   "metadata": {},
   "source": [
    "## Product types"
   ]
  },
  {
   "cell_type": "markdown",
   "metadata": {},
   "source": [
    "A value of product type $T_1 * T_2$ is created with a value of $T_1$ **and** a value of $T_2$. The constructor function is:\n",
    "  - `create: (T1, T2) -> T1 * T2` (create is a 2-ary function). \n",
    "\n",
    "Given a value of a product type, we can obtain back both values with observers:\n",
    "  - `fst: T1 * T2 -> T1` \n",
    "  - `snd: T1 * T2 -> T2`\n",
    "  \n"
   ]
  },
  {
   "cell_type": "markdown",
   "metadata": {},
   "source": [
    "### Products in Scala\n",
    "\n",
    "In Scala, products are commonly called tuples. They are defined through classes that declare one public value field (conventionally named `_1`, `_2`, etc.) for each product member type."
   ]
  },
  {
   "cell_type": "code",
   "execution_count": 8,
   "metadata": {},
   "outputs": [
    {
     "data": {
      "text/plain": [
       "defined \u001b[32mclass\u001b[39m \u001b[36mPerson\u001b[39m\n",
       "defined \u001b[32mclass\u001b[39m \u001b[36mBooleanAndChar\u001b[39m\n",
       "defined \u001b[32mclass\u001b[39m \u001b[36mBooleanAndCharAndDouble\u001b[39m"
      ]
     },
     "execution_count": 8,
     "metadata": {},
     "output_type": "execute_result"
    }
   ],
   "source": [
    "// type Person = Int * String\n",
    "\n",
    "class Person(val name: String, val age: Int)\n",
    "\n",
    "// BooleanAndChar := Boolean * Char\n",
    "class BooleanAndChar(_1: Boolean, _2: Char)\n",
    "\n",
    "// BooleanAndCharAndDouble := Boolean * Char * Double\n",
    "class BooleanAndCharAndDouble(val _1: Boolean, val _2: Char, val _3: Double)"
   ]
  },
  {
   "cell_type": "markdown",
   "metadata": {},
   "source": [
    "Thus, the constructor of the product, `create`, is the constructor of the class, and the observers `fst` y `snd` the member fields `_1` y `_2`."
   ]
  },
  {
   "cell_type": "code",
   "execution_count": 13,
   "metadata": {},
   "outputs": [
    {
     "data": {
      "text/plain": [
       "\u001b[36mp1\u001b[39m: \u001b[32mPerson\u001b[39m = ammonite.$sess.cmd7$Helper$Person@38ea2d98\n",
       "\u001b[36mres12_1\u001b[39m: \u001b[32mString\u001b[39m = \u001b[32m\"pepe\"\u001b[39m\n",
       "\u001b[36mres12_2\u001b[39m: \u001b[32mInt\u001b[39m = \u001b[32m42\u001b[39m\n",
       "\u001b[36mbcd\u001b[39m: \u001b[32mBooleanAndCharAndDouble\u001b[39m = ammonite.$sess.cmd7$Helper$BooleanAndCharAndDouble@54eff644\n",
       "\u001b[36mres12_4\u001b[39m: \u001b[32mBoolean\u001b[39m = true\n",
       "\u001b[36mres12_5\u001b[39m: \u001b[32mChar\u001b[39m = \u001b[32m'a'\u001b[39m\n",
       "\u001b[36mres12_6\u001b[39m: \u001b[32mDouble\u001b[39m = \u001b[32m1.0\u001b[39m\n",
       "\u001b[36mres12_7\u001b[39m: \u001b[32mBoolean\u001b[39m = false\n",
       "\u001b[36mres12_8\u001b[39m: \u001b[32mBoolean\u001b[39m = true\n",
       "\u001b[36mres12_9\u001b[39m: \u001b[32mInt\u001b[39m = \u001b[32m954871192\u001b[39m\n",
       "\u001b[36mres12_10\u001b[39m: \u001b[32mInt\u001b[39m = \u001b[32m1673784396\u001b[39m"
      ]
     },
     "execution_count": 13,
     "metadata": {},
     "output_type": "execute_result"
    }
   ],
   "source": [
    "val p1: Person = new Person(\"pepe\", 42)\n",
    "p1.name\n",
    "p1.age\n",
    "\n",
    "val bcd: BooleanAndCharAndDouble = new BooleanAndCharAndDouble(true, 'a', 1.0)\n",
    "bcd._1\n",
    "bcd._2\n",
    "bcd._3\n",
    "\n",
    "new Person(\"pepe\", 42) == p1\n",
    "p1 == p1\n",
    "\n",
    "p1.hashCode\n",
    "new Person(\"pepe\", 42).hashCode\n",
    "\n"
   ]
  },
  {
   "cell_type": "markdown",
   "metadata": {},
   "source": [
    "### Record types"
   ]
  },
  {
   "cell_type": "markdown",
   "metadata": {},
   "source": [
    "Records are like products, but we can tag the member types with a given label. For instance:"
   ]
  },
  {
   "cell_type": "code",
   "execution_count": null,
   "metadata": {},
   "outputs": [],
   "source": [
    "// type Rectangle = {width: Int * height: Int}\n",
    "\n"
   ]
  },
  {
   "cell_type": "code",
   "execution_count": null,
   "metadata": {},
   "outputs": [],
   "source": [
    "// type Circle = {radius: Int}\n",
    "\n"
   ]
  },
  {
   "cell_type": "code",
   "execution_count": null,
   "metadata": {},
   "outputs": [],
   "source": [
    "// type Triangle = {width: Int}\n",
    "\n"
   ]
  },
  {
   "cell_type": "markdown",
   "metadata": {},
   "source": [
    "### Scala case classes\n",
    "\n",
    "There are several things which are desirable to work with products/records:\n",
    " - Create new product objects without having to invoke `new`\n",
    " - Equality of product objects by value, not by reference\n",
    " - Off-the-shelf hash code\n",
    " - Pattern matching (more on this later on)\n"
   ]
  },
  {
   "cell_type": "markdown",
   "metadata": {},
   "source": [
    "Create objects without `new`, is that possible? Yes, it is!"
   ]
  },
  {
   "cell_type": "code",
   "execution_count": null,
   "metadata": {},
   "outputs": [],
   "source": [
    "class Rectangle(\n",
    "    val width: Int,\n",
    "    val height: Int)\n",
    "\n"
   ]
  },
  {
   "cell_type": "code",
   "execution_count": null,
   "metadata": {},
   "outputs": [],
   "source": [
    "val r1: Rectangle = new Rectangle(5, 10)"
   ]
  },
  {
   "cell_type": "markdown",
   "metadata": {},
   "source": [
    "Default equality is by-reference, not by-value:"
   ]
  },
  {
   "cell_type": "code",
   "execution_count": null,
   "metadata": {},
   "outputs": [],
   "source": [
    "new Rectangle(5, 10) == new Rectangle(5, 10)"
   ]
  },
  {
   "cell_type": "markdown",
   "metadata": {},
   "source": [
    "So, we must re-define the `equals` method (rules for overriding `equals` are more [complex](https://alvinalexander.com/scala/how-to-define-equals-hashcode-methods-in-scala-object-equality), though):"
   ]
  },
  {
   "cell_type": "code",
   "execution_count": null,
   "metadata": {},
   "outputs": [],
   "source": [
    "class Rectangle(\n",
    "    val width: Int,\n",
    "    val height: Int){\n",
    "    \n",
    "    override def equals(p1: Any): Boolean = \n",
    "        ???\n",
    "}\n",
    "\n",
    "object Rectangle{\n",
    "    def apply(width: Int, height: Int): Rectangle = \n",
    "        new Rectangle(width, height)\n",
    "}"
   ]
  },
  {
   "cell_type": "markdown",
   "metadata": {},
   "source": [
    "Now, it works as expected:"
   ]
  },
  {
   "cell_type": "code",
   "execution_count": null,
   "metadata": {},
   "outputs": [],
   "source": [
    "// Rectangle(5, 10) == Rectangle(5, 10)"
   ]
  },
  {
   "cell_type": "markdown",
   "metadata": {},
   "source": [
    "This is tedious and repetitive, i.e. boilerplate. Scala can make it for us automatically, using so-called `case classes`: "
   ]
  },
  {
   "cell_type": "code",
   "execution_count": 20,
   "metadata": {},
   "outputs": [
    {
     "data": {
      "text/plain": [
       "defined \u001b[32mclass\u001b[39m \u001b[36mRectangle\u001b[39m\n",
       "defined \u001b[32mclass\u001b[39m \u001b[36mCircle\u001b[39m\n",
       "defined \u001b[32mclass\u001b[39m \u001b[36mTriangle\u001b[39m"
      ]
     },
     "execution_count": 20,
     "metadata": {},
     "output_type": "execute_result"
    }
   ],
   "source": [
    "case class Rectangle(width: Int, height: Int)\n",
    "class Circle(radius: Int)\n",
    "class Triangle(width: Int)"
   ]
  },
  {
   "cell_type": "markdown",
   "metadata": {},
   "source": [
    "This declaration of the `Rectangle` record is essentially equivalent to what we did manually: the `case` keyword tells the Scala compiler to generate a companion object with an `apply` constructor; override the `equals` and `hashCode` methods, among other things."
   ]
  },
  {
   "cell_type": "code",
   "execution_count": 22,
   "metadata": {},
   "outputs": [
    {
     "data": {
      "text/plain": [
       "\u001b[36mr\u001b[39m: \u001b[32mRectangle\u001b[39m = \u001b[33mRectangle\u001b[39m(\u001b[32m1\u001b[39m, \u001b[32m1\u001b[39m)"
      ]
     },
     "execution_count": 22,
     "metadata": {},
     "output_type": "execute_result"
    }
   ],
   "source": [
    "val r = Rectangle(1,1)"
   ]
  },
  {
   "cell_type": "code",
   "execution_count": 27,
   "metadata": {},
   "outputs": [
    {
     "data": {
      "text/plain": [
       "\u001b[36mres26_0\u001b[39m: \u001b[32mInt\u001b[39m = \u001b[32m1\u001b[39m\n",
       "\u001b[36mres26_1\u001b[39m: \u001b[32mInt\u001b[39m = \u001b[32m1\u001b[39m"
      ]
     },
     "execution_count": 27,
     "metadata": {},
     "output_type": "execute_result"
    }
   ],
   "source": [
    "r.width\n",
    "r.height"
   ]
  },
  {
   "cell_type": "code",
   "execution_count": 25,
   "metadata": {},
   "outputs": [
    {
     "data": {
      "text/plain": [
       "\u001b[36mres24\u001b[39m: \u001b[32mBoolean\u001b[39m = true"
      ]
     },
     "execution_count": 25,
     "metadata": {},
     "output_type": "execute_result"
    }
   ],
   "source": [
    "Rectangle(1,1) == Rectangle(1,1)"
   ]
  },
  {
   "cell_type": "code",
   "execution_count": 26,
   "metadata": {},
   "outputs": [
    {
     "data": {
      "text/plain": [
       "\u001b[36mres25_0\u001b[39m: \u001b[32mInt\u001b[39m = \u001b[32m1976752844\u001b[39m\n",
       "\u001b[36mres25_1\u001b[39m: \u001b[32mInt\u001b[39m = \u001b[32m1976752844\u001b[39m"
      ]
     },
     "execution_count": 26,
     "metadata": {},
     "output_type": "execute_result"
    }
   ],
   "source": [
    "Rectangle(1,1).hashCode\n",
    "Rectangle(1,1).hashCode"
   ]
  },
  {
   "cell_type": "markdown",
   "metadata": {},
   "source": [
    "### Standard products in Scala: `TupleN` classes"
   ]
  },
  {
   "cell_type": "markdown",
   "metadata": {},
   "source": [
    "The standard library of Scala has already defined for us generic case classes that represent the n-ary products (up to 22). The rough definition of `Tuple2` goes like this:"
   ]
  },
  {
   "cell_type": "code",
   "execution_count": 28,
   "metadata": {},
   "outputs": [
    {
     "data": {
      "text/plain": [
       "defined \u001b[32mobject\u001b[39m \u001b[36mStd\u001b[39m"
      ]
     },
     "execution_count": 28,
     "metadata": {},
     "output_type": "execute_result"
    }
   ],
   "source": [
    "object Std{\n",
    "    case class Tuple2[A, B](\n",
    "        _1: A, \n",
    "        _2: B)\n",
    "    \n",
    "    type IntAndString = Tuple2[Int, String]\n",
    "    /*\n",
    "    class BooleanAndChar(\n",
    "        _1: Boolean, \n",
    "        _2: Char)\n",
    "    */\n",
    "    type BooleanAndChar = Tuple2[Boolean, Char]\n",
    "    \n",
    "    case class Tuple3[A, B, C](\n",
    "        val _1: Int,\n",
    "        val _2: String, \n",
    "        val _3: Char)\n",
    "    \n",
    "    type IntAndBooleanAndChar = Tuple3[Int, Boolean, Char]\n",
    "    /*\n",
    "    class IntAndBooleanAndChar(\n",
    "        val _1: Int,\n",
    "        val _2: String, \n",
    "        val _3: Char)*/\n",
    "}"
   ]
  },
  {
   "cell_type": "markdown",
   "metadata": {},
   "source": [
    "And Scala offers syntactic sugar, both for Tuple types and values. So, instead of writing something like this: "
   ]
  },
  {
   "cell_type": "code",
   "execution_count": 29,
   "metadata": {},
   "outputs": [
    {
     "data": {
      "text/plain": [
       "\u001b[36mt2\u001b[39m: (\u001b[32mInt\u001b[39m, \u001b[32mString\u001b[39m) = (\u001b[32m1\u001b[39m, \u001b[32m\"hola\"\u001b[39m)"
      ]
     },
     "execution_count": 29,
     "metadata": {},
     "output_type": "execute_result"
    }
   ],
   "source": [
    "val t2: Tuple2[Int, String] = Tuple2(1, \"hola\")"
   ]
  },
  {
   "cell_type": "markdown",
   "metadata": {},
   "source": [
    "we can write it as follows:"
   ]
  },
  {
   "cell_type": "code",
   "execution_count": 30,
   "metadata": {},
   "outputs": [
    {
     "data": {
      "text/plain": [
       "\u001b[36mt2\u001b[39m: (\u001b[32mInt\u001b[39m, \u001b[32mString\u001b[39m) = (\u001b[32m1\u001b[39m, \u001b[32m\"hola\"\u001b[39m)"
      ]
     },
     "execution_count": 30,
     "metadata": {},
     "output_type": "execute_result"
    }
   ],
   "source": [
    "val t2: (Int, String) = (1, \"hola\")"
   ]
  },
  {
   "cell_type": "code",
   "execution_count": 31,
   "metadata": {},
   "outputs": [
    {
     "data": {
      "text/plain": [
       "\u001b[36mt4\u001b[39m: (\u001b[32mInt\u001b[39m, \u001b[32mBoolean\u001b[39m, \u001b[32mString\u001b[39m, \u001b[32mChar\u001b[39m) = (\u001b[32m1\u001b[39m, true, \u001b[32m\"\"\u001b[39m, \u001b[32m'a'\u001b[39m)"
      ]
     },
     "execution_count": 31,
     "metadata": {},
     "output_type": "execute_result"
    }
   ],
   "source": [
    "val t4: (Int, Boolean, String, Char) = (1, true, \"\", 'a')"
   ]
  },
  {
   "cell_type": "code",
   "execution_count": null,
   "metadata": {},
   "outputs": [],
   "source": []
  },
  {
   "cell_type": "markdown",
   "metadata": {},
   "source": [
    "### Why are products called _algebraic_?"
   ]
  },
  {
   "cell_type": "markdown",
   "metadata": {},
   "source": [
    "This is an example to illustrate the analogy between algebraic data types and arithmetic."
   ]
  },
  {
   "cell_type": "code",
   "execution_count": 32,
   "metadata": {},
   "outputs": [
    {
     "data": {
      "text/plain": [
       "\u001b[36mres31_0\u001b[39m: \u001b[32mBoolean\u001b[39m = true\n",
       "\u001b[36mres31_1\u001b[39m: \u001b[32mBoolean\u001b[39m = false\n",
       "\u001b[36mres31_2\u001b[39m: (\u001b[32mBoolean\u001b[39m, \u001b[32mBoolean\u001b[39m) = (true, false)\n",
       "\u001b[36mres31_3\u001b[39m: (\u001b[32mBoolean\u001b[39m, \u001b[32mBoolean\u001b[39m) = (true, true)\n",
       "\u001b[36mres31_4\u001b[39m: (\u001b[32mBoolean\u001b[39m, \u001b[32mBoolean\u001b[39m) = (false, false)\n",
       "\u001b[36mres31_5\u001b[39m: (\u001b[32mBoolean\u001b[39m, \u001b[32mBoolean\u001b[39m) = (false, true)\n",
       "\u001b[36mres31_6\u001b[39m: (\u001b[32mBoolean\u001b[39m, \u001b[32mBoolean\u001b[39m, \u001b[32mBoolean\u001b[39m) = (true, false, false)\n",
       "\u001b[36mres31_7\u001b[39m: (\u001b[32mBoolean\u001b[39m, \u001b[32mBoolean\u001b[39m, \u001b[32mBoolean\u001b[39m) = (true, true, false)\n",
       "\u001b[36mres31_8\u001b[39m: (\u001b[32mBoolean\u001b[39m, \u001b[32mBoolean\u001b[39m, \u001b[32mBoolean\u001b[39m) = (false, false, false)\n",
       "\u001b[36mres31_9\u001b[39m: (\u001b[32mBoolean\u001b[39m, \u001b[32mBoolean\u001b[39m, \u001b[32mBoolean\u001b[39m) = (false, true, false)\n",
       "\u001b[36mres31_10\u001b[39m: (\u001b[32mBoolean\u001b[39m, \u001b[32mBoolean\u001b[39m, \u001b[32mBoolean\u001b[39m) = (true, false, true)\n",
       "\u001b[36mres31_11\u001b[39m: (\u001b[32mBoolean\u001b[39m, \u001b[32mBoolean\u001b[39m, \u001b[32mBoolean\u001b[39m) = (true, true, true)\n",
       "\u001b[36mres31_12\u001b[39m: (\u001b[32mBoolean\u001b[39m, \u001b[32mBoolean\u001b[39m, \u001b[32mBoolean\u001b[39m) = (false, false, true)\n",
       "\u001b[36mres31_13\u001b[39m: (\u001b[32mBoolean\u001b[39m, \u001b[32mBoolean\u001b[39m, \u001b[32mBoolean\u001b[39m) = (false, true, true)"
      ]
     },
     "execution_count": 32,
     "metadata": {},
     "output_type": "execute_result"
    }
   ],
   "source": [
    "// Number of values of Boolean type: 2, |Boolean| = 2\n",
    "true: Boolean\n",
    "false: Boolean\n",
    "\n",
    "// Number of values of (Boolean, Boolean) type: 2 * 2 = 4\n",
    "(true, false)\n",
    "(true, true)\n",
    "(false, false)\n",
    "(false, true)\n",
    "\n",
    "// |Boolean * Boolean * Boolean| =  |Boolean| * |Boolean| * |Boolean| = 8\n",
    "(true, false, false)\n",
    "(true, true, false)\n",
    "(false, false, false)\n",
    "(false, true, false)\n",
    "(true, false, true)\n",
    "(true, true,true)\n",
    "(false, false, true)\n",
    "(false, true, true)\n"
   ]
  },
  {
   "cell_type": "code",
   "execution_count": null,
   "metadata": {},
   "outputs": [],
   "source": [
    "5*1=1*5=5 "
   ]
  },
  {
   "cell_type": "markdown",
   "metadata": {},
   "source": [
    "In general, types may be regarded as sets of values. Then, the cardinal of $A * B$, for types $A$ and $B$ is: $|A * B| = |A| * |B|$."
   ]
  },
  {
   "cell_type": "markdown",
   "metadata": {},
   "source": [
    "If product types are analogous to number multiplication, then, is there any type which corresponds to the number 1, i.e. the neutral element of the multiplication? It has to be a type $1$ such that $A*1 \\cong A \\cong 1*A$, where the sign $\\cong$ represents the _isomorphism_ of types, i.e. the types do not need to be equal but there should be a 1-1 mapping (a bijection) between the values of $A*1$ and $A$.  \n"
   ]
  },
  {
   "cell_type": "markdown",
   "metadata": {},
   "source": [
    "Since the type $1$ has to comply with the identity rules, we have that $|A*1| = |A|$, but then $|A| * |1| = |A|$. So, $|1| = 1$, i.e. $1$ must be the type with just one value, i.e. the equivalent to the singleton set. We can create such a unit type as follows: "
   ]
  },
  {
   "cell_type": "code",
   "execution_count": 38,
   "metadata": {},
   "outputs": [
    {
     "data": {
      "text/plain": [
       "defined \u001b[32mclass\u001b[39m \u001b[36mOne\u001b[39m\n",
       "defined \u001b[32mobject\u001b[39m \u001b[36mtheOnlyOne\u001b[39m"
      ]
     },
     "execution_count": 38,
     "metadata": {},
     "output_type": "execute_result"
    }
   ],
   "source": [
    "sealed abstract class One\n",
    "object theOnlyOne extends One"
   ]
  },
  {
   "cell_type": "markdown",
   "metadata": {},
   "source": [
    "The `sealed` keyword forbids the extension of class `One` outside its compilation unit, in this case the jupyter cell. Thus the following code does not compile:"
   ]
  },
  {
   "cell_type": "code",
   "execution_count": 38,
   "metadata": {},
   "outputs": [],
   "source": [
    "// new One\n",
    "// new One{}\n",
    "// object anotherOne extends One"
   ]
  },
  {
   "cell_type": "markdown",
   "metadata": {},
   "source": [
    "So, the only instance of class `One` is `theonlyone`, i.e. the only object which is instantiated in its compilation unit."
   ]
  },
  {
   "cell_type": "markdown",
   "metadata": {},
   "source": [
    "But we don't have to create the unit type ourselves: it already exists in the Scala standard library, and it's called `Unit`, and its only value is `()`:"
   ]
  },
  {
   "cell_type": "code",
   "execution_count": 39,
   "metadata": {},
   "outputs": [],
   "source": [
    "val u: Unit = ()"
   ]
  },
  {
   "cell_type": "code",
   "execution_count": 40,
   "metadata": {},
   "outputs": [
    {
     "data": {
      "text/plain": [
       "\u001b[36mres39_0\u001b[39m: \u001b[32mBoolean\u001b[39m = true\n",
       "\u001b[36mres39_1\u001b[39m: \u001b[32mBoolean\u001b[39m = false\n",
       "\u001b[36mres39_2\u001b[39m: (\u001b[32mBoolean\u001b[39m, \u001b[32mUnit\u001b[39m) = (false, ())\n",
       "\u001b[36mres39_3\u001b[39m: (\u001b[32mBoolean\u001b[39m, \u001b[32mUnit\u001b[39m) = (true, ())"
      ]
     },
     "execution_count": 40,
     "metadata": {},
     "output_type": "execute_result"
    }
   ],
   "source": [
    "// |Boolean| = 2\n",
    "true: Boolean\n",
    "false: Boolean\n",
    "// |Boolean * Unit| = |Boolean| * |Unit| = 2 * 1 = 2\n",
    "(false, ()) : (Boolean, Unit)\n",
    "(true, ()) : (Boolean, Unit)"
   ]
  },
  {
   "cell_type": "markdown",
   "metadata": {},
   "source": [
    "The isomorphism $Boolean * 1 \\cong Boolean$ is witnessed by the following functions: "
   ]
  },
  {
   "cell_type": "code",
   "execution_count": 45,
   "metadata": {},
   "outputs": [
    {
     "data": {
      "text/plain": [
       "defined \u001b[32mfunction\u001b[39m \u001b[36mto\u001b[39m\n",
       "defined \u001b[32mfunction\u001b[39m \u001b[36mfrom\u001b[39m"
      ]
     },
     "execution_count": 45,
     "metadata": {},
     "output_type": "execute_result"
    }
   ],
   "source": [
    "def to(b: Boolean): (Boolean, Unit) = \n",
    "    (b : Boolean, () : Unit) : (Boolean, Unit)\n",
    "\n",
    "def from(e: (Boolean, Unit)): Boolean = \n",
    "    e._1 : Boolean"
   ]
  },
  {
   "cell_type": "markdown",
   "metadata": {},
   "source": [
    "which satisfy:\n",
    "- `from(to(b))=b`, for all `b: Boolean`, and \n",
    "- `to(from(b))=b` for all `b: (Boolean, Unit)`."
   ]
  },
  {
   "cell_type": "code",
   "execution_count": 46,
   "metadata": {},
   "outputs": [
    {
     "data": {
      "text/plain": [
       "\u001b[36mres45_0\u001b[39m: \u001b[32mBoolean\u001b[39m = true\n",
       "\u001b[36mres45_1\u001b[39m: \u001b[32mBoolean\u001b[39m = true\n",
       "\u001b[36mres45_2\u001b[39m: \u001b[32mBoolean\u001b[39m = true\n",
       "\u001b[36mres45_3\u001b[39m: \u001b[32mBoolean\u001b[39m = true"
      ]
     },
     "execution_count": 46,
     "metadata": {},
     "output_type": "execute_result"
    }
   ],
   "source": [
    "from(to(true)) == true\n",
    "from(to(false)) == false\n",
    "(to(from((true, ())): Boolean): (Boolean, Unit)) == (true, ())\n",
    "to(from((false, ()))) == (false, ())"
   ]
  },
  {
   "cell_type": "markdown",
   "metadata": {},
   "source": [
    "Note that any function that returns a value of type `Unit` is completely useless from a purely functional perspective, since we already know in advance which is the (only possible) value that it returns: `()`. Therefore, if such a function makes sense is because it does something else than returning values: it must have some side effect, i.e. it has to be _impure_. This is also why we can say that `Unit` is the Scala equivalent to Java's `void`."
   ]
  },
  {
   "cell_type": "markdown",
   "metadata": {},
   "source": [
    "### Working with products"
   ]
  },
  {
   "cell_type": "markdown",
   "metadata": {},
   "source": [
    "The goal is to translate algebraic rectangles, circles, etc., into SVG and be able to display these shapes in the notebook. We want to implement a function with the following signature:"
   ]
  },
  {
   "cell_type": "code",
   "execution_count": null,
   "metadata": {},
   "outputs": [],
   "source": [
    "def displayCircle(c: Circle): Unit = ??? "
   ]
  },
  {
   "cell_type": "markdown",
   "metadata": {},
   "source": [
    "Note the return type: we are interested in the side effect of displaying something in the screen, so we disregard the returning value. "
   ]
  },
  {
   "cell_type": "markdown",
   "metadata": {},
   "source": [
    "We may go with the following implementation:"
   ]
  },
  {
   "cell_type": "code",
   "execution_count": null,
   "metadata": {},
   "outputs": [],
   "source": [
    "import almond.interpreter.api.DisplayData\n",
    "/*    \n",
    "def displayCircle(c: Circle): Unit = \n",
    "   display(DisplayData(Map(\"text/html\" -> \n",
    "        s\"\"\"<svg width=\"200\" height=\"200\">\n",
    "              <circle cx=\"100\" cy=\"100\" r=${c.radius} fill=\"red\"/>\n",
    "            </svg>\"\"\")))\n",
    "*/"
   ]
  },
  {
   "cell_type": "code",
   "execution_count": null,
   "metadata": {},
   "outputs": [],
   "source": [
    "// displayCircle(Circle(100))"
   ]
  },
  {
   "cell_type": "markdown",
   "metadata": {},
   "source": [
    "This works, but which are the problems of this implementation? Surely, this is the function we need, but it's not *modular* since there are at least two aspects that are intermingled in the code: \n",
    "- The computation of the SVG code (the pure part)\n",
    "- The actual displaying of the HTML thunk (the impure part)\n",
    "\n",
    "Lack of modularity in this case leads to the following problems:\n",
    "- Later on, we will need to compute the SVG code of larger pictures, which are made from circles, rectangles, etc., and we will certainly need for that to translate circles to SVG. But with the current implementation, we won't be able to *reuse* anything (but by copy-pasting). \n",
    "- Another problem with this implementation is *testability*: we can't unit test the single part that generates the SVG code alone. We can only do _integration_ testing, i.e. checking the effect on the screen to see if what we get is right or not. \n",
    "\n",
    "So, we should better modularise our function as follows:"
   ]
  },
  {
   "cell_type": "code",
   "execution_count": null,
   "metadata": {},
   "outputs": [],
   "source": [
    "type SVG = String\n",
    "type HTML = String\n",
    "\n",
    "// Module 1: toSVG\n",
    "\n",
    "def circleToSVG(c: Circle): SVG = \n",
    "    ???\n",
    "\n",
    "// Module 2: HtmlData\n",
    "import almond.interpreter.api.DisplayData\n",
    "\n",
    "def HtmlData(svg: SVG): DisplayData = \n",
    "    ???\n",
    "\n",
    "// Our very same original function, but now in a better shape\n",
    "def displayCircle(c: Circle): Unit = \n",
    "    ???\n",
    "    \n"
   ]
  },
  {
   "cell_type": "code",
   "execution_count": null,
   "metadata": {},
   "outputs": [],
   "source": [
    "// displayCircle(Circle(49))"
   ]
  },
  {
   "cell_type": "markdown",
   "metadata": {},
   "source": [
    "## Sum types       "
   ]
  },
  {
   "cell_type": "markdown",
   "metadata": {},
   "source": [
    "Besides multiplying types, we can also _sum_ types. Given types $A$ and $B$, the sum type $A + B$ represents **either** a value of type $A$ **or** a value of type $B$. Therefore, we have that \n",
    "\n",
    "$|A + B| = |A| + |B|$\n",
    "\n",
    "For instance (the symbol $:=$ is used to give a name to a type):"
   ]
  },
  {
   "cell_type": "markdown",
   "metadata": {},
   "source": [
    "- $MaybeInt := Int + 1$. A value of this type may be an integer; if it is not, then it is the unit value (a value that we use to signal that it is not an integer). So, $|MaybeInt| = |Int| + |1| = |Int| + 1$\n",
    "- $EitherIntOrString := Int + String$. A value of this type is either an integer or a string, i.e. $|EitherIntOrString| = |Int| + |String|$\n",
    "- $Shape := Circle + Rectangle + Triangle$. If we have a value of type $Shape$, then we have either a $Circle$, a $Triangle$ or a $Rectangle$. So, $|Shape| = |Circle| + |Triangle| + |Rectangle|$"
   ]
  },
  {
   "cell_type": "markdown",
   "metadata": {},
   "source": [
    "We create and observe values of a sum type $A + B$ with the following functions: \n",
    "- Injection functions: \n",
    "  - `injA: A -> A + B`\n",
    "  - `injB: B -> A + B`\n",
    "- Match function:\n",
    "  - `match: (A -> C) -> (B -> C) -> A + B -> C`\n",
    "  \n",
    "Note that the `match` function is a higher-order function. Basically, it says: if I know how to obtain a $C$ from $A$ (using function $A \\rightarrow C$), and I know how to obtain a $C$ from $B$, then I know how to obtain a $C$ from $A+B$ (since $A+B$ is either an $A$ or a $B$)."
   ]
  },
  {
   "cell_type": "markdown",
   "metadata": {},
   "source": [
    "### Sum types in Scala"
   ]
  },
  {
   "cell_type": "markdown",
   "metadata": {},
   "source": [
    "How do we define sum types in an object-oriented language like Scala? Basically, we need _inheritance_, but with a special twist: it has to be _sealed_."
   ]
  },
  {
   "cell_type": "code",
   "execution_count": 82,
   "metadata": {},
   "outputs": [
    {
     "data": {
      "text/plain": [
       "defined \u001b[32mclass\u001b[39m \u001b[36mShape\u001b[39m\n",
       "defined \u001b[32mclass\u001b[39m \u001b[36mRectangle\u001b[39m\n",
       "defined \u001b[32mclass\u001b[39m \u001b[36mTriangle\u001b[39m\n",
       "defined \u001b[32mclass\u001b[39m \u001b[36mCircle\u001b[39m"
      ]
     },
     "execution_count": 82,
     "metadata": {},
     "output_type": "execute_result"
    }
   ],
   "source": [
    "// type Shape = Rectangle + Triangle + Circle \n",
    "\n",
    "sealed abstract class Shape\n",
    "case class Rectangle(width: Int, height: Int) extends Shape\n",
    "case class Triangle(base: Int) extends Shape\n",
    "case class Circle(radius: Int) extends Shape\n"
   ]
  },
  {
   "cell_type": "markdown",
   "metadata": {},
   "source": [
    "As we already saw, the keyword `sealed` prevents the extension of the inheritance hierarchy with new subclasses. This guarantees that the sum type will remain consistent everywhere, i.e. that whenever we have an instance of `Shape` it will be either a rectangle, a circle or a triangle, and nothing else."
   ]
  },
  {
   "cell_type": "markdown",
   "metadata": {},
   "source": [
    "We create values of type `Shape` by using the constructors of its subclasses:"
   ]
  },
  {
   "cell_type": "code",
   "execution_count": 65,
   "metadata": {},
   "outputs": [
    {
     "data": {
      "text/plain": [
       "\u001b[36ms1\u001b[39m: \u001b[32mShape\u001b[39m = \u001b[33mRectangle\u001b[39m(\u001b[32m1\u001b[39m, \u001b[32m1\u001b[39m)"
      ]
     },
     "execution_count": 65,
     "metadata": {},
     "output_type": "execute_result"
    }
   ],
   "source": [
    "val s1: Shape = Rectangle(1,1)\n",
    "//val wrongShape: Shape = new Shape"
   ]
  },
  {
   "cell_type": "code",
   "execution_count": 65,
   "metadata": {},
   "outputs": [],
   "source": [
    "//wrongShape.asInstanceOf[Rectangle]\n",
    "//s1.asInstanceOf[Rectangle]"
   ]
  },
  {
   "cell_type": "code",
   "execution_count": 65,
   "metadata": {},
   "outputs": [],
   "source": [
    "// class Trapezoid(b: Boolean) extends Shape"
   ]
  },
  {
   "cell_type": "code",
   "execution_count": 65,
   "metadata": {},
   "outputs": [],
   "source": [
    "// val s: Shape = new Trapezoid(true)"
   ]
  },
  {
   "cell_type": "markdown",
   "metadata": {},
   "source": [
    "And we _observe_ these values with _pattern matching_, as follows:"
   ]
  },
  {
   "cell_type": "code",
   "execution_count": 72,
   "metadata": {},
   "outputs": [
    {
     "data": {
      "text/plain": [
       "defined \u001b[32mfunction\u001b[39m \u001b[36mkind\u001b[39m"
      ]
     },
     "execution_count": 72,
     "metadata": {},
     "output_type": "execute_result"
    }
   ],
   "source": [
    "def kind(s: Shape): String = (s: Shape) match {\n",
    "    case r: Rectangle => \n",
    "        \"Rectangle\" : String // if (s.isInstanceOf[Rectangle]) \"Rectangle\"\n",
    "    case c: Circle => \n",
    "        \"Circle\" : String // : else if (s.isInstanceOf[Circle]) \"Circle\"\n",
    "    case _ => // case t: Triangle => \n",
    "        \"Triangle\" : String // else \"Triangle\"    \n",
    "}\n",
    "\n"
   ]
  },
  {
   "cell_type": "code",
   "execution_count": 71,
   "metadata": {},
   "outputs": [
    {
     "data": {
      "text/plain": [
       "\u001b[36mres70_0\u001b[39m: \u001b[32mBoolean\u001b[39m = true\n",
       "\u001b[36mres70_1\u001b[39m: \u001b[32mBoolean\u001b[39m = true\n",
       "\u001b[36mres70_2\u001b[39m: \u001b[32mBoolean\u001b[39m = true"
      ]
     },
     "execution_count": 71,
     "metadata": {},
     "output_type": "execute_result"
    }
   ],
   "source": [
    "kind(Rectangle(1,1)) == \"Rectangle\"\n",
    "kind(Circle(1)) == \"Circle\"\n",
    "kind(Triangle(1)) == \"Triangle\""
   ]
  },
  {
   "cell_type": "markdown",
   "metadata": {},
   "source": [
    "Each `case` declaration represents a function from the corresponding type to the common target result. Being `sealed`, the compiler can check whether some pattern matching expression is complete or not, and warn us in case it's not."
   ]
  },
  {
   "cell_type": "code",
   "execution_count": 73,
   "metadata": {},
   "outputs": [],
   "source": [
    "// This is Almond specific. \n",
    "// Also, note that it's possible that this diretive does not work for some kernel versions\n",
    "interp.configureCompiler(_.settings.nowarn.value = false)"
   ]
  },
  {
   "cell_type": "code",
   "execution_count": 75,
   "metadata": {},
   "outputs": [
    {
     "name": "stderr",
     "output_type": "stream",
     "text": [
      "cmd74.sc:1: match may not be exhaustive.\n",
      "It would fail on the following input: Triangle(_)\n",
      "def f(s1: Shape): String = s1 match {\n",
      "                           ^"
     ]
    },
    {
     "data": {
      "text/plain": [
       "defined \u001b[32mfunction\u001b[39m \u001b[36mf\u001b[39m"
      ]
     },
     "execution_count": 75,
     "metadata": {},
     "output_type": "execute_result"
    }
   ],
   "source": [
    "// A warning should be raised here\n",
    "\n",
    "def f(s1: Shape): String = s1 match {\n",
    "    // Rectangle => String\n",
    "    case r: Rectangle => \"Rectangle\" : String\n",
    "    // Triangle => String\n",
    "//     case t: Triangle  => \"Triangle\"  : String \n",
    "    // Circle => String\n",
    "    case c: Circle    => \"Circle\"    : String\n",
    "}\n"
   ]
  },
  {
   "cell_type": "code",
   "execution_count": 78,
   "metadata": {},
   "outputs": [
    {
     "ename": "",
     "evalue": "",
     "output_type": "error",
     "traceback": [
      "\u001b[31mscala.MatchError: Triangle(1) (of class ammonite.$sess.cmd63$Helper$Triangle)\u001b[39m\n  ammonite.$sess.cmd74$Helper.f(\u001b[32mcmd74.sc\u001b[39m:\u001b[32m1\u001b[39m)\n  ammonite.$sess.cmd77$Helper.<init>(\u001b[32mcmd77.sc\u001b[39m:\u001b[32m3\u001b[39m)\n  ammonite.$sess.cmd77$.<clinit>(\u001b[32mcmd77.sc\u001b[39m:\u001b[32m7\u001b[39m)"
     ]
    }
   ],
   "source": [
    "f(Rectangle(1,1))\n",
    "f(Circle(1))\n",
    "f(Triangle(1))"
   ]
  },
  {
   "cell_type": "markdown",
   "metadata": {},
   "source": [
    "### Standard sum types in Scala"
   ]
  },
  {
   "cell_type": "markdown",
   "metadata": {},
   "source": [
    "The standard library of Scala provides two important sum types: [`Option`](https://www.scala-lang.org/api/current/scala/Option.html) and [`Either`](https://www.scala-lang.org/api/current/scala/util/Either.html). They can be defined as follows: "
   ]
  },
  {
   "cell_type": "code",
   "execution_count": 96,
   "metadata": {},
   "outputs": [
    {
     "data": {
      "text/plain": [
       "defined \u001b[32mobject\u001b[39m \u001b[36mStdSumTypes\u001b[39m"
      ]
     },
     "execution_count": 96,
     "metadata": {},
     "output_type": "execute_result"
    }
   ],
   "source": [
    "object StdSumTypes{\n",
    "    // Option[A] := A + 1\n",
    "    /*\n",
    "    sealed abstract class Option[A]\n",
    "    case class SomeA[A](a: A) extends Option[A]\n",
    "    case class NotAnA[A](u: Unit) extends Option[A] // NotAnA[A] ~= Unit\n",
    "    */\n",
    "    sealed abstract class Option[+A]\n",
    "    case class Some[A](a: A) extends Option[A]\n",
    "    case object None extends Option[Nothing]\n",
    "    \n",
    "    // Either[A, B] := A + B\n",
    "    \n",
    "    sealed abstract class Either[A, B]\n",
    "    case class Left[A, B](a: A) extends Either[A, B]\n",
    "    case class Right[A, B](b: B) extends Either[A, B]\n",
    "}"
   ]
  },
  {
   "cell_type": "markdown",
   "metadata": {},
   "source": [
    "$Shape \\cong ShapeR$"
   ]
  },
  {
   "cell_type": "code",
   "execution_count": 81,
   "metadata": {},
   "outputs": [
    {
     "data": {
      "text/plain": [
       "defined \u001b[32mtype\u001b[39m \u001b[36mShapeR\u001b[39m"
      ]
     },
     "execution_count": 81,
     "metadata": {},
     "output_type": "execute_result"
    }
   ],
   "source": [
    "type ShapeR = Either[Circle, Either[Triangle, Rectangle]]\n",
    "\n",
    "// ShapeR is isomorphic to Shape\n",
    "def from(s: ShapeR): Shape = ???\n",
    "def to(s: Shape): ShapeR = ???\n",
    "// from(to(s))==s , for all s: Shape\n",
    "// to(from(s))==s , for all s: ShapeR"
   ]
  },
  {
   "cell_type": "markdown",
   "metadata": {},
   "source": [
    "These types are important for error handling. We will see how they allow us to get rid of exceptions, at least in the part of our code that we wish to be purely functional. Here it's a small example:"
   ]
  },
  {
   "cell_type": "code",
   "execution_count": 85,
   "metadata": {},
   "outputs": [
    {
     "data": {
      "text/plain": [
       "defined \u001b[32mfunction\u001b[39m \u001b[36mdivideWithExceptions\u001b[39m"
      ]
     },
     "execution_count": 85,
     "metadata": {},
     "output_type": "execute_result"
    }
   ],
   "source": [
    "// Using exceptions\n",
    "\n",
    "def divideWithExceptions(a: Double, b: Double): Double =\n",
    "    if (b==0) throw new Exception(\"divide by cero\")\n",
    "    else a/b"
   ]
  },
  {
   "cell_type": "code",
   "execution_count": 86,
   "metadata": {},
   "outputs": [
    {
     "ename": "",
     "evalue": "",
     "output_type": "error",
     "traceback": [
      "\u001b[31mjava.lang.Exception: divide by cero\u001b[39m\n  ammonite.$sess.cmd84$Helper.divideWithExceptions(\u001b[32mcmd84.sc\u001b[39m:\u001b[32m2\u001b[39m)\n  ammonite.$sess.cmd85$Helper.<init>(\u001b[32mcmd85.sc\u001b[39m:\u001b[32m1\u001b[39m)\n  ammonite.$sess.cmd85$.<clinit>(\u001b[32mcmd85.sc\u001b[39m:\u001b[32m7\u001b[39m)"
     ]
    }
   ],
   "source": [
    "divideWithExceptions(5,0)"
   ]
  },
  {
   "cell_type": "code",
   "execution_count": 88,
   "metadata": {},
   "outputs": [
    {
     "data": {
      "text/plain": [
       "defined \u001b[32mfunction\u001b[39m \u001b[36mdivideWithOption\u001b[39m"
      ]
     },
     "execution_count": 88,
     "metadata": {},
     "output_type": "execute_result"
    }
   ],
   "source": [
    "// Using option\n",
    "\n",
    "\n",
    "def divideWithOption(a: Double, b: Double): Option[Double] =\n",
    "    if (b==0) None // throw new Exception(\"divide by cero\")\n",
    "    else Some(a/b: Double)\n"
   ]
  },
  {
   "cell_type": "markdown",
   "metadata": {},
   "source": [
    "We now return a value which indicates whether there was an error or not:"
   ]
  },
  {
   "cell_type": "code",
   "execution_count": 90,
   "metadata": {},
   "outputs": [
    {
     "data": {
      "text/plain": [
       "\u001b[36mres89_0\u001b[39m: \u001b[32mOption\u001b[39m[\u001b[32mDouble\u001b[39m] = \u001b[33mSome\u001b[39m(\u001b[32m2.5\u001b[39m)\n",
       "\u001b[36mres89_1\u001b[39m: \u001b[32mOption\u001b[39m[\u001b[32mDouble\u001b[39m] = \u001b[32mNone\u001b[39m"
      ]
     },
     "execution_count": 90,
     "metadata": {},
     "output_type": "execute_result"
    }
   ],
   "source": [
    "divideWithOption(5,2)\n",
    "divideWithOption(5,0)"
   ]
  },
  {
   "cell_type": "code",
   "execution_count": 94,
   "metadata": {},
   "outputs": [
    {
     "data": {
      "text/plain": [
       "\u001b[36mres93_0\u001b[39m: \u001b[32mOption\u001b[39m[\u001b[32mNothing\u001b[39m] = \u001b[32mNone\u001b[39m\n",
       "\u001b[36mres93_1\u001b[39m: \u001b[32mOption\u001b[39m[\u001b[32mDouble\u001b[39m] = \u001b[32mNone\u001b[39m\n",
       "\u001b[36mres93_2\u001b[39m: \u001b[32mOption\u001b[39m[\u001b[32mDouble\u001b[39m] = \u001b[32mNone\u001b[39m"
      ]
     },
     "execution_count": 94,
     "metadata": {},
     "output_type": "execute_result"
    }
   ],
   "source": [
    "None: Option[Nothing]\n",
    "None: Option[Double] // Nothing <: Double, Option[Nothing] <: Option[Double]\n",
    "Option.empty[Double]"
   ]
  },
  {
   "cell_type": "code",
   "execution_count": 97,
   "metadata": {},
   "outputs": [
    {
     "data": {
      "text/plain": [
       "defined \u001b[32mfunction\u001b[39m \u001b[36mdivideWithEither\u001b[39m"
      ]
     },
     "execution_count": 97,
     "metadata": {},
     "output_type": "execute_result"
    }
   ],
   "source": [
    "// Using Either\n",
    "\n",
    "def divideWithEither(a: Double, b: Double): Either[String, Double] =\n",
    "    if (b==0) Left(\"divide by zero\") // None\n",
    "    else if (b < 0.000001) Left(\"too low precision\") // \"too low precision\"\n",
    "    else Right(a/b)"
   ]
  },
  {
   "cell_type": "code",
   "execution_count": 98,
   "metadata": {},
   "outputs": [
    {
     "data": {
      "text/plain": [
       "defined \u001b[32mfunction\u001b[39m \u001b[36mdivideWithOptionWrong\u001b[39m"
      ]
     },
     "execution_count": 98,
     "metadata": {},
     "output_type": "execute_result"
    }
   ],
   "source": [
    "// Using Either\n",
    "\n",
    "def divideWithOptionWrong(a: Double, b: Double): Option[Double] =\n",
    "    if (b==0) Option.empty[Double] // None\n",
    "    else if (b < 0.000001) None // \"too low precision\"\n",
    "    else Some(a/b)"
   ]
  },
  {
   "cell_type": "markdown",
   "metadata": {},
   "source": [
    "And now a value which, in case of error indicates the reason:"
   ]
  },
  {
   "cell_type": "code",
   "execution_count": null,
   "metadata": {},
   "outputs": [],
   "source": []
  },
  {
   "cell_type": "markdown",
   "metadata": {},
   "source": [
    "Show that $Option[A] \\cong Either[A, 1]$"
   ]
  },
  {
   "cell_type": "markdown",
   "metadata": {},
   "source": [
    "### The 0 type in Scala"
   ]
  },
  {
   "cell_type": "markdown",
   "metadata": {},
   "source": [
    "If the unit type was the identity element for product types, is there any identity type for sums? It has to be a type which satisfies the following conditions: \n",
    "\n",
    "- $0 + A \\cong A$\n",
    "- $A + 0 \\cong A$\n",
    "\n",
    "But $|0 + A| = |0| + |A|$, so $|0| = 0$, i.e. the type $0$ must inhabited. In other words, it is a type such that there is no value of that type. We can define such a type in Scala as follows:"
   ]
  },
  {
   "cell_type": "code",
   "execution_count": null,
   "metadata": {},
   "outputs": [],
   "source": []
  },
  {
   "cell_type": "markdown",
   "metadata": {},
   "source": [
    "Being sealed and having no instances declared in its cell, the class `Zero` is inhabited. \n",
    "But we don't have to defined it ourselves, since the identity element of sums in Scala is already defined in the Scala standard library: it's the type `Nothing`. Since we can't create instances of this type, the only thing that we can do if we have to return a value of this type, or assign a variable of this type a value, is to throw an exception:"
   ]
  },
  {
   "cell_type": "code",
   "execution_count": null,
   "metadata": {},
   "outputs": [],
   "source": []
  },
  {
   "cell_type": "markdown",
   "metadata": {},
   "source": [
    "The `???` expression in Scala means essentially an exception of type `Nothing`. Also, note that `Nothing` is the botton of the Scala inheritance hierarchy, i.e. `Nothing` is a subclass of any Scala class. That's why we can use `???` in place of any value in Scala."
   ]
  },
  {
   "cell_type": "code",
   "execution_count": null,
   "metadata": {},
   "outputs": [],
   "source": [
    "def i: Int = ??? // throw new Exception(\"no value\")"
   ]
  },
  {
   "cell_type": "markdown",
   "metadata": {},
   "source": [
    "The isomorphism $Int + 0 \\cong Int$ is witnessed by the following functions:"
   ]
  },
  {
   "cell_type": "code",
   "execution_count": null,
   "metadata": {},
   "outputs": [],
   "source": [
    "// IntOrNothing := Int + Nothing\n",
    "\n"
   ]
  },
  {
   "cell_type": "markdown",
   "metadata": {},
   "source": [
    "### More on pattern matching"
   ]
  },
  {
   "cell_type": "markdown",
   "metadata": {},
   "source": [
    "Let's implement a function that calculates the area of a shape:"
   ]
  },
  {
   "cell_type": "code",
   "execution_count": null,
   "metadata": {},
   "outputs": [],
   "source": [
    "import scala.math._\n",
    "\n",
    "/*\n",
    "def area(shape: Shape): Double = \n",
    "    ???\n",
    "*/"
   ]
  },
  {
   "cell_type": "code",
   "execution_count": null,
   "metadata": {},
   "outputs": [],
   "source": []
  },
  {
   "cell_type": "markdown",
   "metadata": {},
   "source": [
    "We can implement this function more conveniently, using extractors to _deconstruct_ the value and access more directly its member attributes: "
   ]
  },
  {
   "cell_type": "code",
   "execution_count": null,
   "metadata": {},
   "outputs": [],
   "source": [
    "/*\n",
    "def area(shape: Shape): Double = \n",
    "    shape match {\n",
    "        case r: Rectangle => r.width * r.height\n",
    "        case c: Circle => Pi * pow(c.radius, 2)\n",
    "        case t: Triangle => t.width * t.width / 2.0\n",
    "    }\n",
    "*/"
   ]
  },
  {
   "cell_type": "markdown",
   "metadata": {},
   "source": [
    "This can also be used in `val` declarations:"
   ]
  },
  {
   "cell_type": "code",
   "execution_count": null,
   "metadata": {},
   "outputs": [],
   "source": [
    "// val r: Rectangle = Rectangle(1,2)\n"
   ]
  },
  {
   "cell_type": "markdown",
   "metadata": {},
   "source": [
    "We can also use _guards_ in `case` branches:"
   ]
  },
  {
   "cell_type": "code",
   "execution_count": null,
   "metadata": {},
   "outputs": [],
   "source": [
    "/*\n",
    "def bigShape(s: Shape): String = \n",
    "    ???\n",
    "*/"
   ]
  },
  {
   "cell_type": "code",
   "execution_count": null,
   "metadata": {},
   "outputs": [],
   "source": []
  },
  {
   "cell_type": "markdown",
   "metadata": {},
   "source": [
    "We can pattern match on specific _values_ of variables: "
   ]
  },
  {
   "cell_type": "code",
   "execution_count": null,
   "metadata": {},
   "outputs": [],
   "source": [
    "/*\n",
    "def isRectangle(r: Shape, w: Int, h: Int): Boolean = \n",
    "    ???\n",
    "*/"
   ]
  },
  {
   "cell_type": "code",
   "execution_count": null,
   "metadata": {},
   "outputs": [],
   "source": []
  },
  {
   "cell_type": "markdown",
   "metadata": {},
   "source": [
    "We can pattern match repeatedly until several levels of nesting:"
   ]
  },
  {
   "cell_type": "code",
   "execution_count": null,
   "metadata": {},
   "outputs": [],
   "source": [
    "def foo(s: Either[Either[Int, String], \n",
    "                  (Int, Either[String, Boolean])]): Boolean = \n",
    "    ???"
   ]
  },
  {
   "cell_type": "markdown",
   "metadata": {},
   "source": [
    "This is actually more convenient than this way:"
   ]
  },
  {
   "cell_type": "code",
   "execution_count": null,
   "metadata": {},
   "outputs": [],
   "source": [
    "def foo(s: Either[Either[Int, String], \n",
    "                  (Int, Either[String, Boolean])]): Boolean = \n",
    "    ???"
   ]
  },
  {
   "cell_type": "markdown",
   "metadata": {},
   "source": [
    "Note that `(Int+String)+Int*(String+Boolean)` $\\cong$ `Int + String + Int*String + Int*Boolean`, i.e. four cases.\n"
   ]
  },
  {
   "cell_type": "markdown",
   "metadata": {},
   "source": [
    "More details on pattern matching in Scala can be found [here](https://docs.scala-lang.org/tour/pattern-matching.html)"
   ]
  },
  {
   "cell_type": "markdown",
   "metadata": {},
   "source": [
    "### Working with sum types"
   ]
  },
  {
   "cell_type": "markdown",
   "metadata": {},
   "source": [
    "Similarly to what we did above with circles, we want now to display shapes: "
   ]
  },
  {
   "cell_type": "code",
   "execution_count": null,
   "metadata": {},
   "outputs": [],
   "source": [
    "sealed abstract class Shape\n",
    "case class Rectangle(width: Int, height: Int) extends Shape\n",
    "case class Triangle(width: Int) extends Shape\n",
    "case class Circle(radius: Int) extends Shape"
   ]
  },
  {
   "cell_type": "markdown",
   "metadata": {},
   "source": [
    "We already implemented a function to display circles. We need now similar functions to display rectangles and triangles:"
   ]
  },
  {
   "cell_type": "code",
   "execution_count": null,
   "metadata": {},
   "outputs": [],
   "source": [
    "def circleToSVG(c: Circle): SVG = \n",
    "        s\"\"\"<svg width=\"200\" height=\"200\">\n",
    "              <circle cx=\"100\" cy=\"100\" r=${c.radius} fill=\"red\"/>\n",
    "            </svg>\"\"\"\n",
    "\n",
    "def triangleToSVG(c: Triangle): SVG = {\n",
    "    val height = math.sqrt(3) * c.width / 2\n",
    "    val x = 100-c.width/2\n",
    "    val y = 100+height/2\n",
    "    s\"\"\"<svg width=\"200\" height=\"200\">\n",
    "      <polygon points=\"$x,$y ${x+(c.width/2)},${y-height} ${x+c.width},$y\" fill=\"red\" />\n",
    "    </svg>\"\"\"\n",
    "}\n",
    "\n",
    "def rectangleToSVG(c: Rectangle): SVG = \n",
    "    s\"\"\"<svg width=\"200\" height=\"200\">\n",
    "       <rect width=${c.width} height=${c.height} fill=\"red\" />\n",
    "    </svg>\"\"\""
   ]
  },
  {
   "cell_type": "markdown",
   "metadata": {},
   "source": [
    "The function `toSVG` that translates shapes to SVG looks as follows:"
   ]
  },
  {
   "cell_type": "code",
   "execution_count": null,
   "metadata": {},
   "outputs": [],
   "source": [
    "/*def toSVG(s: Shape): SVG = \n",
    "    ???\n",
    "    */"
   ]
  },
  {
   "cell_type": "markdown",
   "metadata": {},
   "source": [
    "We can now define our function:"
   ]
  },
  {
   "cell_type": "code",
   "execution_count": null,
   "metadata": {},
   "outputs": [],
   "source": [
    "/*def displayShape(s: Shape): Unit = \n",
    "    display(HtmlData(toSVG(s)))\n",
    "    */"
   ]
  },
  {
   "cell_type": "code",
   "execution_count": null,
   "metadata": {},
   "outputs": [],
   "source": [
    "// displayShape(Rectangle(200, 150))"
   ]
  },
  {
   "cell_type": "code",
   "execution_count": null,
   "metadata": {},
   "outputs": [],
   "source": [
    "// displayShape(Triangle(200))"
   ]
  },
  {
   "cell_type": "markdown",
   "metadata": {},
   "source": [
    "### Objects vs. ADTs"
   ]
  },
  {
   "cell_type": "markdown",
   "metadata": {},
   "source": [
    "The object-oriented way for writing this code would be something as follows:"
   ]
  },
  {
   "cell_type": "code",
   "execution_count": null,
   "metadata": {},
   "outputs": [],
   "source": [
    "abstract class Shape{\n",
    "    def toSVG: SVG\n",
    "}\n",
    "\n",
    "case class Rectangle(width: Int, height: Int) extends Shape{\n",
    "    def toSVG: SVG = ???\n",
    "}\n",
    "\n",
    "case class Triangle(width: Int) extends Shape{\n",
    "    def toSVG: SVG = ???\n",
    "}\n",
    "\n",
    "case class Circle(radius: Int) extends Shape{\n",
    "    def toSVG: SVG = ???\n",
    "}"
   ]
  },
  {
   "cell_type": "markdown",
   "metadata": {},
   "source": [
    "Basically, objects encapsulate state and behaviour. In functional programming, state and behaviour are completely *decoupled*. Data values are pure data, whereas behaviour is implemented through functions that interpret those values. This is done this way in order to improve modularity and allow both concerns to evolve independently. For instance, we may later add an interpreter `toEPS`, and we would not need to modify the inheritance hierarchy (the class `Shape` could even be out of our codebase). "
   ]
  },
  {
   "cell_type": "markdown",
   "metadata": {},
   "source": [
    "## Exponent types"
   ]
  },
  {
   "cell_type": "markdown",
   "metadata": {},
   "source": [
    "We already know how to build new types by _adding_ and _multiplying_ other types. We will see now that function types can be properly called _exponent_ types. Indeed, let's consider how many functions are there with type `Boolean => Boolean`:"
   ]
  },
  {
   "cell_type": "code",
   "execution_count": null,
   "metadata": {},
   "outputs": [],
   "source": [
    "// false -> false, true -> false\n",
    "\n",
    "// false -> true, true -> true\n",
    "\n",
    "// false -> false, true -> true \n",
    "\n",
    "// false -> true, true -> false\n"
   ]
  },
  {
   "cell_type": "markdown",
   "metadata": {},
   "source": [
    "In general, $|X\\Rightarrow Y|=|Y|^{|X|}$, since for any $X$ we have $|Y|$ values available. For instance, we only have one implementation of the following function type $X \\Rightarrow 1$, for any type $X$:"
   ]
  },
  {
   "cell_type": "code",
   "execution_count": null,
   "metadata": {},
   "outputs": [],
   "source": []
  },
  {
   "cell_type": "markdown",
   "metadata": {},
   "source": [
    "which agrees with the formula: $|X \\Rightarrow 1| = |1|^{|X|} = 1$. Also, the familiar law in arithmetics for exponentiation also works for types: $X^{Y+Z} \\cong X^Y * X^Z$, as the following bijection shows:"
   ]
  },
  {
   "cell_type": "code",
   "execution_count": null,
   "metadata": {},
   "outputs": [],
   "source": []
  },
  {
   "cell_type": "code",
   "execution_count": null,
   "metadata": {},
   "outputs": [],
   "source": []
  },
  {
   "cell_type": "markdown",
   "metadata": {},
   "source": [
    "The last pattern matching can also be written more concisely using so-called [partial functions](https://www.scala-lang.org/api/current/scala/PartialFunction.html): "
   ]
  },
  {
   "cell_type": "code",
   "execution_count": null,
   "metadata": {},
   "outputs": [],
   "source": []
  },
  {
   "cell_type": "markdown",
   "metadata": {},
   "source": [
    "See this [post](https://alvinalexander.com/scala/how-to-define-use-partial-functions-in-scala-syntax-examples/) for more information on Scala partial functions."
   ]
  },
  {
   "cell_type": "markdown",
   "metadata": {},
   "source": [
    "But we must show, or at least _test_, that both functions are inverses of each other, i.e. that `from(to(f)) == f`, for all `f: (Y => X, Z => X)`, and `to(from(f)) == f`, for all `f: Either[Y, Z] => X`. We will perform some unit testing here. To do that, we need to fix particular types $X$, $Y$ and $Z$, choose some samples functions, and define the equality operator for function types. "
   ]
  },
  {
   "cell_type": "markdown",
   "metadata": {},
   "source": [
    "We will choose $X=Y=Z=Boolean$. Equality functions are as follows:"
   ]
  },
  {
   "cell_type": "code",
   "execution_count": null,
   "metadata": {},
   "outputs": [],
   "source": []
  },
  {
   "cell_type": "markdown",
   "metadata": {},
   "source": [
    "and the following sample functions: "
   ]
  },
  {
   "cell_type": "code",
   "execution_count": null,
   "metadata": {},
   "outputs": [],
   "source": []
  },
  {
   "cell_type": "code",
   "execution_count": null,
   "metadata": {},
   "outputs": [],
   "source": []
  },
  {
   "cell_type": "code",
   "execution_count": null,
   "metadata": {},
   "outputs": [],
   "source": []
  }
 ],
 "metadata": {
  "kernelspec": {
   "display_name": "Scala",
   "language": "scala",
   "name": "scala"
  },
  "language_info": {
   "codemirror_mode": "text/x-scala",
   "file_extension": ".scala",
   "mimetype": "text/x-scala",
   "name": "scala",
   "nbconvert_exporter": "script",
   "version": "2.13.0"
  }
 },
 "nbformat": 4,
 "nbformat_minor": 2
}
