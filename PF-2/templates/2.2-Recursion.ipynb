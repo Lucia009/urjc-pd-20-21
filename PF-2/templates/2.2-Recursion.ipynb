{
 "cells": [
  {
   "cell_type": "markdown",
   "metadata": {},
   "source": [
    "# Recursive data types and functions"
   ]
  },
  {
   "cell_type": "markdown",
   "metadata": {},
   "source": [
    "## Recursive types"
   ]
  },
  {
   "cell_type": "markdown",
   "metadata": {},
   "source": [
    "### The `List` type"
   ]
  },
  {
   "cell_type": "markdown",
   "metadata": {},
   "source": [
    "Lists are data structures which represent sequences of values of the same type, of finite length. They can be defined recursively in an informal way as follows: \n",
    "- A list is the empty sequence\n",
    "- A list is a non-empty sequence made of a value and another list, which represent the head and tail of the list, respectively\n",
    "\n",
    "Thus, the type `IntList`, which represents lists of integers, must satisfy the algebraic following equation:\n",
    "\n",
    "`IntList = 1 + Int * IntList`\n",
    "\n",
    "i.e., a list of integers is the empty sequence (represented by the singleton type `1`), or an integer (the head) and a list (its tail).\n",
    "\n"
   ]
  },
  {
   "cell_type": "markdown",
   "metadata": {},
   "source": [
    "The implementation in Scala is as follows (we already give the generic version `List[A]`, rather than the implementation of `IntList`):"
   ]
  },
  {
   "cell_type": "code",
   "execution_count": null,
   "metadata": {},
   "outputs": [],
   "source": []
  },
  {
   "cell_type": "markdown",
   "metadata": {},
   "source": [
    "Note that the actual implementation of [immutable lists](https://github.com/scala/scala/blob/v2.13.1/src/library/scala/collection/immutable/List.scala#L79) in the standard library of Scala defines the empty list as an object, rather than a class. However, this forces us to declare the list covariantly in its generic parameter `A`, which is somewhat inconvenient at times. The standard definition looks as follows:"
   ]
  },
  {
   "cell_type": "code",
   "execution_count": null,
   "metadata": {},
   "outputs": [],
   "source": [
    "object StdDefinition{\n",
    "}"
   ]
  },
  {
   "cell_type": "markdown",
   "metadata": {},
   "source": [
    "We will stick to the former definition. Some examples of lists: "
   ]
  },
  {
   "cell_type": "code",
   "execution_count": null,
   "metadata": {},
   "outputs": [],
   "source": [
    "// The empty list\n"
   ]
  },
  {
   "cell_type": "code",
   "execution_count": null,
   "metadata": {},
   "outputs": [],
   "source": [
    "// Non-empty list [1, 2, 3]\n"
   ]
  },
  {
   "cell_type": "markdown",
   "metadata": {},
   "source": [
    "### Some syntactic sugar"
   ]
  },
  {
   "cell_type": "markdown",
   "metadata": {},
   "source": [
    "Note that we can write standard lists with a more compact syntax: "
   ]
  },
  {
   "cell_type": "code",
   "execution_count": null,
   "metadata": {},
   "outputs": [],
   "source": [
    "import scala.{List => IList}\n",
    "\n"
   ]
  },
  {
   "cell_type": "markdown",
   "metadata": {},
   "source": [
    "How can we do that with out own lists? We define a smart constructor in the companion object using variadic arguments: "
   ]
  },
  {
   "cell_type": "code",
   "execution_count": null,
   "metadata": {},
   "outputs": [],
   "source": [
    "object List{\n",
    "}"
   ]
  },
  {
   "cell_type": "markdown",
   "metadata": {},
   "source": [
    "This allows us to write lists more easily:"
   ]
  },
  {
   "cell_type": "code",
   "execution_count": null,
   "metadata": {},
   "outputs": [],
   "source": []
  },
  {
   "cell_type": "markdown",
   "metadata": {},
   "source": [
    "Note that the smart constructor `apply` is defined recursively. Let's dive into recursion."
   ]
  },
  {
   "cell_type": "markdown",
   "metadata": {},
   "source": [
    "##  Recursive functions"
   ]
  },
  {
   "cell_type": "markdown",
   "metadata": {},
   "source": [
    "Since lists are defined recursively, functions over lists will be commonly recursive as well. For instance, let's implement a recursive function that computes the length of a list. But before, let's implement the function imperatively for the sake of comparison:"
   ]
  },
  {
   "cell_type": "code",
   "execution_count": null,
   "metadata": {},
   "outputs": [],
   "source": [
    "// Using mutable variables\n",
    "\n"
   ]
  },
  {
   "cell_type": "code",
   "execution_count": null,
   "metadata": {},
   "outputs": [],
   "source": []
  },
  {
   "cell_type": "markdown",
   "metadata": {},
   "source": [
    "The recursive function is implemented as follows: "
   ]
  },
  {
   "cell_type": "code",
   "execution_count": null,
   "metadata": {},
   "outputs": [],
   "source": [
    "// Using recursive functions\n",
    "\n"
   ]
  },
  {
   "cell_type": "markdown",
   "metadata": {},
   "source": [
    "Some comments: \n",
    "- The recursive function is implemented in a _type-driven development_ style: we proceed, step-by-step, analysing the types of input data that we have available so far, and the types of output that we have to generate. This leads to a divide-and-conquer problem solving strategy and hugely facilitates the implementation.\n",
    "- The recursive function is less efficient, since the stack will blow up with lists of enough lenght."
   ]
  },
  {
   "cell_type": "markdown",
   "metadata": {},
   "source": [
    "### Tail-recursive functions"
   ]
  },
  {
   "cell_type": "markdown",
   "metadata": {},
   "source": [
    "The implementation using tail-recursion solves the problems with the stack. It commonly makes use of auxiliary functions:"
   ]
  },
  {
   "cell_type": "code",
   "execution_count": null,
   "metadata": {},
   "outputs": [],
   "source": [
    "// Using tail-recursive functions\n",
    "\n"
   ]
  },
  {
   "cell_type": "code",
   "execution_count": null,
   "metadata": {},
   "outputs": [],
   "source": []
  },
  {
   "cell_type": "markdown",
   "metadata": {},
   "source": [
    "We can check the stack-safety problems of non-tail recursive functions, by calculating the length of a very big list. We will use the following function, which creates a constant list of given length."
   ]
  },
  {
   "cell_type": "code",
   "execution_count": null,
   "metadata": {},
   "outputs": [],
   "source": [
    "// First, imperatively\n",
    "\n"
   ]
  },
  {
   "cell_type": "code",
   "execution_count": null,
   "metadata": {},
   "outputs": [],
   "source": [
    "// Next, tail-recursively\n",
    "\n"
   ]
  },
  {
   "cell_type": "markdown",
   "metadata": {},
   "source": [
    "Now, let's calculate the length of a list long enough, using each of the three implementations:"
   ]
  },
  {
   "cell_type": "code",
   "execution_count": null,
   "metadata": {},
   "outputs": [],
   "source": [
    "// Imperatively\n"
   ]
  },
  {
   "cell_type": "code",
   "execution_count": null,
   "metadata": {},
   "outputs": [],
   "source": [
    "// Tail-recursive\n"
   ]
  },
  {
   "cell_type": "code",
   "execution_count": null,
   "metadata": {},
   "outputs": [],
   "source": [
    "// Plain recursive\n"
   ]
  },
  {
   "cell_type": "markdown",
   "metadata": {},
   "source": [
    "### Using the standard `List` type"
   ]
  },
  {
   "cell_type": "code",
   "execution_count": null,
   "metadata": {},
   "outputs": [],
   "source": [
    "import scala.collection.immutable.List"
   ]
  },
  {
   "cell_type": "markdown",
   "metadata": {},
   "source": [
    "From now on, we will use the `List` type defined in the standard library of Scala. For the sake of comparison, let's re-implement the `length` function: "
   ]
  },
  {
   "cell_type": "code",
   "execution_count": null,
   "metadata": {},
   "outputs": [],
   "source": [
    "/*\n",
    "def length[A](list: List[A]): Int = \n",
    "    list match {\n",
    "        case Empty()           => 0\n",
    "        case NonEmpty(_, tail) => 1 + length(tail)\n",
    "    }\n",
    "*/\n"
   ]
  },
  {
   "cell_type": "code",
   "execution_count": null,
   "metadata": {},
   "outputs": [],
   "source": []
  },
  {
   "cell_type": "markdown",
   "metadata": {},
   "source": [
    "### Unit testing with `scalatest`"
   ]
  },
  {
   "cell_type": "code",
   "execution_count": 16,
   "metadata": {},
   "outputs": [
    {
     "data": {
      "text/plain": [
       "\u001b[32mimport \u001b[39m\u001b[36m$ivy.$                               \n",
       "\u001b[39m\n",
       "\u001b[32mimport \u001b[39m\u001b[36morg.scalatest._\u001b[39m"
      ]
     },
     "execution_count": 16,
     "metadata": {},
     "output_type": "execute_result"
    }
   ],
   "source": [
    "import $ivy.`org.scalatest::scalatest:3.0.8`\n",
    "import org.scalatest._"
   ]
  },
  {
   "cell_type": "markdown",
   "metadata": {},
   "source": [
    "From now on, we will also make extensive use of unit testing for the different functions that we implement. And we will use the [`scalatest`](http://www.scalatest.org/) library for that purpose. In particular, for each function we will implement a test catalogue that test it against different test cases. For instance, this is a possible test class for the `length` function:"
   ]
  },
  {
   "cell_type": "code",
   "execution_count": null,
   "metadata": {},
   "outputs": [],
   "source": [
    "/*\n",
    "assert(length(List()) == 0)\n",
    "assert(length(List(1)) == 1)\n",
    "assert(length(List(1,2,3,4)) == 4)\n",
    "*/"
   ]
  },
  {
   "cell_type": "markdown",
   "metadata": {},
   "source": [
    "The method `shouldBe` is a _matcher_. The scalatest library offers an extensive catalogue of [them](http://www.scalatest.org/user_guide/using_matchers). Similarly, scalatest also support many different [testing styles](http://www.scalatest.org/user_guide/selecting_a_style). The chosen one here was `FlatSpec`. In order to execute the test catalogue we can simply use the scalatest method `run`:"
   ]
  },
  {
   "cell_type": "code",
   "execution_count": null,
   "metadata": {},
   "outputs": [],
   "source": []
  },
  {
   "cell_type": "markdown",
   "metadata": {},
   "source": [
    "### Example: adding numbers"
   ]
  },
  {
   "cell_type": "markdown",
   "metadata": {},
   "source": [
    "Let's implement a function that sums all the numbers of a list."
   ]
  },
  {
   "cell_type": "code",
   "execution_count": null,
   "metadata": {},
   "outputs": [],
   "source": [
    "class TestSum extends FlatSpec with Matchers{\n",
    "    \"length\" should \"work\" in {\n",
    "    }\n",
    "}"
   ]
  },
  {
   "cell_type": "code",
   "execution_count": null,
   "metadata": {},
   "outputs": [],
   "source": [
    "// Recursively\n",
    "\n"
   ]
  },
  {
   "cell_type": "code",
   "execution_count": null,
   "metadata": {},
   "outputs": [],
   "source": []
  },
  {
   "cell_type": "code",
   "execution_count": null,
   "metadata": {},
   "outputs": [],
   "source": [
    "// With tail-recursion\n",
    "\n"
   ]
  },
  {
   "cell_type": "code",
   "execution_count": null,
   "metadata": {},
   "outputs": [],
   "source": []
  },
  {
   "cell_type": "markdown",
   "metadata": {},
   "source": [
    "### Example: multiplying list elements"
   ]
  },
  {
   "cell_type": "markdown",
   "metadata": {},
   "source": [
    "Let's multiply the elements of a list. If the list is empty we return the identity element for integers."
   ]
  },
  {
   "cell_type": "code",
   "execution_count": 2,
   "metadata": {},
   "outputs": [
    {
     "data": {
      "text/plain": [
       "defined \u001b[32mclass\u001b[39m \u001b[36mTestProduct\u001b[39m"
      ]
     },
     "execution_count": 2,
     "metadata": {},
     "output_type": "execute_result"
    }
   ],
   "source": [
    "class TestProduct(product: List[Int] => Int) \n",
    "extends FlatSpec with Matchers{\n",
    "    \"product\" should \"work\" in {\n",
    "        product(List(1,2,3)) shouldBe 6\n",
    "        product(List(1,4,2,5)) shouldBe 40\n",
    "        product(List()) shouldBe 1\n",
    "        product(List(0,1,2,3,4,5,6)) shouldBe 0\n",
    "    }\n",
    "}"
   ]
  },
  {
   "cell_type": "markdown",
   "metadata": {},
   "source": [
    "This is the common recursive implementation:"
   ]
  },
  {
   "cell_type": "code",
   "execution_count": 4,
   "metadata": {},
   "outputs": [
    {
     "data": {
      "text/plain": [
       "defined \u001b[32mfunction\u001b[39m \u001b[36mproduct\u001b[39m"
      ]
     },
     "execution_count": 4,
     "metadata": {},
     "output_type": "execute_result"
    }
   ],
   "source": [
    "def product(list: List[Int]): Int = \n",
    "    list match {\n",
    "        case Nil => 1 : Int\n",
    "        case head :: tail => head * product(tail) : Int \n",
    "    }"
   ]
  },
  {
   "cell_type": "markdown",
   "metadata": {},
   "source": [
    "It works as expected: "
   ]
  },
  {
   "cell_type": "code",
   "execution_count": 5,
   "metadata": {},
   "outputs": [
    {
     "name": "stdout",
     "output_type": "stream",
     "text": [
      "\u001b[32mcmd1$Helper$TestProduct:\u001b[0m\n",
      "\u001b[32mproduct\u001b[0m\n",
      "\u001b[32m- should work\u001b[0m\n"
     ]
    }
   ],
   "source": [
    "run(new TestProduct(product))"
   ]
  },
  {
   "cell_type": "markdown",
   "metadata": {},
   "source": [
    "But we can optimize the function a little bit. Note that if the number 0 belongs to the list, then the result is 0, no matter how many elements the list has. So, once we find the element 0 it's a waste of resources to make the recursive call. Let's take this into account."
   ]
  },
  {
   "cell_type": "code",
   "execution_count": 8,
   "metadata": {},
   "outputs": [
    {
     "data": {
      "text/plain": [
       "defined \u001b[32mfunction\u001b[39m \u001b[36mproduct\u001b[39m"
      ]
     },
     "execution_count": 8,
     "metadata": {},
     "output_type": "execute_result"
    }
   ],
   "source": [
    "def product(list: List[Int]): Int =\n",
    "    list match {\n",
    "        case Nil => 1\n",
    "        case head :: tail => \n",
    "            if (head == 0) 0\n",
    "            else head * product(tail)\n",
    "    }\n"
   ]
  },
  {
   "cell_type": "code",
   "execution_count": 9,
   "metadata": {},
   "outputs": [
    {
     "data": {
      "text/plain": [
       "defined \u001b[32mfunction\u001b[39m \u001b[36mproduct\u001b[39m"
      ]
     },
     "execution_count": 9,
     "metadata": {},
     "output_type": "execute_result"
    }
   ],
   "source": [
    "def product(list: List[Int]): Int =\n",
    "    list match {\n",
    "        case Nil => 1\n",
    "        case head :: tail if head == 0 => 0\n",
    "        case head :: tail => head * product(tail)\n",
    "    }\n"
   ]
  },
  {
   "cell_type": "code",
   "execution_count": 11,
   "metadata": {},
   "outputs": [
    {
     "data": {
      "text/plain": [
       "defined \u001b[32mfunction\u001b[39m \u001b[36mproduct\u001b[39m"
      ]
     },
     "execution_count": 11,
     "metadata": {},
     "output_type": "execute_result"
    }
   ],
   "source": [
    "def product(list: List[Int]): Int =\n",
    "    list match {\n",
    "        case Nil => 1\n",
    "        case 0 :: _ => 0\n",
    "        case head :: tail => head * product(tail)\n",
    "    }\n"
   ]
  },
  {
   "cell_type": "code",
   "execution_count": 12,
   "metadata": {},
   "outputs": [
    {
     "name": "stdout",
     "output_type": "stream",
     "text": [
      "\u001b[32mcmd1$Helper$TestProduct:\u001b[0m\n",
      "\u001b[32mproduct\u001b[0m\n",
      "\u001b[32m- should work\u001b[0m\n"
     ]
    }
   ],
   "source": [
    "run(new TestProduct(product))"
   ]
  },
  {
   "cell_type": "markdown",
   "metadata": {},
   "source": [
    "A similar optimization can be made for the tail-recursive implementation."
   ]
  },
  {
   "cell_type": "markdown",
   "metadata": {},
   "source": [
    "### Example: membership"
   ]
  },
  {
   "cell_type": "markdown",
   "metadata": {},
   "source": [
    "Let's implement a function that given a list and an element, returns whether the element belongs to that list."
   ]
  },
  {
   "cell_type": "code",
   "execution_count": 17,
   "metadata": {},
   "outputs": [
    {
     "data": {
      "text/plain": [
       "defined \u001b[32mclass\u001b[39m \u001b[36mTestMember\u001b[39m"
      ]
     },
     "execution_count": 17,
     "metadata": {},
     "output_type": "execute_result"
    }
   ],
   "source": [
    "//class TestMember(member: Function2[List[Int], Int, Boolean]) \n",
    "class TestMember(member: (List[Int], Int) => Boolean) \n",
    "extends FlatSpec with Matchers{\n",
    "    \"member\" should \"work\" in {\n",
    "        member(List(1,2,3), 3) shouldBe true\n",
    "        member(List(1,2,3), 4) shouldBe false\n",
    "        member(List(), 6) shouldBe false\n",
    "    }\n",
    "}"
   ]
  },
  {
   "cell_type": "code",
   "execution_count": 18,
   "metadata": {},
   "outputs": [
    {
     "data": {
      "text/plain": [
       "defined \u001b[32mfunction\u001b[39m \u001b[36mmember\u001b[39m"
      ]
     },
     "execution_count": 18,
     "metadata": {},
     "output_type": "execute_result"
    }
   ],
   "source": [
    "def member(l: List[Int], e: Int): Boolean = \n",
    "    ??? : Boolean "
   ]
  },
  {
   "cell_type": "code",
   "execution_count": 18,
   "metadata": {},
   "outputs": [
    {
     "data": {
      "text/plain": [
       "defined \u001b[32mfunction\u001b[39m \u001b[36mmember\u001b[39m"
      ]
     },
     "execution_count": 18,
     "metadata": {},
     "output_type": "execute_result"
    }
   ],
   "source": [
    "def member(l: List[Int], e: Int): Boolean = \n",
    "    l match {\n",
    "        case Nil => ??? : Boolean \n",
    "        case head :: tail => ??? : Boolean \n",
    "    }"
   ]
  },
  {
   "cell_type": "code",
   "execution_count": 19,
   "metadata": {},
   "outputs": [
    {
     "data": {
      "text/plain": [
       "defined \u001b[32mfunction\u001b[39m \u001b[36mmember\u001b[39m"
      ]
     },
     "execution_count": 19,
     "metadata": {},
     "output_type": "execute_result"
    }
   ],
   "source": [
    "def member(l: List[Int], e: Int): Boolean = \n",
    "    l match {\n",
    "        case Nil => \n",
    "            false : Boolean \n",
    "        case head :: tail => ??? : Boolean \n",
    "    }"
   ]
  },
  {
   "cell_type": "code",
   "execution_count": 20,
   "metadata": {},
   "outputs": [
    {
     "data": {
      "text/plain": [
       "defined \u001b[32mfunction\u001b[39m \u001b[36mmember\u001b[39m"
      ]
     },
     "execution_count": 20,
     "metadata": {},
     "output_type": "execute_result"
    }
   ],
   "source": [
    "def member(l: List[Int], e: Int): Boolean = \n",
    "    l match {\n",
    "        case Nil => \n",
    "            false : Boolean \n",
    "        case head :: tail => \n",
    "            val memberTail: Boolean = member(tail, e)\n",
    "            ??? : Boolean \n",
    "            //if (head == e) true\n",
    "            //else member(tail) : Boolean \n",
    "    }"
   ]
  },
  {
   "cell_type": "code",
   "execution_count": 21,
   "metadata": {},
   "outputs": [
    {
     "data": {
      "text/plain": [
       "defined \u001b[32mfunction\u001b[39m \u001b[36mmember\u001b[39m"
      ]
     },
     "execution_count": 21,
     "metadata": {},
     "output_type": "execute_result"
    }
   ],
   "source": [
    "def member(l: List[Int], e: Int): Boolean = \n",
    "    l match {\n",
    "        case Nil => \n",
    "            false : Boolean \n",
    "        case head :: tail => \n",
    "            val memberTail: Boolean = member(tail, e)\n",
    "            (head == e || memberTail) : Boolean \n",
    "            //if (head == e) true\n",
    "            //else member(tail) : Boolean \n",
    "    }"
   ]
  },
  {
   "cell_type": "code",
   "execution_count": 21,
   "metadata": {},
   "outputs": [
    {
     "data": {
      "text/plain": [
       "defined \u001b[32mfunction\u001b[39m \u001b[36mmember\u001b[39m"
      ]
     },
     "execution_count": 21,
     "metadata": {},
     "output_type": "execute_result"
    }
   ],
   "source": [
    "def member(l: List[Int], e: Int): Boolean = \n",
    "    l match {\n",
    "        case Nil => \n",
    "            false : Boolean \n",
    "        case head :: tail => \n",
    "            (head == e || memberTail(tail, e)) : Boolean \n",
    "            //if (head == e) true\n",
    "            //else member(tail) : Boolean \n",
    "    }"
   ]
  },
  {
   "cell_type": "code",
   "execution_count": 40,
   "metadata": {},
   "outputs": [
    {
     "data": {
      "text/plain": [
       "defined \u001b[32mfunction\u001b[39m \u001b[36mmember\u001b[39m"
      ]
     },
     "execution_count": 40,
     "metadata": {},
     "output_type": "execute_result"
    }
   ],
   "source": [
    "def member[A](l: List[A], e: A): Boolean = \n",
    "    l match {\n",
    "        case Nil => \n",
    "            false : Boolean \n",
    "        case `e` :: _ => true\n",
    "        case _ :: tail => member(tail, e)\n",
    "    }"
   ]
  },
  {
   "cell_type": "code",
   "execution_count": 31,
   "metadata": {},
   "outputs": [
    {
     "data": {
      "text/plain": [
       "\u001b[36mmember\u001b[39m: (\u001b[32mList\u001b[39m[\u001b[32mInt\u001b[39m], \u001b[32mInt\u001b[39m) => \u001b[32mBoolean\u001b[39m = ammonite.$sess.cmd30$Helper$$Lambda$3005/1639363629@72c860ca"
      ]
     },
     "execution_count": 31,
     "metadata": {},
     "output_type": "execute_result"
    }
   ],
   "source": [
    "val member: (List[Int], Int) => Boolean = \n",
    "    (l: List[Int], i: Int) => ??? : Boolean "
   ]
  },
  {
   "cell_type": "code",
   "execution_count": 34,
   "metadata": {},
   "outputs": [
    {
     "data": {
      "text/plain": [
       "\u001b[36mmemberV\u001b[39m: (\u001b[32mList\u001b[39m[\u001b[32mInt\u001b[39m], \u001b[32mInt\u001b[39m) => \u001b[32mBoolean\u001b[39m = ammonite.$sess.cmd33$Helper$$Lambda$3032/1178768937@7bda8264"
      ]
     },
     "execution_count": 34,
     "metadata": {},
     "output_type": "execute_result"
    }
   ],
   "source": [
    "val memberV: (List[Int], Int) => Boolean = \n",
    "    (l: List[Int], i: Int) => \n",
    "        l match {\n",
    "            case Nil => false \n",
    "            case head :: tail => head == i || memberV(tail, i)\n",
    "        }"
   ]
  },
  {
   "cell_type": "code",
   "execution_count": 42,
   "metadata": {},
   "outputs": [
    {
     "data": {
      "text/plain": [
       "defined \u001b[32mfunction\u001b[39m \u001b[36mmemberV\u001b[39m"
      ]
     },
     "execution_count": 42,
     "metadata": {},
     "output_type": "execute_result"
    }
   ],
   "source": [
    "// val memberV: [A] ==> (List[A], A) => Boolean \n",
    "def memberV[A]: (List[A], A) => Boolean = \n",
    "    {\n",
    "        case (Nil, _) => false \n",
    "        case (head :: tail, i) => head == i || memberV(tail, i)\n",
    "    }"
   ]
  },
  {
   "cell_type": "code",
   "execution_count": 44,
   "metadata": {},
   "outputs": [
    {
     "name": "stdout",
     "output_type": "stream",
     "text": [
      "\u001b[32mcmd16$Helper$TestMember:\u001b[0m\n",
      "\u001b[32mmember\u001b[0m\n",
      "\u001b[32m- should work\u001b[0m\n"
     ]
    }
   ],
   "source": [
    "run(new TestMember(memberV))"
   ]
  },
  {
   "cell_type": "markdown",
   "metadata": {},
   "source": [
    "We can also pattern match against a specific value as follows:"
   ]
  },
  {
   "cell_type": "code",
   "execution_count": null,
   "metadata": {},
   "outputs": [],
   "source": []
  },
  {
   "cell_type": "markdown",
   "metadata": {},
   "source": [
    "### Example: last element"
   ]
  },
  {
   "cell_type": "markdown",
   "metadata": {},
   "source": [
    "Let's implement a function that returns the last element of a given list. Note that an empty list does not have elements, and, hence, does not have a last element."
   ]
  },
  {
   "cell_type": "code",
   "execution_count": 46,
   "metadata": {},
   "outputs": [
    {
     "data": {
      "text/plain": [
       "defined \u001b[32mclass\u001b[39m \u001b[36mTestLast\u001b[39m"
      ]
     },
     "execution_count": 46,
     "metadata": {},
     "output_type": "execute_result"
    }
   ],
   "source": [
    "class TestLast(last: List[Int] => Either[Int, Unit]) extends FlatSpec with Matchers{\n",
    "    \"last\" should \"work\" in {\n",
    "        last(List(1,2,3)) shouldBe Left(3: Int)\n",
    "        last(List(1)) shouldBe Left(1: Int)\n",
    "        last(List()) shouldBe Right(() : Unit)\n",
    "    }\n",
    "}"
   ]
  },
  {
   "cell_type": "code",
   "execution_count": 47,
   "metadata": {},
   "outputs": [
    {
     "data": {
      "text/plain": [
       "defined \u001b[32mclass\u001b[39m \u001b[36mTestLast\u001b[39m"
      ]
     },
     "execution_count": 47,
     "metadata": {},
     "output_type": "execute_result"
    }
   ],
   "source": [
    "class TestLast(last: List[Int] => Option[Int]) extends FlatSpec with Matchers{\n",
    "    \"last\" should \"work\" in {\n",
    "        last(List(1,2,3)) shouldBe Some(3: Int)\n",
    "        last(List(1)) shouldBe Some(1: Int)\n",
    "        last(List()) shouldBe None\n",
    "    }\n",
    "}"
   ]
  },
  {
   "cell_type": "code",
   "execution_count": null,
   "metadata": {},
   "outputs": [],
   "source": [
    "def last[A](l: List[A]): Option[A] = \n",
    "    ??? : Option[A]"
   ]
  },
  {
   "cell_type": "code",
   "execution_count": 48,
   "metadata": {},
   "outputs": [
    {
     "data": {
      "text/plain": [
       "defined \u001b[32mfunction\u001b[39m \u001b[36mlast\u001b[39m"
      ]
     },
     "execution_count": 48,
     "metadata": {},
     "output_type": "execute_result"
    }
   ],
   "source": [
    "def last[A](l: List[A]): Option[A] = \n",
    "    l match {\n",
    "        case Nil => ??? : Option[A]\n",
    "        case head :: tail => ??? : Option[A]\n",
    "    }"
   ]
  },
  {
   "cell_type": "code",
   "execution_count": 49,
   "metadata": {},
   "outputs": [
    {
     "data": {
      "text/plain": [
       "defined \u001b[32mfunction\u001b[39m \u001b[36mlast\u001b[39m"
      ]
     },
     "execution_count": 49,
     "metadata": {},
     "output_type": "execute_result"
    }
   ],
   "source": [
    "def last[A](l: List[A]): Option[A] = \n",
    "    l match {\n",
    "        case Nil => \n",
    "            // Some(??? : A) : Option[A]\n",
    "            None : Option[A]\n",
    "        case head :: tail => ??? : Option[A]\n",
    "    }"
   ]
  },
  {
   "cell_type": "code",
   "execution_count": 52,
   "metadata": {},
   "outputs": [
    {
     "data": {
      "text/plain": [
       "defined \u001b[32mfunction\u001b[39m \u001b[36mlast\u001b[39m"
      ]
     },
     "execution_count": 52,
     "metadata": {},
     "output_type": "execute_result"
    }
   ],
   "source": [
    "def last[A](l: List[A]): Option[A] = \n",
    "    l match {\n",
    "        case Nil => \n",
    "            // Some(??? : A) : Option[A]\n",
    "            None : Option[A]\n",
    "        case head :: tail => \n",
    "            if (tail == Nil) Some(head)\n",
    "            else last(tail) // : Option[A]\n",
    "    }"
   ]
  },
  {
   "cell_type": "code",
   "execution_count": 58,
   "metadata": {},
   "outputs": [
    {
     "data": {
      "text/plain": [
       "defined \u001b[32mfunction\u001b[39m \u001b[36mlast\u001b[39m"
      ]
     },
     "execution_count": 58,
     "metadata": {},
     "output_type": "execute_result"
    }
   ],
   "source": [
    "def last[A](l: List[A]): Option[A] = \n",
    "    l match {\n",
    "        case Nil => \n",
    "            // Some(??? : A) : Option[A]\n",
    "            None : Option[A]\n",
    "        case head :: Nil => \n",
    "            Some(head)\n",
    "        //case _ :: (tail@(h2 :: tail2)) => \n",
    "        case _ :: tail => \n",
    "            last(tail) // : Option[A]\n",
    "    }"
   ]
  },
  {
   "cell_type": "code",
   "execution_count": 59,
   "metadata": {},
   "outputs": [
    {
     "name": "stdout",
     "output_type": "stream",
     "text": [
      "\u001b[32mcmd46$Helper$TestLast:\u001b[0m\n",
      "\u001b[32mlast\u001b[0m\n",
      "\u001b[32m- should work\u001b[0m\n"
     ]
    }
   ],
   "source": [
    "run(new TestLast(last))"
   ]
  },
  {
   "cell_type": "markdown",
   "metadata": {},
   "source": [
    "### Example: insert last"
   ]
  },
  {
   "cell_type": "markdown",
   "metadata": {},
   "source": [
    "Now, a function that allows us to insert an element at the end of the list. "
   ]
  },
  {
   "cell_type": "code",
   "execution_count": 66,
   "metadata": {},
   "outputs": [
    {
     "data": {
      "text/plain": [
       "defined \u001b[32mclass\u001b[39m \u001b[36mTestInsertLast\u001b[39m"
      ]
     },
     "execution_count": 66,
     "metadata": {},
     "output_type": "execute_result"
    }
   ],
   "source": [
    "class TestInsertLast(insert: (List[Int], Int) => List[Int]) \n",
    "extends FlatSpec with Matchers{\n",
    "    \"insertLast\" should \"work for the empty list\" in {\n",
    "        insert(List(), 3) shouldBe List(3)\n",
    "    }\n",
    "    it should \"work for non-empty list\" in {\n",
    "        insert(List(1,2,2), 3) shouldBe List(1,2,2,3)\n",
    "        insert(1 :: List(2,2), 3) shouldBe 1 :: List(2,2,3)\n",
    "        insert(List(1), 5) shouldBe List(1,5)\n",
    "    }\n",
    "}"
   ]
  },
  {
   "cell_type": "code",
   "execution_count": null,
   "metadata": {},
   "outputs": [],
   "source": [
    "def insertLast[A](l: List[A], e: A): List[A] = \n",
    "    ??? : List[A]"
   ]
  },
  {
   "cell_type": "code",
   "execution_count": 61,
   "metadata": {},
   "outputs": [
    {
     "data": {
      "text/plain": [
       "defined \u001b[32mfunction\u001b[39m \u001b[36minsertLast\u001b[39m"
      ]
     },
     "execution_count": 61,
     "metadata": {},
     "output_type": "execute_result"
    }
   ],
   "source": [
    "def insertLast[A](l: List[A], e: A): List[A] = \n",
    "    l match {\n",
    "        case Nil => ??? : List[A]\n",
    "        case head :: tail => ??? : List[A]\n",
    "    }"
   ]
  },
  {
   "cell_type": "code",
   "execution_count": 62,
   "metadata": {},
   "outputs": [
    {
     "data": {
      "text/plain": [
       "defined \u001b[32mfunction\u001b[39m \u001b[36minsertLast\u001b[39m"
      ]
     },
     "execution_count": 62,
     "metadata": {},
     "output_type": "execute_result"
    }
   ],
   "source": [
    "def insertLast[A](l: List[A], e: A): List[A] = \n",
    "    l match {\n",
    "        case Nil => \n",
    "            List(e) : List[A]\n",
    "        case head :: tail => \n",
    "            ??? : List[A]\n",
    "    }"
   ]
  },
  {
   "cell_type": "code",
   "execution_count": 62,
   "metadata": {},
   "outputs": [
    {
     "data": {
      "text/plain": [
       "defined \u001b[32mfunction\u001b[39m \u001b[36minsertLast\u001b[39m"
      ]
     },
     "execution_count": 62,
     "metadata": {},
     "output_type": "execute_result"
    }
   ],
   "source": [
    "def insertLast[A](l: List[A], e: A): List[A] = \n",
    "    l match {\n",
    "        case Nil => \n",
    "            List(e) : List[A]\n",
    "        case head :: tail => \n",
    "            val tailSol: List[A] = insertLast(tail, e)\n",
    "            ??? : List[A]\n",
    "    }"
   ]
  },
  {
   "cell_type": "code",
   "execution_count": 67,
   "metadata": {},
   "outputs": [
    {
     "data": {
      "text/plain": [
       "defined \u001b[32mfunction\u001b[39m \u001b[36minsertLast\u001b[39m"
      ]
     },
     "execution_count": 67,
     "metadata": {},
     "output_type": "execute_result"
    }
   ],
   "source": [
    "def insertLast[A](l: List[A], e: A): List[A] = \n",
    "    l match {\n",
    "        case Nil => \n",
    "            List(e) : List[A]\n",
    "        case head :: tail => \n",
    "            val tailSol: List[A] = insertLast(tail, e)\n",
    "            head :: tailSol : List[A]\n",
    "    }"
   ]
  },
  {
   "cell_type": "code",
   "execution_count": 72,
   "metadata": {},
   "outputs": [
    {
     "data": {
      "text/plain": [
       "defined \u001b[32mfunction\u001b[39m \u001b[36minsertLast\u001b[39m"
      ]
     },
     "execution_count": 72,
     "metadata": {},
     "output_type": "execute_result"
    }
   ],
   "source": [
    "def insertLast[A](l: List[A], e: A): List[A] = \n",
    "    l match {\n",
    "        case Nil => \n",
    "            List(e)\n",
    "        case head :: tail => \n",
    "            head :: insertLast(tail, e)\n",
    "    }"
   ]
  },
  {
   "cell_type": "code",
   "execution_count": 73,
   "metadata": {},
   "outputs": [
    {
     "name": "stdout",
     "output_type": "stream",
     "text": [
      "\u001b[32mcmd65$Helper$TestInsertLast:\u001b[0m\n",
      "\u001b[32minsertLast\u001b[0m\n",
      "\u001b[32m- should work for the empty list\u001b[0m\n",
      "\u001b[32m- should work for non-empty list\u001b[0m\n"
     ]
    }
   ],
   "source": [
    "run(new TestInsertLast(insertLast))"
   ]
  },
  {
   "cell_type": "markdown",
   "metadata": {},
   "source": [
    "### Example: concatenate lists"
   ]
  },
  {
   "cell_type": "markdown",
   "metadata": {},
   "source": [
    "Let's implement this function step-by-step, following the types. We start from the signature of the desired function:"
   ]
  },
  {
   "cell_type": "code",
   "execution_count": null,
   "metadata": {},
   "outputs": [],
   "source": [
    "object TestConcatenate extends FlatSpec with Matchers{\n",
    "    \"concatenate\" should \"work\" in {\n",
    "    }\n",
    "}"
   ]
  },
  {
   "cell_type": "code",
   "execution_count": null,
   "metadata": {},
   "outputs": [],
   "source": [
    "// Recursive"
   ]
  },
  {
   "cell_type": "code",
   "execution_count": null,
   "metadata": {},
   "outputs": [],
   "source": [
    "run(TestConcatenate)"
   ]
  },
  {
   "cell_type": "code",
   "execution_count": null,
   "metadata": {},
   "outputs": [],
   "source": [
    "// Tail-recursive"
   ]
  },
  {
   "cell_type": "code",
   "execution_count": null,
   "metadata": {},
   "outputs": [],
   "source": [
    "run(TestConcatenate)"
   ]
  },
  {
   "cell_type": "markdown",
   "metadata": {},
   "source": [
    "### Example: reverse lists"
   ]
  },
  {
   "cell_type": "markdown",
   "metadata": {},
   "source": [
    "Implement a function which receives a list and returns its reverse."
   ]
  },
  {
   "cell_type": "code",
   "execution_count": 74,
   "metadata": {},
   "outputs": [
    {
     "data": {
      "text/plain": [
       "defined \u001b[32mclass\u001b[39m \u001b[36mTestReverse\u001b[39m"
      ]
     },
     "execution_count": 74,
     "metadata": {},
     "output_type": "execute_result"
    }
   ],
   "source": [
    "class TestReverse(reverse: List[Int] => List[Int]) extends FlatSpec with Matchers{\n",
    "    \"reverse\" should \"work\" in {\n",
    "        reverse(List(1,2,3)) shouldBe List(3,2,1)\n",
    "        reverse(List(52,26,2,2)) shouldBe List(2,2,26,52)\n",
    "        reverse(52 :: List(26,2,2)) shouldBe List(2,2,26) // List(2,2,26,52)\n",
    "        reverse(List()) shouldBe List()\n",
    "        reverse(List(1)) shouldBe List(1)\n",
    "        reverse(List(1,2,3,2,1)) shouldBe List(1,2,3,2,1)\n",
    "    }\n",
    "}"
   ]
  },
  {
   "cell_type": "code",
   "execution_count": 76,
   "metadata": {},
   "outputs": [
    {
     "data": {
      "text/plain": [
       "defined \u001b[32mfunction\u001b[39m \u001b[36mreverse\u001b[39m"
      ]
     },
     "execution_count": 76,
     "metadata": {},
     "output_type": "execute_result"
    }
   ],
   "source": [
    "// Recursively: Really inefficient \n",
    "\n",
    "def reverse[A](l: List[A]): List[A] = \n",
    "    ??? : List[A]"
   ]
  },
  {
   "cell_type": "code",
   "execution_count": 77,
   "metadata": {},
   "outputs": [
    {
     "data": {
      "text/plain": [
       "defined \u001b[32mfunction\u001b[39m \u001b[36mreverse\u001b[39m"
      ]
     },
     "execution_count": 77,
     "metadata": {},
     "output_type": "execute_result"
    }
   ],
   "source": [
    "// Recursively: Really inefficient \n",
    "\n",
    "def reverse[A](l: List[A]): List[A] = \n",
    "    l match {\n",
    "        case Nil => ??? : List[A]\n",
    "        case head :: tail => ??? : List[A]\n",
    "    } "
   ]
  },
  {
   "cell_type": "code",
   "execution_count": 78,
   "metadata": {},
   "outputs": [
    {
     "data": {
      "text/plain": [
       "defined \u001b[32mfunction\u001b[39m \u001b[36mreverse\u001b[39m"
      ]
     },
     "execution_count": 78,
     "metadata": {},
     "output_type": "execute_result"
    }
   ],
   "source": [
    "// Recursively: Really inefficient \n",
    "\n",
    "def reverse[A](l: List[A]): List[A] = \n",
    "    l match {\n",
    "        case Nil => \n",
    "            // List.apply() : List[A]\n",
    "            Nil \n",
    "        case head :: tail => ??? : List[A]\n",
    "    } "
   ]
  },
  {
   "cell_type": "code",
   "execution_count": 79,
   "metadata": {},
   "outputs": [
    {
     "data": {
      "text/plain": [
       "defined \u001b[32mfunction\u001b[39m \u001b[36mreverse\u001b[39m"
      ]
     },
     "execution_count": 79,
     "metadata": {},
     "output_type": "execute_result"
    }
   ],
   "source": [
    "// Recursively: Really inefficient \n",
    "\n",
    "def reverse[A](l: List[A]): List[A] = \n",
    "    l match {\n",
    "        case Nil => \n",
    "            // List.apply() : List[A]\n",
    "            Nil \n",
    "        case List(e) => \n",
    "            List(e)\n",
    "        case head :: tail => \n",
    "            val tailSol: List[A] = reverse(tail) \n",
    "            ??? : List[A]    \n",
    "    } "
   ]
  },
  {
   "cell_type": "code",
   "execution_count": 83,
   "metadata": {},
   "outputs": [
    {
     "data": {
      "text/plain": [
       "defined \u001b[32mfunction\u001b[39m \u001b[36mreverse\u001b[39m"
      ]
     },
     "execution_count": 83,
     "metadata": {},
     "output_type": "execute_result"
    }
   ],
   "source": [
    "// Recursively: Really inefficient \n",
    "\n",
    "def reverse[A](l: List[A]): List[A] = \n",
    "    l match {\n",
    "        case Nil => \n",
    "            // List.apply() : List[A]\n",
    "            Nil \n",
    "        case List(e) => \n",
    "            List(e)\n",
    "        case head :: tail => \n",
    "            val tailSol: List[A] = reverse(tail) \n",
    "            tailSol :+ head : List[A]\n",
    "            \n",
    "    } "
   ]
  },
  {
   "cell_type": "code",
   "execution_count": 95,
   "metadata": {},
   "outputs": [
    {
     "data": {
      "text/plain": [
       "defined \u001b[32mfunction\u001b[39m \u001b[36mreverse\u001b[39m"
      ]
     },
     "execution_count": 95,
     "metadata": {},
     "output_type": "execute_result"
    }
   ],
   "source": [
    "// Recursively: Really inefficient \n",
    "\n",
    "def reverse[A](l: List[A]): List[A] = \n",
    "    l match {\n",
    "        case Nil => \n",
    "            // List.apply() : List[A]\n",
    "            Nil \n",
    "        case List(e) => \n",
    "            List(e)\n",
    "        case head :: tail => \n",
    "            reverse(tail) :+ head\n",
    "            \n",
    "    } "
   ]
  },
  {
   "cell_type": "code",
   "execution_count": 98,
   "metadata": {},
   "outputs": [
    {
     "data": {
      "text/plain": [
       "defined \u001b[32mfunction\u001b[39m \u001b[36mreverse\u001b[39m"
      ]
     },
     "execution_count": 98,
     "metadata": {},
     "output_type": "execute_result"
    }
   ],
   "source": [
    "// Recursively: Really inefficient \n",
    "\n",
    "def reverse[A](l: List[A]): List[A] = \n",
    "    l match {\n",
    "        case Nil => \n",
    "            // List.apply() : List[A]\n",
    "            Nil \n",
    "        case head :: tail => \n",
    "            reverse(tail) :+ head\n",
    "            \n",
    "    } "
   ]
  },
  {
   "cell_type": "code",
   "execution_count": 84,
   "metadata": {},
   "outputs": [
    {
     "data": {
      "text/plain": [
       "\u001b[36mres83\u001b[39m: \u001b[32mList\u001b[39m[\u001b[32mInt\u001b[39m] = \u001b[33mList\u001b[39m(\u001b[32m1\u001b[39m, \u001b[32m2\u001b[39m, \u001b[32m3\u001b[39m, \u001b[32m5\u001b[39m)"
      ]
     },
     "execution_count": 84,
     "metadata": {},
     "output_type": "execute_result"
    }
   ],
   "source": [
    "List(1,2,3) :+ 5"
   ]
  },
  {
   "cell_type": "code",
   "execution_count": 85,
   "metadata": {},
   "outputs": [
    {
     "name": "stdout",
     "output_type": "stream",
     "text": [
      "\u001b[32mcmd73$Helper$TestReverse:\u001b[0m\n",
      "\u001b[32mreverse\u001b[0m\n",
      "\u001b[32m- should work\u001b[0m\n"
     ]
    }
   ],
   "source": [
    "run(new TestReverse(reverse))"
   ]
  },
  {
   "cell_type": "code",
   "execution_count": 89,
   "metadata": {},
   "outputs": [
    {
     "ename": "",
     "evalue": "",
     "output_type": "error",
     "traceback": [
      "\u001b[31mjava.lang.StackOverflowError\u001b[39m\n  scala.collection.immutable.List.equals(\u001b[32mList.scala\u001b[39m:\u001b[32m582\u001b[39m)\n  ammonite.$sess.cmd85$Helper.reverse(\u001b[32mcmd85.sc\u001b[39m:\u001b[32m3\u001b[39m)\n  ammonite.$sess.cmd85$Helper.reverse(\u001b[32mcmd85.sc\u001b[39m:\u001b[32m9\u001b[39m)\n  ammonite.$sess.cmd85$Helper.reverse(\u001b[32mcmd85.sc\u001b[39m:\u001b[32m9\u001b[39m)\n  ammonite.$sess.cmd85$Helper.reverse(\u001b[32mcmd85.sc\u001b[39m:\u001b[32m9\u001b[39m)\n  ammonite.$sess.cmd85$Helper.reverse(\u001b[32mcmd85.sc\u001b[39m:\u001b[32m9\u001b[39m)\n  ammonite.$sess.cmd85$Helper.reverse(\u001b[32mcmd85.sc\u001b[39m:\u001b[32m9\u001b[39m)\n  ammonite.$sess.cmd85$Helper.reverse(\u001b[32mcmd85.sc\u001b[39m:\u001b[32m9\u001b[39m)\n  ammonite.$sess.cmd85$Helper.reverse(\u001b[32mcmd85.sc\u001b[39m:\u001b[32m9\u001b[39m)\n  ammonite.$sess.cmd85$Helper.reverse(\u001b[32mcmd85.sc\u001b[39m:\u001b[32m9\u001b[39m)\n  ammonite.$sess.cmd85$Helper.reverse(\u001b[32mcmd85.sc\u001b[39m:\u001b[32m9\u001b[39m)\n  ammonite.$sess.cmd85$Helper.reverse(\u001b[32mcmd85.sc\u001b[39m:\u001b[32m9\u001b[39m)\n  ammonite.$sess.cmd85$Helper.reverse(\u001b[32mcmd85.sc\u001b[39m:\u001b[32m9\u001b[39m)\n  ammonite.$sess.cmd85$Helper.reverse(\u001b[32mcmd85.sc\u001b[39m:\u001b[32m9\u001b[39m)\n  ammonite.$sess.cmd85$Helper.reverse(\u001b[32mcmd85.sc\u001b[39m:\u001b[32m9\u001b[39m)\n  ammonite.$sess.cmd85$Helper.reverse(\u001b[32mcmd85.sc\u001b[39m:\u001b[32m9\u001b[39m)\n  ammonite.$sess.cmd85$Helper.reverse(\u001b[32mcmd85.sc\u001b[39m:\u001b[32m9\u001b[39m)\n  ammonite.$sess.cmd85$Helper.reverse(\u001b[32mcmd85.sc\u001b[39m:\u001b[32m9\u001b[39m)\n  ammonite.$sess.cmd85$Helper.reverse(\u001b[32mcmd85.sc\u001b[39m:\u001b[32m9\u001b[39m)\n  ammonite.$sess.cmd85$Helper.reverse(\u001b[32mcmd85.sc\u001b[39m:\u001b[32m9\u001b[39m)\n  ammonite.$sess.cmd85$Helper.reverse(\u001b[32mcmd85.sc\u001b[39m:\u001b[32m9\u001b[39m)\n  ammonite.$sess.cmd85$Helper.reverse(\u001b[32mcmd85.sc\u001b[39m:\u001b[32m9\u001b[39m)\n  ammonite.$sess.cmd85$Helper.reverse(\u001b[32mcmd85.sc\u001b[39m:\u001b[32m9\u001b[39m)\n  ammonite.$sess.cmd85$Helper.reverse(\u001b[32mcmd85.sc\u001b[39m:\u001b[32m9\u001b[39m)\n  ammonite.$sess.cmd85$Helper.reverse(\u001b[32mcmd85.sc\u001b[39m:\u001b[32m9\u001b[39m)\n  ammonite.$sess.cmd85$Helper.reverse(\u001b[32mcmd85.sc\u001b[39m:\u001b[32m9\u001b[39m)\n  ammonite.$sess.cmd85$Helper.reverse(\u001b[32mcmd85.sc\u001b[39m:\u001b[32m9\u001b[39m)\n  ammonite.$sess.cmd85$Helper.reverse(\u001b[32mcmd85.sc\u001b[39m:\u001b[32m9\u001b[39m)\n  ammonite.$sess.cmd85$Helper.reverse(\u001b[32mcmd85.sc\u001b[39m:\u001b[32m9\u001b[39m)\n  ammonite.$sess.cmd85$Helper.reverse(\u001b[32mcmd85.sc\u001b[39m:\u001b[32m9\u001b[39m)\n  ammonite.$sess.cmd85$Helper.reverse(\u001b[32mcmd85.sc\u001b[39m:\u001b[32m9\u001b[39m)\n  ammonite.$sess.cmd85$Helper.reverse(\u001b[32mcmd85.sc\u001b[39m:\u001b[32m9\u001b[39m)\n  ammonite.$sess.cmd85$Helper.reverse(\u001b[32mcmd85.sc\u001b[39m:\u001b[32m9\u001b[39m)\n  ammonite.$sess.cmd85$Helper.reverse(\u001b[32mcmd85.sc\u001b[39m:\u001b[32m9\u001b[39m)\n  ammonite.$sess.cmd85$Helper.reverse(\u001b[32mcmd85.sc\u001b[39m:\u001b[32m9\u001b[39m)\n  ammonite.$sess.cmd85$Helper.reverse(\u001b[32mcmd85.sc\u001b[39m:\u001b[32m9\u001b[39m)\n  ammonite.$sess.cmd85$Helper.reverse(\u001b[32mcmd85.sc\u001b[39m:\u001b[32m9\u001b[39m)\n  ammonite.$sess.cmd85$Helper.reverse(\u001b[32mcmd85.sc\u001b[39m:\u001b[32m9\u001b[39m)\n  ammonite.$sess.cmd85$Helper.reverse(\u001b[32mcmd85.sc\u001b[39m:\u001b[32m9\u001b[39m)\n  ammonite.$sess.cmd85$Helper.reverse(\u001b[32mcmd85.sc\u001b[39m:\u001b[32m9\u001b[39m)\n  ammonite.$sess.cmd85$Helper.reverse(\u001b[32mcmd85.sc\u001b[39m:\u001b[32m9\u001b[39m)\n  ammonite.$sess.cmd85$Helper.reverse(\u001b[32mcmd85.sc\u001b[39m:\u001b[32m9\u001b[39m)\n  ammonite.$sess.cmd85$Helper.reverse(\u001b[32mcmd85.sc\u001b[39m:\u001b[32m9\u001b[39m)\n  ammonite.$sess.cmd85$Helper.reverse(\u001b[32mcmd85.sc\u001b[39m:\u001b[32m9\u001b[39m)\n  ammonite.$sess.cmd85$Helper.reverse(\u001b[32mcmd85.sc\u001b[39m:\u001b[32m9\u001b[39m)\n  ammonite.$sess.cmd85$Helper.reverse(\u001b[32mcmd85.sc\u001b[39m:\u001b[32m9\u001b[39m)\n  ammonite.$sess.cmd85$Helper.reverse(\u001b[32mcmd85.sc\u001b[39m:\u001b[32m9\u001b[39m)\n  ammonite.$sess.cmd85$Helper.reverse(\u001b[32mcmd85.sc\u001b[39m:\u001b[32m9\u001b[39m)\n  ammonite.$sess.cmd85$Helper.reverse(\u001b[32mcmd85.sc\u001b[39m:\u001b[32m9\u001b[39m)\n  ammonite.$sess.cmd85$Helper.reverse(\u001b[32mcmd85.sc\u001b[39m:\u001b[32m9\u001b[39m)\n  ammonite.$sess.cmd85$Helper.reverse(\u001b[32mcmd85.sc\u001b[39m:\u001b[32m9\u001b[39m)\n  ammonite.$sess.cmd85$Helper.reverse(\u001b[32mcmd85.sc\u001b[39m:\u001b[32m9\u001b[39m)\n  ammonite.$sess.cmd85$Helper.reverse(\u001b[32mcmd85.sc\u001b[39m:\u001b[32m9\u001b[39m)\n  ammonite.$sess.cmd85$Helper.reverse(\u001b[32mcmd85.sc\u001b[39m:\u001b[32m9\u001b[39m)\n  ammonite.$sess.cmd85$Helper.reverse(\u001b[32mcmd85.sc\u001b[39m:\u001b[32m9\u001b[39m)\n  ammonite.$sess.cmd85$Helper.reverse(\u001b[32mcmd85.sc\u001b[39m:\u001b[32m9\u001b[39m)\n  ammonite.$sess.cmd85$Helper.reverse(\u001b[32mcmd85.sc\u001b[39m:\u001b[32m9\u001b[39m)\n  ammonite.$sess.cmd85$Helper.reverse(\u001b[32mcmd85.sc\u001b[39m:\u001b[32m9\u001b[39m)\n  ammonite.$sess.cmd85$Helper.reverse(\u001b[32mcmd85.sc\u001b[39m:\u001b[32m9\u001b[39m)\n  ammonite.$sess.cmd85$Helper.reverse(\u001b[32mcmd85.sc\u001b[39m:\u001b[32m9\u001b[39m)\n  ammonite.$sess.cmd85$Helper.reverse(\u001b[32mcmd85.sc\u001b[39m:\u001b[32m9\u001b[39m)\n  ammonite.$sess.cmd85$Helper.reverse(\u001b[32mcmd85.sc\u001b[39m:\u001b[32m9\u001b[39m)\n  ammonite.$sess.cmd85$Helper.reverse(\u001b[32mcmd85.sc\u001b[39m:\u001b[32m9\u001b[39m)\n  ammonite.$sess.cmd85$Helper.reverse(\u001b[32mcmd85.sc\u001b[39m:\u001b[32m9\u001b[39m)\n  ammonite.$sess.cmd85$Helper.reverse(\u001b[32mcmd85.sc\u001b[39m:\u001b[32m9\u001b[39m)\n  ammonite.$sess.cmd85$Helper.reverse(\u001b[32mcmd85.sc\u001b[39m:\u001b[32m9\u001b[39m)\n  ammonite.$sess.cmd85$Helper.reverse(\u001b[32mcmd85.sc\u001b[39m:\u001b[32m9\u001b[39m)\n  ammonite.$sess.cmd85$Helper.reverse(\u001b[32mcmd85.sc\u001b[39m:\u001b[32m9\u001b[39m)\n  ammonite.$sess.cmd85$Helper.reverse(\u001b[32mcmd85.sc\u001b[39m:\u001b[32m9\u001b[39m)\n  ammonite.$sess.cmd85$Helper.reverse(\u001b[32mcmd85.sc\u001b[39m:\u001b[32m9\u001b[39m)\n  ammonite.$sess.cmd85$Helper.reverse(\u001b[32mcmd85.sc\u001b[39m:\u001b[32m9\u001b[39m)\n  ammonite.$sess.cmd85$Helper.reverse(\u001b[32mcmd85.sc\u001b[39m:\u001b[32m9\u001b[39m)\n  ammonite.$sess.cmd85$Helper.reverse(\u001b[32mcmd85.sc\u001b[39m:\u001b[32m9\u001b[39m)\n  ammonite.$sess.cmd85$Helper.reverse(\u001b[32mcmd85.sc\u001b[39m:\u001b[32m9\u001b[39m)\n  ammonite.$sess.cmd85$Helper.reverse(\u001b[32mcmd85.sc\u001b[39m:\u001b[32m9\u001b[39m)\n  ammonite.$sess.cmd85$Helper.reverse(\u001b[32mcmd85.sc\u001b[39m:\u001b[32m9\u001b[39m)\n  ammonite.$sess.cmd85$Helper.reverse(\u001b[32mcmd85.sc\u001b[39m:\u001b[32m9\u001b[39m)\n  ammonite.$sess.cmd85$Helper.reverse(\u001b[32mcmd85.sc\u001b[39m:\u001b[32m9\u001b[39m)\n  ammonite.$sess.cmd85$Helper.reverse(\u001b[32mcmd85.sc\u001b[39m:\u001b[32m9\u001b[39m)\n  ammonite.$sess.cmd85$Helper.reverse(\u001b[32mcmd85.sc\u001b[39m:\u001b[32m9\u001b[39m)\n  ammonite.$sess.cmd85$Helper.reverse(\u001b[32mcmd85.sc\u001b[39m:\u001b[32m9\u001b[39m)\n  ammonite.$sess.cmd85$Helper.reverse(\u001b[32mcmd85.sc\u001b[39m:\u001b[32m9\u001b[39m)\n  ammonite.$sess.cmd85$Helper.reverse(\u001b[32mcmd85.sc\u001b[39m:\u001b[32m9\u001b[39m)\n  ammonite.$sess.cmd85$Helper.reverse(\u001b[32mcmd85.sc\u001b[39m:\u001b[32m9\u001b[39m)\n  ammonite.$sess.cmd85$Helper.reverse(\u001b[32mcmd85.sc\u001b[39m:\u001b[32m9\u001b[39m)\n  ammonite.$sess.cmd85$Helper.reverse(\u001b[32mcmd85.sc\u001b[39m:\u001b[32m9\u001b[39m)\n  ammonite.$sess.cmd85$Helper.reverse(\u001b[32mcmd85.sc\u001b[39m:\u001b[32m9\u001b[39m)\n  ammonite.$sess.cmd85$Helper.reverse(\u001b[32mcmd85.sc\u001b[39m:\u001b[32m9\u001b[39m)\n  ammonite.$sess.cmd85$Helper.reverse(\u001b[32mcmd85.sc\u001b[39m:\u001b[32m9\u001b[39m)\n  ammonite.$sess.cmd85$Helper.reverse(\u001b[32mcmd85.sc\u001b[39m:\u001b[32m9\u001b[39m)\n  ammonite.$sess.cmd85$Helper.reverse(\u001b[32mcmd85.sc\u001b[39m:\u001b[32m9\u001b[39m)\n  ammonite.$sess.cmd85$Helper.reverse(\u001b[32mcmd85.sc\u001b[39m:\u001b[32m9\u001b[39m)\n  ammonite.$sess.cmd85$Helper.reverse(\u001b[32mcmd85.sc\u001b[39m:\u001b[32m9\u001b[39m)\n  ammonite.$sess.cmd85$Helper.reverse(\u001b[32mcmd85.sc\u001b[39m:\u001b[32m9\u001b[39m)\n  ammonite.$sess.cmd85$Helper.reverse(\u001b[32mcmd85.sc\u001b[39m:\u001b[32m9\u001b[39m)\n  ammonite.$sess.cmd85$Helper.reverse(\u001b[32mcmd85.sc\u001b[39m:\u001b[32m9\u001b[39m)\n  ammonite.$sess.cmd85$Helper.reverse(\u001b[32mcmd85.sc\u001b[39m:\u001b[32m9\u001b[39m)\n  ammonite.$sess.cmd85$Helper.reverse(\u001b[32mcmd85.sc\u001b[39m:\u001b[32m9\u001b[39m)\n  ammonite.$sess.cmd85$Helper.reverse(\u001b[32mcmd85.sc\u001b[39m:\u001b[32m9\u001b[39m)\n  ammonite.$sess.cmd85$Helper.reverse(\u001b[32mcmd85.sc\u001b[39m:\u001b[32m9\u001b[39m)\n  ammonite.$sess.cmd85$Helper.reverse(\u001b[32mcmd85.sc\u001b[39m:\u001b[32m9\u001b[39m)\n  ammonite.$sess.cmd85$Helper.reverse(\u001b[32mcmd85.sc\u001b[39m:\u001b[32m9\u001b[39m)\n  ammonite.$sess.cmd85$Helper.reverse(\u001b[32mcmd85.sc\u001b[39m:\u001b[32m9\u001b[39m)\n  ammonite.$sess.cmd85$Helper.reverse(\u001b[32mcmd85.sc\u001b[39m:\u001b[32m9\u001b[39m)\n  ammonite.$sess.cmd85$Helper.reverse(\u001b[32mcmd85.sc\u001b[39m:\u001b[32m9\u001b[39m)\n  ammonite.$sess.cmd85$Helper.reverse(\u001b[32mcmd85.sc\u001b[39m:\u001b[32m9\u001b[39m)\n  ammonite.$sess.cmd85$Helper.reverse(\u001b[32mcmd85.sc\u001b[39m:\u001b[32m9\u001b[39m)\n  ammonite.$sess.cmd85$Helper.reverse(\u001b[32mcmd85.sc\u001b[39m:\u001b[32m9\u001b[39m)\n  ammonite.$sess.cmd85$Helper.reverse(\u001b[32mcmd85.sc\u001b[39m:\u001b[32m9\u001b[39m)\n  ammonite.$sess.cmd85$Helper.reverse(\u001b[32mcmd85.sc\u001b[39m:\u001b[32m9\u001b[39m)\n  ammonite.$sess.cmd85$Helper.reverse(\u001b[32mcmd85.sc\u001b[39m:\u001b[32m9\u001b[39m)\n  ammonite.$sess.cmd85$Helper.reverse(\u001b[32mcmd85.sc\u001b[39m:\u001b[32m9\u001b[39m)\n  ammonite.$sess.cmd85$Helper.reverse(\u001b[32mcmd85.sc\u001b[39m:\u001b[32m9\u001b[39m)\n  ammonite.$sess.cmd85$Helper.reverse(\u001b[32mcmd85.sc\u001b[39m:\u001b[32m9\u001b[39m)\n  ammonite.$sess.cmd85$Helper.reverse(\u001b[32mcmd85.sc\u001b[39m:\u001b[32m9\u001b[39m)\n  ammonite.$sess.cmd85$Helper.reverse(\u001b[32mcmd85.sc\u001b[39m:\u001b[32m9\u001b[39m)\n  ammonite.$sess.cmd85$Helper.reverse(\u001b[32mcmd85.sc\u001b[39m:\u001b[32m9\u001b[39m)\n  ammonite.$sess.cmd85$Helper.reverse(\u001b[32mcmd85.sc\u001b[39m:\u001b[32m9\u001b[39m)\n  ammonite.$sess.cmd85$Helper.reverse(\u001b[32mcmd85.sc\u001b[39m:\u001b[32m9\u001b[39m)\n  ammonite.$sess.cmd85$Helper.reverse(\u001b[32mcmd85.sc\u001b[39m:\u001b[32m9\u001b[39m)\n  ammonite.$sess.cmd85$Helper.reverse(\u001b[32mcmd85.sc\u001b[39m:\u001b[32m9\u001b[39m)\n  ammonite.$sess.cmd85$Helper.reverse(\u001b[32mcmd85.sc\u001b[39m:\u001b[32m9\u001b[39m)\n  ammonite.$sess.cmd85$Helper.reverse(\u001b[32mcmd85.sc\u001b[39m:\u001b[32m9\u001b[39m)\n  ammonite.$sess.cmd85$Helper.reverse(\u001b[32mcmd85.sc\u001b[39m:\u001b[32m9\u001b[39m)\n  ammonite.$sess.cmd85$Helper.reverse(\u001b[32mcmd85.sc\u001b[39m:\u001b[32m9\u001b[39m)\n  ammonite.$sess.cmd85$Helper.reverse(\u001b[32mcmd85.sc\u001b[39m:\u001b[32m9\u001b[39m)\n  ammonite.$sess.cmd85$Helper.reverse(\u001b[32mcmd85.sc\u001b[39m:\u001b[32m9\u001b[39m)\n  ammonite.$sess.cmd85$Helper.reverse(\u001b[32mcmd85.sc\u001b[39m:\u001b[32m9\u001b[39m)\n  ammonite.$sess.cmd85$Helper.reverse(\u001b[32mcmd85.sc\u001b[39m:\u001b[32m9\u001b[39m)\n  ammonite.$sess.cmd85$Helper.reverse(\u001b[32mcmd85.sc\u001b[39m:\u001b[32m9\u001b[39m)\n  ammonite.$sess.cmd85$Helper.reverse(\u001b[32mcmd85.sc\u001b[39m:\u001b[32m9\u001b[39m)\n  ammonite.$sess.cmd85$Helper.reverse(\u001b[32mcmd85.sc\u001b[39m:\u001b[32m9\u001b[39m)\n  ammonite.$sess.cmd85$Helper.reverse(\u001b[32mcmd85.sc\u001b[39m:\u001b[32m9\u001b[39m)\n  ammonite.$sess.cmd85$Helper.reverse(\u001b[32mcmd85.sc\u001b[39m:\u001b[32m9\u001b[39m)\n  ammonite.$sess.cmd85$Helper.reverse(\u001b[32mcmd85.sc\u001b[39m:\u001b[32m9\u001b[39m)\n  ammonite.$sess.cmd85$Helper.reverse(\u001b[32mcmd85.sc\u001b[39m:\u001b[32m9\u001b[39m)\n  ammonite.$sess.cmd85$Helper.reverse(\u001b[32mcmd85.sc\u001b[39m:\u001b[32m9\u001b[39m)\n  ammonite.$sess.cmd85$Helper.reverse(\u001b[32mcmd85.sc\u001b[39m:\u001b[32m9\u001b[39m)\n  ammonite.$sess.cmd85$Helper.reverse(\u001b[32mcmd85.sc\u001b[39m:\u001b[32m9\u001b[39m)\n  ammonite.$sess.cmd85$Helper.reverse(\u001b[32mcmd85.sc\u001b[39m:\u001b[32m9\u001b[39m)\n  ammonite.$sess.cmd85$Helper.reverse(\u001b[32mcmd85.sc\u001b[39m:\u001b[32m9\u001b[39m)\n  ammonite.$sess.cmd85$Helper.reverse(\u001b[32mcmd85.sc\u001b[39m:\u001b[32m9\u001b[39m)\n  ammonite.$sess.cmd85$Helper.reverse(\u001b[32mcmd85.sc\u001b[39m:\u001b[32m9\u001b[39m)\n  ammonite.$sess.cmd85$Helper.reverse(\u001b[32mcmd85.sc\u001b[39m:\u001b[32m9\u001b[39m)\n  ammonite.$sess.cmd85$Helper.reverse(\u001b[32mcmd85.sc\u001b[39m:\u001b[32m9\u001b[39m)\n  ammonite.$sess.cmd85$Helper.reverse(\u001b[32mcmd85.sc\u001b[39m:\u001b[32m9\u001b[39m)\n  ammonite.$sess.cmd85$Helper.reverse(\u001b[32mcmd85.sc\u001b[39m:\u001b[32m9\u001b[39m)\n  ammonite.$sess.cmd85$Helper.reverse(\u001b[32mcmd85.sc\u001b[39m:\u001b[32m9\u001b[39m)\n  ammonite.$sess.cmd85$Helper.reverse(\u001b[32mcmd85.sc\u001b[39m:\u001b[32m9\u001b[39m)\n  ammonite.$sess.cmd85$Helper.reverse(\u001b[32mcmd85.sc\u001b[39m:\u001b[32m9\u001b[39m)\n  ammonite.$sess.cmd85$Helper.reverse(\u001b[32mcmd85.sc\u001b[39m:\u001b[32m9\u001b[39m)\n  ammonite.$sess.cmd85$Helper.reverse(\u001b[32mcmd85.sc\u001b[39m:\u001b[32m9\u001b[39m)\n  ammonite.$sess.cmd85$Helper.reverse(\u001b[32mcmd85.sc\u001b[39m:\u001b[32m9\u001b[39m)\n  ammonite.$sess.cmd85$Helper.reverse(\u001b[32mcmd85.sc\u001b[39m:\u001b[32m9\u001b[39m)\n  ammonite.$sess.cmd85$Helper.reverse(\u001b[32mcmd85.sc\u001b[39m:\u001b[32m9\u001b[39m)\n  ammonite.$sess.cmd85$Helper.reverse(\u001b[32mcmd85.sc\u001b[39m:\u001b[32m9\u001b[39m)\n  ammonite.$sess.cmd85$Helper.reverse(\u001b[32mcmd85.sc\u001b[39m:\u001b[32m9\u001b[39m)\n  ammonite.$sess.cmd85$Helper.reverse(\u001b[32mcmd85.sc\u001b[39m:\u001b[32m9\u001b[39m)\n  ammonite.$sess.cmd85$Helper.reverse(\u001b[32mcmd85.sc\u001b[39m:\u001b[32m9\u001b[39m)\n  ammonite.$sess.cmd85$Helper.reverse(\u001b[32mcmd85.sc\u001b[39m:\u001b[32m9\u001b[39m)\n  ammonite.$sess.cmd85$Helper.reverse(\u001b[32mcmd85.sc\u001b[39m:\u001b[32m9\u001b[39m)\n  ammonite.$sess.cmd85$Helper.reverse(\u001b[32mcmd85.sc\u001b[39m:\u001b[32m9\u001b[39m)\n  ammonite.$sess.cmd85$Helper.reverse(\u001b[32mcmd85.sc\u001b[39m:\u001b[32m9\u001b[39m)\n  ammonite.$sess.cmd85$Helper.reverse(\u001b[32mcmd85.sc\u001b[39m:\u001b[32m9\u001b[39m)\n  ammonite.$sess.cmd85$Helper.reverse(\u001b[32mcmd85.sc\u001b[39m:\u001b[32m9\u001b[39m)\n  ammonite.$sess.cmd85$Helper.reverse(\u001b[32mcmd85.sc\u001b[39m:\u001b[32m9\u001b[39m)\n  ammonite.$sess.cmd85$Helper.reverse(\u001b[32mcmd85.sc\u001b[39m:\u001b[32m9\u001b[39m)\n  ammonite.$sess.cmd85$Helper.reverse(\u001b[32mcmd85.sc\u001b[39m:\u001b[32m9\u001b[39m)\n  ammonite.$sess.cmd85$Helper.reverse(\u001b[32mcmd85.sc\u001b[39m:\u001b[32m9\u001b[39m)\n  ammonite.$sess.cmd85$Helper.reverse(\u001b[32mcmd85.sc\u001b[39m:\u001b[32m9\u001b[39m)\n  ammonite.$sess.cmd85$Helper.reverse(\u001b[32mcmd85.sc\u001b[39m:\u001b[32m9\u001b[39m)\n  ammonite.$sess.cmd85$Helper.reverse(\u001b[32mcmd85.sc\u001b[39m:\u001b[32m9\u001b[39m)\n  ammonite.$sess.cmd85$Helper.reverse(\u001b[32mcmd85.sc\u001b[39m:\u001b[32m9\u001b[39m)\n  ammonite.$sess.cmd85$Helper.reverse(\u001b[32mcmd85.sc\u001b[39m:\u001b[32m9\u001b[39m)\n  ammonite.$sess.cmd85$Helper.reverse(\u001b[32mcmd85.sc\u001b[39m:\u001b[32m9\u001b[39m)\n  ammonite.$sess.cmd85$Helper.reverse(\u001b[32mcmd85.sc\u001b[39m:\u001b[32m9\u001b[39m)\n  ammonite.$sess.cmd85$Helper.reverse(\u001b[32mcmd85.sc\u001b[39m:\u001b[32m9\u001b[39m)\n  ammonite.$sess.cmd85$Helper.reverse(\u001b[32mcmd85.sc\u001b[39m:\u001b[32m9\u001b[39m)\n  ammonite.$sess.cmd85$Helper.reverse(\u001b[32mcmd85.sc\u001b[39m:\u001b[32m9\u001b[39m)\n  ammonite.$sess.cmd85$Helper.reverse(\u001b[32mcmd85.sc\u001b[39m:\u001b[32m9\u001b[39m)\n  ammonite.$sess.cmd85$Helper.reverse(\u001b[32mcmd85.sc\u001b[39m:\u001b[32m9\u001b[39m)\n  ammonite.$sess.cmd85$Helper.reverse(\u001b[32mcmd85.sc\u001b[39m:\u001b[32m9\u001b[39m)\n  ammonite.$sess.cmd85$Helper.reverse(\u001b[32mcmd85.sc\u001b[39m:\u001b[32m9\u001b[39m)\n  ammonite.$sess.cmd85$Helper.reverse(\u001b[32mcmd85.sc\u001b[39m:\u001b[32m9\u001b[39m)\n  ammonite.$sess.cmd85$Helper.reverse(\u001b[32mcmd85.sc\u001b[39m:\u001b[32m9\u001b[39m)\n  ammonite.$sess.cmd85$Helper.reverse(\u001b[32mcmd85.sc\u001b[39m:\u001b[32m9\u001b[39m)\n  ammonite.$sess.cmd85$Helper.reverse(\u001b[32mcmd85.sc\u001b[39m:\u001b[32m9\u001b[39m)\n  ammonite.$sess.cmd85$Helper.reverse(\u001b[32mcmd85.sc\u001b[39m:\u001b[32m9\u001b[39m)\n  ammonite.$sess.cmd85$Helper.reverse(\u001b[32mcmd85.sc\u001b[39m:\u001b[32m9\u001b[39m)\n  ammonite.$sess.cmd85$Helper.reverse(\u001b[32mcmd85.sc\u001b[39m:\u001b[32m9\u001b[39m)\n  ammonite.$sess.cmd85$Helper.reverse(\u001b[32mcmd85.sc\u001b[39m:\u001b[32m9\u001b[39m)\n  ammonite.$sess.cmd85$Helper.reverse(\u001b[32mcmd85.sc\u001b[39m:\u001b[32m9\u001b[39m)\n  ammonite.$sess.cmd85$Helper.reverse(\u001b[32mcmd85.sc\u001b[39m:\u001b[32m9\u001b[39m)\n  ammonite.$sess.cmd85$Helper.reverse(\u001b[32mcmd85.sc\u001b[39m:\u001b[32m9\u001b[39m)\n  ammonite.$sess.cmd85$Helper.reverse(\u001b[32mcmd85.sc\u001b[39m:\u001b[32m9\u001b[39m)\n  ammonite.$sess.cmd85$Helper.reverse(\u001b[32mcmd85.sc\u001b[39m:\u001b[32m9\u001b[39m)\n  ammonite.$sess.cmd85$Helper.reverse(\u001b[32mcmd85.sc\u001b[39m:\u001b[32m9\u001b[39m)\n  ammonite.$sess.cmd85$Helper.reverse(\u001b[32mcmd85.sc\u001b[39m:\u001b[32m9\u001b[39m)\n  ammonite.$sess.cmd85$Helper.reverse(\u001b[32mcmd85.sc\u001b[39m:\u001b[32m9\u001b[39m)\n  ammonite.$sess.cmd85$Helper.reverse(\u001b[32mcmd85.sc\u001b[39m:\u001b[32m9\u001b[39m)\n  ammonite.$sess.cmd85$Helper.reverse(\u001b[32mcmd85.sc\u001b[39m:\u001b[32m9\u001b[39m)\n  ammonite.$sess.cmd85$Helper.reverse(\u001b[32mcmd85.sc\u001b[39m:\u001b[32m9\u001b[39m)\n  ammonite.$sess.cmd85$Helper.reverse(\u001b[32mcmd85.sc\u001b[39m:\u001b[32m9\u001b[39m)\n  ammonite.$sess.cmd85$Helper.reverse(\u001b[32mcmd85.sc\u001b[39m:\u001b[32m9\u001b[39m)\n  ammonite.$sess.cmd85$Helper.reverse(\u001b[32mcmd85.sc\u001b[39m:\u001b[32m9\u001b[39m)\n  ammonite.$sess.cmd85$Helper.reverse(\u001b[32mcmd85.sc\u001b[39m:\u001b[32m9\u001b[39m)\n  ammonite.$sess.cmd85$Helper.reverse(\u001b[32mcmd85.sc\u001b[39m:\u001b[32m9\u001b[39m)\n  ammonite.$sess.cmd85$Helper.reverse(\u001b[32mcmd85.sc\u001b[39m:\u001b[32m9\u001b[39m)\n  ammonite.$sess.cmd85$Helper.reverse(\u001b[32mcmd85.sc\u001b[39m:\u001b[32m9\u001b[39m)\n  ammonite.$sess.cmd85$Helper.reverse(\u001b[32mcmd85.sc\u001b[39m:\u001b[32m9\u001b[39m)\n  ammonite.$sess.cmd85$Helper.reverse(\u001b[32mcmd85.sc\u001b[39m:\u001b[32m9\u001b[39m)\n  ammonite.$sess.cmd85$Helper.reverse(\u001b[32mcmd85.sc\u001b[39m:\u001b[32m9\u001b[39m)\n  ammonite.$sess.cmd85$Helper.reverse(\u001b[32mcmd85.sc\u001b[39m:\u001b[32m9\u001b[39m)\n  ammonite.$sess.cmd85$Helper.reverse(\u001b[32mcmd85.sc\u001b[39m:\u001b[32m9\u001b[39m)\n  ammonite.$sess.cmd85$Helper.reverse(\u001b[32mcmd85.sc\u001b[39m:\u001b[32m9\u001b[39m)\n  ammonite.$sess.cmd85$Helper.reverse(\u001b[32mcmd85.sc\u001b[39m:\u001b[32m9\u001b[39m)\n  ammonite.$sess.cmd85$Helper.reverse(\u001b[32mcmd85.sc\u001b[39m:\u001b[32m9\u001b[39m)\n  ammonite.$sess.cmd85$Helper.reverse(\u001b[32mcmd85.sc\u001b[39m:\u001b[32m9\u001b[39m)\n  ammonite.$sess.cmd85$Helper.reverse(\u001b[32mcmd85.sc\u001b[39m:\u001b[32m9\u001b[39m)\n  ammonite.$sess.cmd85$Helper.reverse(\u001b[32mcmd85.sc\u001b[39m:\u001b[32m9\u001b[39m)\n  ammonite.$sess.cmd85$Helper.reverse(\u001b[32mcmd85.sc\u001b[39m:\u001b[32m9\u001b[39m)\n  ammonite.$sess.cmd85$Helper.reverse(\u001b[32mcmd85.sc\u001b[39m:\u001b[32m9\u001b[39m)\n  ammonite.$sess.cmd85$Helper.reverse(\u001b[32mcmd85.sc\u001b[39m:\u001b[32m9\u001b[39m)\n  ammonite.$sess.cmd85$Helper.reverse(\u001b[32mcmd85.sc\u001b[39m:\u001b[32m9\u001b[39m)\n  ammonite.$sess.cmd85$Helper.reverse(\u001b[32mcmd85.sc\u001b[39m:\u001b[32m9\u001b[39m)\n  ammonite.$sess.cmd85$Helper.reverse(\u001b[32mcmd85.sc\u001b[39m:\u001b[32m9\u001b[39m)\n  ammonite.$sess.cmd85$Helper.reverse(\u001b[32mcmd85.sc\u001b[39m:\u001b[32m9\u001b[39m)\n  ammonite.$sess.cmd85$Helper.reverse(\u001b[32mcmd85.sc\u001b[39m:\u001b[32m9\u001b[39m)\n  ammonite.$sess.cmd85$Helper.reverse(\u001b[32mcmd85.sc\u001b[39m:\u001b[32m9\u001b[39m)\n  ammonite.$sess.cmd85$Helper.reverse(\u001b[32mcmd85.sc\u001b[39m:\u001b[32m9\u001b[39m)\n  ammonite.$sess.cmd85$Helper.reverse(\u001b[32mcmd85.sc\u001b[39m:\u001b[32m9\u001b[39m)\n  ammonite.$sess.cmd85$Helper.reverse(\u001b[32mcmd85.sc\u001b[39m:\u001b[32m9\u001b[39m)\n  ammonite.$sess.cmd85$Helper.reverse(\u001b[32mcmd85.sc\u001b[39m:\u001b[32m9\u001b[39m)\n  ammonite.$sess.cmd85$Helper.reverse(\u001b[32mcmd85.sc\u001b[39m:\u001b[32m9\u001b[39m)\n  ammonite.$sess.cmd85$Helper.reverse(\u001b[32mcmd85.sc\u001b[39m:\u001b[32m9\u001b[39m)\n  ammonite.$sess.cmd85$Helper.reverse(\u001b[32mcmd85.sc\u001b[39m:\u001b[32m9\u001b[39m)\n  ammonite.$sess.cmd85$Helper.reverse(\u001b[32mcmd85.sc\u001b[39m:\u001b[32m9\u001b[39m)\n  ammonite.$sess.cmd85$Helper.reverse(\u001b[32mcmd85.sc\u001b[39m:\u001b[32m9\u001b[39m)\n  ammonite.$sess.cmd85$Helper.reverse(\u001b[32mcmd85.sc\u001b[39m:\u001b[32m9\u001b[39m)\n  ammonite.$sess.cmd85$Helper.reverse(\u001b[32mcmd85.sc\u001b[39m:\u001b[32m9\u001b[39m)\n  ammonite.$sess.cmd85$Helper.reverse(\u001b[32mcmd85.sc\u001b[39m:\u001b[32m9\u001b[39m)\n  ammonite.$sess.cmd85$Helper.reverse(\u001b[32mcmd85.sc\u001b[39m:\u001b[32m9\u001b[39m)\n  ammonite.$sess.cmd85$Helper.reverse(\u001b[32mcmd85.sc\u001b[39m:\u001b[32m9\u001b[39m)\n  ammonite.$sess.cmd85$Helper.reverse(\u001b[32mcmd85.sc\u001b[39m:\u001b[32m9\u001b[39m)\n  ammonite.$sess.cmd85$Helper.reverse(\u001b[32mcmd85.sc\u001b[39m:\u001b[32m9\u001b[39m)\n  ammonite.$sess.cmd85$Helper.reverse(\u001b[32mcmd85.sc\u001b[39m:\u001b[32m9\u001b[39m)\n  ammonite.$sess.cmd85$Helper.reverse(\u001b[32mcmd85.sc\u001b[39m:\u001b[32m9\u001b[39m)\n  ammonite.$sess.cmd85$Helper.reverse(\u001b[32mcmd85.sc\u001b[39m:\u001b[32m9\u001b[39m)\n  ammonite.$sess.cmd85$Helper.reverse(\u001b[32mcmd85.sc\u001b[39m:\u001b[32m9\u001b[39m)\n  ammonite.$sess.cmd85$Helper.reverse(\u001b[32mcmd85.sc\u001b[39m:\u001b[32m9\u001b[39m)\n  ammonite.$sess.cmd85$Helper.reverse(\u001b[32mcmd85.sc\u001b[39m:\u001b[32m9\u001b[39m)\n  ammonite.$sess.cmd85$Helper.reverse(\u001b[32mcmd85.sc\u001b[39m:\u001b[32m9\u001b[39m)\n  ammonite.$sess.cmd85$Helper.reverse(\u001b[32mcmd85.sc\u001b[39m:\u001b[32m9\u001b[39m)\n  ammonite.$sess.cmd85$Helper.reverse(\u001b[32mcmd85.sc\u001b[39m:\u001b[32m9\u001b[39m)\n  ammonite.$sess.cmd85$Helper.reverse(\u001b[32mcmd85.sc\u001b[39m:\u001b[32m9\u001b[39m)\n  ammonite.$sess.cmd85$Helper.reverse(\u001b[32mcmd85.sc\u001b[39m:\u001b[32m9\u001b[39m)\n  ammonite.$sess.cmd85$Helper.reverse(\u001b[32mcmd85.sc\u001b[39m:\u001b[32m9\u001b[39m)\n  ammonite.$sess.cmd85$Helper.reverse(\u001b[32mcmd85.sc\u001b[39m:\u001b[32m9\u001b[39m)\n  ammonite.$sess.cmd85$Helper.reverse(\u001b[32mcmd85.sc\u001b[39m:\u001b[32m9\u001b[39m)\n  ammonite.$sess.cmd85$Helper.reverse(\u001b[32mcmd85.sc\u001b[39m:\u001b[32m9\u001b[39m)\n  ammonite.$sess.cmd85$Helper.reverse(\u001b[32mcmd85.sc\u001b[39m:\u001b[32m9\u001b[39m)\n  ammonite.$sess.cmd85$Helper.reverse(\u001b[32mcmd85.sc\u001b[39m:\u001b[32m9\u001b[39m)\n  ammonite.$sess.cmd85$Helper.reverse(\u001b[32mcmd85.sc\u001b[39m:\u001b[32m9\u001b[39m)\n  ammonite.$sess.cmd85$Helper.reverse(\u001b[32mcmd85.sc\u001b[39m:\u001b[32m9\u001b[39m)\n  ammonite.$sess.cmd85$Helper.reverse(\u001b[32mcmd85.sc\u001b[39m:\u001b[32m9\u001b[39m)\n  ammonite.$sess.cmd85$Helper.reverse(\u001b[32mcmd85.sc\u001b[39m:\u001b[32m9\u001b[39m)\n  ammonite.$sess.cmd85$Helper.reverse(\u001b[32mcmd85.sc\u001b[39m:\u001b[32m9\u001b[39m)\n  ammonite.$sess.cmd85$Helper.reverse(\u001b[32mcmd85.sc\u001b[39m:\u001b[32m9\u001b[39m)\n  ammonite.$sess.cmd85$Helper.reverse(\u001b[32mcmd85.sc\u001b[39m:\u001b[32m9\u001b[39m)\n  ammonite.$sess.cmd85$Helper.reverse(\u001b[32mcmd85.sc\u001b[39m:\u001b[32m9\u001b[39m)\n  ammonite.$sess.cmd85$Helper.reverse(\u001b[32mcmd85.sc\u001b[39m:\u001b[32m9\u001b[39m)\n  ammonite.$sess.cmd85$Helper.reverse(\u001b[32mcmd85.sc\u001b[39m:\u001b[32m9\u001b[39m)\n  ammonite.$sess.cmd85$Helper.reverse(\u001b[32mcmd85.sc\u001b[39m:\u001b[32m9\u001b[39m)\n  ammonite.$sess.cmd85$Helper.reverse(\u001b[32mcmd85.sc\u001b[39m:\u001b[32m9\u001b[39m)\n  ammonite.$sess.cmd85$Helper.reverse(\u001b[32mcmd85.sc\u001b[39m:\u001b[32m9\u001b[39m)\n  ammonite.$sess.cmd85$Helper.reverse(\u001b[32mcmd85.sc\u001b[39m:\u001b[32m9\u001b[39m)\n  ammonite.$sess.cmd85$Helper.reverse(\u001b[32mcmd85.sc\u001b[39m:\u001b[32m9\u001b[39m)\n  ammonite.$sess.cmd85$Helper.reverse(\u001b[32mcmd85.sc\u001b[39m:\u001b[32m9\u001b[39m)\n  ammonite.$sess.cmd85$Helper.reverse(\u001b[32mcmd85.sc\u001b[39m:\u001b[32m9\u001b[39m)\n  ammonite.$sess.cmd85$Helper.reverse(\u001b[32mcmd85.sc\u001b[39m:\u001b[32m9\u001b[39m)\n  ammonite.$sess.cmd85$Helper.reverse(\u001b[32mcmd85.sc\u001b[39m:\u001b[32m9\u001b[39m)\n  ammonite.$sess.cmd85$Helper.reverse(\u001b[32mcmd85.sc\u001b[39m:\u001b[32m9\u001b[39m)\n  ammonite.$sess.cmd85$Helper.reverse(\u001b[32mcmd85.sc\u001b[39m:\u001b[32m9\u001b[39m)\n  ammonite.$sess.cmd85$Helper.reverse(\u001b[32mcmd85.sc\u001b[39m:\u001b[32m9\u001b[39m)\n  ammonite.$sess.cmd85$Helper.reverse(\u001b[32mcmd85.sc\u001b[39m:\u001b[32m9\u001b[39m)\n  ammonite.$sess.cmd85$Helper.reverse(\u001b[32mcmd85.sc\u001b[39m:\u001b[32m9\u001b[39m)\n  ammonite.$sess.cmd85$Helper.reverse(\u001b[32mcmd85.sc\u001b[39m:\u001b[32m9\u001b[39m)\n  ammonite.$sess.cmd85$Helper.reverse(\u001b[32mcmd85.sc\u001b[39m:\u001b[32m9\u001b[39m)\n  ammonite.$sess.cmd85$Helper.reverse(\u001b[32mcmd85.sc\u001b[39m:\u001b[32m9\u001b[39m)\n  ammonite.$sess.cmd85$Helper.reverse(\u001b[32mcmd85.sc\u001b[39m:\u001b[32m9\u001b[39m)\n  ammonite.$sess.cmd85$Helper.reverse(\u001b[32mcmd85.sc\u001b[39m:\u001b[32m9\u001b[39m)\n  ammonite.$sess.cmd85$Helper.reverse(\u001b[32mcmd85.sc\u001b[39m:\u001b[32m9\u001b[39m)\n  ammonite.$sess.cmd85$Helper.reverse(\u001b[32mcmd85.sc\u001b[39m:\u001b[32m9\u001b[39m)\n  ammonite.$sess.cmd85$Helper.reverse(\u001b[32mcmd85.sc\u001b[39m:\u001b[32m9\u001b[39m)\n  ammonite.$sess.cmd85$Helper.reverse(\u001b[32mcmd85.sc\u001b[39m:\u001b[32m9\u001b[39m)\n  ammonite.$sess.cmd85$Helper.reverse(\u001b[32mcmd85.sc\u001b[39m:\u001b[32m9\u001b[39m)\n  ammonite.$sess.cmd85$Helper.reverse(\u001b[32mcmd85.sc\u001b[39m:\u001b[32m9\u001b[39m)\n  ammonite.$sess.cmd85$Helper.reverse(\u001b[32mcmd85.sc\u001b[39m:\u001b[32m9\u001b[39m)\n  ammonite.$sess.cmd85$Helper.reverse(\u001b[32mcmd85.sc\u001b[39m:\u001b[32m9\u001b[39m)\n  ammonite.$sess.cmd85$Helper.reverse(\u001b[32mcmd85.sc\u001b[39m:\u001b[32m9\u001b[39m)\n  ammonite.$sess.cmd85$Helper.reverse(\u001b[32mcmd85.sc\u001b[39m:\u001b[32m9\u001b[39m)\n  ammonite.$sess.cmd85$Helper.reverse(\u001b[32mcmd85.sc\u001b[39m:\u001b[32m9\u001b[39m)\n  ammonite.$sess.cmd85$Helper.reverse(\u001b[32mcmd85.sc\u001b[39m:\u001b[32m9\u001b[39m)\n  ammonite.$sess.cmd85$Helper.reverse(\u001b[32mcmd85.sc\u001b[39m:\u001b[32m9\u001b[39m)\n  ammonite.$sess.cmd85$Helper.reverse(\u001b[32mcmd85.sc\u001b[39m:\u001b[32m9\u001b[39m)\n  ammonite.$sess.cmd85$Helper.reverse(\u001b[32mcmd85.sc\u001b[39m:\u001b[32m9\u001b[39m)\n  ammonite.$sess.cmd85$Helper.reverse(\u001b[32mcmd85.sc\u001b[39m:\u001b[32m9\u001b[39m)\n  ammonite.$sess.cmd85$Helper.reverse(\u001b[32mcmd85.sc\u001b[39m:\u001b[32m9\u001b[39m)\n  ammonite.$sess.cmd85$Helper.reverse(\u001b[32mcmd85.sc\u001b[39m:\u001b[32m9\u001b[39m)\n  ammonite.$sess.cmd85$Helper.reverse(\u001b[32mcmd85.sc\u001b[39m:\u001b[32m9\u001b[39m)\n  ammonite.$sess.cmd85$Helper.reverse(\u001b[32mcmd85.sc\u001b[39m:\u001b[32m9\u001b[39m)\n  ammonite.$sess.cmd85$Helper.reverse(\u001b[32mcmd85.sc\u001b[39m:\u001b[32m9\u001b[39m)\n  ammonite.$sess.cmd85$Helper.reverse(\u001b[32mcmd85.sc\u001b[39m:\u001b[32m9\u001b[39m)\n  ammonite.$sess.cmd85$Helper.reverse(\u001b[32mcmd85.sc\u001b[39m:\u001b[32m9\u001b[39m)\n  ammonite.$sess.cmd85$Helper.reverse(\u001b[32mcmd85.sc\u001b[39m:\u001b[32m9\u001b[39m)\n  ammonite.$sess.cmd85$Helper.reverse(\u001b[32mcmd85.sc\u001b[39m:\u001b[32m9\u001b[39m)\n  ammonite.$sess.cmd85$Helper.reverse(\u001b[32mcmd85.sc\u001b[39m:\u001b[32m9\u001b[39m)\n  ammonite.$sess.cmd85$Helper.reverse(\u001b[32mcmd85.sc\u001b[39m:\u001b[32m9\u001b[39m)\n  ammonite.$sess.cmd85$Helper.reverse(\u001b[32mcmd85.sc\u001b[39m:\u001b[32m9\u001b[39m)\n  ammonite.$sess.cmd85$Helper.reverse(\u001b[32mcmd85.sc\u001b[39m:\u001b[32m9\u001b[39m)\n  ammonite.$sess.cmd85$Helper.reverse(\u001b[32mcmd85.sc\u001b[39m:\u001b[32m9\u001b[39m)\n  ammonite.$sess.cmd85$Helper.reverse(\u001b[32mcmd85.sc\u001b[39m:\u001b[32m9\u001b[39m)\n  ammonite.$sess.cmd85$Helper.reverse(\u001b[32mcmd85.sc\u001b[39m:\u001b[32m9\u001b[39m)\n  ammonite.$sess.cmd85$Helper.reverse(\u001b[32mcmd85.sc\u001b[39m:\u001b[32m9\u001b[39m)\n  ammonite.$sess.cmd85$Helper.reverse(\u001b[32mcmd85.sc\u001b[39m:\u001b[32m9\u001b[39m)\n  ammonite.$sess.cmd85$Helper.reverse(\u001b[32mcmd85.sc\u001b[39m:\u001b[32m9\u001b[39m)\n  ammonite.$sess.cmd85$Helper.reverse(\u001b[32mcmd85.sc\u001b[39m:\u001b[32m9\u001b[39m)\n  ammonite.$sess.cmd85$Helper.reverse(\u001b[32mcmd85.sc\u001b[39m:\u001b[32m9\u001b[39m)\n  ammonite.$sess.cmd85$Helper.reverse(\u001b[32mcmd85.sc\u001b[39m:\u001b[32m9\u001b[39m)\n  ammonite.$sess.cmd85$Helper.reverse(\u001b[32mcmd85.sc\u001b[39m:\u001b[32m9\u001b[39m)\n  ammonite.$sess.cmd85$Helper.reverse(\u001b[32mcmd85.sc\u001b[39m:\u001b[32m9\u001b[39m)\n  ammonite.$sess.cmd85$Helper.reverse(\u001b[32mcmd85.sc\u001b[39m:\u001b[32m9\u001b[39m)\n  ammonite.$sess.cmd85$Helper.reverse(\u001b[32mcmd85.sc\u001b[39m:\u001b[32m9\u001b[39m)\n  ammonite.$sess.cmd85$Helper.reverse(\u001b[32mcmd85.sc\u001b[39m:\u001b[32m9\u001b[39m)\n  ammonite.$sess.cmd85$Helper.reverse(\u001b[32mcmd85.sc\u001b[39m:\u001b[32m9\u001b[39m)\n  ammonite.$sess.cmd85$Helper.reverse(\u001b[32mcmd85.sc\u001b[39m:\u001b[32m9\u001b[39m)\n  ammonite.$sess.cmd85$Helper.reverse(\u001b[32mcmd85.sc\u001b[39m:\u001b[32m9\u001b[39m)\n  ammonite.$sess.cmd85$Helper.reverse(\u001b[32mcmd85.sc\u001b[39m:\u001b[32m9\u001b[39m)\n  ammonite.$sess.cmd85$Helper.reverse(\u001b[32mcmd85.sc\u001b[39m:\u001b[32m9\u001b[39m)\n  ammonite.$sess.cmd85$Helper.reverse(\u001b[32mcmd85.sc\u001b[39m:\u001b[32m9\u001b[39m)\n  ammonite.$sess.cmd85$Helper.reverse(\u001b[32mcmd85.sc\u001b[39m:\u001b[32m9\u001b[39m)\n  ammonite.$sess.cmd85$Helper.reverse(\u001b[32mcmd85.sc\u001b[39m:\u001b[32m9\u001b[39m)\n  ammonite.$sess.cmd85$Helper.reverse(\u001b[32mcmd85.sc\u001b[39m:\u001b[32m9\u001b[39m)\n  ammonite.$sess.cmd85$Helper.reverse(\u001b[32mcmd85.sc\u001b[39m:\u001b[32m9\u001b[39m)\n  ammonite.$sess.cmd85$Helper.reverse(\u001b[32mcmd85.sc\u001b[39m:\u001b[32m9\u001b[39m)\n  ammonite.$sess.cmd85$Helper.reverse(\u001b[32mcmd85.sc\u001b[39m:\u001b[32m9\u001b[39m)\n  ammonite.$sess.cmd85$Helper.reverse(\u001b[32mcmd85.sc\u001b[39m:\u001b[32m9\u001b[39m)\n  ammonite.$sess.cmd85$Helper.reverse(\u001b[32mcmd85.sc\u001b[39m:\u001b[32m9\u001b[39m)\n  ammonite.$sess.cmd85$Helper.reverse(\u001b[32mcmd85.sc\u001b[39m:\u001b[32m9\u001b[39m)\n  ammonite.$sess.cmd85$Helper.reverse(\u001b[32mcmd85.sc\u001b[39m:\u001b[32m9\u001b[39m)\n  ammonite.$sess.cmd85$Helper.reverse(\u001b[32mcmd85.sc\u001b[39m:\u001b[32m9\u001b[39m)\n  ammonite.$sess.cmd85$Helper.reverse(\u001b[32mcmd85.sc\u001b[39m:\u001b[32m9\u001b[39m)\n  ammonite.$sess.cmd85$Helper.reverse(\u001b[32mcmd85.sc\u001b[39m:\u001b[32m9\u001b[39m)\n  ammonite.$sess.cmd85$Helper.reverse(\u001b[32mcmd85.sc\u001b[39m:\u001b[32m9\u001b[39m)\n  ammonite.$sess.cmd85$Helper.reverse(\u001b[32mcmd85.sc\u001b[39m:\u001b[32m9\u001b[39m)\n  ammonite.$sess.cmd85$Helper.reverse(\u001b[32mcmd85.sc\u001b[39m:\u001b[32m9\u001b[39m)\n  ammonite.$sess.cmd85$Helper.reverse(\u001b[32mcmd85.sc\u001b[39m:\u001b[32m9\u001b[39m)\n  ammonite.$sess.cmd85$Helper.reverse(\u001b[32mcmd85.sc\u001b[39m:\u001b[32m9\u001b[39m)\n  ammonite.$sess.cmd85$Helper.reverse(\u001b[32mcmd85.sc\u001b[39m:\u001b[32m9\u001b[39m)\n  ammonite.$sess.cmd85$Helper.reverse(\u001b[32mcmd85.sc\u001b[39m:\u001b[32m9\u001b[39m)\n  ammonite.$sess.cmd85$Helper.reverse(\u001b[32mcmd85.sc\u001b[39m:\u001b[32m9\u001b[39m)\n  ammonite.$sess.cmd85$Helper.reverse(\u001b[32mcmd85.sc\u001b[39m:\u001b[32m9\u001b[39m)\n  ammonite.$sess.cmd85$Helper.reverse(\u001b[32mcmd85.sc\u001b[39m:\u001b[32m9\u001b[39m)\n  ammonite.$sess.cmd85$Helper.reverse(\u001b[32mcmd85.sc\u001b[39m:\u001b[32m9\u001b[39m)\n  ammonite.$sess.cmd85$Helper.reverse(\u001b[32mcmd85.sc\u001b[39m:\u001b[32m9\u001b[39m)\n  ammonite.$sess.cmd85$Helper.reverse(\u001b[32mcmd85.sc\u001b[39m:\u001b[32m9\u001b[39m)\n  ammonite.$sess.cmd85$Helper.reverse(\u001b[32mcmd85.sc\u001b[39m:\u001b[32m9\u001b[39m)\n  ammonite.$sess.cmd85$Helper.reverse(\u001b[32mcmd85.sc\u001b[39m:\u001b[32m9\u001b[39m)\n  ammonite.$sess.cmd85$Helper.reverse(\u001b[32mcmd85.sc\u001b[39m:\u001b[32m9\u001b[39m)\n  ammonite.$sess.cmd85$Helper.reverse(\u001b[32mcmd85.sc\u001b[39m:\u001b[32m9\u001b[39m)\n  ammonite.$sess.cmd85$Helper.reverse(\u001b[32mcmd85.sc\u001b[39m:\u001b[32m9\u001b[39m)\n  ammonite.$sess.cmd85$Helper.reverse(\u001b[32mcmd85.sc\u001b[39m:\u001b[32m9\u001b[39m)\n  ammonite.$sess.cmd85$Helper.reverse(\u001b[32mcmd85.sc\u001b[39m:\u001b[32m9\u001b[39m)\n  ammonite.$sess.cmd85$Helper.reverse(\u001b[32mcmd85.sc\u001b[39m:\u001b[32m9\u001b[39m)\n  ammonite.$sess.cmd85$Helper.reverse(\u001b[32mcmd85.sc\u001b[39m:\u001b[32m9\u001b[39m)\n  ammonite.$sess.cmd85$Helper.reverse(\u001b[32mcmd85.sc\u001b[39m:\u001b[32m9\u001b[39m)\n  ammonite.$sess.cmd85$Helper.reverse(\u001b[32mcmd85.sc\u001b[39m:\u001b[32m9\u001b[39m)\n  ammonite.$sess.cmd85$Helper.reverse(\u001b[32mcmd85.sc\u001b[39m:\u001b[32m9\u001b[39m)\n  ammonite.$sess.cmd85$Helper.reverse(\u001b[32mcmd85.sc\u001b[39m:\u001b[32m9\u001b[39m)\n  ammonite.$sess.cmd85$Helper.reverse(\u001b[32mcmd85.sc\u001b[39m:\u001b[32m9\u001b[39m)\n  ammonite.$sess.cmd85$Helper.reverse(\u001b[32mcmd85.sc\u001b[39m:\u001b[32m9\u001b[39m)\n  ammonite.$sess.cmd85$Helper.reverse(\u001b[32mcmd85.sc\u001b[39m:\u001b[32m9\u001b[39m)\n  ammonite.$sess.cmd85$Helper.reverse(\u001b[32mcmd85.sc\u001b[39m:\u001b[32m9\u001b[39m)\n  ammonite.$sess.cmd85$Helper.reverse(\u001b[32mcmd85.sc\u001b[39m:\u001b[32m9\u001b[39m)\n  ammonite.$sess.cmd85$Helper.reverse(\u001b[32mcmd85.sc\u001b[39m:\u001b[32m9\u001b[39m)\n  ammonite.$sess.cmd85$Helper.reverse(\u001b[32mcmd85.sc\u001b[39m:\u001b[32m9\u001b[39m)\n  ammonite.$sess.cmd85$Helper.reverse(\u001b[32mcmd85.sc\u001b[39m:\u001b[32m9\u001b[39m)\n  ammonite.$sess.cmd85$Helper.reverse(\u001b[32mcmd85.sc\u001b[39m:\u001b[32m9\u001b[39m)\n  ammonite.$sess.cmd85$Helper.reverse(\u001b[32mcmd85.sc\u001b[39m:\u001b[32m9\u001b[39m)\n  ammonite.$sess.cmd85$Helper.reverse(\u001b[32mcmd85.sc\u001b[39m:\u001b[32m9\u001b[39m)\n  ammonite.$sess.cmd85$Helper.reverse(\u001b[32mcmd85.sc\u001b[39m:\u001b[32m9\u001b[39m)\n  ammonite.$sess.cmd85$Helper.reverse(\u001b[32mcmd85.sc\u001b[39m:\u001b[32m9\u001b[39m)\n  ammonite.$sess.cmd85$Helper.reverse(\u001b[32mcmd85.sc\u001b[39m:\u001b[32m9\u001b[39m)\n  ammonite.$sess.cmd85$Helper.reverse(\u001b[32mcmd85.sc\u001b[39m:\u001b[32m9\u001b[39m)\n  ammonite.$sess.cmd85$Helper.reverse(\u001b[32mcmd85.sc\u001b[39m:\u001b[32m9\u001b[39m)\n  ammonite.$sess.cmd85$Helper.reverse(\u001b[32mcmd85.sc\u001b[39m:\u001b[32m9\u001b[39m)\n  ammonite.$sess.cmd85$Helper.reverse(\u001b[32mcmd85.sc\u001b[39m:\u001b[32m9\u001b[39m)\n  ammonite.$sess.cmd85$Helper.reverse(\u001b[32mcmd85.sc\u001b[39m:\u001b[32m9\u001b[39m)\n  ammonite.$sess.cmd85$Helper.reverse(\u001b[32mcmd85.sc\u001b[39m:\u001b[32m9\u001b[39m)\n  ammonite.$sess.cmd85$Helper.reverse(\u001b[32mcmd85.sc\u001b[39m:\u001b[32m9\u001b[39m)\n  ammonite.$sess.cmd85$Helper.reverse(\u001b[32mcmd85.sc\u001b[39m:\u001b[32m9\u001b[39m)\n  ammonite.$sess.cmd85$Helper.reverse(\u001b[32mcmd85.sc\u001b[39m:\u001b[32m9\u001b[39m)\n  ammonite.$sess.cmd85$Helper.reverse(\u001b[32mcmd85.sc\u001b[39m:\u001b[32m9\u001b[39m)\n  ammonite.$sess.cmd85$Helper.reverse(\u001b[32mcmd85.sc\u001b[39m:\u001b[32m9\u001b[39m)\n  ammonite.$sess.cmd85$Helper.reverse(\u001b[32mcmd85.sc\u001b[39m:\u001b[32m9\u001b[39m)\n  ammonite.$sess.cmd85$Helper.reverse(\u001b[32mcmd85.sc\u001b[39m:\u001b[32m9\u001b[39m)\n  ammonite.$sess.cmd85$Helper.reverse(\u001b[32mcmd85.sc\u001b[39m:\u001b[32m9\u001b[39m)\n  ammonite.$sess.cmd85$Helper.reverse(\u001b[32mcmd85.sc\u001b[39m:\u001b[32m9\u001b[39m)\n  ammonite.$sess.cmd85$Helper.reverse(\u001b[32mcmd85.sc\u001b[39m:\u001b[32m9\u001b[39m)\n  ammonite.$sess.cmd85$Helper.reverse(\u001b[32mcmd85.sc\u001b[39m:\u001b[32m9\u001b[39m)\n  ammonite.$sess.cmd85$Helper.reverse(\u001b[32mcmd85.sc\u001b[39m:\u001b[32m9\u001b[39m)\n  ammonite.$sess.cmd85$Helper.reverse(\u001b[32mcmd85.sc\u001b[39m:\u001b[32m9\u001b[39m)\n  ammonite.$sess.cmd85$Helper.reverse(\u001b[32mcmd85.sc\u001b[39m:\u001b[32m9\u001b[39m)\n  ammonite.$sess.cmd85$Helper.reverse(\u001b[32mcmd85.sc\u001b[39m:\u001b[32m9\u001b[39m)\n  ammonite.$sess.cmd85$Helper.reverse(\u001b[32mcmd85.sc\u001b[39m:\u001b[32m9\u001b[39m)\n  ammonite.$sess.cmd85$Helper.reverse(\u001b[32mcmd85.sc\u001b[39m:\u001b[32m9\u001b[39m)\n  ammonite.$sess.cmd85$Helper.reverse(\u001b[32mcmd85.sc\u001b[39m:\u001b[32m9\u001b[39m)\n  ammonite.$sess.cmd85$Helper.reverse(\u001b[32mcmd85.sc\u001b[39m:\u001b[32m9\u001b[39m)\n  ammonite.$sess.cmd85$Helper.reverse(\u001b[32mcmd85.sc\u001b[39m:\u001b[32m9\u001b[39m)\n  ammonite.$sess.cmd85$Helper.reverse(\u001b[32mcmd85.sc\u001b[39m:\u001b[32m9\u001b[39m)\n  ammonite.$sess.cmd85$Helper.reverse(\u001b[32mcmd85.sc\u001b[39m:\u001b[32m9\u001b[39m)\n  ammonite.$sess.cmd85$Helper.reverse(\u001b[32mcmd85.sc\u001b[39m:\u001b[32m9\u001b[39m)\n  ammonite.$sess.cmd85$Helper.reverse(\u001b[32mcmd85.sc\u001b[39m:\u001b[32m9\u001b[39m)\n  ammonite.$sess.cmd85$Helper.reverse(\u001b[32mcmd85.sc\u001b[39m:\u001b[32m9\u001b[39m)\n  ammonite.$sess.cmd85$Helper.reverse(\u001b[32mcmd85.sc\u001b[39m:\u001b[32m9\u001b[39m)\n  ammonite.$sess.cmd85$Helper.reverse(\u001b[32mcmd85.sc\u001b[39m:\u001b[32m9\u001b[39m)\n  ammonite.$sess.cmd85$Helper.reverse(\u001b[32mcmd85.sc\u001b[39m:\u001b[32m9\u001b[39m)\n  ammonite.$sess.cmd85$Helper.reverse(\u001b[32mcmd85.sc\u001b[39m:\u001b[32m9\u001b[39m)\n  ammonite.$sess.cmd85$Helper.reverse(\u001b[32mcmd85.sc\u001b[39m:\u001b[32m9\u001b[39m)\n  ammonite.$sess.cmd85$Helper.reverse(\u001b[32mcmd85.sc\u001b[39m:\u001b[32m9\u001b[39m)\n  ammonite.$sess.cmd85$Helper.reverse(\u001b[32mcmd85.sc\u001b[39m:\u001b[32m9\u001b[39m)\n  ammonite.$sess.cmd85$Helper.reverse(\u001b[32mcmd85.sc\u001b[39m:\u001b[32m9\u001b[39m)\n  ammonite.$sess.cmd85$Helper.reverse(\u001b[32mcmd85.sc\u001b[39m:\u001b[32m9\u001b[39m)\n  ammonite.$sess.cmd85$Helper.reverse(\u001b[32mcmd85.sc\u001b[39m:\u001b[32m9\u001b[39m)\n  ammonite.$sess.cmd85$Helper.reverse(\u001b[32mcmd85.sc\u001b[39m:\u001b[32m9\u001b[39m)\n  ammonite.$sess.cmd85$Helper.reverse(\u001b[32mcmd85.sc\u001b[39m:\u001b[32m9\u001b[39m)\n  ammonite.$sess.cmd85$Helper.reverse(\u001b[32mcmd85.sc\u001b[39m:\u001b[32m9\u001b[39m)\n  ammonite.$sess.cmd85$Helper.reverse(\u001b[32mcmd85.sc\u001b[39m:\u001b[32m9\u001b[39m)\n  ammonite.$sess.cmd85$Helper.reverse(\u001b[32mcmd85.sc\u001b[39m:\u001b[32m9\u001b[39m)\n  ammonite.$sess.cmd85$Helper.reverse(\u001b[32mcmd85.sc\u001b[39m:\u001b[32m9\u001b[39m)\n  ammonite.$sess.cmd85$Helper.reverse(\u001b[32mcmd85.sc\u001b[39m:\u001b[32m9\u001b[39m)\n  ammonite.$sess.cmd85$Helper.reverse(\u001b[32mcmd85.sc\u001b[39m:\u001b[32m9\u001b[39m)\n  ammonite.$sess.cmd85$Helper.reverse(\u001b[32mcmd85.sc\u001b[39m:\u001b[32m9\u001b[39m)\n  ammonite.$sess.cmd85$Helper.reverse(\u001b[32mcmd85.sc\u001b[39m:\u001b[32m9\u001b[39m)\n  ammonite.$sess.cmd85$Helper.reverse(\u001b[32mcmd85.sc\u001b[39m:\u001b[32m9\u001b[39m)\n  ammonite.$sess.cmd85$Helper.reverse(\u001b[32mcmd85.sc\u001b[39m:\u001b[32m9\u001b[39m)\n  ammonite.$sess.cmd85$Helper.reverse(\u001b[32mcmd85.sc\u001b[39m:\u001b[32m9\u001b[39m)\n  ammonite.$sess.cmd85$Helper.reverse(\u001b[32mcmd85.sc\u001b[39m:\u001b[32m9\u001b[39m)\n  ammonite.$sess.cmd85$Helper.reverse(\u001b[32mcmd85.sc\u001b[39m:\u001b[32m9\u001b[39m)\n  ammonite.$sess.cmd85$Helper.reverse(\u001b[32mcmd85.sc\u001b[39m:\u001b[32m9\u001b[39m)\n  ammonite.$sess.cmd85$Helper.reverse(\u001b[32mcmd85.sc\u001b[39m:\u001b[32m9\u001b[39m)\n  ammonite.$sess.cmd85$Helper.reverse(\u001b[32mcmd85.sc\u001b[39m:\u001b[32m9\u001b[39m)\n  ammonite.$sess.cmd85$Helper.reverse(\u001b[32mcmd85.sc\u001b[39m:\u001b[32m9\u001b[39m)\n  ammonite.$sess.cmd85$Helper.reverse(\u001b[32mcmd85.sc\u001b[39m:\u001b[32m9\u001b[39m)\n  ammonite.$sess.cmd85$Helper.reverse(\u001b[32mcmd85.sc\u001b[39m:\u001b[32m9\u001b[39m)\n  ammonite.$sess.cmd85$Helper.reverse(\u001b[32mcmd85.sc\u001b[39m:\u001b[32m9\u001b[39m)\n  ammonite.$sess.cmd85$Helper.reverse(\u001b[32mcmd85.sc\u001b[39m:\u001b[32m9\u001b[39m)\n  ammonite.$sess.cmd85$Helper.reverse(\u001b[32mcmd85.sc\u001b[39m:\u001b[32m9\u001b[39m)\n  ammonite.$sess.cmd85$Helper.reverse(\u001b[32mcmd85.sc\u001b[39m:\u001b[32m9\u001b[39m)\n  ammonite.$sess.cmd85$Helper.reverse(\u001b[32mcmd85.sc\u001b[39m:\u001b[32m9\u001b[39m)\n  ammonite.$sess.cmd85$Helper.reverse(\u001b[32mcmd85.sc\u001b[39m:\u001b[32m9\u001b[39m)\n  ammonite.$sess.cmd85$Helper.reverse(\u001b[32mcmd85.sc\u001b[39m:\u001b[32m9\u001b[39m)\n  ammonite.$sess.cmd85$Helper.reverse(\u001b[32mcmd85.sc\u001b[39m:\u001b[32m9\u001b[39m)\n  ammonite.$sess.cmd85$Helper.reverse(\u001b[32mcmd85.sc\u001b[39m:\u001b[32m9\u001b[39m)\n  ammonite.$sess.cmd85$Helper.reverse(\u001b[32mcmd85.sc\u001b[39m:\u001b[32m9\u001b[39m)\n  ammonite.$sess.cmd85$Helper.reverse(\u001b[32mcmd85.sc\u001b[39m:\u001b[32m9\u001b[39m)\n  ammonite.$sess.cmd85$Helper.reverse(\u001b[32mcmd85.sc\u001b[39m:\u001b[32m9\u001b[39m)\n  ammonite.$sess.cmd85$Helper.reverse(\u001b[32mcmd85.sc\u001b[39m:\u001b[32m9\u001b[39m)\n  ammonite.$sess.cmd85$Helper.reverse(\u001b[32mcmd85.sc\u001b[39m:\u001b[32m9\u001b[39m)\n  ammonite.$sess.cmd85$Helper.reverse(\u001b[32mcmd85.sc\u001b[39m:\u001b[32m9\u001b[39m)\n  ammonite.$sess.cmd85$Helper.reverse(\u001b[32mcmd85.sc\u001b[39m:\u001b[32m9\u001b[39m)\n  ammonite.$sess.cmd85$Helper.reverse(\u001b[32mcmd85.sc\u001b[39m:\u001b[32m9\u001b[39m)\n  ammonite.$sess.cmd85$Helper.reverse(\u001b[32mcmd85.sc\u001b[39m:\u001b[32m9\u001b[39m)\n  ammonite.$sess.cmd85$Helper.reverse(\u001b[32mcmd85.sc\u001b[39m:\u001b[32m9\u001b[39m)\n  ammonite.$sess.cmd85$Helper.reverse(\u001b[32mcmd85.sc\u001b[39m:\u001b[32m9\u001b[39m)\n  ammonite.$sess.cmd85$Helper.reverse(\u001b[32mcmd85.sc\u001b[39m:\u001b[32m9\u001b[39m)\n  ammonite.$sess.cmd85$Helper.reverse(\u001b[32mcmd85.sc\u001b[39m:\u001b[32m9\u001b[39m)\n  ammonite.$sess.cmd85$Helper.reverse(\u001b[32mcmd85.sc\u001b[39m:\u001b[32m9\u001b[39m)\n  ammonite.$sess.cmd85$Helper.reverse(\u001b[32mcmd85.sc\u001b[39m:\u001b[32m9\u001b[39m)\n  ammonite.$sess.cmd85$Helper.reverse(\u001b[32mcmd85.sc\u001b[39m:\u001b[32m9\u001b[39m)\n  ammonite.$sess.cmd85$Helper.reverse(\u001b[32mcmd85.sc\u001b[39m:\u001b[32m9\u001b[39m)\n  ammonite.$sess.cmd85$Helper.reverse(\u001b[32mcmd85.sc\u001b[39m:\u001b[32m9\u001b[39m)\n  ammonite.$sess.cmd85$Helper.reverse(\u001b[32mcmd85.sc\u001b[39m:\u001b[32m9\u001b[39m)\n  ammonite.$sess.cmd85$Helper.reverse(\u001b[32mcmd85.sc\u001b[39m:\u001b[32m9\u001b[39m)\n  ammonite.$sess.cmd85$Helper.reverse(\u001b[32mcmd85.sc\u001b[39m:\u001b[32m9\u001b[39m)\n  ammonite.$sess.cmd85$Helper.reverse(\u001b[32mcmd85.sc\u001b[39m:\u001b[32m9\u001b[39m)\n  ammonite.$sess.cmd85$Helper.reverse(\u001b[32mcmd85.sc\u001b[39m:\u001b[32m9\u001b[39m)\n  ammonite.$sess.cmd85$Helper.reverse(\u001b[32mcmd85.sc\u001b[39m:\u001b[32m9\u001b[39m)\n  ammonite.$sess.cmd85$Helper.reverse(\u001b[32mcmd85.sc\u001b[39m:\u001b[32m9\u001b[39m)\n  ammonite.$sess.cmd85$Helper.reverse(\u001b[32mcmd85.sc\u001b[39m:\u001b[32m9\u001b[39m)\n  ammonite.$sess.cmd85$Helper.reverse(\u001b[32mcmd85.sc\u001b[39m:\u001b[32m9\u001b[39m)\n  ammonite.$sess.cmd85$Helper.reverse(\u001b[32mcmd85.sc\u001b[39m:\u001b[32m9\u001b[39m)\n  ammonite.$sess.cmd85$Helper.reverse(\u001b[32mcmd85.sc\u001b[39m:\u001b[32m9\u001b[39m)\n  ammonite.$sess.cmd85$Helper.reverse(\u001b[32mcmd85.sc\u001b[39m:\u001b[32m9\u001b[39m)\n  ammonite.$sess.cmd85$Helper.reverse(\u001b[32mcmd85.sc\u001b[39m:\u001b[32m9\u001b[39m)\n  ammonite.$sess.cmd85$Helper.reverse(\u001b[32mcmd85.sc\u001b[39m:\u001b[32m9\u001b[39m)\n  ammonite.$sess.cmd85$Helper.reverse(\u001b[32mcmd85.sc\u001b[39m:\u001b[32m9\u001b[39m)\n  ammonite.$sess.cmd85$Helper.reverse(\u001b[32mcmd85.sc\u001b[39m:\u001b[32m9\u001b[39m)\n  ammonite.$sess.cmd85$Helper.reverse(\u001b[32mcmd85.sc\u001b[39m:\u001b[32m9\u001b[39m)\n  ammonite.$sess.cmd85$Helper.reverse(\u001b[32mcmd85.sc\u001b[39m:\u001b[32m9\u001b[39m)\n  ammonite.$sess.cmd85$Helper.reverse(\u001b[32mcmd85.sc\u001b[39m:\u001b[32m9\u001b[39m)\n  ammonite.$sess.cmd85$Helper.reverse(\u001b[32mcmd85.sc\u001b[39m:\u001b[32m9\u001b[39m)\n  ammonite.$sess.cmd85$Helper.reverse(\u001b[32mcmd85.sc\u001b[39m:\u001b[32m9\u001b[39m)\n  ammonite.$sess.cmd85$Helper.reverse(\u001b[32mcmd85.sc\u001b[39m:\u001b[32m9\u001b[39m)\n  ammonite.$sess.cmd85$Helper.reverse(\u001b[32mcmd85.sc\u001b[39m:\u001b[32m9\u001b[39m)\n  ammonite.$sess.cmd85$Helper.reverse(\u001b[32mcmd85.sc\u001b[39m:\u001b[32m9\u001b[39m)\n  ammonite.$sess.cmd85$Helper.reverse(\u001b[32mcmd85.sc\u001b[39m:\u001b[32m9\u001b[39m)\n  ammonite.$sess.cmd85$Helper.reverse(\u001b[32mcmd85.sc\u001b[39m:\u001b[32m9\u001b[39m)\n  ammonite.$sess.cmd85$Helper.reverse(\u001b[32mcmd85.sc\u001b[39m:\u001b[32m9\u001b[39m)\n  ammonite.$sess.cmd85$Helper.reverse(\u001b[32mcmd85.sc\u001b[39m:\u001b[32m9\u001b[39m)\n  ammonite.$sess.cmd85$Helper.reverse(\u001b[32mcmd85.sc\u001b[39m:\u001b[32m9\u001b[39m)\n  ammonite.$sess.cmd85$Helper.reverse(\u001b[32mcmd85.sc\u001b[39m:\u001b[32m9\u001b[39m)\n  ammonite.$sess.cmd85$Helper.reverse(\u001b[32mcmd85.sc\u001b[39m:\u001b[32m9\u001b[39m)\n  ammonite.$sess.cmd85$Helper.reverse(\u001b[32mcmd85.sc\u001b[39m:\u001b[32m9\u001b[39m)\n  ammonite.$sess.cmd85$Helper.reverse(\u001b[32mcmd85.sc\u001b[39m:\u001b[32m9\u001b[39m)\n  ammonite.$sess.cmd85$Helper.reverse(\u001b[32mcmd85.sc\u001b[39m:\u001b[32m9\u001b[39m)\n  ammonite.$sess.cmd85$Helper.reverse(\u001b[32mcmd85.sc\u001b[39m:\u001b[32m9\u001b[39m)\n  ammonite.$sess.cmd85$Helper.reverse(\u001b[32mcmd85.sc\u001b[39m:\u001b[32m9\u001b[39m)\n  ammonite.$sess.cmd85$Helper.reverse(\u001b[32mcmd85.sc\u001b[39m:\u001b[32m9\u001b[39m)\n  ammonite.$sess.cmd85$Helper.reverse(\u001b[32mcmd85.sc\u001b[39m:\u001b[32m9\u001b[39m)\n  ammonite.$sess.cmd85$Helper.reverse(\u001b[32mcmd85.sc\u001b[39m:\u001b[32m9\u001b[39m)\n  ammonite.$sess.cmd85$Helper.reverse(\u001b[32mcmd85.sc\u001b[39m:\u001b[32m9\u001b[39m)\n  ammonite.$sess.cmd85$Helper.reverse(\u001b[32mcmd85.sc\u001b[39m:\u001b[32m9\u001b[39m)\n  ammonite.$sess.cmd85$Helper.reverse(\u001b[32mcmd85.sc\u001b[39m:\u001b[32m9\u001b[39m)\n  ammonite.$sess.cmd85$Helper.reverse(\u001b[32mcmd85.sc\u001b[39m:\u001b[32m9\u001b[39m)\n  ammonite.$sess.cmd85$Helper.reverse(\u001b[32mcmd85.sc\u001b[39m:\u001b[32m9\u001b[39m)\n  ammonite.$sess.cmd85$Helper.reverse(\u001b[32mcmd85.sc\u001b[39m:\u001b[32m9\u001b[39m)\n  ammonite.$sess.cmd85$Helper.reverse(\u001b[32mcmd85.sc\u001b[39m:\u001b[32m9\u001b[39m)\n  ammonite.$sess.cmd85$Helper.reverse(\u001b[32mcmd85.sc\u001b[39m:\u001b[32m9\u001b[39m)\n  ammonite.$sess.cmd85$Helper.reverse(\u001b[32mcmd85.sc\u001b[39m:\u001b[32m9\u001b[39m)\n  ammonite.$sess.cmd85$Helper.reverse(\u001b[32mcmd85.sc\u001b[39m:\u001b[32m9\u001b[39m)\n  ammonite.$sess.cmd85$Helper.reverse(\u001b[32mcmd85.sc\u001b[39m:\u001b[32m9\u001b[39m)\n  ammonite.$sess.cmd85$Helper.reverse(\u001b[32mcmd85.sc\u001b[39m:\u001b[32m9\u001b[39m)\n  ammonite.$sess.cmd85$Helper.reverse(\u001b[32mcmd85.sc\u001b[39m:\u001b[32m9\u001b[39m)\n  ammonite.$sess.cmd85$Helper.reverse(\u001b[32mcmd85.sc\u001b[39m:\u001b[32m9\u001b[39m)\n  ammonite.$sess.cmd85$Helper.reverse(\u001b[32mcmd85.sc\u001b[39m:\u001b[32m9\u001b[39m)\n  ammonite.$sess.cmd85$Helper.reverse(\u001b[32mcmd85.sc\u001b[39m:\u001b[32m9\u001b[39m)\n  ammonite.$sess.cmd85$Helper.reverse(\u001b[32mcmd85.sc\u001b[39m:\u001b[32m9\u001b[39m)\n  ammonite.$sess.cmd85$Helper.reverse(\u001b[32mcmd85.sc\u001b[39m:\u001b[32m9\u001b[39m)\n  ammonite.$sess.cmd85$Helper.reverse(\u001b[32mcmd85.sc\u001b[39m:\u001b[32m9\u001b[39m)\n  ammonite.$sess.cmd85$Helper.reverse(\u001b[32mcmd85.sc\u001b[39m:\u001b[32m9\u001b[39m)\n  ammonite.$sess.cmd85$Helper.reverse(\u001b[32mcmd85.sc\u001b[39m:\u001b[32m9\u001b[39m)\n  ammonite.$sess.cmd85$Helper.reverse(\u001b[32mcmd85.sc\u001b[39m:\u001b[32m9\u001b[39m)\n  ammonite.$sess.cmd85$Helper.reverse(\u001b[32mcmd85.sc\u001b[39m:\u001b[32m9\u001b[39m)\n  ammonite.$sess.cmd85$Helper.reverse(\u001b[32mcmd85.sc\u001b[39m:\u001b[32m9\u001b[39m)\n  ammonite.$sess.cmd85$Helper.reverse(\u001b[32mcmd85.sc\u001b[39m:\u001b[32m9\u001b[39m)\n  ammonite.$sess.cmd85$Helper.reverse(\u001b[32mcmd85.sc\u001b[39m:\u001b[32m9\u001b[39m)\n  ammonite.$sess.cmd85$Helper.reverse(\u001b[32mcmd85.sc\u001b[39m:\u001b[32m9\u001b[39m)\n  ammonite.$sess.cmd85$Helper.reverse(\u001b[32mcmd85.sc\u001b[39m:\u001b[32m9\u001b[39m)\n  ammonite.$sess.cmd85$Helper.reverse(\u001b[32mcmd85.sc\u001b[39m:\u001b[32m9\u001b[39m)\n  ammonite.$sess.cmd85$Helper.reverse(\u001b[32mcmd85.sc\u001b[39m:\u001b[32m9\u001b[39m)\n  ammonite.$sess.cmd85$Helper.reverse(\u001b[32mcmd85.sc\u001b[39m:\u001b[32m9\u001b[39m)\n  ammonite.$sess.cmd85$Helper.reverse(\u001b[32mcmd85.sc\u001b[39m:\u001b[32m9\u001b[39m)\n  ammonite.$sess.cmd85$Helper.reverse(\u001b[32mcmd85.sc\u001b[39m:\u001b[32m9\u001b[39m)\n  ammonite.$sess.cmd85$Helper.reverse(\u001b[32mcmd85.sc\u001b[39m:\u001b[32m9\u001b[39m)\n  ammonite.$sess.cmd85$Helper.reverse(\u001b[32mcmd85.sc\u001b[39m:\u001b[32m9\u001b[39m)\n  ammonite.$sess.cmd85$Helper.reverse(\u001b[32mcmd85.sc\u001b[39m:\u001b[32m9\u001b[39m)\n  ammonite.$sess.cmd85$Helper.reverse(\u001b[32mcmd85.sc\u001b[39m:\u001b[32m9\u001b[39m)\n  ammonite.$sess.cmd85$Helper.reverse(\u001b[32mcmd85.sc\u001b[39m:\u001b[32m9\u001b[39m)\n  ammonite.$sess.cmd85$Helper.reverse(\u001b[32mcmd85.sc\u001b[39m:\u001b[32m9\u001b[39m)\n  ammonite.$sess.cmd85$Helper.reverse(\u001b[32mcmd85.sc\u001b[39m:\u001b[32m9\u001b[39m)\n  ammonite.$sess.cmd85$Helper.reverse(\u001b[32mcmd85.sc\u001b[39m:\u001b[32m9\u001b[39m)\n  ammonite.$sess.cmd85$Helper.reverse(\u001b[32mcmd85.sc\u001b[39m:\u001b[32m9\u001b[39m)\n  ammonite.$sess.cmd85$Helper.reverse(\u001b[32mcmd85.sc\u001b[39m:\u001b[32m9\u001b[39m)\n  ammonite.$sess.cmd85$Helper.reverse(\u001b[32mcmd85.sc\u001b[39m:\u001b[32m9\u001b[39m)\n  ammonite.$sess.cmd85$Helper.reverse(\u001b[32mcmd85.sc\u001b[39m:\u001b[32m9\u001b[39m)\n  ammonite.$sess.cmd85$Helper.reverse(\u001b[32mcmd85.sc\u001b[39m:\u001b[32m9\u001b[39m)\n  ammonite.$sess.cmd85$Helper.reverse(\u001b[32mcmd85.sc\u001b[39m:\u001b[32m9\u001b[39m)\n  ammonite.$sess.cmd85$Helper.reverse(\u001b[32mcmd85.sc\u001b[39m:\u001b[32m9\u001b[39m)\n  ammonite.$sess.cmd85$Helper.reverse(\u001b[32mcmd85.sc\u001b[39m:\u001b[32m9\u001b[39m)\n  ammonite.$sess.cmd85$Helper.reverse(\u001b[32mcmd85.sc\u001b[39m:\u001b[32m9\u001b[39m)\n  ammonite.$sess.cmd85$Helper.reverse(\u001b[32mcmd85.sc\u001b[39m:\u001b[32m9\u001b[39m)\n  ammonite.$sess.cmd85$Helper.reverse(\u001b[32mcmd85.sc\u001b[39m:\u001b[32m9\u001b[39m)\n  ammonite.$sess.cmd85$Helper.reverse(\u001b[32mcmd85.sc\u001b[39m:\u001b[32m9\u001b[39m)\n  ammonite.$sess.cmd85$Helper.reverse(\u001b[32mcmd85.sc\u001b[39m:\u001b[32m9\u001b[39m)\n  ammonite.$sess.cmd85$Helper.reverse(\u001b[32mcmd85.sc\u001b[39m:\u001b[32m9\u001b[39m)\n  ammonite.$sess.cmd85$Helper.reverse(\u001b[32mcmd85.sc\u001b[39m:\u001b[32m9\u001b[39m)\n  ammonite.$sess.cmd85$Helper.reverse(\u001b[32mcmd85.sc\u001b[39m:\u001b[32m9\u001b[39m)\n  ammonite.$sess.cmd85$Helper.reverse(\u001b[32mcmd85.sc\u001b[39m:\u001b[32m9\u001b[39m)\n  ammonite.$sess.cmd85$Helper.reverse(\u001b[32mcmd85.sc\u001b[39m:\u001b[32m9\u001b[39m)\n  ammonite.$sess.cmd85$Helper.reverse(\u001b[32mcmd85.sc\u001b[39m:\u001b[32m9\u001b[39m)\n  ammonite.$sess.cmd85$Helper.reverse(\u001b[32mcmd85.sc\u001b[39m:\u001b[32m9\u001b[39m)\n  ammonite.$sess.cmd85$Helper.reverse(\u001b[32mcmd85.sc\u001b[39m:\u001b[32m9\u001b[39m)\n  ammonite.$sess.cmd85$Helper.reverse(\u001b[32mcmd85.sc\u001b[39m:\u001b[32m9\u001b[39m)\n  ammonite.$sess.cmd85$Helper.reverse(\u001b[32mcmd85.sc\u001b[39m:\u001b[32m9\u001b[39m)\n  ammonite.$sess.cmd85$Helper.reverse(\u001b[32mcmd85.sc\u001b[39m:\u001b[32m9\u001b[39m)\n  ammonite.$sess.cmd85$Helper.reverse(\u001b[32mcmd85.sc\u001b[39m:\u001b[32m9\u001b[39m)\n  ammonite.$sess.cmd85$Helper.reverse(\u001b[32mcmd85.sc\u001b[39m:\u001b[32m9\u001b[39m)\n  ammonite.$sess.cmd85$Helper.reverse(\u001b[32mcmd85.sc\u001b[39m:\u001b[32m9\u001b[39m)\n  ammonite.$sess.cmd85$Helper.reverse(\u001b[32mcmd85.sc\u001b[39m:\u001b[32m9\u001b[39m)\n  ammonite.$sess.cmd85$Helper.reverse(\u001b[32mcmd85.sc\u001b[39m:\u001b[32m9\u001b[39m)\n  ammonite.$sess.cmd85$Helper.reverse(\u001b[32mcmd85.sc\u001b[39m:\u001b[32m9\u001b[39m)\n  ammonite.$sess.cmd85$Helper.reverse(\u001b[32mcmd85.sc\u001b[39m:\u001b[32m9\u001b[39m)\n  ammonite.$sess.cmd85$Helper.reverse(\u001b[32mcmd85.sc\u001b[39m:\u001b[32m9\u001b[39m)\n  ammonite.$sess.cmd85$Helper.reverse(\u001b[32mcmd85.sc\u001b[39m:\u001b[32m9\u001b[39m)\n  ammonite.$sess.cmd85$Helper.reverse(\u001b[32mcmd85.sc\u001b[39m:\u001b[32m9\u001b[39m)\n  ammonite.$sess.cmd85$Helper.reverse(\u001b[32mcmd85.sc\u001b[39m:\u001b[32m9\u001b[39m)\n  ammonite.$sess.cmd85$Helper.reverse(\u001b[32mcmd85.sc\u001b[39m:\u001b[32m9\u001b[39m)\n  ammonite.$sess.cmd85$Helper.reverse(\u001b[32mcmd85.sc\u001b[39m:\u001b[32m9\u001b[39m)\n  ammonite.$sess.cmd85$Helper.reverse(\u001b[32mcmd85.sc\u001b[39m:\u001b[32m9\u001b[39m)\n  ammonite.$sess.cmd85$Helper.reverse(\u001b[32mcmd85.sc\u001b[39m:\u001b[32m9\u001b[39m)\n  ammonite.$sess.cmd85$Helper.reverse(\u001b[32mcmd85.sc\u001b[39m:\u001b[32m9\u001b[39m)\n  ammonite.$sess.cmd85$Helper.reverse(\u001b[32mcmd85.sc\u001b[39m:\u001b[32m9\u001b[39m)\n  ammonite.$sess.cmd85$Helper.reverse(\u001b[32mcmd85.sc\u001b[39m:\u001b[32m9\u001b[39m)\n  ammonite.$sess.cmd85$Helper.reverse(\u001b[32mcmd85.sc\u001b[39m:\u001b[32m9\u001b[39m)\n  ammonite.$sess.cmd85$Helper.reverse(\u001b[32mcmd85.sc\u001b[39m:\u001b[32m9\u001b[39m)\n  ammonite.$sess.cmd85$Helper.reverse(\u001b[32mcmd85.sc\u001b[39m:\u001b[32m9\u001b[39m)\n  ammonite.$sess.cmd85$Helper.reverse(\u001b[32mcmd85.sc\u001b[39m:\u001b[32m9\u001b[39m)\n  ammonite.$sess.cmd85$Helper.reverse(\u001b[32mcmd85.sc\u001b[39m:\u001b[32m9\u001b[39m)\n  ammonite.$sess.cmd85$Helper.reverse(\u001b[32mcmd85.sc\u001b[39m:\u001b[32m9\u001b[39m)\n  ammonite.$sess.cmd85$Helper.reverse(\u001b[32mcmd85.sc\u001b[39m:\u001b[32m9\u001b[39m)\n  ammonite.$sess.cmd85$Helper.reverse(\u001b[32mcmd85.sc\u001b[39m:\u001b[32m9\u001b[39m)\n  ammonite.$sess.cmd85$Helper.reverse(\u001b[32mcmd85.sc\u001b[39m:\u001b[32m9\u001b[39m)\n  ammonite.$sess.cmd85$Helper.reverse(\u001b[32mcmd85.sc\u001b[39m:\u001b[32m9\u001b[39m)\n  ammonite.$sess.cmd85$Helper.reverse(\u001b[32mcmd85.sc\u001b[39m:\u001b[32m9\u001b[39m)\n  ammonite.$sess.cmd85$Helper.reverse(\u001b[32mcmd85.sc\u001b[39m:\u001b[32m9\u001b[39m)\n  ammonite.$sess.cmd85$Helper.reverse(\u001b[32mcmd85.sc\u001b[39m:\u001b[32m9\u001b[39m)\n  ammonite.$sess.cmd85$Helper.reverse(\u001b[32mcmd85.sc\u001b[39m:\u001b[32m9\u001b[39m)\n  ammonite.$sess.cmd85$Helper.reverse(\u001b[32mcmd85.sc\u001b[39m:\u001b[32m9\u001b[39m)\n  ammonite.$sess.cmd85$Helper.reverse(\u001b[32mcmd85.sc\u001b[39m:\u001b[32m9\u001b[39m)\n  ammonite.$sess.cmd85$Helper.reverse(\u001b[32mcmd85.sc\u001b[39m:\u001b[32m9\u001b[39m)\n  ammonite.$sess.cmd85$Helper.reverse(\u001b[32mcmd85.sc\u001b[39m:\u001b[32m9\u001b[39m)\n  ammonite.$sess.cmd85$Helper.reverse(\u001b[32mcmd85.sc\u001b[39m:\u001b[32m9\u001b[39m)\n  ammonite.$sess.cmd85$Helper.reverse(\u001b[32mcmd85.sc\u001b[39m:\u001b[32m9\u001b[39m)\n  ammonite.$sess.cmd85$Helper.reverse(\u001b[32mcmd85.sc\u001b[39m:\u001b[32m9\u001b[39m)\n  ammonite.$sess.cmd85$Helper.reverse(\u001b[32mcmd85.sc\u001b[39m:\u001b[32m9\u001b[39m)\n  ammonite.$sess.cmd85$Helper.reverse(\u001b[32mcmd85.sc\u001b[39m:\u001b[32m9\u001b[39m)\n  ammonite.$sess.cmd85$Helper.reverse(\u001b[32mcmd85.sc\u001b[39m:\u001b[32m9\u001b[39m)\n  ammonite.$sess.cmd85$Helper.reverse(\u001b[32mcmd85.sc\u001b[39m:\u001b[32m9\u001b[39m)\n  ammonite.$sess.cmd85$Helper.reverse(\u001b[32mcmd85.sc\u001b[39m:\u001b[32m9\u001b[39m)\n  ammonite.$sess.cmd85$Helper.reverse(\u001b[32mcmd85.sc\u001b[39m:\u001b[32m9\u001b[39m)\n  ammonite.$sess.cmd85$Helper.reverse(\u001b[32mcmd85.sc\u001b[39m:\u001b[32m9\u001b[39m)\n  ammonite.$sess.cmd85$Helper.reverse(\u001b[32mcmd85.sc\u001b[39m:\u001b[32m9\u001b[39m)\n  ammonite.$sess.cmd85$Helper.reverse(\u001b[32mcmd85.sc\u001b[39m:\u001b[32m9\u001b[39m)\n  ammonite.$sess.cmd85$Helper.reverse(\u001b[32mcmd85.sc\u001b[39m:\u001b[32m9\u001b[39m)\n  ammonite.$sess.cmd85$Helper.reverse(\u001b[32mcmd85.sc\u001b[39m:\u001b[32m9\u001b[39m)\n  ammonite.$sess.cmd85$Helper.reverse(\u001b[32mcmd85.sc\u001b[39m:\u001b[32m9\u001b[39m)\n  ammonite.$sess.cmd85$Helper.reverse(\u001b[32mcmd85.sc\u001b[39m:\u001b[32m9\u001b[39m)\n  ammonite.$sess.cmd85$Helper.reverse(\u001b[32mcmd85.sc\u001b[39m:\u001b[32m9\u001b[39m)\n  ammonite.$sess.cmd85$Helper.reverse(\u001b[32mcmd85.sc\u001b[39m:\u001b[32m9\u001b[39m)\n  ammonite.$sess.cmd85$Helper.reverse(\u001b[32mcmd85.sc\u001b[39m:\u001b[32m9\u001b[39m)\n  ammonite.$sess.cmd85$Helper.reverse(\u001b[32mcmd85.sc\u001b[39m:\u001b[32m9\u001b[39m)\n  ammonite.$sess.cmd85$Helper.reverse(\u001b[32mcmd85.sc\u001b[39m:\u001b[32m9\u001b[39m)\n  ammonite.$sess.cmd85$Helper.reverse(\u001b[32mcmd85.sc\u001b[39m:\u001b[32m9\u001b[39m)\n  ammonite.$sess.cmd85$Helper.reverse(\u001b[32mcmd85.sc\u001b[39m:\u001b[32m9\u001b[39m)\n  ammonite.$sess.cmd85$Helper.reverse(\u001b[32mcmd85.sc\u001b[39m:\u001b[32m9\u001b[39m)\n  ammonite.$sess.cmd85$Helper.reverse(\u001b[32mcmd85.sc\u001b[39m:\u001b[32m9\u001b[39m)\n  ammonite.$sess.cmd85$Helper.reverse(\u001b[32mcmd85.sc\u001b[39m:\u001b[32m9\u001b[39m)\n  ammonite.$sess.cmd85$Helper.reverse(\u001b[32mcmd85.sc\u001b[39m:\u001b[32m9\u001b[39m)\n  ammonite.$sess.cmd85$Helper.reverse(\u001b[32mcmd85.sc\u001b[39m:\u001b[32m9\u001b[39m)\n  ammonite.$sess.cmd85$Helper.reverse(\u001b[32mcmd85.sc\u001b[39m:\u001b[32m9\u001b[39m)\n  ammonite.$sess.cmd85$Helper.reverse(\u001b[32mcmd85.sc\u001b[39m:\u001b[32m9\u001b[39m)\n  ammonite.$sess.cmd85$Helper.reverse(\u001b[32mcmd85.sc\u001b[39m:\u001b[32m9\u001b[39m)\n  ammonite.$sess.cmd85$Helper.reverse(\u001b[32mcmd85.sc\u001b[39m:\u001b[32m9\u001b[39m)\n  ammonite.$sess.cmd85$Helper.reverse(\u001b[32mcmd85.sc\u001b[39m:\u001b[32m9\u001b[39m)\n  ammonite.$sess.cmd85$Helper.reverse(\u001b[32mcmd85.sc\u001b[39m:\u001b[32m9\u001b[39m)\n  ammonite.$sess.cmd85$Helper.reverse(\u001b[32mcmd85.sc\u001b[39m:\u001b[32m9\u001b[39m)\n  ammonite.$sess.cmd85$Helper.reverse(\u001b[32mcmd85.sc\u001b[39m:\u001b[32m9\u001b[39m)\n  ammonite.$sess.cmd85$Helper.reverse(\u001b[32mcmd85.sc\u001b[39m:\u001b[32m9\u001b[39m)\n  ammonite.$sess.cmd85$Helper.reverse(\u001b[32mcmd85.sc\u001b[39m:\u001b[32m9\u001b[39m)\n  ammonite.$sess.cmd85$Helper.reverse(\u001b[32mcmd85.sc\u001b[39m:\u001b[32m9\u001b[39m)\n  ammonite.$sess.cmd85$Helper.reverse(\u001b[32mcmd85.sc\u001b[39m:\u001b[32m9\u001b[39m)\n  ammonite.$sess.cmd85$Helper.reverse(\u001b[32mcmd85.sc\u001b[39m:\u001b[32m9\u001b[39m)\n  ammonite.$sess.cmd85$Helper.reverse(\u001b[32mcmd85.sc\u001b[39m:\u001b[32m9\u001b[39m)\n  ammonite.$sess.cmd85$Helper.reverse(\u001b[32mcmd85.sc\u001b[39m:\u001b[32m9\u001b[39m)\n  ammonite.$sess.cmd85$Helper.reverse(\u001b[32mcmd85.sc\u001b[39m:\u001b[32m9\u001b[39m)\n  ammonite.$sess.cmd85$Helper.reverse(\u001b[32mcmd85.sc\u001b[39m:\u001b[32m9\u001b[39m)\n  ammonite.$sess.cmd85$Helper.reverse(\u001b[32mcmd85.sc\u001b[39m:\u001b[32m9\u001b[39m)\n  ammonite.$sess.cmd85$Helper.reverse(\u001b[32mcmd85.sc\u001b[39m:\u001b[32m9\u001b[39m)\n  ammonite.$sess.cmd85$Helper.reverse(\u001b[32mcmd85.sc\u001b[39m:\u001b[32m9\u001b[39m)\n  ammonite.$sess.cmd85$Helper.reverse(\u001b[32mcmd85.sc\u001b[39m:\u001b[32m9\u001b[39m)\n  ammonite.$sess.cmd85$Helper.reverse(\u001b[32mcmd85.sc\u001b[39m:\u001b[32m9\u001b[39m)\n  ammonite.$sess.cmd85$Helper.reverse(\u001b[32mcmd85.sc\u001b[39m:\u001b[32m9\u001b[39m)\n  ammonite.$sess.cmd85$Helper.reverse(\u001b[32mcmd85.sc\u001b[39m:\u001b[32m9\u001b[39m)\n  ammonite.$sess.cmd85$Helper.reverse(\u001b[32mcmd85.sc\u001b[39m:\u001b[32m9\u001b[39m)\n  ammonite.$sess.cmd85$Helper.reverse(\u001b[32mcmd85.sc\u001b[39m:\u001b[32m9\u001b[39m)\n  ammonite.$sess.cmd85$Helper.reverse(\u001b[32mcmd85.sc\u001b[39m:\u001b[32m9\u001b[39m)\n  ammonite.$sess.cmd85$Helper.reverse(\u001b[32mcmd85.sc\u001b[39m:\u001b[32m9\u001b[39m)\n  ammonite.$sess.cmd85$Helper.reverse(\u001b[32mcmd85.sc\u001b[39m:\u001b[32m9\u001b[39m)\n  ammonite.$sess.cmd85$Helper.reverse(\u001b[32mcmd85.sc\u001b[39m:\u001b[32m9\u001b[39m)\n  ammonite.$sess.cmd85$Helper.reverse(\u001b[32mcmd85.sc\u001b[39m:\u001b[32m9\u001b[39m)\n  ammonite.$sess.cmd85$Helper.reverse(\u001b[32mcmd85.sc\u001b[39m:\u001b[32m9\u001b[39m)\n  ammonite.$sess.cmd85$Helper.reverse(\u001b[32mcmd85.sc\u001b[39m:\u001b[32m9\u001b[39m)\n  ammonite.$sess.cmd85$Helper.reverse(\u001b[32mcmd85.sc\u001b[39m:\u001b[32m9\u001b[39m)\n  ammonite.$sess.cmd85$Helper.reverse(\u001b[32mcmd85.sc\u001b[39m:\u001b[32m9\u001b[39m)\n  ammonite.$sess.cmd85$Helper.reverse(\u001b[32mcmd85.sc\u001b[39m:\u001b[32m9\u001b[39m)\n  ammonite.$sess.cmd85$Helper.reverse(\u001b[32mcmd85.sc\u001b[39m:\u001b[32m9\u001b[39m)\n  ammonite.$sess.cmd85$Helper.reverse(\u001b[32mcmd85.sc\u001b[39m:\u001b[32m9\u001b[39m)\n  ammonite.$sess.cmd85$Helper.reverse(\u001b[32mcmd85.sc\u001b[39m:\u001b[32m9\u001b[39m)\n  ammonite.$sess.cmd85$Helper.reverse(\u001b[32mcmd85.sc\u001b[39m:\u001b[32m9\u001b[39m)\n  ammonite.$sess.cmd85$Helper.reverse(\u001b[32mcmd85.sc\u001b[39m:\u001b[32m9\u001b[39m)\n  ammonite.$sess.cmd85$Helper.reverse(\u001b[32mcmd85.sc\u001b[39m:\u001b[32m9\u001b[39m)\n  ammonite.$sess.cmd85$Helper.reverse(\u001b[32mcmd85.sc\u001b[39m:\u001b[32m9\u001b[39m)\n  ammonite.$sess.cmd85$Helper.reverse(\u001b[32mcmd85.sc\u001b[39m:\u001b[32m9\u001b[39m)\n  ammonite.$sess.cmd85$Helper.reverse(\u001b[32mcmd85.sc\u001b[39m:\u001b[32m9\u001b[39m)\n  ammonite.$sess.cmd85$Helper.reverse(\u001b[32mcmd85.sc\u001b[39m:\u001b[32m9\u001b[39m)\n  ammonite.$sess.cmd85$Helper.reverse(\u001b[32mcmd85.sc\u001b[39m:\u001b[32m9\u001b[39m)\n  ammonite.$sess.cmd85$Helper.reverse(\u001b[32mcmd85.sc\u001b[39m:\u001b[32m9\u001b[39m)\n  ammonite.$sess.cmd85$Helper.reverse(\u001b[32mcmd85.sc\u001b[39m:\u001b[32m9\u001b[39m)\n  ammonite.$sess.cmd85$Helper.reverse(\u001b[32mcmd85.sc\u001b[39m:\u001b[32m9\u001b[39m)\n  ammonite.$sess.cmd85$Helper.reverse(\u001b[32mcmd85.sc\u001b[39m:\u001b[32m9\u001b[39m)\n  ammonite.$sess.cmd85$Helper.reverse(\u001b[32mcmd85.sc\u001b[39m:\u001b[32m9\u001b[39m)\n  ammonite.$sess.cmd85$Helper.reverse(\u001b[32mcmd85.sc\u001b[39m:\u001b[32m9\u001b[39m)\n  ammonite.$sess.cmd85$Helper.reverse(\u001b[32mcmd85.sc\u001b[39m:\u001b[32m9\u001b[39m)\n  ammonite.$sess.cmd85$Helper.reverse(\u001b[32mcmd85.sc\u001b[39m:\u001b[32m9\u001b[39m)\n  ammonite.$sess.cmd85$Helper.reverse(\u001b[32mcmd85.sc\u001b[39m:\u001b[32m9\u001b[39m)\n  ammonite.$sess.cmd85$Helper.reverse(\u001b[32mcmd85.sc\u001b[39m:\u001b[32m9\u001b[39m)\n  ammonite.$sess.cmd85$Helper.reverse(\u001b[32mcmd85.sc\u001b[39m:\u001b[32m9\u001b[39m)\n  ammonite.$sess.cmd85$Helper.reverse(\u001b[32mcmd85.sc\u001b[39m:\u001b[32m9\u001b[39m)\n  ammonite.$sess.cmd85$Helper.reverse(\u001b[32mcmd85.sc\u001b[39m:\u001b[32m9\u001b[39m)\n  ammonite.$sess.cmd85$Helper.reverse(\u001b[32mcmd85.sc\u001b[39m:\u001b[32m9\u001b[39m)\n  ammonite.$sess.cmd85$Helper.reverse(\u001b[32mcmd85.sc\u001b[39m:\u001b[32m9\u001b[39m)\n  ammonite.$sess.cmd85$Helper.reverse(\u001b[32mcmd85.sc\u001b[39m:\u001b[32m9\u001b[39m)\n  ammonite.$sess.cmd85$Helper.reverse(\u001b[32mcmd85.sc\u001b[39m:\u001b[32m9\u001b[39m)\n  ammonite.$sess.cmd85$Helper.reverse(\u001b[32mcmd85.sc\u001b[39m:\u001b[32m9\u001b[39m)\n  ammonite.$sess.cmd85$Helper.reverse(\u001b[32mcmd85.sc\u001b[39m:\u001b[32m9\u001b[39m)\n  ammonite.$sess.cmd85$Helper.reverse(\u001b[32mcmd85.sc\u001b[39m:\u001b[32m9\u001b[39m)\n  ammonite.$sess.cmd85$Helper.reverse(\u001b[32mcmd85.sc\u001b[39m:\u001b[32m9\u001b[39m)\n  ammonite.$sess.cmd85$Helper.reverse(\u001b[32mcmd85.sc\u001b[39m:\u001b[32m9\u001b[39m)\n  ammonite.$sess.cmd85$Helper.reverse(\u001b[32mcmd85.sc\u001b[39m:\u001b[32m9\u001b[39m)\n  ammonite.$sess.cmd85$Helper.reverse(\u001b[32mcmd85.sc\u001b[39m:\u001b[32m9\u001b[39m)\n  ammonite.$sess.cmd85$Helper.reverse(\u001b[32mcmd85.sc\u001b[39m:\u001b[32m9\u001b[39m)\n  ammonite.$sess.cmd85$Helper.reverse(\u001b[32mcmd85.sc\u001b[39m:\u001b[32m9\u001b[39m)\n  ammonite.$sess.cmd85$Helper.reverse(\u001b[32mcmd85.sc\u001b[39m:\u001b[32m9\u001b[39m)\n  ammonite.$sess.cmd85$Helper.reverse(\u001b[32mcmd85.sc\u001b[39m:\u001b[32m9\u001b[39m)\n  ammonite.$sess.cmd85$Helper.reverse(\u001b[32mcmd85.sc\u001b[39m:\u001b[32m9\u001b[39m)\n  ammonite.$sess.cmd85$Helper.reverse(\u001b[32mcmd85.sc\u001b[39m:\u001b[32m9\u001b[39m)\n  ammonite.$sess.cmd85$Helper.reverse(\u001b[32mcmd85.sc\u001b[39m:\u001b[32m9\u001b[39m)\n  ammonite.$sess.cmd85$Helper.reverse(\u001b[32mcmd85.sc\u001b[39m:\u001b[32m9\u001b[39m)\n  ammonite.$sess.cmd85$Helper.reverse(\u001b[32mcmd85.sc\u001b[39m:\u001b[32m9\u001b[39m)\n  ammonite.$sess.cmd85$Helper.reverse(\u001b[32mcmd85.sc\u001b[39m:\u001b[32m9\u001b[39m)\n  ammonite.$sess.cmd85$Helper.reverse(\u001b[32mcmd85.sc\u001b[39m:\u001b[32m9\u001b[39m)\n  ammonite.$sess.cmd85$Helper.reverse(\u001b[32mcmd85.sc\u001b[39m:\u001b[32m9\u001b[39m)\n  ammonite.$sess.cmd85$Helper.reverse(\u001b[32mcmd85.sc\u001b[39m:\u001b[32m9\u001b[39m)\n  ammonite.$sess.cmd85$Helper.reverse(\u001b[32mcmd85.sc\u001b[39m:\u001b[32m9\u001b[39m)\n  ammonite.$sess.cmd85$Helper.reverse(\u001b[32mcmd85.sc\u001b[39m:\u001b[32m9\u001b[39m)\n  ammonite.$sess.cmd85$Helper.reverse(\u001b[32mcmd85.sc\u001b[39m:\u001b[32m9\u001b[39m)\n  ammonite.$sess.cmd85$Helper.reverse(\u001b[32mcmd85.sc\u001b[39m:\u001b[32m9\u001b[39m)\n  ammonite.$sess.cmd85$Helper.reverse(\u001b[32mcmd85.sc\u001b[39m:\u001b[32m9\u001b[39m)\n  ammonite.$sess.cmd85$Helper.reverse(\u001b[32mcmd85.sc\u001b[39m:\u001b[32m9\u001b[39m)\n  ammonite.$sess.cmd85$Helper.reverse(\u001b[32mcmd85.sc\u001b[39m:\u001b[32m9\u001b[39m)\n  ammonite.$sess.cmd85$Helper.reverse(\u001b[32mcmd85.sc\u001b[39m:\u001b[32m9\u001b[39m)\n  ammonite.$sess.cmd85$Helper.reverse(\u001b[32mcmd85.sc\u001b[39m:\u001b[32m9\u001b[39m)\n  ammonite.$sess.cmd85$Helper.reverse(\u001b[32mcmd85.sc\u001b[39m:\u001b[32m9\u001b[39m)\n  ammonite.$sess.cmd85$Helper.reverse(\u001b[32mcmd85.sc\u001b[39m:\u001b[32m9\u001b[39m)\n  ammonite.$sess.cmd85$Helper.reverse(\u001b[32mcmd85.sc\u001b[39m:\u001b[32m9\u001b[39m)\n  ammonite.$sess.cmd85$Helper.reverse(\u001b[32mcmd85.sc\u001b[39m:\u001b[32m9\u001b[39m)\n  ammonite.$sess.cmd85$Helper.reverse(\u001b[32mcmd85.sc\u001b[39m:\u001b[32m9\u001b[39m)\n  ammonite.$sess.cmd85$Helper.reverse(\u001b[32mcmd85.sc\u001b[39m:\u001b[32m9\u001b[39m)\n  ammonite.$sess.cmd85$Helper.reverse(\u001b[32mcmd85.sc\u001b[39m:\u001b[32m9\u001b[39m)\n  ammonite.$sess.cmd85$Helper.reverse(\u001b[32mcmd85.sc\u001b[39m:\u001b[32m9\u001b[39m)\n  ammonite.$sess.cmd85$Helper.reverse(\u001b[32mcmd85.sc\u001b[39m:\u001b[32m9\u001b[39m)\n  ammonite.$sess.cmd85$Helper.reverse(\u001b[32mcmd85.sc\u001b[39m:\u001b[32m9\u001b[39m)\n  ammonite.$sess.cmd85$Helper.reverse(\u001b[32mcmd85.sc\u001b[39m:\u001b[32m9\u001b[39m)\n  ammonite.$sess.cmd85$Helper.reverse(\u001b[32mcmd85.sc\u001b[39m:\u001b[32m9\u001b[39m)\n  ammonite.$sess.cmd85$Helper.reverse(\u001b[32mcmd85.sc\u001b[39m:\u001b[32m9\u001b[39m)\n  ammonite.$sess.cmd85$Helper.reverse(\u001b[32mcmd85.sc\u001b[39m:\u001b[32m9\u001b[39m)\n  ammonite.$sess.cmd85$Helper.reverse(\u001b[32mcmd85.sc\u001b[39m:\u001b[32m9\u001b[39m)\n  ammonite.$sess.cmd85$Helper.reverse(\u001b[32mcmd85.sc\u001b[39m:\u001b[32m9\u001b[39m)\n  ammonite.$sess.cmd85$Helper.reverse(\u001b[32mcmd85.sc\u001b[39m:\u001b[32m9\u001b[39m)\n  ammonite.$sess.cmd85$Helper.reverse(\u001b[32mcmd85.sc\u001b[39m:\u001b[32m9\u001b[39m)\n  ammonite.$sess.cmd85$Helper.reverse(\u001b[32mcmd85.sc\u001b[39m:\u001b[32m9\u001b[39m)\n  ammonite.$sess.cmd85$Helper.reverse(\u001b[32mcmd85.sc\u001b[39m:\u001b[32m9\u001b[39m)\n  ammonite.$sess.cmd85$Helper.reverse(\u001b[32mcmd85.sc\u001b[39m:\u001b[32m9\u001b[39m)\n  ammonite.$sess.cmd85$Helper.reverse(\u001b[32mcmd85.sc\u001b[39m:\u001b[32m9\u001b[39m)\n  ammonite.$sess.cmd85$Helper.reverse(\u001b[32mcmd85.sc\u001b[39m:\u001b[32m9\u001b[39m)\n  ammonite.$sess.cmd85$Helper.reverse(\u001b[32mcmd85.sc\u001b[39m:\u001b[32m9\u001b[39m)\n  ammonite.$sess.cmd85$Helper.reverse(\u001b[32mcmd85.sc\u001b[39m:\u001b[32m9\u001b[39m)\n  ammonite.$sess.cmd85$Helper.reverse(\u001b[32mcmd85.sc\u001b[39m:\u001b[32m9\u001b[39m)\n  ammonite.$sess.cmd85$Helper.reverse(\u001b[32mcmd85.sc\u001b[39m:\u001b[32m9\u001b[39m)\n  ammonite.$sess.cmd85$Helper.reverse(\u001b[32mcmd85.sc\u001b[39m:\u001b[32m9\u001b[39m)\n  ammonite.$sess.cmd85$Helper.reverse(\u001b[32mcmd85.sc\u001b[39m:\u001b[32m9\u001b[39m)\n  ammonite.$sess.cmd85$Helper.reverse(\u001b[32mcmd85.sc\u001b[39m:\u001b[32m9\u001b[39m)\n  ammonite.$sess.cmd85$Helper.reverse(\u001b[32mcmd85.sc\u001b[39m:\u001b[32m9\u001b[39m)\n  ammonite.$sess.cmd85$Helper.reverse(\u001b[32mcmd85.sc\u001b[39m:\u001b[32m9\u001b[39m)\n  ammonite.$sess.cmd85$Helper.reverse(\u001b[32mcmd85.sc\u001b[39m:\u001b[32m9\u001b[39m)\n  ammonite.$sess.cmd85$Helper.reverse(\u001b[32mcmd85.sc\u001b[39m:\u001b[32m9\u001b[39m)\n  ammonite.$sess.cmd85$Helper.reverse(\u001b[32mcmd85.sc\u001b[39m:\u001b[32m9\u001b[39m)\n  ammonite.$sess.cmd85$Helper.reverse(\u001b[32mcmd85.sc\u001b[39m:\u001b[32m9\u001b[39m)\n  ammonite.$sess.cmd85$Helper.reverse(\u001b[32mcmd85.sc\u001b[39m:\u001b[32m9\u001b[39m)\n  ammonite.$sess.cmd85$Helper.reverse(\u001b[32mcmd85.sc\u001b[39m:\u001b[32m9\u001b[39m)\n  ammonite.$sess.cmd85$Helper.reverse(\u001b[32mcmd85.sc\u001b[39m:\u001b[32m9\u001b[39m)\n  ammonite.$sess.cmd85$Helper.reverse(\u001b[32mcmd85.sc\u001b[39m:\u001b[32m9\u001b[39m)\n  ammonite.$sess.cmd85$Helper.reverse(\u001b[32mcmd85.sc\u001b[39m:\u001b[32m9\u001b[39m)\n  ammonite.$sess.cmd85$Helper.reverse(\u001b[32mcmd85.sc\u001b[39m:\u001b[32m9\u001b[39m)\n  ammonite.$sess.cmd85$Helper.reverse(\u001b[32mcmd85.sc\u001b[39m:\u001b[32m9\u001b[39m)\n  ammonite.$sess.cmd85$Helper.reverse(\u001b[32mcmd85.sc\u001b[39m:\u001b[32m9\u001b[39m)\n  ammonite.$sess.cmd85$Helper.reverse(\u001b[32mcmd85.sc\u001b[39m:\u001b[32m9\u001b[39m)\n  ammonite.$sess.cmd85$Helper.reverse(\u001b[32mcmd85.sc\u001b[39m:\u001b[32m9\u001b[39m)\n  ammonite.$sess.cmd85$Helper.reverse(\u001b[32mcmd85.sc\u001b[39m:\u001b[32m9\u001b[39m)\n  ammonite.$sess.cmd85$Helper.reverse(\u001b[32mcmd85.sc\u001b[39m:\u001b[32m9\u001b[39m)\n  ammonite.$sess.cmd85$Helper.reverse(\u001b[32mcmd85.sc\u001b[39m:\u001b[32m9\u001b[39m)\n  ammonite.$sess.cmd85$Helper.reverse(\u001b[32mcmd85.sc\u001b[39m:\u001b[32m9\u001b[39m)\n  ammonite.$sess.cmd85$Helper.reverse(\u001b[32mcmd85.sc\u001b[39m:\u001b[32m9\u001b[39m)\n  ammonite.$sess.cmd85$Helper.reverse(\u001b[32mcmd85.sc\u001b[39m:\u001b[32m9\u001b[39m)\n  ammonite.$sess.cmd85$Helper.reverse(\u001b[32mcmd85.sc\u001b[39m:\u001b[32m9\u001b[39m)\n  ammonite.$sess.cmd85$Helper.reverse(\u001b[32mcmd85.sc\u001b[39m:\u001b[32m9\u001b[39m)\n  ammonite.$sess.cmd85$Helper.reverse(\u001b[32mcmd85.sc\u001b[39m:\u001b[32m9\u001b[39m)\n  ammonite.$sess.cmd85$Helper.reverse(\u001b[32mcmd85.sc\u001b[39m:\u001b[32m9\u001b[39m)\n  ammonite.$sess.cmd85$Helper.reverse(\u001b[32mcmd85.sc\u001b[39m:\u001b[32m9\u001b[39m)\n  ammonite.$sess.cmd85$Helper.reverse(\u001b[32mcmd85.sc\u001b[39m:\u001b[32m9\u001b[39m)\n  ammonite.$sess.cmd85$Helper.reverse(\u001b[32mcmd85.sc\u001b[39m:\u001b[32m9\u001b[39m)\n  ammonite.$sess.cmd85$Helper.reverse(\u001b[32mcmd85.sc\u001b[39m:\u001b[32m9\u001b[39m)\n  ammonite.$sess.cmd85$Helper.reverse(\u001b[32mcmd85.sc\u001b[39m:\u001b[32m9\u001b[39m)\n  ammonite.$sess.cmd85$Helper.reverse(\u001b[32mcmd85.sc\u001b[39m:\u001b[32m9\u001b[39m)\n  ammonite.$sess.cmd85$Helper.reverse(\u001b[32mcmd85.sc\u001b[39m:\u001b[32m9\u001b[39m)\n  ammonite.$sess.cmd85$Helper.reverse(\u001b[32mcmd85.sc\u001b[39m:\u001b[32m9\u001b[39m)\n  ammonite.$sess.cmd85$Helper.reverse(\u001b[32mcmd85.sc\u001b[39m:\u001b[32m9\u001b[39m)\n  ammonite.$sess.cmd85$Helper.reverse(\u001b[32mcmd85.sc\u001b[39m:\u001b[32m9\u001b[39m)\n  ammonite.$sess.cmd85$Helper.reverse(\u001b[32mcmd85.sc\u001b[39m:\u001b[32m9\u001b[39m)\n  ammonite.$sess.cmd85$Helper.reverse(\u001b[32mcmd85.sc\u001b[39m:\u001b[32m9\u001b[39m)\n  ammonite.$sess.cmd85$Helper.reverse(\u001b[32mcmd85.sc\u001b[39m:\u001b[32m9\u001b[39m)\n  ammonite.$sess.cmd85$Helper.reverse(\u001b[32mcmd85.sc\u001b[39m:\u001b[32m9\u001b[39m)\n  ammonite.$sess.cmd85$Helper.reverse(\u001b[32mcmd85.sc\u001b[39m:\u001b[32m9\u001b[39m)\n  ammonite.$sess.cmd85$Helper.reverse(\u001b[32mcmd85.sc\u001b[39m:\u001b[32m9\u001b[39m)\n  ammonite.$sess.cmd85$Helper.reverse(\u001b[32mcmd85.sc\u001b[39m:\u001b[32m9\u001b[39m)\n  ammonite.$sess.cmd85$Helper.reverse(\u001b[32mcmd85.sc\u001b[39m:\u001b[32m9\u001b[39m)\n  ammonite.$sess.cmd85$Helper.reverse(\u001b[32mcmd85.sc\u001b[39m:\u001b[32m9\u001b[39m)\n  ammonite.$sess.cmd85$Helper.reverse(\u001b[32mcmd85.sc\u001b[39m:\u001b[32m9\u001b[39m)\n  ammonite.$sess.cmd85$Helper.reverse(\u001b[32mcmd85.sc\u001b[39m:\u001b[32m9\u001b[39m)\n  ammonite.$sess.cmd85$Helper.reverse(\u001b[32mcmd85.sc\u001b[39m:\u001b[32m9\u001b[39m)\n  ammonite.$sess.cmd85$Helper.reverse(\u001b[32mcmd85.sc\u001b[39m:\u001b[32m9\u001b[39m)\n  ammonite.$sess.cmd85$Helper.reverse(\u001b[32mcmd85.sc\u001b[39m:\u001b[32m9\u001b[39m)\n  ammonite.$sess.cmd85$Helper.reverse(\u001b[32mcmd85.sc\u001b[39m:\u001b[32m9\u001b[39m)\n  ammonite.$sess.cmd85$Helper.reverse(\u001b[32mcmd85.sc\u001b[39m:\u001b[32m9\u001b[39m)\n  ammonite.$sess.cmd85$Helper.reverse(\u001b[32mcmd85.sc\u001b[39m:\u001b[32m9\u001b[39m)\n  ammonite.$sess.cmd85$Helper.reverse(\u001b[32mcmd85.sc\u001b[39m:\u001b[32m9\u001b[39m)\n  ammonite.$sess.cmd85$Helper.reverse(\u001b[32mcmd85.sc\u001b[39m:\u001b[32m9\u001b[39m)\n  ammonite.$sess.cmd85$Helper.reverse(\u001b[32mcmd85.sc\u001b[39m:\u001b[32m9\u001b[39m)\n  ammonite.$sess.cmd85$Helper.reverse(\u001b[32mcmd85.sc\u001b[39m:\u001b[32m9\u001b[39m)\n  ammonite.$sess.cmd85$Helper.reverse(\u001b[32mcmd85.sc\u001b[39m:\u001b[32m9\u001b[39m)\n  ammonite.$sess.cmd85$Helper.reverse(\u001b[32mcmd85.sc\u001b[39m:\u001b[32m9\u001b[39m)\n  ammonite.$sess.cmd85$Helper.reverse(\u001b[32mcmd85.sc\u001b[39m:\u001b[32m9\u001b[39m)\n  ammonite.$sess.cmd85$Helper.reverse(\u001b[32mcmd85.sc\u001b[39m:\u001b[32m9\u001b[39m)\n  ammonite.$sess.cmd85$Helper.reverse(\u001b[32mcmd85.sc\u001b[39m:\u001b[32m9\u001b[39m)\n  ammonite.$sess.cmd85$Helper.reverse(\u001b[32mcmd85.sc\u001b[39m:\u001b[32m9\u001b[39m)\n  ammonite.$sess.cmd85$Helper.reverse(\u001b[32mcmd85.sc\u001b[39m:\u001b[32m9\u001b[39m)\n  ammonite.$sess.cmd85$Helper.reverse(\u001b[32mcmd85.sc\u001b[39m:\u001b[32m9\u001b[39m)\n  ammonite.$sess.cmd85$Helper.reverse(\u001b[32mcmd85.sc\u001b[39m:\u001b[32m9\u001b[39m)\n  ammonite.$sess.cmd85$Helper.reverse(\u001b[32mcmd85.sc\u001b[39m:\u001b[32m9\u001b[39m)\n  ammonite.$sess.cmd85$Helper.reverse(\u001b[32mcmd85.sc\u001b[39m:\u001b[32m9\u001b[39m)\n  ammonite.$sess.cmd85$Helper.reverse(\u001b[32mcmd85.sc\u001b[39m:\u001b[32m9\u001b[39m)\n  ammonite.$sess.cmd85$Helper.reverse(\u001b[32mcmd85.sc\u001b[39m:\u001b[32m9\u001b[39m)\n  ammonite.$sess.cmd85$Helper.reverse(\u001b[32mcmd85.sc\u001b[39m:\u001b[32m9\u001b[39m)\n  ammonite.$sess.cmd85$Helper.reverse(\u001b[32mcmd85.sc\u001b[39m:\u001b[32m9\u001b[39m)\n  ammonite.$sess.cmd85$Helper.reverse(\u001b[32mcmd85.sc\u001b[39m:\u001b[32m9\u001b[39m)\n  ammonite.$sess.cmd85$Helper.reverse(\u001b[32mcmd85.sc\u001b[39m:\u001b[32m9\u001b[39m)\n  ammonite.$sess.cmd85$Helper.reverse(\u001b[32mcmd85.sc\u001b[39m:\u001b[32m9\u001b[39m)\n  ammonite.$sess.cmd85$Helper.reverse(\u001b[32mcmd85.sc\u001b[39m:\u001b[32m9\u001b[39m)\n  ammonite.$sess.cmd85$Helper.reverse(\u001b[32mcmd85.sc\u001b[39m:\u001b[32m9\u001b[39m)\n  ammonite.$sess.cmd85$Helper.reverse(\u001b[32mcmd85.sc\u001b[39m:\u001b[32m9\u001b[39m)\n  ammonite.$sess.cmd85$Helper.reverse(\u001b[32mcmd85.sc\u001b[39m:\u001b[32m9\u001b[39m)\n  ammonite.$sess.cmd85$Helper.reverse(\u001b[32mcmd85.sc\u001b[39m:\u001b[32m9\u001b[39m)\n  ammonite.$sess.cmd85$Helper.reverse(\u001b[32mcmd85.sc\u001b[39m:\u001b[32m9\u001b[39m)\n  ammonite.$sess.cmd85$Helper.reverse(\u001b[32mcmd85.sc\u001b[39m:\u001b[32m9\u001b[39m)\n  ammonite.$sess.cmd85$Helper.reverse(\u001b[32mcmd85.sc\u001b[39m:\u001b[32m9\u001b[39m)\n  ammonite.$sess.cmd85$Helper.reverse(\u001b[32mcmd85.sc\u001b[39m:\u001b[32m9\u001b[39m)\n  ammonite.$sess.cmd85$Helper.reverse(\u001b[32mcmd85.sc\u001b[39m:\u001b[32m9\u001b[39m)\n  ammonite.$sess.cmd85$Helper.reverse(\u001b[32mcmd85.sc\u001b[39m:\u001b[32m9\u001b[39m)\n  ammonite.$sess.cmd85$Helper.reverse(\u001b[32mcmd85.sc\u001b[39m:\u001b[32m9\u001b[39m)\n  ammonite.$sess.cmd85$Helper.reverse(\u001b[32mcmd85.sc\u001b[39m:\u001b[32m9\u001b[39m)\n  ammonite.$sess.cmd85$Helper.reverse(\u001b[32mcmd85.sc\u001b[39m:\u001b[32m9\u001b[39m)\n  ammonite.$sess.cmd85$Helper.reverse(\u001b[32mcmd85.sc\u001b[39m:\u001b[32m9\u001b[39m)\n  ammonite.$sess.cmd85$Helper.reverse(\u001b[32mcmd85.sc\u001b[39m:\u001b[32m9\u001b[39m)\n  ammonite.$sess.cmd85$Helper.reverse(\u001b[32mcmd85.sc\u001b[39m:\u001b[32m9\u001b[39m)\n  ammonite.$sess.cmd85$Helper.reverse(\u001b[32mcmd85.sc\u001b[39m:\u001b[32m9\u001b[39m)\n  ammonite.$sess.cmd85$Helper.reverse(\u001b[32mcmd85.sc\u001b[39m:\u001b[32m9\u001b[39m)\n  ammonite.$sess.cmd85$Helper.reverse(\u001b[32mcmd85.sc\u001b[39m:\u001b[32m9\u001b[39m)\n  ammonite.$sess.cmd85$Helper.reverse(\u001b[32mcmd85.sc\u001b[39m:\u001b[32m9\u001b[39m)\n  ammonite.$sess.cmd85$Helper.reverse(\u001b[32mcmd85.sc\u001b[39m:\u001b[32m9\u001b[39m)\n  ammonite.$sess.cmd85$Helper.reverse(\u001b[32mcmd85.sc\u001b[39m:\u001b[32m9\u001b[39m)\n  ammonite.$sess.cmd85$Helper.reverse(\u001b[32mcmd85.sc\u001b[39m:\u001b[32m9\u001b[39m)\n  ammonite.$sess.cmd85$Helper.reverse(\u001b[32mcmd85.sc\u001b[39m:\u001b[32m9\u001b[39m)\n  ammonite.$sess.cmd85$Helper.reverse(\u001b[32mcmd85.sc\u001b[39m:\u001b[32m9\u001b[39m)\n  ammonite.$sess.cmd85$Helper.reverse(\u001b[32mcmd85.sc\u001b[39m:\u001b[32m9\u001b[39m)\n  ammonite.$sess.cmd85$Helper.reverse(\u001b[32mcmd85.sc\u001b[39m:\u001b[32m9\u001b[39m)\n  ammonite.$sess.cmd85$Helper.reverse(\u001b[32mcmd85.sc\u001b[39m:\u001b[32m9\u001b[39m)\n  ammonite.$sess.cmd85$Helper.reverse(\u001b[32mcmd85.sc\u001b[39m:\u001b[32m9\u001b[39m)\n  ammonite.$sess.cmd85$Helper.reverse(\u001b[32mcmd85.sc\u001b[39m:\u001b[32m9\u001b[39m)\n  ammonite.$sess.cmd85$Helper.reverse(\u001b[32mcmd85.sc\u001b[39m:\u001b[32m9\u001b[39m)\n  ammonite.$sess.cmd85$Helper.reverse(\u001b[32mcmd85.sc\u001b[39m:\u001b[32m9\u001b[39m)\n  ammonite.$sess.cmd85$Helper.reverse(\u001b[32mcmd85.sc\u001b[39m:\u001b[32m9\u001b[39m)\n  ammonite.$sess.cmd85$Helper.reverse(\u001b[32mcmd85.sc\u001b[39m:\u001b[32m9\u001b[39m)\n  ammonite.$sess.cmd85$Helper.reverse(\u001b[32mcmd85.sc\u001b[39m:\u001b[32m9\u001b[39m)\n  ammonite.$sess.cmd85$Helper.reverse(\u001b[32mcmd85.sc\u001b[39m:\u001b[32m9\u001b[39m)\n  ammonite.$sess.cmd85$Helper.reverse(\u001b[32mcmd85.sc\u001b[39m:\u001b[32m9\u001b[39m)\n  ammonite.$sess.cmd85$Helper.reverse(\u001b[32mcmd85.sc\u001b[39m:\u001b[32m9\u001b[39m)\n  ammonite.$sess.cmd85$Helper.reverse(\u001b[32mcmd85.sc\u001b[39m:\u001b[32m9\u001b[39m)\n  ammonite.$sess.cmd85$Helper.reverse(\u001b[32mcmd85.sc\u001b[39m:\u001b[32m9\u001b[39m)\n  ammonite.$sess.cmd85$Helper.reverse(\u001b[32mcmd85.sc\u001b[39m:\u001b[32m9\u001b[39m)\n  ammonite.$sess.cmd85$Helper.reverse(\u001b[32mcmd85.sc\u001b[39m:\u001b[32m9\u001b[39m)\n  ammonite.$sess.cmd85$Helper.reverse(\u001b[32mcmd85.sc\u001b[39m:\u001b[32m9\u001b[39m)\n  ammonite.$sess.cmd85$Helper.reverse(\u001b[32mcmd85.sc\u001b[39m:\u001b[32m9\u001b[39m)\n  ammonite.$sess.cmd85$Helper.reverse(\u001b[32mcmd85.sc\u001b[39m:\u001b[32m9\u001b[39m)\n  ammonite.$sess.cmd85$Helper.reverse(\u001b[32mcmd85.sc\u001b[39m:\u001b[32m9\u001b[39m)\n  ammonite.$sess.cmd85$Helper.reverse(\u001b[32mcmd85.sc\u001b[39m:\u001b[32m9\u001b[39m)\n  ammonite.$sess.cmd85$Helper.reverse(\u001b[32mcmd85.sc\u001b[39m:\u001b[32m9\u001b[39m)\n  ammonite.$sess.cmd85$Helper.reverse(\u001b[32mcmd85.sc\u001b[39m:\u001b[32m9\u001b[39m)\n  ammonite.$sess.cmd85$Helper.reverse(\u001b[32mcmd85.sc\u001b[39m:\u001b[32m9\u001b[39m)\n  ammonite.$sess.cmd85$Helper.reverse(\u001b[32mcmd85.sc\u001b[39m:\u001b[32m9\u001b[39m)\n  ammonite.$sess.cmd85$Helper.reverse(\u001b[32mcmd85.sc\u001b[39m:\u001b[32m9\u001b[39m)\n  ammonite.$sess.cmd85$Helper.reverse(\u001b[32mcmd85.sc\u001b[39m:\u001b[32m9\u001b[39m)\n  ammonite.$sess.cmd85$Helper.reverse(\u001b[32mcmd85.sc\u001b[39m:\u001b[32m9\u001b[39m)\n  ammonite.$sess.cmd85$Helper.reverse(\u001b[32mcmd85.sc\u001b[39m:\u001b[32m9\u001b[39m)\n  ammonite.$sess.cmd85$Helper.reverse(\u001b[32mcmd85.sc\u001b[39m:\u001b[32m9\u001b[39m)\n  ammonite.$sess.cmd85$Helper.reverse(\u001b[32mcmd85.sc\u001b[39m:\u001b[32m9\u001b[39m)\n  ammonite.$sess.cmd85$Helper.reverse(\u001b[32mcmd85.sc\u001b[39m:\u001b[32m9\u001b[39m)\n  ammonite.$sess.cmd85$Helper.reverse(\u001b[32mcmd85.sc\u001b[39m:\u001b[32m9\u001b[39m)\n  ammonite.$sess.cmd85$Helper.reverse(\u001b[32mcmd85.sc\u001b[39m:\u001b[32m9\u001b[39m)\n  ammonite.$sess.cmd85$Helper.reverse(\u001b[32mcmd85.sc\u001b[39m:\u001b[32m9\u001b[39m)\n  ammonite.$sess.cmd85$Helper.reverse(\u001b[32mcmd85.sc\u001b[39m:\u001b[32m9\u001b[39m)\n  ammonite.$sess.cmd85$Helper.reverse(\u001b[32mcmd85.sc\u001b[39m:\u001b[32m9\u001b[39m)\n  ammonite.$sess.cmd85$Helper.reverse(\u001b[32mcmd85.sc\u001b[39m:\u001b[32m9\u001b[39m)\n  ammonite.$sess.cmd85$Helper.reverse(\u001b[32mcmd85.sc\u001b[39m:\u001b[32m9\u001b[39m)\n  ammonite.$sess.cmd85$Helper.reverse(\u001b[32mcmd85.sc\u001b[39m:\u001b[32m9\u001b[39m)\n  ammonite.$sess.cmd85$Helper.reverse(\u001b[32mcmd85.sc\u001b[39m:\u001b[32m9\u001b[39m)\n  ammonite.$sess.cmd85$Helper.reverse(\u001b[32mcmd85.sc\u001b[39m:\u001b[32m9\u001b[39m)\n  ammonite.$sess.cmd85$Helper.reverse(\u001b[32mcmd85.sc\u001b[39m:\u001b[32m9\u001b[39m)\n  ammonite.$sess.cmd85$Helper.reverse(\u001b[32mcmd85.sc\u001b[39m:\u001b[32m9\u001b[39m)\n  ammonite.$sess.cmd85$Helper.reverse(\u001b[32mcmd85.sc\u001b[39m:\u001b[32m9\u001b[39m)\n  ammonite.$sess.cmd85$Helper.reverse(\u001b[32mcmd85.sc\u001b[39m:\u001b[32m9\u001b[39m)\n  ammonite.$sess.cmd85$Helper.reverse(\u001b[32mcmd85.sc\u001b[39m:\u001b[32m9\u001b[39m)\n  ammonite.$sess.cmd85$Helper.reverse(\u001b[32mcmd85.sc\u001b[39m:\u001b[32m9\u001b[39m)\n  ammonite.$sess.cmd85$Helper.reverse(\u001b[32mcmd85.sc\u001b[39m:\u001b[32m9\u001b[39m)\n  ammonite.$sess.cmd85$Helper.reverse(\u001b[32mcmd85.sc\u001b[39m:\u001b[32m9\u001b[39m)\n  ammonite.$sess.cmd85$Helper.reverse(\u001b[32mcmd85.sc\u001b[39m:\u001b[32m9\u001b[39m)\n  ammonite.$sess.cmd85$Helper.reverse(\u001b[32mcmd85.sc\u001b[39m:\u001b[32m9\u001b[39m)\n  ammonite.$sess.cmd85$Helper.reverse(\u001b[32mcmd85.sc\u001b[39m:\u001b[32m9\u001b[39m)\n  ammonite.$sess.cmd85$Helper.reverse(\u001b[32mcmd85.sc\u001b[39m:\u001b[32m9\u001b[39m)\n  ammonite.$sess.cmd85$Helper.reverse(\u001b[32mcmd85.sc\u001b[39m:\u001b[32m9\u001b[39m)\n  ammonite.$sess.cmd85$Helper.reverse(\u001b[32mcmd85.sc\u001b[39m:\u001b[32m9\u001b[39m)\n  ammonite.$sess.cmd85$Helper.reverse(\u001b[32mcmd85.sc\u001b[39m:\u001b[32m9\u001b[39m)\n  ammonite.$sess.cmd85$Helper.reverse(\u001b[32mcmd85.sc\u001b[39m:\u001b[32m9\u001b[39m)\n  ammonite.$sess.cmd85$Helper.reverse(\u001b[32mcmd85.sc\u001b[39m:\u001b[32m9\u001b[39m)\n  ammonite.$sess.cmd85$Helper.reverse(\u001b[32mcmd85.sc\u001b[39m:\u001b[32m9\u001b[39m)\n  ammonite.$sess.cmd85$Helper.reverse(\u001b[32mcmd85.sc\u001b[39m:\u001b[32m9\u001b[39m)\n  ammonite.$sess.cmd85$Helper.reverse(\u001b[32mcmd85.sc\u001b[39m:\u001b[32m9\u001b[39m)\n  ammonite.$sess.cmd85$Helper.reverse(\u001b[32mcmd85.sc\u001b[39m:\u001b[32m9\u001b[39m)\n  ammonite.$sess.cmd85$Helper.reverse(\u001b[32mcmd85.sc\u001b[39m:\u001b[32m9\u001b[39m)\n  ammonite.$sess.cmd85$Helper.reverse(\u001b[32mcmd85.sc\u001b[39m:\u001b[32m9\u001b[39m)\n  ammonite.$sess.cmd85$Helper.reverse(\u001b[32mcmd85.sc\u001b[39m:\u001b[32m9\u001b[39m)\n  ammonite.$sess.cmd85$Helper.reverse(\u001b[32mcmd85.sc\u001b[39m:\u001b[32m9\u001b[39m)\n  ammonite.$sess.cmd85$Helper.reverse(\u001b[32mcmd85.sc\u001b[39m:\u001b[32m9\u001b[39m)\n  ammonite.$sess.cmd85$Helper.reverse(\u001b[32mcmd85.sc\u001b[39m:\u001b[32m9\u001b[39m)\n  ammonite.$sess.cmd85$Helper.reverse(\u001b[32mcmd85.sc\u001b[39m:\u001b[32m9\u001b[39m)\n  ammonite.$sess.cmd85$Helper.reverse(\u001b[32mcmd85.sc\u001b[39m:\u001b[32m9\u001b[39m)\n  ammonite.$sess.cmd85$Helper.reverse(\u001b[32mcmd85.sc\u001b[39m:\u001b[32m9\u001b[39m)\n  ammonite.$sess.cmd85$Helper.reverse(\u001b[32mcmd85.sc\u001b[39m:\u001b[32m9\u001b[39m)\n  ammonite.$sess.cmd85$Helper.reverse(\u001b[32mcmd85.sc\u001b[39m:\u001b[32m9\u001b[39m)\n  ammonite.$sess.cmd85$Helper.reverse(\u001b[32mcmd85.sc\u001b[39m:\u001b[32m9\u001b[39m)\n  ammonite.$sess.cmd85$Helper.reverse(\u001b[32mcmd85.sc\u001b[39m:\u001b[32m9\u001b[39m)\n  ammonite.$sess.cmd85$Helper.reverse(\u001b[32mcmd85.sc\u001b[39m:\u001b[32m9\u001b[39m)\n  ammonite.$sess.cmd85$Helper.reverse(\u001b[32mcmd85.sc\u001b[39m:\u001b[32m9\u001b[39m)\n  ammonite.$sess.cmd85$Helper.reverse(\u001b[32mcmd85.sc\u001b[39m:\u001b[32m9\u001b[39m)\n  ammonite.$sess.cmd85$Helper.reverse(\u001b[32mcmd85.sc\u001b[39m:\u001b[32m9\u001b[39m)\n  ammonite.$sess.cmd85$Helper.reverse(\u001b[32mcmd85.sc\u001b[39m:\u001b[32m9\u001b[39m)\n  ammonite.$sess.cmd85$Helper.reverse(\u001b[32mcmd85.sc\u001b[39m:\u001b[32m9\u001b[39m)\n  ammonite.$sess.cmd85$Helper.reverse(\u001b[32mcmd85.sc\u001b[39m:\u001b[32m9\u001b[39m)\n  ammonite.$sess.cmd85$Helper.reverse(\u001b[32mcmd85.sc\u001b[39m:\u001b[32m9\u001b[39m)\n  ammonite.$sess.cmd85$Helper.reverse(\u001b[32mcmd85.sc\u001b[39m:\u001b[32m9\u001b[39m)\n  ammonite.$sess.cmd85$Helper.reverse(\u001b[32mcmd85.sc\u001b[39m:\u001b[32m9\u001b[39m)\n  ammonite.$sess.cmd85$Helper.reverse(\u001b[32mcmd85.sc\u001b[39m:\u001b[32m9\u001b[39m)\n  ammonite.$sess.cmd85$Helper.reverse(\u001b[32mcmd85.sc\u001b[39m:\u001b[32m9\u001b[39m)\n  ammonite.$sess.cmd85$Helper.reverse(\u001b[32mcmd85.sc\u001b[39m:\u001b[32m9\u001b[39m)\n  ammonite.$sess.cmd85$Helper.reverse(\u001b[32mcmd85.sc\u001b[39m:\u001b[32m9\u001b[39m)\n  ammonite.$sess.cmd85$Helper.reverse(\u001b[32mcmd85.sc\u001b[39m:\u001b[32m9\u001b[39m)\n  ammonite.$sess.cmd85$Helper.reverse(\u001b[32mcmd85.sc\u001b[39m:\u001b[32m9\u001b[39m)\n  ammonite.$sess.cmd85$Helper.reverse(\u001b[32mcmd85.sc\u001b[39m:\u001b[32m9\u001b[39m)\n  ammonite.$sess.cmd85$Helper.reverse(\u001b[32mcmd85.sc\u001b[39m:\u001b[32m9\u001b[39m)\n  ammonite.$sess.cmd85$Helper.reverse(\u001b[32mcmd85.sc\u001b[39m:\u001b[32m9\u001b[39m)\n  ammonite.$sess.cmd85$Helper.reverse(\u001b[32mcmd85.sc\u001b[39m:\u001b[32m9\u001b[39m)\n  ammonite.$sess.cmd85$Helper.reverse(\u001b[32mcmd85.sc\u001b[39m:\u001b[32m9\u001b[39m)\n  ammonite.$sess.cmd85$Helper.reverse(\u001b[32mcmd85.sc\u001b[39m:\u001b[32m9\u001b[39m)\n  ammonite.$sess.cmd85$Helper.reverse(\u001b[32mcmd85.sc\u001b[39m:\u001b[32m9\u001b[39m)\n  ammonite.$sess.cmd85$Helper.reverse(\u001b[32mcmd85.sc\u001b[39m:\u001b[32m9\u001b[39m)\n  ammonite.$sess.cmd85$Helper.reverse(\u001b[32mcmd85.sc\u001b[39m:\u001b[32m9\u001b[39m)\n  ammonite.$sess.cmd85$Helper.reverse(\u001b[32mcmd85.sc\u001b[39m:\u001b[32m9\u001b[39m)\n  ammonite.$sess.cmd85$Helper.reverse(\u001b[32mcmd85.sc\u001b[39m:\u001b[32m9\u001b[39m)\n  ammonite.$sess.cmd85$Helper.reverse(\u001b[32mcmd85.sc\u001b[39m:\u001b[32m9\u001b[39m)\n  ammonite.$sess.cmd85$Helper.reverse(\u001b[32mcmd85.sc\u001b[39m:\u001b[32m9\u001b[39m)\n  ammonite.$sess.cmd85$Helper.reverse(\u001b[32mcmd85.sc\u001b[39m:\u001b[32m9\u001b[39m)\n  ammonite.$sess.cmd85$Helper.reverse(\u001b[32mcmd85.sc\u001b[39m:\u001b[32m9\u001b[39m)\n  ammonite.$sess.cmd85$Helper.reverse(\u001b[32mcmd85.sc\u001b[39m:\u001b[32m9\u001b[39m)\n  ammonite.$sess.cmd85$Helper.reverse(\u001b[32mcmd85.sc\u001b[39m:\u001b[32m9\u001b[39m)\n  ammonite.$sess.cmd85$Helper.reverse(\u001b[32mcmd85.sc\u001b[39m:\u001b[32m9\u001b[39m)\n  ammonite.$sess.cmd85$Helper.reverse(\u001b[32mcmd85.sc\u001b[39m:\u001b[32m9\u001b[39m)\n  ammonite.$sess.cmd85$Helper.reverse(\u001b[32mcmd85.sc\u001b[39m:\u001b[32m9\u001b[39m)\n  ammonite.$sess.cmd85$Helper.reverse(\u001b[32mcmd85.sc\u001b[39m:\u001b[32m9\u001b[39m)\n  ammonite.$sess.cmd85$Helper.reverse(\u001b[32mcmd85.sc\u001b[39m:\u001b[32m9\u001b[39m)\n  ammonite.$sess.cmd85$Helper.reverse(\u001b[32mcmd85.sc\u001b[39m:\u001b[32m9\u001b[39m)\n  ammonite.$sess.cmd85$Helper.reverse(\u001b[32mcmd85.sc\u001b[39m:\u001b[32m9\u001b[39m)\n  ammonite.$sess.cmd85$Helper.reverse(\u001b[32mcmd85.sc\u001b[39m:\u001b[32m9\u001b[39m)\n  ammonite.$sess.cmd85$Helper.reverse(\u001b[32mcmd85.sc\u001b[39m:\u001b[32m9\u001b[39m)\n  ammonite.$sess.cmd85$Helper.reverse(\u001b[32mcmd85.sc\u001b[39m:\u001b[32m9\u001b[39m)\n  ammonite.$sess.cmd85$Helper.reverse(\u001b[32mcmd85.sc\u001b[39m:\u001b[32m9\u001b[39m)\n  ammonite.$sess.cmd85$Helper.reverse(\u001b[32mcmd85.sc\u001b[39m:\u001b[32m9\u001b[39m)\n  ammonite.$sess.cmd85$Helper.reverse(\u001b[32mcmd85.sc\u001b[39m:\u001b[32m9\u001b[39m)\n  ammonite.$sess.cmd85$Helper.reverse(\u001b[32mcmd85.sc\u001b[39m:\u001b[32m9\u001b[39m)\n  ammonite.$sess.cmd85$Helper.reverse(\u001b[32mcmd85.sc\u001b[39m:\u001b[32m9\u001b[39m)\n  ammonite.$sess.cmd85$Helper.reverse(\u001b[32mcmd85.sc\u001b[39m:\u001b[32m9\u001b[39m)\n  ammonite.$sess.cmd85$Helper.reverse(\u001b[32mcmd85.sc\u001b[39m:\u001b[32m9\u001b[39m)\n  ammonite.$sess.cmd85$Helper.reverse(\u001b[32mcmd85.sc\u001b[39m:\u001b[32m9\u001b[39m)\n  ammonite.$sess.cmd85$Helper.reverse(\u001b[32mcmd85.sc\u001b[39m:\u001b[32m9\u001b[39m)\n  ammonite.$sess.cmd85$Helper.reverse(\u001b[32mcmd85.sc\u001b[39m:\u001b[32m9\u001b[39m)\n  ammonite.$sess.cmd85$Helper.reverse(\u001b[32mcmd85.sc\u001b[39m:\u001b[32m9\u001b[39m)\n  ammonite.$sess.cmd85$Helper.reverse(\u001b[32mcmd85.sc\u001b[39m:\u001b[32m9\u001b[39m)\n  ammonite.$sess.cmd85$Helper.reverse(\u001b[32mcmd85.sc\u001b[39m:\u001b[32m9\u001b[39m)\n  ammonite.$sess.cmd85$Helper.reverse(\u001b[32mcmd85.sc\u001b[39m:\u001b[32m9\u001b[39m)\n  ammonite.$sess.cmd85$Helper.reverse(\u001b[32mcmd85.sc\u001b[39m:\u001b[32m9\u001b[39m)\n  ammonite.$sess.cmd85$Helper.reverse(\u001b[32mcmd85.sc\u001b[39m:\u001b[32m9\u001b[39m)\n  ammonite.$sess.cmd85$Helper.reverse(\u001b[32mcmd85.sc\u001b[39m:\u001b[32m9\u001b[39m)\n  ammonite.$sess.cmd85$Helper.reverse(\u001b[32mcmd85.sc\u001b[39m:\u001b[32m9\u001b[39m)\n  ammonite.$sess.cmd85$Helper.reverse(\u001b[32mcmd85.sc\u001b[39m:\u001b[32m9\u001b[39m)\n  ammonite.$sess.cmd85$Helper.reverse(\u001b[32mcmd85.sc\u001b[39m:\u001b[32m9\u001b[39m)\n  ammonite.$sess.cmd85$Helper.reverse(\u001b[32mcmd85.sc\u001b[39m:\u001b[32m9\u001b[39m)\n  ammonite.$sess.cmd85$Helper.reverse(\u001b[32mcmd85.sc\u001b[39m:\u001b[32m9\u001b[39m)\n  ammonite.$sess.cmd85$Helper.reverse(\u001b[32mcmd85.sc\u001b[39m:\u001b[32m9\u001b[39m)\n  ammonite.$sess.cmd85$Helper.reverse(\u001b[32mcmd85.sc\u001b[39m:\u001b[32m9\u001b[39m)\n  ammonite.$sess.cmd85$Helper.reverse(\u001b[32mcmd85.sc\u001b[39m:\u001b[32m9\u001b[39m)\n  ammonite.$sess.cmd85$Helper.reverse(\u001b[32mcmd85.sc\u001b[39m:\u001b[32m9\u001b[39m)\n  ammonite.$sess.cmd85$Helper.reverse(\u001b[32mcmd85.sc\u001b[39m:\u001b[32m9\u001b[39m)\n  ammonite.$sess.cmd85$Helper.reverse(\u001b[32mcmd85.sc\u001b[39m:\u001b[32m9\u001b[39m)\n  ammonite.$sess.cmd85$Helper.reverse(\u001b[32mcmd85.sc\u001b[39m:\u001b[32m9\u001b[39m)\n  ammonite.$sess.cmd85$Helper.reverse(\u001b[32mcmd85.sc\u001b[39m:\u001b[32m9\u001b[39m)"
     ]
    }
   ],
   "source": [
    "reverse(List.fill(500000)(2))"
   ]
  },
  {
   "cell_type": "code",
   "execution_count": 91,
   "metadata": {},
   "outputs": [
    {
     "data": {
      "text/plain": [
       "\u001b[36mres90_0\u001b[39m: \u001b[32mList\u001b[39m[\u001b[32mInt\u001b[39m] = \u001b[33mList\u001b[39m(\u001b[32m3\u001b[39m, \u001b[32m2\u001b[39m, \u001b[32m1\u001b[39m)\n",
       "defined \u001b[32mfunction\u001b[39m \u001b[36mreverseTR\u001b[39m"
      ]
     },
     "execution_count": 91,
     "metadata": {},
     "output_type": "execute_result"
    }
   ],
   "source": [
    "reverse(List(1,2,3))\n",
    "/*\n",
    "out, aux\n",
    "========\n",
    "Nil, 1::2::3::Nil\n",
    "1::Nil, 2::3::Nil\n",
    "2::1::Nil, 3::Nil\n",
    "3::2::1::Nil, Nil\n",
    "*/\n",
    "// Tail-recursive, efficiently\n",
    "def reverseTR[A](l: List[A]): List[A] = {\n",
    "    def auxReverse(out: List[A], aux: List[A]): List[A] = \n",
    "        aux match {\n",
    "            case Nil => out\n",
    "            case head :: tail => auxReverse(head :: out, tail)\n",
    "        }\n",
    "    auxReverse(Nil, l)\n",
    "}\n"
   ]
  },
  {
   "cell_type": "code",
   "execution_count": 92,
   "metadata": {},
   "outputs": [
    {
     "name": "stdout",
     "output_type": "stream",
     "text": [
      "\u001b[32mcmd73$Helper$TestReverse:\u001b[0m\n",
      "\u001b[32mreverse\u001b[0m\n",
      "\u001b[32m- should work\u001b[0m\n"
     ]
    }
   ],
   "source": [
    "run(new TestReverse(reverseTR))"
   ]
  },
  {
   "cell_type": "code",
   "execution_count": 97,
   "metadata": {},
   "outputs": [
    {
     "data": {
      "text/plain": [
       "\u001b[36mres96\u001b[39m: \u001b[32mList\u001b[39m[\u001b[32mInt\u001b[39m] = \u001b[33mList\u001b[39m(\n",
       "  \u001b[32m0\u001b[39m,\n",
       "  \u001b[32m0\u001b[39m,\n",
       "  \u001b[32m0\u001b[39m,\n",
       "  \u001b[32m0\u001b[39m,\n",
       "  \u001b[32m0\u001b[39m,\n",
       "  \u001b[32m0\u001b[39m,\n",
       "  \u001b[32m0\u001b[39m,\n",
       "  \u001b[32m0\u001b[39m,\n",
       "  \u001b[32m0\u001b[39m,\n",
       "  \u001b[32m0\u001b[39m,\n",
       "  \u001b[32m0\u001b[39m,\n",
       "  \u001b[32m0\u001b[39m,\n",
       "  \u001b[32m0\u001b[39m,\n",
       "  \u001b[32m0\u001b[39m,\n",
       "  \u001b[32m0\u001b[39m,\n",
       "  \u001b[32m0\u001b[39m,\n",
       "  \u001b[32m0\u001b[39m,\n",
       "  \u001b[32m0\u001b[39m,\n",
       "  \u001b[32m0\u001b[39m,\n",
       "  \u001b[32m0\u001b[39m,\n",
       "  \u001b[32m0\u001b[39m,\n",
       "  \u001b[32m0\u001b[39m,\n",
       "  \u001b[32m0\u001b[39m,\n",
       "  \u001b[32m0\u001b[39m,\n",
       "  \u001b[32m0\u001b[39m,\n",
       "  \u001b[32m0\u001b[39m,\n",
       "  \u001b[32m0\u001b[39m,\n",
       "  \u001b[32m0\u001b[39m,\n",
       "  \u001b[32m0\u001b[39m,\n",
       "  \u001b[32m0\u001b[39m,\n",
       "  \u001b[32m0\u001b[39m,\n",
       "  \u001b[32m0\u001b[39m,\n",
       "  \u001b[32m0\u001b[39m,\n",
       "  \u001b[32m0\u001b[39m,\n",
       "  \u001b[32m0\u001b[39m,\n",
       "  \u001b[32m0\u001b[39m,\n",
       "  \u001b[32m0\u001b[39m,\n",
       "  \u001b[32m0\u001b[39m,\n",
       "..."
      ]
     },
     "execution_count": 97,
     "metadata": {},
     "output_type": "execute_result"
    }
   ],
   "source": [
    "reverseTR(List.fill(1000000)(0))"
   ]
  },
  {
   "cell_type": "code",
   "execution_count": null,
   "metadata": {},
   "outputs": [],
   "source": []
  }
 ],
 "metadata": {
  "kernelspec": {
   "display_name": "Scala",
   "language": "scala",
   "name": "scala"
  },
  "language_info": {
   "codemirror_mode": "text/x-scala",
   "file_extension": ".scala",
   "mimetype": "text/x-scala",
   "name": "scala",
   "nbconvert_exporter": "script",
   "version": "2.13.0"
  }
 },
 "nbformat": 4,
 "nbformat_minor": 2
}
