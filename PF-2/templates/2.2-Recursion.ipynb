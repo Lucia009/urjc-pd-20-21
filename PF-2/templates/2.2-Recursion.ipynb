{
 "cells": [
  {
   "cell_type": "markdown",
   "metadata": {},
   "source": [
    "# Recursive data types and functions"
   ]
  },
  {
   "cell_type": "markdown",
   "metadata": {},
   "source": [
    "## Recursive types"
   ]
  },
  {
   "cell_type": "markdown",
   "metadata": {},
   "source": [
    "### The `List` type"
   ]
  },
  {
   "cell_type": "markdown",
   "metadata": {},
   "source": [
    "Lists are data structures which represent sequences of values of the same type, of finite length. They can be defined recursively in an informal way as follows: \n",
    "- A list is the empty sequence\n",
    "- A list is a non-empty sequence made of a value and another list, which represent the head and tail of the list, respectively\n",
    "\n",
    "Thus, the type `IntList`, which represents lists of integers, must satisfy the algebraic following equation:\n",
    "\n",
    "`IntList = 1 + Int * IntList`\n",
    "\n",
    "i.e., a list of integers is the empty sequence (represented by the singleton type `1`), or an integer (the head) and a list (its tail).\n",
    "\n"
   ]
  },
  {
   "cell_type": "markdown",
   "metadata": {},
   "source": [
    "The implementation in Scala is as follows (we already give the generic version `List[A]`, rather than the implementation of `IntList`):"
   ]
  },
  {
   "cell_type": "code",
   "execution_count": null,
   "metadata": {},
   "outputs": [],
   "source": []
  },
  {
   "cell_type": "markdown",
   "metadata": {},
   "source": [
    "Note that the actual implementation of [immutable lists](https://github.com/scala/scala/blob/v2.13.1/src/library/scala/collection/immutable/List.scala#L79) in the standard library of Scala defines the empty list as an object, rather than a class. However, this forces us to declare the list covariantly in its generic parameter `A`, which is somewhat inconvenient at times. The standard definition looks as follows:"
   ]
  },
  {
   "cell_type": "code",
   "execution_count": null,
   "metadata": {},
   "outputs": [],
   "source": [
    "object StdDefinition{\n",
    "}"
   ]
  },
  {
   "cell_type": "markdown",
   "metadata": {},
   "source": [
    "We will stick to the former definition. Some examples of lists: "
   ]
  },
  {
   "cell_type": "code",
   "execution_count": null,
   "metadata": {},
   "outputs": [],
   "source": [
    "// The empty list\n"
   ]
  },
  {
   "cell_type": "code",
   "execution_count": null,
   "metadata": {},
   "outputs": [],
   "source": [
    "// Non-empty list [1, 2, 3]\n"
   ]
  },
  {
   "cell_type": "markdown",
   "metadata": {},
   "source": [
    "### Some syntactic sugar"
   ]
  },
  {
   "cell_type": "markdown",
   "metadata": {},
   "source": [
    "Note that we can write standard lists with a more compact syntax: "
   ]
  },
  {
   "cell_type": "code",
   "execution_count": null,
   "metadata": {},
   "outputs": [],
   "source": [
    "import scala.{List => IList}\n",
    "\n"
   ]
  },
  {
   "cell_type": "markdown",
   "metadata": {},
   "source": [
    "How can we do that with out own lists? We define a smart constructor in the companion object using variadic arguments: "
   ]
  },
  {
   "cell_type": "code",
   "execution_count": null,
   "metadata": {},
   "outputs": [],
   "source": [
    "object List{\n",
    "}"
   ]
  },
  {
   "cell_type": "markdown",
   "metadata": {},
   "source": [
    "This allows us to write lists more easily:"
   ]
  },
  {
   "cell_type": "code",
   "execution_count": null,
   "metadata": {},
   "outputs": [],
   "source": []
  },
  {
   "cell_type": "markdown",
   "metadata": {},
   "source": [
    "Note that the smart constructor `apply` is defined recursively. Let's dive into recursion."
   ]
  },
  {
   "cell_type": "markdown",
   "metadata": {},
   "source": [
    "##  Recursive functions"
   ]
  },
  {
   "cell_type": "markdown",
   "metadata": {},
   "source": [
    "Since lists are defined recursively, functions over lists will be commonly recursive as well. For instance, let's implement a recursive function that computes the length of a list. But before, let's implement the function imperatively for the sake of comparison:"
   ]
  },
  {
   "cell_type": "code",
   "execution_count": null,
   "metadata": {},
   "outputs": [],
   "source": [
    "// Using mutable variables\n",
    "\n"
   ]
  },
  {
   "cell_type": "code",
   "execution_count": null,
   "metadata": {},
   "outputs": [],
   "source": []
  },
  {
   "cell_type": "markdown",
   "metadata": {},
   "source": [
    "The recursive function is implemented as follows: "
   ]
  },
  {
   "cell_type": "code",
   "execution_count": null,
   "metadata": {},
   "outputs": [],
   "source": [
    "// Using recursive functions\n",
    "\n"
   ]
  },
  {
   "cell_type": "markdown",
   "metadata": {},
   "source": [
    "Some comments: \n",
    "- The recursive function is implemented in a _type-driven development_ style: we proceed, step-by-step, analysing the types of input data that we have available so far, and the types of output that we have to generate. This leads to a divide-and-conquer problem solving strategy and hugely facilitates the implementation.\n",
    "- The recursive function is less efficient, since the stack will blow up with lists of enough lenght."
   ]
  },
  {
   "cell_type": "markdown",
   "metadata": {},
   "source": [
    "### Tail-recursive functions"
   ]
  },
  {
   "cell_type": "markdown",
   "metadata": {},
   "source": [
    "The implementation using tail-recursion solves the problems with the stack. It commonly makes use of auxiliary functions:"
   ]
  },
  {
   "cell_type": "code",
   "execution_count": null,
   "metadata": {},
   "outputs": [],
   "source": [
    "// Using tail-recursive functions\n",
    "\n"
   ]
  },
  {
   "cell_type": "code",
   "execution_count": null,
   "metadata": {},
   "outputs": [],
   "source": []
  },
  {
   "cell_type": "markdown",
   "metadata": {},
   "source": [
    "We can check the stack-safety problems of non-tail recursive functions, by calculating the length of a very big list. We will use the following function, which creates a constant list of given length."
   ]
  },
  {
   "cell_type": "code",
   "execution_count": null,
   "metadata": {},
   "outputs": [],
   "source": [
    "// First, imperatively\n",
    "\n"
   ]
  },
  {
   "cell_type": "code",
   "execution_count": null,
   "metadata": {},
   "outputs": [],
   "source": [
    "// Next, tail-recursively\n",
    "\n"
   ]
  },
  {
   "cell_type": "markdown",
   "metadata": {},
   "source": [
    "Now, let's calculate the length of a list long enough, using each of the three implementations:"
   ]
  },
  {
   "cell_type": "code",
   "execution_count": null,
   "metadata": {},
   "outputs": [],
   "source": [
    "// Imperatively\n"
   ]
  },
  {
   "cell_type": "code",
   "execution_count": null,
   "metadata": {},
   "outputs": [],
   "source": [
    "// Tail-recursive\n"
   ]
  },
  {
   "cell_type": "code",
   "execution_count": null,
   "metadata": {},
   "outputs": [],
   "source": [
    "// Plain recursive\n"
   ]
  },
  {
   "cell_type": "markdown",
   "metadata": {},
   "source": [
    "### Using the standard `List` type"
   ]
  },
  {
   "cell_type": "code",
   "execution_count": null,
   "metadata": {},
   "outputs": [],
   "source": [
    "import scala.collection.immutable.List"
   ]
  },
  {
   "cell_type": "markdown",
   "metadata": {},
   "source": [
    "From now on, we will use the `List` type defined in the standard library of Scala. For the sake of comparison, let's re-implement the `length` function: "
   ]
  },
  {
   "cell_type": "code",
   "execution_count": null,
   "metadata": {},
   "outputs": [],
   "source": [
    "/*\n",
    "def length[A](list: List[A]): Int = \n",
    "    list match {\n",
    "        case Empty()           => 0\n",
    "        case NonEmpty(_, tail) => 1 + length(tail)\n",
    "    }\n",
    "*/\n"
   ]
  },
  {
   "cell_type": "code",
   "execution_count": null,
   "metadata": {},
   "outputs": [],
   "source": []
  },
  {
   "cell_type": "markdown",
   "metadata": {},
   "source": [
    "### Unit testing with `scalatest`"
   ]
  },
  {
   "cell_type": "code",
   "execution_count": 1,
   "metadata": {},
   "outputs": [
    {
     "data": {
      "text/plain": [
       "\u001b[32mimport \u001b[39m\u001b[36m$ivy.$                               \n",
       "\u001b[39m\n",
       "\u001b[32mimport \u001b[39m\u001b[36morg.scalatest._\u001b[39m"
      ]
     },
     "execution_count": 1,
     "metadata": {},
     "output_type": "execute_result"
    }
   ],
   "source": [
    "import $ivy.`org.scalatest::scalatest:3.0.8`\n",
    "import org.scalatest._"
   ]
  },
  {
   "cell_type": "markdown",
   "metadata": {},
   "source": [
    "From now on, we will also make extensive use of unit testing for the different functions that we implement. And we will use the [`scalatest`](http://www.scalatest.org/) library for that purpose. In particular, for each function we will implement a test catalogue that test it against different test cases. For instance, this is a possible test class for the `length` function:"
   ]
  },
  {
   "cell_type": "code",
   "execution_count": null,
   "metadata": {},
   "outputs": [],
   "source": [
    "/*\n",
    "assert(length(List()) == 0)\n",
    "assert(length(List(1)) == 1)\n",
    "assert(length(List(1,2,3,4)) == 4)\n",
    "*/"
   ]
  },
  {
   "cell_type": "markdown",
   "metadata": {},
   "source": [
    "The method `shouldBe` is a _matcher_. The scalatest library offers an extensive catalogue of [them](http://www.scalatest.org/user_guide/using_matchers). Similarly, scalatest also support many different [testing styles](http://www.scalatest.org/user_guide/selecting_a_style). The chosen one here was `FlatSpec`. In order to execute the test catalogue we can simply use the scalatest method `run`:"
   ]
  },
  {
   "cell_type": "code",
   "execution_count": null,
   "metadata": {},
   "outputs": [],
   "source": []
  },
  {
   "cell_type": "markdown",
   "metadata": {},
   "source": [
    "### Example: adding numbers"
   ]
  },
  {
   "cell_type": "markdown",
   "metadata": {},
   "source": [
    "Let's implement a function that sums all the numbers of a list."
   ]
  },
  {
   "cell_type": "code",
   "execution_count": null,
   "metadata": {},
   "outputs": [],
   "source": [
    "class TestSum extends FlatSpec with Matchers{\n",
    "    \"length\" should \"work\" in {\n",
    "    }\n",
    "}"
   ]
  },
  {
   "cell_type": "code",
   "execution_count": null,
   "metadata": {},
   "outputs": [],
   "source": [
    "// Recursively\n",
    "\n"
   ]
  },
  {
   "cell_type": "code",
   "execution_count": null,
   "metadata": {},
   "outputs": [],
   "source": []
  },
  {
   "cell_type": "code",
   "execution_count": null,
   "metadata": {},
   "outputs": [],
   "source": [
    "// With tail-recursion\n",
    "\n"
   ]
  },
  {
   "cell_type": "code",
   "execution_count": null,
   "metadata": {},
   "outputs": [],
   "source": []
  },
  {
   "cell_type": "markdown",
   "metadata": {},
   "source": [
    "### Example: multiplying list elements"
   ]
  },
  {
   "cell_type": "markdown",
   "metadata": {},
   "source": [
    "Let's multiply the elements of a list. If the list is empty we return the identity element for integers."
   ]
  },
  {
   "cell_type": "code",
   "execution_count": 2,
   "metadata": {},
   "outputs": [
    {
     "data": {
      "text/plain": [
       "defined \u001b[32mclass\u001b[39m \u001b[36mTestProduct\u001b[39m"
      ]
     },
     "execution_count": 2,
     "metadata": {},
     "output_type": "execute_result"
    }
   ],
   "source": [
    "class TestProduct(product: List[Int] => Int) extends FlatSpec with Matchers{\n",
    "    \"product\" should \"work\" in {\n",
    "        product(List()) shouldBe 1\n",
    "        product(List(15)) shouldBe 15\n",
    "        product(List(1,2,3)) shouldBe 1*2*3 // 6\n",
    "        product(List(0,1,2,5,6,7,2,3,2,3)) shouldBe 0 // 0*1*2*5*....\n",
    "    }\n",
    "}"
   ]
  },
  {
   "cell_type": "markdown",
   "metadata": {},
   "source": [
    "This is the common recursive implementation:"
   ]
  },
  {
   "cell_type": "code",
   "execution_count": 3,
   "metadata": {},
   "outputs": [
    {
     "data": {
      "text/plain": [
       "defined \u001b[32mfunction\u001b[39m \u001b[36mproduct\u001b[39m"
      ]
     },
     "execution_count": 3,
     "metadata": {},
     "output_type": "execute_result"
    }
   ],
   "source": [
    "def product(list: List[Int]): Int = \n",
    "    list match {\n",
    "        case Nil => 1 : Int\n",
    "        case head :: tail => \n",
    "            head * product(tail) : Int \n",
    "    }"
   ]
  },
  {
   "cell_type": "markdown",
   "metadata": {},
   "source": [
    "It works as expected: "
   ]
  },
  {
   "cell_type": "code",
   "execution_count": 4,
   "metadata": {},
   "outputs": [
    {
     "name": "stdout",
     "output_type": "stream",
     "text": [
      "\u001b[32mcmd1$Helper$TestProduct:\u001b[0m\n",
      "\u001b[32mproduct\u001b[0m\n",
      "\u001b[32m- should work\u001b[0m\n"
     ]
    }
   ],
   "source": [
    "run(new TestProduct(product))"
   ]
  },
  {
   "cell_type": "markdown",
   "metadata": {},
   "source": [
    "But we can optimize the function a little bit. Note that if the number 0 belongs to the list, then the result is 0, no matter how many elements the list has. So, once we find the element 0 it's a waste of resources to make the recursive call. Let's take this into account."
   ]
  },
  {
   "cell_type": "code",
   "execution_count": 5,
   "metadata": {},
   "outputs": [
    {
     "data": {
      "text/plain": [
       "defined \u001b[32mfunction\u001b[39m \u001b[36mproduct\u001b[39m"
      ]
     },
     "execution_count": 5,
     "metadata": {},
     "output_type": "execute_result"
    }
   ],
   "source": [
    "def product(list: List[Int]): Int =\n",
    "    list match {\n",
    "        case Nil => \n",
    "            1\n",
    "        case head :: tail => \n",
    "            if (head == 0) \n",
    "                0\n",
    "            else \n",
    "                head * product(tail)\n",
    "    }\n"
   ]
  },
  {
   "cell_type": "code",
   "execution_count": 7,
   "metadata": {},
   "outputs": [
    {
     "data": {
      "text/plain": [
       "defined \u001b[32mfunction\u001b[39m \u001b[36mproduct\u001b[39m"
      ]
     },
     "execution_count": 7,
     "metadata": {},
     "output_type": "execute_result"
    }
   ],
   "source": [
    "def product(list: List[Int]): Int =\n",
    "    list match {\n",
    "        case Nil => \n",
    "            1\n",
    "        case head :: tail if head == 0 =>\n",
    "                0\n",
    "        case head :: tail => \n",
    "                head * product(tail)\n",
    "    }\n"
   ]
  },
  {
   "cell_type": "code",
   "execution_count": 12,
   "metadata": {},
   "outputs": [
    {
     "data": {
      "text/plain": [
       "defined \u001b[32mfunction\u001b[39m \u001b[36mproduct\u001b[39m"
      ]
     },
     "execution_count": 12,
     "metadata": {},
     "output_type": "execute_result"
    }
   ],
   "source": [
    "def product(list: List[Int]): Int =\n",
    "    list match {\n",
    "        case Nil => \n",
    "            1\n",
    "        case 0 :: _ =>\n",
    "            0\n",
    "        case head :: tail => \n",
    "            head * product(tail)\n",
    "    }\n"
   ]
  },
  {
   "cell_type": "code",
   "execution_count": 13,
   "metadata": {},
   "outputs": [
    {
     "name": "stdout",
     "output_type": "stream",
     "text": [
      "\u001b[32mcmd1$Helper$TestProduct:\u001b[0m\n",
      "\u001b[32mproduct\u001b[0m\n",
      "\u001b[32m- should work\u001b[0m\n"
     ]
    }
   ],
   "source": [
    "run(new TestProduct(product))"
   ]
  },
  {
   "cell_type": "markdown",
   "metadata": {},
   "source": [
    "A similar optimization can be made for the tail-recursive implementation."
   ]
  },
  {
   "cell_type": "markdown",
   "metadata": {},
   "source": [
    "### Example: membership"
   ]
  },
  {
   "cell_type": "markdown",
   "metadata": {},
   "source": [
    "Let's implement a function that given a list and an element, returns whether the element belongs to that list."
   ]
  },
  {
   "cell_type": "code",
   "execution_count": 14,
   "metadata": {},
   "outputs": [
    {
     "data": {
      "text/plain": [
       "defined \u001b[32mclass\u001b[39m \u001b[36mTestMember\u001b[39m"
      ]
     },
     "execution_count": 14,
     "metadata": {},
     "output_type": "execute_result"
    }
   ],
   "source": [
    "//class TestMember(member: Function2[List[String], String, Boolean]) \n",
    "class TestMember(member: (List[String], String) => Boolean) \n",
    "extends FlatSpec with Matchers{\n",
    "    \"member\" should \"work\" in {\n",
    "        member(List(\"1\", \"hola\", \"adios\"), \"hola\") shouldBe true\n",
    "        member(List(\"1\", \"hola\", \"adios\"), \"\") shouldBe false\n",
    "        member(List(\"1\", \"hola\", \"adios\"), \"pasa\") shouldBe false\n",
    "        member(List(), \"hola\") shouldBe false\n",
    "    }\n",
    "}"
   ]
  },
  {
   "cell_type": "code",
   "execution_count": 33,
   "metadata": {},
   "outputs": [
    {
     "data": {
      "text/plain": [
       "defined \u001b[32mfunction\u001b[39m \u001b[36mmember\u001b[39m"
      ]
     },
     "execution_count": 33,
     "metadata": {},
     "output_type": "execute_result"
    }
   ],
   "source": [
    "def member[A](l: List[A], s: A): Boolean = \n",
    "    l match {\n",
    "        case Nil => false\n",
    "        case head :: tail => \n",
    "            (head == s) || member(tail, s) : Boolean\n",
    "    }\n"
   ]
  },
  {
   "cell_type": "code",
   "execution_count": 49,
   "metadata": {},
   "outputs": [
    {
     "data": {
      "text/plain": [
       "defined \u001b[32mfunction\u001b[39m \u001b[36mmember\u001b[39m"
      ]
     },
     "execution_count": 49,
     "metadata": {},
     "output_type": "execute_result"
    }
   ],
   "source": [
    "def member[A](l: List[A], s: A): Boolean = \n",
    "    l match {\n",
    "        case Nil => false\n",
    "        case `s` :: tail => \n",
    "            true\n",
    "        case _ :: tail => \n",
    "            member(tail, s) : Boolean\n",
    "    }\n"
   ]
  },
  {
   "cell_type": "code",
   "execution_count": 50,
   "metadata": {},
   "outputs": [
    {
     "data": {
      "text/plain": [
       "\u001b[36mres49\u001b[39m: \u001b[32mBoolean\u001b[39m = true"
      ]
     },
     "execution_count": 50,
     "metadata": {},
     "output_type": "execute_result"
    }
   ],
   "source": [
    "member[Int](List(1,2,3), 3)"
   ]
  },
  {
   "cell_type": "code",
   "execution_count": 51,
   "metadata": {},
   "outputs": [
    {
     "data": {
      "text/plain": [
       "\u001b[36mres50\u001b[39m: \u001b[32mBoolean\u001b[39m = true"
      ]
     },
     "execution_count": 51,
     "metadata": {},
     "output_type": "execute_result"
    }
   ],
   "source": [
    "member[Any](List(1: Any, \"hola\": Any, 'c': Any), 'c': Any)"
   ]
  },
  {
   "cell_type": "code",
   "execution_count": 52,
   "metadata": {},
   "outputs": [
    {
     "data": {
      "text/plain": [
       "\u001b[36mres51\u001b[39m: \u001b[32mBoolean\u001b[39m = true"
      ]
     },
     "execution_count": 52,
     "metadata": {},
     "output_type": "execute_result"
    }
   ],
   "source": [
    "member(List(1, \"hola\", 'c'), 'c')"
   ]
  },
  {
   "cell_type": "code",
   "execution_count": 53,
   "metadata": {},
   "outputs": [
    {
     "data": {
      "text/plain": [
       "defined \u001b[32mfunction\u001b[39m \u001b[36mmemberV\u001b[39m"
      ]
     },
     "execution_count": 53,
     "metadata": {},
     "output_type": "execute_result"
    }
   ],
   "source": [
    "def memberV[A]: (List[A], A) => Boolean = \n",
    "    (l: List[A], a: A) => \n",
    "        l match {\n",
    "            case Nil => false : Boolean \n",
    "            case head :: tail => head == a || memberV(tail, a)\n",
    "        }"
   ]
  },
  {
   "cell_type": "code",
   "execution_count": 56,
   "metadata": {},
   "outputs": [
    {
     "data": {
      "text/plain": [
       "defined \u001b[32mfunction\u001b[39m \u001b[36mmemberV\u001b[39m"
      ]
     },
     "execution_count": 56,
     "metadata": {},
     "output_type": "execute_result"
    }
   ],
   "source": [
    "def memberV[A]: (List[A], A) => Boolean = \n",
    "    {\n",
    "        case (Nil, a) => \n",
    "            false\n",
    "        case (head :: tail, a) => \n",
    "            head == a || memberV(tail, a)\n",
    "    }"
   ]
  },
  {
   "cell_type": "code",
   "execution_count": 55,
   "metadata": {},
   "outputs": [
    {
     "name": "stdout",
     "output_type": "stream",
     "text": [
      "\u001b[32mcmd13$Helper$TestMember:\u001b[0m\n",
      "\u001b[32mmember\u001b[0m\n",
      "\u001b[32m- should work\u001b[0m\n",
      "\u001b[32mcmd13$Helper$TestMember:\u001b[0m\n",
      "\u001b[32mmember\u001b[0m\n",
      "\u001b[32m- should work\u001b[0m\n"
     ]
    }
   ],
   "source": [
    "//run(new TestMember(member[String]))\n",
    "run(new TestMember(member))\n",
    "run(new TestMember(memberV))"
   ]
  },
  {
   "cell_type": "markdown",
   "metadata": {},
   "source": [
    "We can also pattern match against a specific value as follows:"
   ]
  },
  {
   "cell_type": "code",
   "execution_count": null,
   "metadata": {},
   "outputs": [],
   "source": []
  },
  {
   "cell_type": "markdown",
   "metadata": {},
   "source": [
    "### Example: last element"
   ]
  },
  {
   "cell_type": "markdown",
   "metadata": {},
   "source": [
    "Let's implement a function that returns the last element of a given list. Note that an empty list does not have elements, and, hence, does not have a last element."
   ]
  },
  {
   "cell_type": "code",
   "execution_count": 59,
   "metadata": {},
   "outputs": [
    {
     "data": {
      "text/plain": [
       "defined \u001b[32mclass\u001b[39m \u001b[36mTestLast\u001b[39m"
      ]
     },
     "execution_count": 59,
     "metadata": {},
     "output_type": "execute_result"
    }
   ],
   "source": [
    "class TestLast(last: List[Int] => Option[Int]) \n",
    "extends FlatSpec with Matchers{\n",
    "    \"last\" should \"work\" in {\n",
    "        last(List(1,3,2,5,2)) shouldBe Some(2)\n",
    "        last(List(1)) shouldBe (Some(1 : Int) : Option[Int])\n",
    "        last(List()) shouldBe None\n",
    "    }\n",
    "}"
   ]
  },
  {
   "cell_type": "code",
   "execution_count": 63,
   "metadata": {},
   "outputs": [
    {
     "data": {
      "text/plain": [
       "defined \u001b[32mfunction\u001b[39m \u001b[36mlast\u001b[39m"
      ]
     },
     "execution_count": 63,
     "metadata": {},
     "output_type": "execute_result"
    }
   ],
   "source": [
    "def last[A](l: List[A]): Option[A] = \n",
    "    l match {\n",
    "        case Nil => None : Option[A]\n",
    "        case (head: A) :: tail => \n",
    "            if (tail == Nil) Some(head) //  : Option[A]\n",
    "            else last(tail) : Option[A] \n",
    "    }"
   ]
  },
  {
   "cell_type": "code",
   "execution_count": 63,
   "metadata": {},
   "outputs": [
    {
     "data": {
      "text/plain": [
       "defined \u001b[32mfunction\u001b[39m \u001b[36mlast\u001b[39m"
      ]
     },
     "execution_count": 63,
     "metadata": {},
     "output_type": "execute_result"
    }
   ],
   "source": [
    "def last[A](l: List[A]): Option[A] = \n",
    "    l match {\n",
    "        case Nil => None : Option[A]\n",
    "        case (head: A) :: tail => \n",
    "            tail match {\n",
    "                case Nil => Some(head) //  : Option[A]\n",
    "                case _ => last(tail) : Option[A] \n",
    "            }\n",
    "    }"
   ]
  },
  {
   "cell_type": "code",
   "execution_count": 67,
   "metadata": {},
   "outputs": [
    {
     "data": {
      "text/plain": [
       "defined \u001b[32mfunction\u001b[39m \u001b[36mlast\u001b[39m"
      ]
     },
     "execution_count": 67,
     "metadata": {},
     "output_type": "execute_result"
    }
   ],
   "source": [
    "def last[A](l: List[A]): Option[A] = \n",
    "    l match {\n",
    "        case Nil => \n",
    "            None : Option[A]\n",
    "        case (head: A) :: Nil => \n",
    "            Some(head) //  : Option[A]\n",
    "        //case _ :: h2 :: tail => \n",
    "        //  last(h2 :: tail) : Option[A] \n",
    "        //case _ :: (t@(h2 :: tail)) => \n",
    "          //last(t) : Option[A] \n",
    "        case _ :: tail => \n",
    "            last(tail) : Option[A] \n",
    "            \n",
    "    }"
   ]
  },
  {
   "cell_type": "code",
   "execution_count": 68,
   "metadata": {},
   "outputs": [
    {
     "name": "stdout",
     "output_type": "stream",
     "text": [
      "\u001b[32mcmd58$Helper$TestLast:\u001b[0m\n",
      "\u001b[32mlast\u001b[0m\n",
      "\u001b[32m- should work\u001b[0m\n"
     ]
    }
   ],
   "source": [
    "run(new TestLast(last))"
   ]
  },
  {
   "cell_type": "markdown",
   "metadata": {},
   "source": [
    "### Example: insert last"
   ]
  },
  {
   "cell_type": "markdown",
   "metadata": {},
   "source": [
    "Now, a function that allows us to insert an element at the end of the list. "
   ]
  },
  {
   "cell_type": "code",
   "execution_count": 81,
   "metadata": {},
   "outputs": [
    {
     "data": {
      "text/plain": [
       "defined \u001b[32mclass\u001b[39m \u001b[36mTestInsertLast\u001b[39m"
      ]
     },
     "execution_count": 81,
     "metadata": {},
     "output_type": "execute_result"
    }
   ],
   "source": [
    "class TestInsertLast(insertLast: (List[Int], Int) => List[Int]) \n",
    "extends FlatSpec with Matchers{\n",
    "    \"insertLast\" should \"work for the empty list\" in {\n",
    "        insertLast(List(), 2) shouldBe List(2)\n",
    "    }\n",
    "    \n",
    "    it should \"work for non-empty list\" in {\n",
    "        insertLast(List(1,3,2,1,5), 9) shouldBe List(1,3,2,1,5,9)\n",
    "        insertLast(List(1), 0) shouldBe List(1,0)\n",
    "    }\n",
    "}"
   ]
  },
  {
   "cell_type": "code",
   "execution_count": 82,
   "metadata": {},
   "outputs": [
    {
     "data": {
      "text/plain": [
       "defined \u001b[32mfunction\u001b[39m \u001b[36minsertLast\u001b[39m"
      ]
     },
     "execution_count": 82,
     "metadata": {},
     "output_type": "execute_result"
    }
   ],
   "source": [
    "def insertLast(l: List[Int], e: Int): List[Int] = \n",
    "    l match {\n",
    "        case Nil => ??? : List[Int]\n",
    "        case head :: tail => \n",
    "            ??? : List[Int]\n",
    "    }"
   ]
  },
  {
   "cell_type": "code",
   "execution_count": 87,
   "metadata": {},
   "outputs": [
    {
     "data": {
      "text/plain": [
       "defined \u001b[32mfunction\u001b[39m \u001b[36minsertLast\u001b[39m"
      ]
     },
     "execution_count": 87,
     "metadata": {},
     "output_type": "execute_result"
    }
   ],
   "source": [
    "def insertLast(l: List[Int], e: Int): List[Int] = \n",
    "    l match {\n",
    "        case Nil => \n",
    "            List(e) // e :: Nil : List[Int]\n",
    "        case head :: tail => \n",
    "            head :: insertLast(tail, e) : List[Int]\n",
    "    }"
   ]
  },
  {
   "cell_type": "code",
   "execution_count": 91,
   "metadata": {},
   "outputs": [
    {
     "data": {
      "text/plain": [
       "defined \u001b[32mfunction\u001b[39m \u001b[36minsertLast\u001b[39m"
      ]
     },
     "execution_count": 91,
     "metadata": {},
     "output_type": "execute_result"
    }
   ],
   "source": [
    "def insertLast[A](l: List[A], e: A): List[A] = \n",
    "    l match {\n",
    "        case Nil => \n",
    "            List(e) // e :: Nil : List[Int]\n",
    "        case head :: tail => \n",
    "            head :: insertLast(tail, e) // : List[A]\n",
    "    }"
   ]
  },
  {
   "cell_type": "code",
   "execution_count": 88,
   "metadata": {},
   "outputs": [
    {
     "name": "stdout",
     "output_type": "stream",
     "text": [
      "\u001b[32mcmd80$Helper$TestInsertLast:\u001b[0m\n",
      "\u001b[32minsertLast\u001b[0m\n",
      "\u001b[32m- should work for the empty list\u001b[0m\n",
      "\u001b[32m- should work for non-empty list\u001b[0m\n"
     ]
    }
   ],
   "source": [
    "run(new TestInsertLast(insertLast))"
   ]
  },
  {
   "cell_type": "markdown",
   "metadata": {},
   "source": [
    "### Example: concatenate lists"
   ]
  },
  {
   "cell_type": "markdown",
   "metadata": {},
   "source": [
    "Let's implement this function step-by-step, following the types. We start from the signature of the desired function:"
   ]
  },
  {
   "cell_type": "code",
   "execution_count": null,
   "metadata": {},
   "outputs": [],
   "source": [
    "object TestConcatenate extends FlatSpec with Matchers{\n",
    "    \"concatenate\" should \"work\" in {\n",
    "    }\n",
    "}"
   ]
  },
  {
   "cell_type": "code",
   "execution_count": null,
   "metadata": {},
   "outputs": [],
   "source": [
    "// Recursive"
   ]
  },
  {
   "cell_type": "code",
   "execution_count": null,
   "metadata": {},
   "outputs": [],
   "source": [
    "run(TestConcatenate)"
   ]
  },
  {
   "cell_type": "code",
   "execution_count": null,
   "metadata": {},
   "outputs": [],
   "source": [
    "// Tail-recursive"
   ]
  },
  {
   "cell_type": "code",
   "execution_count": null,
   "metadata": {},
   "outputs": [],
   "source": [
    "run(TestConcatenate)"
   ]
  },
  {
   "cell_type": "markdown",
   "metadata": {},
   "source": [
    "### Example: reverse lists"
   ]
  },
  {
   "cell_type": "markdown",
   "metadata": {},
   "source": [
    "Implement a function which receives a list and returns its reverse."
   ]
  },
  {
   "cell_type": "code",
   "execution_count": 94,
   "metadata": {},
   "outputs": [
    {
     "data": {
      "text/plain": [
       "defined \u001b[32mclass\u001b[39m \u001b[36mTestReverse\u001b[39m"
      ]
     },
     "execution_count": 94,
     "metadata": {},
     "output_type": "execute_result"
    }
   ],
   "source": [
    "class TestReverse(reverse: List[Int] => List[Int]) \n",
    "extends FlatSpec with Matchers{\n",
    "    \"reverse\" should \"work\" in {\n",
    "        reverse(List(1,2,3)) shouldBe List(3,2,1)\n",
    "        reverse(List()) shouldBe List()\n",
    "        reverse(List(2,52,61,2)) shouldBe List(2,61,52,2)\n",
    "        reverse(List(1,2,3,4)) shouldBe List(4,3,2,1)\n",
    "        reverse(1 :: List(2,3,4)) shouldBe List(4,3,2) :+ 1\n",
    "    }\n",
    "}"
   ]
  },
  {
   "cell_type": "code",
   "execution_count": 93,
   "metadata": {},
   "outputs": [
    {
     "data": {
      "text/plain": [
       "\u001b[36mres92\u001b[39m: \u001b[32mList\u001b[39m[\u001b[32mInt\u001b[39m] = \u001b[33mList\u001b[39m(\u001b[32m4\u001b[39m, \u001b[32m3\u001b[39m, \u001b[32m2\u001b[39m, \u001b[32m1\u001b[39m)"
      ]
     },
     "execution_count": 93,
     "metadata": {},
     "output_type": "execute_result"
    }
   ],
   "source": [
    "List(4,3,2) :+ 1"
   ]
  },
  {
   "cell_type": "code",
   "execution_count": 103,
   "metadata": {},
   "outputs": [
    {
     "data": {
      "text/plain": [
       "defined \u001b[32mfunction\u001b[39m \u001b[36mreverse\u001b[39m"
      ]
     },
     "execution_count": 103,
     "metadata": {},
     "output_type": "execute_result"
    }
   ],
   "source": [
    "// Recursively: Really inefficient \n",
    "def reverse[A](l: List[A]): List[A] = \n",
    "    l match {\n",
    "        case Nil => Nil : List[A]\n",
    "        case head :: tail => \n",
    "            reverse(tail) :+ head : List[A]\n",
    "    }"
   ]
  },
  {
   "cell_type": "code",
   "execution_count": 104,
   "metadata": {},
   "outputs": [
    {
     "data": {
      "text/plain": [
       "\u001b[36mres103\u001b[39m: \u001b[32mList\u001b[39m[\u001b[32mChar\u001b[39m] = \u001b[33mList\u001b[39m(\u001b[32m'a'\u001b[39m, \u001b[32m'a'\u001b[39m, \u001b[32m'a'\u001b[39m, \u001b[32m'a'\u001b[39m, \u001b[32m'a'\u001b[39m, \u001b[32m'a'\u001b[39m, \u001b[32m'a'\u001b[39m, \u001b[32m'a'\u001b[39m, \u001b[32m'a'\u001b[39m, \u001b[32m'a'\u001b[39m)"
      ]
     },
     "execution_count": 104,
     "metadata": {},
     "output_type": "execute_result"
    }
   ],
   "source": [
    "List.fill(10)('a')"
   ]
  },
  {
   "cell_type": "code",
   "execution_count": 105,
   "metadata": {},
   "outputs": [
    {
     "ename": "",
     "evalue": "",
     "output_type": "error",
     "traceback": [
      "\u001b[31mjava.lang.StackOverflowError\u001b[39m\n  scala.collection.immutable.List.equals(\u001b[32mList.scala\u001b[39m:\u001b[32m582\u001b[39m)\n  ammonite.$sess.cmd102$Helper.reverse(\u001b[32mcmd102.sc\u001b[39m:\u001b[32m3\u001b[39m)\n  ammonite.$sess.cmd102$Helper.reverse(\u001b[32mcmd102.sc\u001b[39m:\u001b[32m5\u001b[39m)\n  ammonite.$sess.cmd102$Helper.reverse(\u001b[32mcmd102.sc\u001b[39m:\u001b[32m5\u001b[39m)\n  ammonite.$sess.cmd102$Helper.reverse(\u001b[32mcmd102.sc\u001b[39m:\u001b[32m5\u001b[39m)\n  ammonite.$sess.cmd102$Helper.reverse(\u001b[32mcmd102.sc\u001b[39m:\u001b[32m5\u001b[39m)\n  ammonite.$sess.cmd102$Helper.reverse(\u001b[32mcmd102.sc\u001b[39m:\u001b[32m5\u001b[39m)\n  ammonite.$sess.cmd102$Helper.reverse(\u001b[32mcmd102.sc\u001b[39m:\u001b[32m5\u001b[39m)\n  ammonite.$sess.cmd102$Helper.reverse(\u001b[32mcmd102.sc\u001b[39m:\u001b[32m5\u001b[39m)\n  ammonite.$sess.cmd102$Helper.reverse(\u001b[32mcmd102.sc\u001b[39m:\u001b[32m5\u001b[39m)\n  ammonite.$sess.cmd102$Helper.reverse(\u001b[32mcmd102.sc\u001b[39m:\u001b[32m5\u001b[39m)\n  ammonite.$sess.cmd102$Helper.reverse(\u001b[32mcmd102.sc\u001b[39m:\u001b[32m5\u001b[39m)\n  ammonite.$sess.cmd102$Helper.reverse(\u001b[32mcmd102.sc\u001b[39m:\u001b[32m5\u001b[39m)\n  ammonite.$sess.cmd102$Helper.reverse(\u001b[32mcmd102.sc\u001b[39m:\u001b[32m5\u001b[39m)\n  ammonite.$sess.cmd102$Helper.reverse(\u001b[32mcmd102.sc\u001b[39m:\u001b[32m5\u001b[39m)\n  ammonite.$sess.cmd102$Helper.reverse(\u001b[32mcmd102.sc\u001b[39m:\u001b[32m5\u001b[39m)\n  ammonite.$sess.cmd102$Helper.reverse(\u001b[32mcmd102.sc\u001b[39m:\u001b[32m5\u001b[39m)\n  ammonite.$sess.cmd102$Helper.reverse(\u001b[32mcmd102.sc\u001b[39m:\u001b[32m5\u001b[39m)\n  ammonite.$sess.cmd102$Helper.reverse(\u001b[32mcmd102.sc\u001b[39m:\u001b[32m5\u001b[39m)\n  ammonite.$sess.cmd102$Helper.reverse(\u001b[32mcmd102.sc\u001b[39m:\u001b[32m5\u001b[39m)\n  ammonite.$sess.cmd102$Helper.reverse(\u001b[32mcmd102.sc\u001b[39m:\u001b[32m5\u001b[39m)\n  ammonite.$sess.cmd102$Helper.reverse(\u001b[32mcmd102.sc\u001b[39m:\u001b[32m5\u001b[39m)\n  ammonite.$sess.cmd102$Helper.reverse(\u001b[32mcmd102.sc\u001b[39m:\u001b[32m5\u001b[39m)\n  ammonite.$sess.cmd102$Helper.reverse(\u001b[32mcmd102.sc\u001b[39m:\u001b[32m5\u001b[39m)\n  ammonite.$sess.cmd102$Helper.reverse(\u001b[32mcmd102.sc\u001b[39m:\u001b[32m5\u001b[39m)\n  ammonite.$sess.cmd102$Helper.reverse(\u001b[32mcmd102.sc\u001b[39m:\u001b[32m5\u001b[39m)\n  ammonite.$sess.cmd102$Helper.reverse(\u001b[32mcmd102.sc\u001b[39m:\u001b[32m5\u001b[39m)\n  ammonite.$sess.cmd102$Helper.reverse(\u001b[32mcmd102.sc\u001b[39m:\u001b[32m5\u001b[39m)\n  ammonite.$sess.cmd102$Helper.reverse(\u001b[32mcmd102.sc\u001b[39m:\u001b[32m5\u001b[39m)\n  ammonite.$sess.cmd102$Helper.reverse(\u001b[32mcmd102.sc\u001b[39m:\u001b[32m5\u001b[39m)\n  ammonite.$sess.cmd102$Helper.reverse(\u001b[32mcmd102.sc\u001b[39m:\u001b[32m5\u001b[39m)\n  ammonite.$sess.cmd102$Helper.reverse(\u001b[32mcmd102.sc\u001b[39m:\u001b[32m5\u001b[39m)\n  ammonite.$sess.cmd102$Helper.reverse(\u001b[32mcmd102.sc\u001b[39m:\u001b[32m5\u001b[39m)\n  ammonite.$sess.cmd102$Helper.reverse(\u001b[32mcmd102.sc\u001b[39m:\u001b[32m5\u001b[39m)\n  ammonite.$sess.cmd102$Helper.reverse(\u001b[32mcmd102.sc\u001b[39m:\u001b[32m5\u001b[39m)\n  ammonite.$sess.cmd102$Helper.reverse(\u001b[32mcmd102.sc\u001b[39m:\u001b[32m5\u001b[39m)\n  ammonite.$sess.cmd102$Helper.reverse(\u001b[32mcmd102.sc\u001b[39m:\u001b[32m5\u001b[39m)\n  ammonite.$sess.cmd102$Helper.reverse(\u001b[32mcmd102.sc\u001b[39m:\u001b[32m5\u001b[39m)\n  ammonite.$sess.cmd102$Helper.reverse(\u001b[32mcmd102.sc\u001b[39m:\u001b[32m5\u001b[39m)\n  ammonite.$sess.cmd102$Helper.reverse(\u001b[32mcmd102.sc\u001b[39m:\u001b[32m5\u001b[39m)\n  ammonite.$sess.cmd102$Helper.reverse(\u001b[32mcmd102.sc\u001b[39m:\u001b[32m5\u001b[39m)\n  ammonite.$sess.cmd102$Helper.reverse(\u001b[32mcmd102.sc\u001b[39m:\u001b[32m5\u001b[39m)\n  ammonite.$sess.cmd102$Helper.reverse(\u001b[32mcmd102.sc\u001b[39m:\u001b[32m5\u001b[39m)\n  ammonite.$sess.cmd102$Helper.reverse(\u001b[32mcmd102.sc\u001b[39m:\u001b[32m5\u001b[39m)\n  ammonite.$sess.cmd102$Helper.reverse(\u001b[32mcmd102.sc\u001b[39m:\u001b[32m5\u001b[39m)\n  ammonite.$sess.cmd102$Helper.reverse(\u001b[32mcmd102.sc\u001b[39m:\u001b[32m5\u001b[39m)\n  ammonite.$sess.cmd102$Helper.reverse(\u001b[32mcmd102.sc\u001b[39m:\u001b[32m5\u001b[39m)\n  ammonite.$sess.cmd102$Helper.reverse(\u001b[32mcmd102.sc\u001b[39m:\u001b[32m5\u001b[39m)\n  ammonite.$sess.cmd102$Helper.reverse(\u001b[32mcmd102.sc\u001b[39m:\u001b[32m5\u001b[39m)\n  ammonite.$sess.cmd102$Helper.reverse(\u001b[32mcmd102.sc\u001b[39m:\u001b[32m5\u001b[39m)\n  ammonite.$sess.cmd102$Helper.reverse(\u001b[32mcmd102.sc\u001b[39m:\u001b[32m5\u001b[39m)\n  ammonite.$sess.cmd102$Helper.reverse(\u001b[32mcmd102.sc\u001b[39m:\u001b[32m5\u001b[39m)\n  ammonite.$sess.cmd102$Helper.reverse(\u001b[32mcmd102.sc\u001b[39m:\u001b[32m5\u001b[39m)\n  ammonite.$sess.cmd102$Helper.reverse(\u001b[32mcmd102.sc\u001b[39m:\u001b[32m5\u001b[39m)\n  ammonite.$sess.cmd102$Helper.reverse(\u001b[32mcmd102.sc\u001b[39m:\u001b[32m5\u001b[39m)\n  ammonite.$sess.cmd102$Helper.reverse(\u001b[32mcmd102.sc\u001b[39m:\u001b[32m5\u001b[39m)\n  ammonite.$sess.cmd102$Helper.reverse(\u001b[32mcmd102.sc\u001b[39m:\u001b[32m5\u001b[39m)\n  ammonite.$sess.cmd102$Helper.reverse(\u001b[32mcmd102.sc\u001b[39m:\u001b[32m5\u001b[39m)\n  ammonite.$sess.cmd102$Helper.reverse(\u001b[32mcmd102.sc\u001b[39m:\u001b[32m5\u001b[39m)\n  ammonite.$sess.cmd102$Helper.reverse(\u001b[32mcmd102.sc\u001b[39m:\u001b[32m5\u001b[39m)\n  ammonite.$sess.cmd102$Helper.reverse(\u001b[32mcmd102.sc\u001b[39m:\u001b[32m5\u001b[39m)\n  ammonite.$sess.cmd102$Helper.reverse(\u001b[32mcmd102.sc\u001b[39m:\u001b[32m5\u001b[39m)\n  ammonite.$sess.cmd102$Helper.reverse(\u001b[32mcmd102.sc\u001b[39m:\u001b[32m5\u001b[39m)\n  ammonite.$sess.cmd102$Helper.reverse(\u001b[32mcmd102.sc\u001b[39m:\u001b[32m5\u001b[39m)\n  ammonite.$sess.cmd102$Helper.reverse(\u001b[32mcmd102.sc\u001b[39m:\u001b[32m5\u001b[39m)\n  ammonite.$sess.cmd102$Helper.reverse(\u001b[32mcmd102.sc\u001b[39m:\u001b[32m5\u001b[39m)\n  ammonite.$sess.cmd102$Helper.reverse(\u001b[32mcmd102.sc\u001b[39m:\u001b[32m5\u001b[39m)\n  ammonite.$sess.cmd102$Helper.reverse(\u001b[32mcmd102.sc\u001b[39m:\u001b[32m5\u001b[39m)\n  ammonite.$sess.cmd102$Helper.reverse(\u001b[32mcmd102.sc\u001b[39m:\u001b[32m5\u001b[39m)\n  ammonite.$sess.cmd102$Helper.reverse(\u001b[32mcmd102.sc\u001b[39m:\u001b[32m5\u001b[39m)\n  ammonite.$sess.cmd102$Helper.reverse(\u001b[32mcmd102.sc\u001b[39m:\u001b[32m5\u001b[39m)\n  ammonite.$sess.cmd102$Helper.reverse(\u001b[32mcmd102.sc\u001b[39m:\u001b[32m5\u001b[39m)\n  ammonite.$sess.cmd102$Helper.reverse(\u001b[32mcmd102.sc\u001b[39m:\u001b[32m5\u001b[39m)\n  ammonite.$sess.cmd102$Helper.reverse(\u001b[32mcmd102.sc\u001b[39m:\u001b[32m5\u001b[39m)\n  ammonite.$sess.cmd102$Helper.reverse(\u001b[32mcmd102.sc\u001b[39m:\u001b[32m5\u001b[39m)\n  ammonite.$sess.cmd102$Helper.reverse(\u001b[32mcmd102.sc\u001b[39m:\u001b[32m5\u001b[39m)\n  ammonite.$sess.cmd102$Helper.reverse(\u001b[32mcmd102.sc\u001b[39m:\u001b[32m5\u001b[39m)\n  ammonite.$sess.cmd102$Helper.reverse(\u001b[32mcmd102.sc\u001b[39m:\u001b[32m5\u001b[39m)\n  ammonite.$sess.cmd102$Helper.reverse(\u001b[32mcmd102.sc\u001b[39m:\u001b[32m5\u001b[39m)\n  ammonite.$sess.cmd102$Helper.reverse(\u001b[32mcmd102.sc\u001b[39m:\u001b[32m5\u001b[39m)\n  ammonite.$sess.cmd102$Helper.reverse(\u001b[32mcmd102.sc\u001b[39m:\u001b[32m5\u001b[39m)\n  ammonite.$sess.cmd102$Helper.reverse(\u001b[32mcmd102.sc\u001b[39m:\u001b[32m5\u001b[39m)\n  ammonite.$sess.cmd102$Helper.reverse(\u001b[32mcmd102.sc\u001b[39m:\u001b[32m5\u001b[39m)\n  ammonite.$sess.cmd102$Helper.reverse(\u001b[32mcmd102.sc\u001b[39m:\u001b[32m5\u001b[39m)\n  ammonite.$sess.cmd102$Helper.reverse(\u001b[32mcmd102.sc\u001b[39m:\u001b[32m5\u001b[39m)\n  ammonite.$sess.cmd102$Helper.reverse(\u001b[32mcmd102.sc\u001b[39m:\u001b[32m5\u001b[39m)\n  ammonite.$sess.cmd102$Helper.reverse(\u001b[32mcmd102.sc\u001b[39m:\u001b[32m5\u001b[39m)\n  ammonite.$sess.cmd102$Helper.reverse(\u001b[32mcmd102.sc\u001b[39m:\u001b[32m5\u001b[39m)\n  ammonite.$sess.cmd102$Helper.reverse(\u001b[32mcmd102.sc\u001b[39m:\u001b[32m5\u001b[39m)\n  ammonite.$sess.cmd102$Helper.reverse(\u001b[32mcmd102.sc\u001b[39m:\u001b[32m5\u001b[39m)\n  ammonite.$sess.cmd102$Helper.reverse(\u001b[32mcmd102.sc\u001b[39m:\u001b[32m5\u001b[39m)\n  ammonite.$sess.cmd102$Helper.reverse(\u001b[32mcmd102.sc\u001b[39m:\u001b[32m5\u001b[39m)\n  ammonite.$sess.cmd102$Helper.reverse(\u001b[32mcmd102.sc\u001b[39m:\u001b[32m5\u001b[39m)\n  ammonite.$sess.cmd102$Helper.reverse(\u001b[32mcmd102.sc\u001b[39m:\u001b[32m5\u001b[39m)\n  ammonite.$sess.cmd102$Helper.reverse(\u001b[32mcmd102.sc\u001b[39m:\u001b[32m5\u001b[39m)\n  ammonite.$sess.cmd102$Helper.reverse(\u001b[32mcmd102.sc\u001b[39m:\u001b[32m5\u001b[39m)\n  ammonite.$sess.cmd102$Helper.reverse(\u001b[32mcmd102.sc\u001b[39m:\u001b[32m5\u001b[39m)\n  ammonite.$sess.cmd102$Helper.reverse(\u001b[32mcmd102.sc\u001b[39m:\u001b[32m5\u001b[39m)\n  ammonite.$sess.cmd102$Helper.reverse(\u001b[32mcmd102.sc\u001b[39m:\u001b[32m5\u001b[39m)\n  ammonite.$sess.cmd102$Helper.reverse(\u001b[32mcmd102.sc\u001b[39m:\u001b[32m5\u001b[39m)\n  ammonite.$sess.cmd102$Helper.reverse(\u001b[32mcmd102.sc\u001b[39m:\u001b[32m5\u001b[39m)\n  ammonite.$sess.cmd102$Helper.reverse(\u001b[32mcmd102.sc\u001b[39m:\u001b[32m5\u001b[39m)\n  ammonite.$sess.cmd102$Helper.reverse(\u001b[32mcmd102.sc\u001b[39m:\u001b[32m5\u001b[39m)\n  ammonite.$sess.cmd102$Helper.reverse(\u001b[32mcmd102.sc\u001b[39m:\u001b[32m5\u001b[39m)\n  ammonite.$sess.cmd102$Helper.reverse(\u001b[32mcmd102.sc\u001b[39m:\u001b[32m5\u001b[39m)\n  ammonite.$sess.cmd102$Helper.reverse(\u001b[32mcmd102.sc\u001b[39m:\u001b[32m5\u001b[39m)\n  ammonite.$sess.cmd102$Helper.reverse(\u001b[32mcmd102.sc\u001b[39m:\u001b[32m5\u001b[39m)\n  ammonite.$sess.cmd102$Helper.reverse(\u001b[32mcmd102.sc\u001b[39m:\u001b[32m5\u001b[39m)\n  ammonite.$sess.cmd102$Helper.reverse(\u001b[32mcmd102.sc\u001b[39m:\u001b[32m5\u001b[39m)\n  ammonite.$sess.cmd102$Helper.reverse(\u001b[32mcmd102.sc\u001b[39m:\u001b[32m5\u001b[39m)\n  ammonite.$sess.cmd102$Helper.reverse(\u001b[32mcmd102.sc\u001b[39m:\u001b[32m5\u001b[39m)\n  ammonite.$sess.cmd102$Helper.reverse(\u001b[32mcmd102.sc\u001b[39m:\u001b[32m5\u001b[39m)\n  ammonite.$sess.cmd102$Helper.reverse(\u001b[32mcmd102.sc\u001b[39m:\u001b[32m5\u001b[39m)\n  ammonite.$sess.cmd102$Helper.reverse(\u001b[32mcmd102.sc\u001b[39m:\u001b[32m5\u001b[39m)\n  ammonite.$sess.cmd102$Helper.reverse(\u001b[32mcmd102.sc\u001b[39m:\u001b[32m5\u001b[39m)\n  ammonite.$sess.cmd102$Helper.reverse(\u001b[32mcmd102.sc\u001b[39m:\u001b[32m5\u001b[39m)\n  ammonite.$sess.cmd102$Helper.reverse(\u001b[32mcmd102.sc\u001b[39m:\u001b[32m5\u001b[39m)\n  ammonite.$sess.cmd102$Helper.reverse(\u001b[32mcmd102.sc\u001b[39m:\u001b[32m5\u001b[39m)\n  ammonite.$sess.cmd102$Helper.reverse(\u001b[32mcmd102.sc\u001b[39m:\u001b[32m5\u001b[39m)\n  ammonite.$sess.cmd102$Helper.reverse(\u001b[32mcmd102.sc\u001b[39m:\u001b[32m5\u001b[39m)\n  ammonite.$sess.cmd102$Helper.reverse(\u001b[32mcmd102.sc\u001b[39m:\u001b[32m5\u001b[39m)\n  ammonite.$sess.cmd102$Helper.reverse(\u001b[32mcmd102.sc\u001b[39m:\u001b[32m5\u001b[39m)\n  ammonite.$sess.cmd102$Helper.reverse(\u001b[32mcmd102.sc\u001b[39m:\u001b[32m5\u001b[39m)\n  ammonite.$sess.cmd102$Helper.reverse(\u001b[32mcmd102.sc\u001b[39m:\u001b[32m5\u001b[39m)\n  ammonite.$sess.cmd102$Helper.reverse(\u001b[32mcmd102.sc\u001b[39m:\u001b[32m5\u001b[39m)\n  ammonite.$sess.cmd102$Helper.reverse(\u001b[32mcmd102.sc\u001b[39m:\u001b[32m5\u001b[39m)\n  ammonite.$sess.cmd102$Helper.reverse(\u001b[32mcmd102.sc\u001b[39m:\u001b[32m5\u001b[39m)\n  ammonite.$sess.cmd102$Helper.reverse(\u001b[32mcmd102.sc\u001b[39m:\u001b[32m5\u001b[39m)\n  ammonite.$sess.cmd102$Helper.reverse(\u001b[32mcmd102.sc\u001b[39m:\u001b[32m5\u001b[39m)\n  ammonite.$sess.cmd102$Helper.reverse(\u001b[32mcmd102.sc\u001b[39m:\u001b[32m5\u001b[39m)\n  ammonite.$sess.cmd102$Helper.reverse(\u001b[32mcmd102.sc\u001b[39m:\u001b[32m5\u001b[39m)\n  ammonite.$sess.cmd102$Helper.reverse(\u001b[32mcmd102.sc\u001b[39m:\u001b[32m5\u001b[39m)\n  ammonite.$sess.cmd102$Helper.reverse(\u001b[32mcmd102.sc\u001b[39m:\u001b[32m5\u001b[39m)\n  ammonite.$sess.cmd102$Helper.reverse(\u001b[32mcmd102.sc\u001b[39m:\u001b[32m5\u001b[39m)\n  ammonite.$sess.cmd102$Helper.reverse(\u001b[32mcmd102.sc\u001b[39m:\u001b[32m5\u001b[39m)\n  ammonite.$sess.cmd102$Helper.reverse(\u001b[32mcmd102.sc\u001b[39m:\u001b[32m5\u001b[39m)\n  ammonite.$sess.cmd102$Helper.reverse(\u001b[32mcmd102.sc\u001b[39m:\u001b[32m5\u001b[39m)\n  ammonite.$sess.cmd102$Helper.reverse(\u001b[32mcmd102.sc\u001b[39m:\u001b[32m5\u001b[39m)\n  ammonite.$sess.cmd102$Helper.reverse(\u001b[32mcmd102.sc\u001b[39m:\u001b[32m5\u001b[39m)\n  ammonite.$sess.cmd102$Helper.reverse(\u001b[32mcmd102.sc\u001b[39m:\u001b[32m5\u001b[39m)\n  ammonite.$sess.cmd102$Helper.reverse(\u001b[32mcmd102.sc\u001b[39m:\u001b[32m5\u001b[39m)\n  ammonite.$sess.cmd102$Helper.reverse(\u001b[32mcmd102.sc\u001b[39m:\u001b[32m5\u001b[39m)\n  ammonite.$sess.cmd102$Helper.reverse(\u001b[32mcmd102.sc\u001b[39m:\u001b[32m5\u001b[39m)\n  ammonite.$sess.cmd102$Helper.reverse(\u001b[32mcmd102.sc\u001b[39m:\u001b[32m5\u001b[39m)\n  ammonite.$sess.cmd102$Helper.reverse(\u001b[32mcmd102.sc\u001b[39m:\u001b[32m5\u001b[39m)\n  ammonite.$sess.cmd102$Helper.reverse(\u001b[32mcmd102.sc\u001b[39m:\u001b[32m5\u001b[39m)\n  ammonite.$sess.cmd102$Helper.reverse(\u001b[32mcmd102.sc\u001b[39m:\u001b[32m5\u001b[39m)\n  ammonite.$sess.cmd102$Helper.reverse(\u001b[32mcmd102.sc\u001b[39m:\u001b[32m5\u001b[39m)\n  ammonite.$sess.cmd102$Helper.reverse(\u001b[32mcmd102.sc\u001b[39m:\u001b[32m5\u001b[39m)\n  ammonite.$sess.cmd102$Helper.reverse(\u001b[32mcmd102.sc\u001b[39m:\u001b[32m5\u001b[39m)\n  ammonite.$sess.cmd102$Helper.reverse(\u001b[32mcmd102.sc\u001b[39m:\u001b[32m5\u001b[39m)\n  ammonite.$sess.cmd102$Helper.reverse(\u001b[32mcmd102.sc\u001b[39m:\u001b[32m5\u001b[39m)\n  ammonite.$sess.cmd102$Helper.reverse(\u001b[32mcmd102.sc\u001b[39m:\u001b[32m5\u001b[39m)\n  ammonite.$sess.cmd102$Helper.reverse(\u001b[32mcmd102.sc\u001b[39m:\u001b[32m5\u001b[39m)\n  ammonite.$sess.cmd102$Helper.reverse(\u001b[32mcmd102.sc\u001b[39m:\u001b[32m5\u001b[39m)\n  ammonite.$sess.cmd102$Helper.reverse(\u001b[32mcmd102.sc\u001b[39m:\u001b[32m5\u001b[39m)\n  ammonite.$sess.cmd102$Helper.reverse(\u001b[32mcmd102.sc\u001b[39m:\u001b[32m5\u001b[39m)\n  ammonite.$sess.cmd102$Helper.reverse(\u001b[32mcmd102.sc\u001b[39m:\u001b[32m5\u001b[39m)\n  ammonite.$sess.cmd102$Helper.reverse(\u001b[32mcmd102.sc\u001b[39m:\u001b[32m5\u001b[39m)\n  ammonite.$sess.cmd102$Helper.reverse(\u001b[32mcmd102.sc\u001b[39m:\u001b[32m5\u001b[39m)\n  ammonite.$sess.cmd102$Helper.reverse(\u001b[32mcmd102.sc\u001b[39m:\u001b[32m5\u001b[39m)\n  ammonite.$sess.cmd102$Helper.reverse(\u001b[32mcmd102.sc\u001b[39m:\u001b[32m5\u001b[39m)\n  ammonite.$sess.cmd102$Helper.reverse(\u001b[32mcmd102.sc\u001b[39m:\u001b[32m5\u001b[39m)\n  ammonite.$sess.cmd102$Helper.reverse(\u001b[32mcmd102.sc\u001b[39m:\u001b[32m5\u001b[39m)\n  ammonite.$sess.cmd102$Helper.reverse(\u001b[32mcmd102.sc\u001b[39m:\u001b[32m5\u001b[39m)\n  ammonite.$sess.cmd102$Helper.reverse(\u001b[32mcmd102.sc\u001b[39m:\u001b[32m5\u001b[39m)\n  ammonite.$sess.cmd102$Helper.reverse(\u001b[32mcmd102.sc\u001b[39m:\u001b[32m5\u001b[39m)\n  ammonite.$sess.cmd102$Helper.reverse(\u001b[32mcmd102.sc\u001b[39m:\u001b[32m5\u001b[39m)\n  ammonite.$sess.cmd102$Helper.reverse(\u001b[32mcmd102.sc\u001b[39m:\u001b[32m5\u001b[39m)\n  ammonite.$sess.cmd102$Helper.reverse(\u001b[32mcmd102.sc\u001b[39m:\u001b[32m5\u001b[39m)\n  ammonite.$sess.cmd102$Helper.reverse(\u001b[32mcmd102.sc\u001b[39m:\u001b[32m5\u001b[39m)\n  ammonite.$sess.cmd102$Helper.reverse(\u001b[32mcmd102.sc\u001b[39m:\u001b[32m5\u001b[39m)\n  ammonite.$sess.cmd102$Helper.reverse(\u001b[32mcmd102.sc\u001b[39m:\u001b[32m5\u001b[39m)\n  ammonite.$sess.cmd102$Helper.reverse(\u001b[32mcmd102.sc\u001b[39m:\u001b[32m5\u001b[39m)\n  ammonite.$sess.cmd102$Helper.reverse(\u001b[32mcmd102.sc\u001b[39m:\u001b[32m5\u001b[39m)\n  ammonite.$sess.cmd102$Helper.reverse(\u001b[32mcmd102.sc\u001b[39m:\u001b[32m5\u001b[39m)\n  ammonite.$sess.cmd102$Helper.reverse(\u001b[32mcmd102.sc\u001b[39m:\u001b[32m5\u001b[39m)\n  ammonite.$sess.cmd102$Helper.reverse(\u001b[32mcmd102.sc\u001b[39m:\u001b[32m5\u001b[39m)\n  ammonite.$sess.cmd102$Helper.reverse(\u001b[32mcmd102.sc\u001b[39m:\u001b[32m5\u001b[39m)\n  ammonite.$sess.cmd102$Helper.reverse(\u001b[32mcmd102.sc\u001b[39m:\u001b[32m5\u001b[39m)\n  ammonite.$sess.cmd102$Helper.reverse(\u001b[32mcmd102.sc\u001b[39m:\u001b[32m5\u001b[39m)\n  ammonite.$sess.cmd102$Helper.reverse(\u001b[32mcmd102.sc\u001b[39m:\u001b[32m5\u001b[39m)\n  ammonite.$sess.cmd102$Helper.reverse(\u001b[32mcmd102.sc\u001b[39m:\u001b[32m5\u001b[39m)\n  ammonite.$sess.cmd102$Helper.reverse(\u001b[32mcmd102.sc\u001b[39m:\u001b[32m5\u001b[39m)\n  ammonite.$sess.cmd102$Helper.reverse(\u001b[32mcmd102.sc\u001b[39m:\u001b[32m5\u001b[39m)\n  ammonite.$sess.cmd102$Helper.reverse(\u001b[32mcmd102.sc\u001b[39m:\u001b[32m5\u001b[39m)\n  ammonite.$sess.cmd102$Helper.reverse(\u001b[32mcmd102.sc\u001b[39m:\u001b[32m5\u001b[39m)\n  ammonite.$sess.cmd102$Helper.reverse(\u001b[32mcmd102.sc\u001b[39m:\u001b[32m5\u001b[39m)\n  ammonite.$sess.cmd102$Helper.reverse(\u001b[32mcmd102.sc\u001b[39m:\u001b[32m5\u001b[39m)\n  ammonite.$sess.cmd102$Helper.reverse(\u001b[32mcmd102.sc\u001b[39m:\u001b[32m5\u001b[39m)\n  ammonite.$sess.cmd102$Helper.reverse(\u001b[32mcmd102.sc\u001b[39m:\u001b[32m5\u001b[39m)\n  ammonite.$sess.cmd102$Helper.reverse(\u001b[32mcmd102.sc\u001b[39m:\u001b[32m5\u001b[39m)\n  ammonite.$sess.cmd102$Helper.reverse(\u001b[32mcmd102.sc\u001b[39m:\u001b[32m5\u001b[39m)\n  ammonite.$sess.cmd102$Helper.reverse(\u001b[32mcmd102.sc\u001b[39m:\u001b[32m5\u001b[39m)\n  ammonite.$sess.cmd102$Helper.reverse(\u001b[32mcmd102.sc\u001b[39m:\u001b[32m5\u001b[39m)\n  ammonite.$sess.cmd102$Helper.reverse(\u001b[32mcmd102.sc\u001b[39m:\u001b[32m5\u001b[39m)\n  ammonite.$sess.cmd102$Helper.reverse(\u001b[32mcmd102.sc\u001b[39m:\u001b[32m5\u001b[39m)\n  ammonite.$sess.cmd102$Helper.reverse(\u001b[32mcmd102.sc\u001b[39m:\u001b[32m5\u001b[39m)\n  ammonite.$sess.cmd102$Helper.reverse(\u001b[32mcmd102.sc\u001b[39m:\u001b[32m5\u001b[39m)\n  ammonite.$sess.cmd102$Helper.reverse(\u001b[32mcmd102.sc\u001b[39m:\u001b[32m5\u001b[39m)\n  ammonite.$sess.cmd102$Helper.reverse(\u001b[32mcmd102.sc\u001b[39m:\u001b[32m5\u001b[39m)\n  ammonite.$sess.cmd102$Helper.reverse(\u001b[32mcmd102.sc\u001b[39m:\u001b[32m5\u001b[39m)\n  ammonite.$sess.cmd102$Helper.reverse(\u001b[32mcmd102.sc\u001b[39m:\u001b[32m5\u001b[39m)\n  ammonite.$sess.cmd102$Helper.reverse(\u001b[32mcmd102.sc\u001b[39m:\u001b[32m5\u001b[39m)\n  ammonite.$sess.cmd102$Helper.reverse(\u001b[32mcmd102.sc\u001b[39m:\u001b[32m5\u001b[39m)\n  ammonite.$sess.cmd102$Helper.reverse(\u001b[32mcmd102.sc\u001b[39m:\u001b[32m5\u001b[39m)\n  ammonite.$sess.cmd102$Helper.reverse(\u001b[32mcmd102.sc\u001b[39m:\u001b[32m5\u001b[39m)\n  ammonite.$sess.cmd102$Helper.reverse(\u001b[32mcmd102.sc\u001b[39m:\u001b[32m5\u001b[39m)\n  ammonite.$sess.cmd102$Helper.reverse(\u001b[32mcmd102.sc\u001b[39m:\u001b[32m5\u001b[39m)\n  ammonite.$sess.cmd102$Helper.reverse(\u001b[32mcmd102.sc\u001b[39m:\u001b[32m5\u001b[39m)\n  ammonite.$sess.cmd102$Helper.reverse(\u001b[32mcmd102.sc\u001b[39m:\u001b[32m5\u001b[39m)\n  ammonite.$sess.cmd102$Helper.reverse(\u001b[32mcmd102.sc\u001b[39m:\u001b[32m5\u001b[39m)\n  ammonite.$sess.cmd102$Helper.reverse(\u001b[32mcmd102.sc\u001b[39m:\u001b[32m5\u001b[39m)\n  ammonite.$sess.cmd102$Helper.reverse(\u001b[32mcmd102.sc\u001b[39m:\u001b[32m5\u001b[39m)\n  ammonite.$sess.cmd102$Helper.reverse(\u001b[32mcmd102.sc\u001b[39m:\u001b[32m5\u001b[39m)\n  ammonite.$sess.cmd102$Helper.reverse(\u001b[32mcmd102.sc\u001b[39m:\u001b[32m5\u001b[39m)\n  ammonite.$sess.cmd102$Helper.reverse(\u001b[32mcmd102.sc\u001b[39m:\u001b[32m5\u001b[39m)\n  ammonite.$sess.cmd102$Helper.reverse(\u001b[32mcmd102.sc\u001b[39m:\u001b[32m5\u001b[39m)\n  ammonite.$sess.cmd102$Helper.reverse(\u001b[32mcmd102.sc\u001b[39m:\u001b[32m5\u001b[39m)\n  ammonite.$sess.cmd102$Helper.reverse(\u001b[32mcmd102.sc\u001b[39m:\u001b[32m5\u001b[39m)\n  ammonite.$sess.cmd102$Helper.reverse(\u001b[32mcmd102.sc\u001b[39m:\u001b[32m5\u001b[39m)\n  ammonite.$sess.cmd102$Helper.reverse(\u001b[32mcmd102.sc\u001b[39m:\u001b[32m5\u001b[39m)\n  ammonite.$sess.cmd102$Helper.reverse(\u001b[32mcmd102.sc\u001b[39m:\u001b[32m5\u001b[39m)\n  ammonite.$sess.cmd102$Helper.reverse(\u001b[32mcmd102.sc\u001b[39m:\u001b[32m5\u001b[39m)\n  ammonite.$sess.cmd102$Helper.reverse(\u001b[32mcmd102.sc\u001b[39m:\u001b[32m5\u001b[39m)\n  ammonite.$sess.cmd102$Helper.reverse(\u001b[32mcmd102.sc\u001b[39m:\u001b[32m5\u001b[39m)\n  ammonite.$sess.cmd102$Helper.reverse(\u001b[32mcmd102.sc\u001b[39m:\u001b[32m5\u001b[39m)\n  ammonite.$sess.cmd102$Helper.reverse(\u001b[32mcmd102.sc\u001b[39m:\u001b[32m5\u001b[39m)\n  ammonite.$sess.cmd102$Helper.reverse(\u001b[32mcmd102.sc\u001b[39m:\u001b[32m5\u001b[39m)\n  ammonite.$sess.cmd102$Helper.reverse(\u001b[32mcmd102.sc\u001b[39m:\u001b[32m5\u001b[39m)\n  ammonite.$sess.cmd102$Helper.reverse(\u001b[32mcmd102.sc\u001b[39m:\u001b[32m5\u001b[39m)\n  ammonite.$sess.cmd102$Helper.reverse(\u001b[32mcmd102.sc\u001b[39m:\u001b[32m5\u001b[39m)\n  ammonite.$sess.cmd102$Helper.reverse(\u001b[32mcmd102.sc\u001b[39m:\u001b[32m5\u001b[39m)\n  ammonite.$sess.cmd102$Helper.reverse(\u001b[32mcmd102.sc\u001b[39m:\u001b[32m5\u001b[39m)\n  ammonite.$sess.cmd102$Helper.reverse(\u001b[32mcmd102.sc\u001b[39m:\u001b[32m5\u001b[39m)\n  ammonite.$sess.cmd102$Helper.reverse(\u001b[32mcmd102.sc\u001b[39m:\u001b[32m5\u001b[39m)\n  ammonite.$sess.cmd102$Helper.reverse(\u001b[32mcmd102.sc\u001b[39m:\u001b[32m5\u001b[39m)\n  ammonite.$sess.cmd102$Helper.reverse(\u001b[32mcmd102.sc\u001b[39m:\u001b[32m5\u001b[39m)\n  ammonite.$sess.cmd102$Helper.reverse(\u001b[32mcmd102.sc\u001b[39m:\u001b[32m5\u001b[39m)\n  ammonite.$sess.cmd102$Helper.reverse(\u001b[32mcmd102.sc\u001b[39m:\u001b[32m5\u001b[39m)\n  ammonite.$sess.cmd102$Helper.reverse(\u001b[32mcmd102.sc\u001b[39m:\u001b[32m5\u001b[39m)\n  ammonite.$sess.cmd102$Helper.reverse(\u001b[32mcmd102.sc\u001b[39m:\u001b[32m5\u001b[39m)\n  ammonite.$sess.cmd102$Helper.reverse(\u001b[32mcmd102.sc\u001b[39m:\u001b[32m5\u001b[39m)\n  ammonite.$sess.cmd102$Helper.reverse(\u001b[32mcmd102.sc\u001b[39m:\u001b[32m5\u001b[39m)\n  ammonite.$sess.cmd102$Helper.reverse(\u001b[32mcmd102.sc\u001b[39m:\u001b[32m5\u001b[39m)\n  ammonite.$sess.cmd102$Helper.reverse(\u001b[32mcmd102.sc\u001b[39m:\u001b[32m5\u001b[39m)\n  ammonite.$sess.cmd102$Helper.reverse(\u001b[32mcmd102.sc\u001b[39m:\u001b[32m5\u001b[39m)\n  ammonite.$sess.cmd102$Helper.reverse(\u001b[32mcmd102.sc\u001b[39m:\u001b[32m5\u001b[39m)\n  ammonite.$sess.cmd102$Helper.reverse(\u001b[32mcmd102.sc\u001b[39m:\u001b[32m5\u001b[39m)\n  ammonite.$sess.cmd102$Helper.reverse(\u001b[32mcmd102.sc\u001b[39m:\u001b[32m5\u001b[39m)\n  ammonite.$sess.cmd102$Helper.reverse(\u001b[32mcmd102.sc\u001b[39m:\u001b[32m5\u001b[39m)\n  ammonite.$sess.cmd102$Helper.reverse(\u001b[32mcmd102.sc\u001b[39m:\u001b[32m5\u001b[39m)\n  ammonite.$sess.cmd102$Helper.reverse(\u001b[32mcmd102.sc\u001b[39m:\u001b[32m5\u001b[39m)\n  ammonite.$sess.cmd102$Helper.reverse(\u001b[32mcmd102.sc\u001b[39m:\u001b[32m5\u001b[39m)\n  ammonite.$sess.cmd102$Helper.reverse(\u001b[32mcmd102.sc\u001b[39m:\u001b[32m5\u001b[39m)\n  ammonite.$sess.cmd102$Helper.reverse(\u001b[32mcmd102.sc\u001b[39m:\u001b[32m5\u001b[39m)\n  ammonite.$sess.cmd102$Helper.reverse(\u001b[32mcmd102.sc\u001b[39m:\u001b[32m5\u001b[39m)\n  ammonite.$sess.cmd102$Helper.reverse(\u001b[32mcmd102.sc\u001b[39m:\u001b[32m5\u001b[39m)\n  ammonite.$sess.cmd102$Helper.reverse(\u001b[32mcmd102.sc\u001b[39m:\u001b[32m5\u001b[39m)\n  ammonite.$sess.cmd102$Helper.reverse(\u001b[32mcmd102.sc\u001b[39m:\u001b[32m5\u001b[39m)\n  ammonite.$sess.cmd102$Helper.reverse(\u001b[32mcmd102.sc\u001b[39m:\u001b[32m5\u001b[39m)\n  ammonite.$sess.cmd102$Helper.reverse(\u001b[32mcmd102.sc\u001b[39m:\u001b[32m5\u001b[39m)\n  ammonite.$sess.cmd102$Helper.reverse(\u001b[32mcmd102.sc\u001b[39m:\u001b[32m5\u001b[39m)\n  ammonite.$sess.cmd102$Helper.reverse(\u001b[32mcmd102.sc\u001b[39m:\u001b[32m5\u001b[39m)\n  ammonite.$sess.cmd102$Helper.reverse(\u001b[32mcmd102.sc\u001b[39m:\u001b[32m5\u001b[39m)\n  ammonite.$sess.cmd102$Helper.reverse(\u001b[32mcmd102.sc\u001b[39m:\u001b[32m5\u001b[39m)\n  ammonite.$sess.cmd102$Helper.reverse(\u001b[32mcmd102.sc\u001b[39m:\u001b[32m5\u001b[39m)\n  ammonite.$sess.cmd102$Helper.reverse(\u001b[32mcmd102.sc\u001b[39m:\u001b[32m5\u001b[39m)\n  ammonite.$sess.cmd102$Helper.reverse(\u001b[32mcmd102.sc\u001b[39m:\u001b[32m5\u001b[39m)\n  ammonite.$sess.cmd102$Helper.reverse(\u001b[32mcmd102.sc\u001b[39m:\u001b[32m5\u001b[39m)\n  ammonite.$sess.cmd102$Helper.reverse(\u001b[32mcmd102.sc\u001b[39m:\u001b[32m5\u001b[39m)\n  ammonite.$sess.cmd102$Helper.reverse(\u001b[32mcmd102.sc\u001b[39m:\u001b[32m5\u001b[39m)\n  ammonite.$sess.cmd102$Helper.reverse(\u001b[32mcmd102.sc\u001b[39m:\u001b[32m5\u001b[39m)\n  ammonite.$sess.cmd102$Helper.reverse(\u001b[32mcmd102.sc\u001b[39m:\u001b[32m5\u001b[39m)\n  ammonite.$sess.cmd102$Helper.reverse(\u001b[32mcmd102.sc\u001b[39m:\u001b[32m5\u001b[39m)\n  ammonite.$sess.cmd102$Helper.reverse(\u001b[32mcmd102.sc\u001b[39m:\u001b[32m5\u001b[39m)\n  ammonite.$sess.cmd102$Helper.reverse(\u001b[32mcmd102.sc\u001b[39m:\u001b[32m5\u001b[39m)\n  ammonite.$sess.cmd102$Helper.reverse(\u001b[32mcmd102.sc\u001b[39m:\u001b[32m5\u001b[39m)\n  ammonite.$sess.cmd102$Helper.reverse(\u001b[32mcmd102.sc\u001b[39m:\u001b[32m5\u001b[39m)\n  ammonite.$sess.cmd102$Helper.reverse(\u001b[32mcmd102.sc\u001b[39m:\u001b[32m5\u001b[39m)\n  ammonite.$sess.cmd102$Helper.reverse(\u001b[32mcmd102.sc\u001b[39m:\u001b[32m5\u001b[39m)\n  ammonite.$sess.cmd102$Helper.reverse(\u001b[32mcmd102.sc\u001b[39m:\u001b[32m5\u001b[39m)\n  ammonite.$sess.cmd102$Helper.reverse(\u001b[32mcmd102.sc\u001b[39m:\u001b[32m5\u001b[39m)\n  ammonite.$sess.cmd102$Helper.reverse(\u001b[32mcmd102.sc\u001b[39m:\u001b[32m5\u001b[39m)\n  ammonite.$sess.cmd102$Helper.reverse(\u001b[32mcmd102.sc\u001b[39m:\u001b[32m5\u001b[39m)\n  ammonite.$sess.cmd102$Helper.reverse(\u001b[32mcmd102.sc\u001b[39m:\u001b[32m5\u001b[39m)\n  ammonite.$sess.cmd102$Helper.reverse(\u001b[32mcmd102.sc\u001b[39m:\u001b[32m5\u001b[39m)\n  ammonite.$sess.cmd102$Helper.reverse(\u001b[32mcmd102.sc\u001b[39m:\u001b[32m5\u001b[39m)\n  ammonite.$sess.cmd102$Helper.reverse(\u001b[32mcmd102.sc\u001b[39m:\u001b[32m5\u001b[39m)\n  ammonite.$sess.cmd102$Helper.reverse(\u001b[32mcmd102.sc\u001b[39m:\u001b[32m5\u001b[39m)\n  ammonite.$sess.cmd102$Helper.reverse(\u001b[32mcmd102.sc\u001b[39m:\u001b[32m5\u001b[39m)\n  ammonite.$sess.cmd102$Helper.reverse(\u001b[32mcmd102.sc\u001b[39m:\u001b[32m5\u001b[39m)\n  ammonite.$sess.cmd102$Helper.reverse(\u001b[32mcmd102.sc\u001b[39m:\u001b[32m5\u001b[39m)\n  ammonite.$sess.cmd102$Helper.reverse(\u001b[32mcmd102.sc\u001b[39m:\u001b[32m5\u001b[39m)\n  ammonite.$sess.cmd102$Helper.reverse(\u001b[32mcmd102.sc\u001b[39m:\u001b[32m5\u001b[39m)\n  ammonite.$sess.cmd102$Helper.reverse(\u001b[32mcmd102.sc\u001b[39m:\u001b[32m5\u001b[39m)\n  ammonite.$sess.cmd102$Helper.reverse(\u001b[32mcmd102.sc\u001b[39m:\u001b[32m5\u001b[39m)\n  ammonite.$sess.cmd102$Helper.reverse(\u001b[32mcmd102.sc\u001b[39m:\u001b[32m5\u001b[39m)\n  ammonite.$sess.cmd102$Helper.reverse(\u001b[32mcmd102.sc\u001b[39m:\u001b[32m5\u001b[39m)\n  ammonite.$sess.cmd102$Helper.reverse(\u001b[32mcmd102.sc\u001b[39m:\u001b[32m5\u001b[39m)\n  ammonite.$sess.cmd102$Helper.reverse(\u001b[32mcmd102.sc\u001b[39m:\u001b[32m5\u001b[39m)\n  ammonite.$sess.cmd102$Helper.reverse(\u001b[32mcmd102.sc\u001b[39m:\u001b[32m5\u001b[39m)\n  ammonite.$sess.cmd102$Helper.reverse(\u001b[32mcmd102.sc\u001b[39m:\u001b[32m5\u001b[39m)\n  ammonite.$sess.cmd102$Helper.reverse(\u001b[32mcmd102.sc\u001b[39m:\u001b[32m5\u001b[39m)\n  ammonite.$sess.cmd102$Helper.reverse(\u001b[32mcmd102.sc\u001b[39m:\u001b[32m5\u001b[39m)\n  ammonite.$sess.cmd102$Helper.reverse(\u001b[32mcmd102.sc\u001b[39m:\u001b[32m5\u001b[39m)\n  ammonite.$sess.cmd102$Helper.reverse(\u001b[32mcmd102.sc\u001b[39m:\u001b[32m5\u001b[39m)\n  ammonite.$sess.cmd102$Helper.reverse(\u001b[32mcmd102.sc\u001b[39m:\u001b[32m5\u001b[39m)\n  ammonite.$sess.cmd102$Helper.reverse(\u001b[32mcmd102.sc\u001b[39m:\u001b[32m5\u001b[39m)\n  ammonite.$sess.cmd102$Helper.reverse(\u001b[32mcmd102.sc\u001b[39m:\u001b[32m5\u001b[39m)\n  ammonite.$sess.cmd102$Helper.reverse(\u001b[32mcmd102.sc\u001b[39m:\u001b[32m5\u001b[39m)\n  ammonite.$sess.cmd102$Helper.reverse(\u001b[32mcmd102.sc\u001b[39m:\u001b[32m5\u001b[39m)\n  ammonite.$sess.cmd102$Helper.reverse(\u001b[32mcmd102.sc\u001b[39m:\u001b[32m5\u001b[39m)\n  ammonite.$sess.cmd102$Helper.reverse(\u001b[32mcmd102.sc\u001b[39m:\u001b[32m5\u001b[39m)\n  ammonite.$sess.cmd102$Helper.reverse(\u001b[32mcmd102.sc\u001b[39m:\u001b[32m5\u001b[39m)\n  ammonite.$sess.cmd102$Helper.reverse(\u001b[32mcmd102.sc\u001b[39m:\u001b[32m5\u001b[39m)\n  ammonite.$sess.cmd102$Helper.reverse(\u001b[32mcmd102.sc\u001b[39m:\u001b[32m5\u001b[39m)\n  ammonite.$sess.cmd102$Helper.reverse(\u001b[32mcmd102.sc\u001b[39m:\u001b[32m5\u001b[39m)\n  ammonite.$sess.cmd102$Helper.reverse(\u001b[32mcmd102.sc\u001b[39m:\u001b[32m5\u001b[39m)\n  ammonite.$sess.cmd102$Helper.reverse(\u001b[32mcmd102.sc\u001b[39m:\u001b[32m5\u001b[39m)\n  ammonite.$sess.cmd102$Helper.reverse(\u001b[32mcmd102.sc\u001b[39m:\u001b[32m5\u001b[39m)\n  ammonite.$sess.cmd102$Helper.reverse(\u001b[32mcmd102.sc\u001b[39m:\u001b[32m5\u001b[39m)\n  ammonite.$sess.cmd102$Helper.reverse(\u001b[32mcmd102.sc\u001b[39m:\u001b[32m5\u001b[39m)\n  ammonite.$sess.cmd102$Helper.reverse(\u001b[32mcmd102.sc\u001b[39m:\u001b[32m5\u001b[39m)\n  ammonite.$sess.cmd102$Helper.reverse(\u001b[32mcmd102.sc\u001b[39m:\u001b[32m5\u001b[39m)\n  ammonite.$sess.cmd102$Helper.reverse(\u001b[32mcmd102.sc\u001b[39m:\u001b[32m5\u001b[39m)\n  ammonite.$sess.cmd102$Helper.reverse(\u001b[32mcmd102.sc\u001b[39m:\u001b[32m5\u001b[39m)\n  ammonite.$sess.cmd102$Helper.reverse(\u001b[32mcmd102.sc\u001b[39m:\u001b[32m5\u001b[39m)\n  ammonite.$sess.cmd102$Helper.reverse(\u001b[32mcmd102.sc\u001b[39m:\u001b[32m5\u001b[39m)\n  ammonite.$sess.cmd102$Helper.reverse(\u001b[32mcmd102.sc\u001b[39m:\u001b[32m5\u001b[39m)\n  ammonite.$sess.cmd102$Helper.reverse(\u001b[32mcmd102.sc\u001b[39m:\u001b[32m5\u001b[39m)\n  ammonite.$sess.cmd102$Helper.reverse(\u001b[32mcmd102.sc\u001b[39m:\u001b[32m5\u001b[39m)\n  ammonite.$sess.cmd102$Helper.reverse(\u001b[32mcmd102.sc\u001b[39m:\u001b[32m5\u001b[39m)\n  ammonite.$sess.cmd102$Helper.reverse(\u001b[32mcmd102.sc\u001b[39m:\u001b[32m5\u001b[39m)\n  ammonite.$sess.cmd102$Helper.reverse(\u001b[32mcmd102.sc\u001b[39m:\u001b[32m5\u001b[39m)\n  ammonite.$sess.cmd102$Helper.reverse(\u001b[32mcmd102.sc\u001b[39m:\u001b[32m5\u001b[39m)\n  ammonite.$sess.cmd102$Helper.reverse(\u001b[32mcmd102.sc\u001b[39m:\u001b[32m5\u001b[39m)\n  ammonite.$sess.cmd102$Helper.reverse(\u001b[32mcmd102.sc\u001b[39m:\u001b[32m5\u001b[39m)\n  ammonite.$sess.cmd102$Helper.reverse(\u001b[32mcmd102.sc\u001b[39m:\u001b[32m5\u001b[39m)\n  ammonite.$sess.cmd102$Helper.reverse(\u001b[32mcmd102.sc\u001b[39m:\u001b[32m5\u001b[39m)\n  ammonite.$sess.cmd102$Helper.reverse(\u001b[32mcmd102.sc\u001b[39m:\u001b[32m5\u001b[39m)\n  ammonite.$sess.cmd102$Helper.reverse(\u001b[32mcmd102.sc\u001b[39m:\u001b[32m5\u001b[39m)\n  ammonite.$sess.cmd102$Helper.reverse(\u001b[32mcmd102.sc\u001b[39m:\u001b[32m5\u001b[39m)\n  ammonite.$sess.cmd102$Helper.reverse(\u001b[32mcmd102.sc\u001b[39m:\u001b[32m5\u001b[39m)\n  ammonite.$sess.cmd102$Helper.reverse(\u001b[32mcmd102.sc\u001b[39m:\u001b[32m5\u001b[39m)\n  ammonite.$sess.cmd102$Helper.reverse(\u001b[32mcmd102.sc\u001b[39m:\u001b[32m5\u001b[39m)\n  ammonite.$sess.cmd102$Helper.reverse(\u001b[32mcmd102.sc\u001b[39m:\u001b[32m5\u001b[39m)\n  ammonite.$sess.cmd102$Helper.reverse(\u001b[32mcmd102.sc\u001b[39m:\u001b[32m5\u001b[39m)\n  ammonite.$sess.cmd102$Helper.reverse(\u001b[32mcmd102.sc\u001b[39m:\u001b[32m5\u001b[39m)\n  ammonite.$sess.cmd102$Helper.reverse(\u001b[32mcmd102.sc\u001b[39m:\u001b[32m5\u001b[39m)\n  ammonite.$sess.cmd102$Helper.reverse(\u001b[32mcmd102.sc\u001b[39m:\u001b[32m5\u001b[39m)\n  ammonite.$sess.cmd102$Helper.reverse(\u001b[32mcmd102.sc\u001b[39m:\u001b[32m5\u001b[39m)\n  ammonite.$sess.cmd102$Helper.reverse(\u001b[32mcmd102.sc\u001b[39m:\u001b[32m5\u001b[39m)\n  ammonite.$sess.cmd102$Helper.reverse(\u001b[32mcmd102.sc\u001b[39m:\u001b[32m5\u001b[39m)\n  ammonite.$sess.cmd102$Helper.reverse(\u001b[32mcmd102.sc\u001b[39m:\u001b[32m5\u001b[39m)\n  ammonite.$sess.cmd102$Helper.reverse(\u001b[32mcmd102.sc\u001b[39m:\u001b[32m5\u001b[39m)\n  ammonite.$sess.cmd102$Helper.reverse(\u001b[32mcmd102.sc\u001b[39m:\u001b[32m5\u001b[39m)\n  ammonite.$sess.cmd102$Helper.reverse(\u001b[32mcmd102.sc\u001b[39m:\u001b[32m5\u001b[39m)\n  ammonite.$sess.cmd102$Helper.reverse(\u001b[32mcmd102.sc\u001b[39m:\u001b[32m5\u001b[39m)\n  ammonite.$sess.cmd102$Helper.reverse(\u001b[32mcmd102.sc\u001b[39m:\u001b[32m5\u001b[39m)\n  ammonite.$sess.cmd102$Helper.reverse(\u001b[32mcmd102.sc\u001b[39m:\u001b[32m5\u001b[39m)\n  ammonite.$sess.cmd102$Helper.reverse(\u001b[32mcmd102.sc\u001b[39m:\u001b[32m5\u001b[39m)\n  ammonite.$sess.cmd102$Helper.reverse(\u001b[32mcmd102.sc\u001b[39m:\u001b[32m5\u001b[39m)\n  ammonite.$sess.cmd102$Helper.reverse(\u001b[32mcmd102.sc\u001b[39m:\u001b[32m5\u001b[39m)\n  ammonite.$sess.cmd102$Helper.reverse(\u001b[32mcmd102.sc\u001b[39m:\u001b[32m5\u001b[39m)\n  ammonite.$sess.cmd102$Helper.reverse(\u001b[32mcmd102.sc\u001b[39m:\u001b[32m5\u001b[39m)\n  ammonite.$sess.cmd102$Helper.reverse(\u001b[32mcmd102.sc\u001b[39m:\u001b[32m5\u001b[39m)\n  ammonite.$sess.cmd102$Helper.reverse(\u001b[32mcmd102.sc\u001b[39m:\u001b[32m5\u001b[39m)\n  ammonite.$sess.cmd102$Helper.reverse(\u001b[32mcmd102.sc\u001b[39m:\u001b[32m5\u001b[39m)\n  ammonite.$sess.cmd102$Helper.reverse(\u001b[32mcmd102.sc\u001b[39m:\u001b[32m5\u001b[39m)\n  ammonite.$sess.cmd102$Helper.reverse(\u001b[32mcmd102.sc\u001b[39m:\u001b[32m5\u001b[39m)\n  ammonite.$sess.cmd102$Helper.reverse(\u001b[32mcmd102.sc\u001b[39m:\u001b[32m5\u001b[39m)\n  ammonite.$sess.cmd102$Helper.reverse(\u001b[32mcmd102.sc\u001b[39m:\u001b[32m5\u001b[39m)\n  ammonite.$sess.cmd102$Helper.reverse(\u001b[32mcmd102.sc\u001b[39m:\u001b[32m5\u001b[39m)\n  ammonite.$sess.cmd102$Helper.reverse(\u001b[32mcmd102.sc\u001b[39m:\u001b[32m5\u001b[39m)\n  ammonite.$sess.cmd102$Helper.reverse(\u001b[32mcmd102.sc\u001b[39m:\u001b[32m5\u001b[39m)\n  ammonite.$sess.cmd102$Helper.reverse(\u001b[32mcmd102.sc\u001b[39m:\u001b[32m5\u001b[39m)\n  ammonite.$sess.cmd102$Helper.reverse(\u001b[32mcmd102.sc\u001b[39m:\u001b[32m5\u001b[39m)\n  ammonite.$sess.cmd102$Helper.reverse(\u001b[32mcmd102.sc\u001b[39m:\u001b[32m5\u001b[39m)\n  ammonite.$sess.cmd102$Helper.reverse(\u001b[32mcmd102.sc\u001b[39m:\u001b[32m5\u001b[39m)\n  ammonite.$sess.cmd102$Helper.reverse(\u001b[32mcmd102.sc\u001b[39m:\u001b[32m5\u001b[39m)\n  ammonite.$sess.cmd102$Helper.reverse(\u001b[32mcmd102.sc\u001b[39m:\u001b[32m5\u001b[39m)\n  ammonite.$sess.cmd102$Helper.reverse(\u001b[32mcmd102.sc\u001b[39m:\u001b[32m5\u001b[39m)\n  ammonite.$sess.cmd102$Helper.reverse(\u001b[32mcmd102.sc\u001b[39m:\u001b[32m5\u001b[39m)\n  ammonite.$sess.cmd102$Helper.reverse(\u001b[32mcmd102.sc\u001b[39m:\u001b[32m5\u001b[39m)\n  ammonite.$sess.cmd102$Helper.reverse(\u001b[32mcmd102.sc\u001b[39m:\u001b[32m5\u001b[39m)\n  ammonite.$sess.cmd102$Helper.reverse(\u001b[32mcmd102.sc\u001b[39m:\u001b[32m5\u001b[39m)\n  ammonite.$sess.cmd102$Helper.reverse(\u001b[32mcmd102.sc\u001b[39m:\u001b[32m5\u001b[39m)\n  ammonite.$sess.cmd102$Helper.reverse(\u001b[32mcmd102.sc\u001b[39m:\u001b[32m5\u001b[39m)\n  ammonite.$sess.cmd102$Helper.reverse(\u001b[32mcmd102.sc\u001b[39m:\u001b[32m5\u001b[39m)\n  ammonite.$sess.cmd102$Helper.reverse(\u001b[32mcmd102.sc\u001b[39m:\u001b[32m5\u001b[39m)\n  ammonite.$sess.cmd102$Helper.reverse(\u001b[32mcmd102.sc\u001b[39m:\u001b[32m5\u001b[39m)\n  ammonite.$sess.cmd102$Helper.reverse(\u001b[32mcmd102.sc\u001b[39m:\u001b[32m5\u001b[39m)\n  ammonite.$sess.cmd102$Helper.reverse(\u001b[32mcmd102.sc\u001b[39m:\u001b[32m5\u001b[39m)\n  ammonite.$sess.cmd102$Helper.reverse(\u001b[32mcmd102.sc\u001b[39m:\u001b[32m5\u001b[39m)\n  ammonite.$sess.cmd102$Helper.reverse(\u001b[32mcmd102.sc\u001b[39m:\u001b[32m5\u001b[39m)\n  ammonite.$sess.cmd102$Helper.reverse(\u001b[32mcmd102.sc\u001b[39m:\u001b[32m5\u001b[39m)\n  ammonite.$sess.cmd102$Helper.reverse(\u001b[32mcmd102.sc\u001b[39m:\u001b[32m5\u001b[39m)\n  ammonite.$sess.cmd102$Helper.reverse(\u001b[32mcmd102.sc\u001b[39m:\u001b[32m5\u001b[39m)\n  ammonite.$sess.cmd102$Helper.reverse(\u001b[32mcmd102.sc\u001b[39m:\u001b[32m5\u001b[39m)\n  ammonite.$sess.cmd102$Helper.reverse(\u001b[32mcmd102.sc\u001b[39m:\u001b[32m5\u001b[39m)\n  ammonite.$sess.cmd102$Helper.reverse(\u001b[32mcmd102.sc\u001b[39m:\u001b[32m5\u001b[39m)\n  ammonite.$sess.cmd102$Helper.reverse(\u001b[32mcmd102.sc\u001b[39m:\u001b[32m5\u001b[39m)\n  ammonite.$sess.cmd102$Helper.reverse(\u001b[32mcmd102.sc\u001b[39m:\u001b[32m5\u001b[39m)\n  ammonite.$sess.cmd102$Helper.reverse(\u001b[32mcmd102.sc\u001b[39m:\u001b[32m5\u001b[39m)\n  ammonite.$sess.cmd102$Helper.reverse(\u001b[32mcmd102.sc\u001b[39m:\u001b[32m5\u001b[39m)\n  ammonite.$sess.cmd102$Helper.reverse(\u001b[32mcmd102.sc\u001b[39m:\u001b[32m5\u001b[39m)\n  ammonite.$sess.cmd102$Helper.reverse(\u001b[32mcmd102.sc\u001b[39m:\u001b[32m5\u001b[39m)\n  ammonite.$sess.cmd102$Helper.reverse(\u001b[32mcmd102.sc\u001b[39m:\u001b[32m5\u001b[39m)\n  ammonite.$sess.cmd102$Helper.reverse(\u001b[32mcmd102.sc\u001b[39m:\u001b[32m5\u001b[39m)\n  ammonite.$sess.cmd102$Helper.reverse(\u001b[32mcmd102.sc\u001b[39m:\u001b[32m5\u001b[39m)\n  ammonite.$sess.cmd102$Helper.reverse(\u001b[32mcmd102.sc\u001b[39m:\u001b[32m5\u001b[39m)\n  ammonite.$sess.cmd102$Helper.reverse(\u001b[32mcmd102.sc\u001b[39m:\u001b[32m5\u001b[39m)\n  ammonite.$sess.cmd102$Helper.reverse(\u001b[32mcmd102.sc\u001b[39m:\u001b[32m5\u001b[39m)\n  ammonite.$sess.cmd102$Helper.reverse(\u001b[32mcmd102.sc\u001b[39m:\u001b[32m5\u001b[39m)\n  ammonite.$sess.cmd102$Helper.reverse(\u001b[32mcmd102.sc\u001b[39m:\u001b[32m5\u001b[39m)\n  ammonite.$sess.cmd102$Helper.reverse(\u001b[32mcmd102.sc\u001b[39m:\u001b[32m5\u001b[39m)\n  ammonite.$sess.cmd102$Helper.reverse(\u001b[32mcmd102.sc\u001b[39m:\u001b[32m5\u001b[39m)\n  ammonite.$sess.cmd102$Helper.reverse(\u001b[32mcmd102.sc\u001b[39m:\u001b[32m5\u001b[39m)\n  ammonite.$sess.cmd102$Helper.reverse(\u001b[32mcmd102.sc\u001b[39m:\u001b[32m5\u001b[39m)\n  ammonite.$sess.cmd102$Helper.reverse(\u001b[32mcmd102.sc\u001b[39m:\u001b[32m5\u001b[39m)\n  ammonite.$sess.cmd102$Helper.reverse(\u001b[32mcmd102.sc\u001b[39m:\u001b[32m5\u001b[39m)\n  ammonite.$sess.cmd102$Helper.reverse(\u001b[32mcmd102.sc\u001b[39m:\u001b[32m5\u001b[39m)\n  ammonite.$sess.cmd102$Helper.reverse(\u001b[32mcmd102.sc\u001b[39m:\u001b[32m5\u001b[39m)\n  ammonite.$sess.cmd102$Helper.reverse(\u001b[32mcmd102.sc\u001b[39m:\u001b[32m5\u001b[39m)\n  ammonite.$sess.cmd102$Helper.reverse(\u001b[32mcmd102.sc\u001b[39m:\u001b[32m5\u001b[39m)\n  ammonite.$sess.cmd102$Helper.reverse(\u001b[32mcmd102.sc\u001b[39m:\u001b[32m5\u001b[39m)\n  ammonite.$sess.cmd102$Helper.reverse(\u001b[32mcmd102.sc\u001b[39m:\u001b[32m5\u001b[39m)\n  ammonite.$sess.cmd102$Helper.reverse(\u001b[32mcmd102.sc\u001b[39m:\u001b[32m5\u001b[39m)\n  ammonite.$sess.cmd102$Helper.reverse(\u001b[32mcmd102.sc\u001b[39m:\u001b[32m5\u001b[39m)\n  ammonite.$sess.cmd102$Helper.reverse(\u001b[32mcmd102.sc\u001b[39m:\u001b[32m5\u001b[39m)\n  ammonite.$sess.cmd102$Helper.reverse(\u001b[32mcmd102.sc\u001b[39m:\u001b[32m5\u001b[39m)\n  ammonite.$sess.cmd102$Helper.reverse(\u001b[32mcmd102.sc\u001b[39m:\u001b[32m5\u001b[39m)\n  ammonite.$sess.cmd102$Helper.reverse(\u001b[32mcmd102.sc\u001b[39m:\u001b[32m5\u001b[39m)\n  ammonite.$sess.cmd102$Helper.reverse(\u001b[32mcmd102.sc\u001b[39m:\u001b[32m5\u001b[39m)\n  ammonite.$sess.cmd102$Helper.reverse(\u001b[32mcmd102.sc\u001b[39m:\u001b[32m5\u001b[39m)\n  ammonite.$sess.cmd102$Helper.reverse(\u001b[32mcmd102.sc\u001b[39m:\u001b[32m5\u001b[39m)\n  ammonite.$sess.cmd102$Helper.reverse(\u001b[32mcmd102.sc\u001b[39m:\u001b[32m5\u001b[39m)\n  ammonite.$sess.cmd102$Helper.reverse(\u001b[32mcmd102.sc\u001b[39m:\u001b[32m5\u001b[39m)\n  ammonite.$sess.cmd102$Helper.reverse(\u001b[32mcmd102.sc\u001b[39m:\u001b[32m5\u001b[39m)\n  ammonite.$sess.cmd102$Helper.reverse(\u001b[32mcmd102.sc\u001b[39m:\u001b[32m5\u001b[39m)\n  ammonite.$sess.cmd102$Helper.reverse(\u001b[32mcmd102.sc\u001b[39m:\u001b[32m5\u001b[39m)\n  ammonite.$sess.cmd102$Helper.reverse(\u001b[32mcmd102.sc\u001b[39m:\u001b[32m5\u001b[39m)\n  ammonite.$sess.cmd102$Helper.reverse(\u001b[32mcmd102.sc\u001b[39m:\u001b[32m5\u001b[39m)\n  ammonite.$sess.cmd102$Helper.reverse(\u001b[32mcmd102.sc\u001b[39m:\u001b[32m5\u001b[39m)\n  ammonite.$sess.cmd102$Helper.reverse(\u001b[32mcmd102.sc\u001b[39m:\u001b[32m5\u001b[39m)\n  ammonite.$sess.cmd102$Helper.reverse(\u001b[32mcmd102.sc\u001b[39m:\u001b[32m5\u001b[39m)\n  ammonite.$sess.cmd102$Helper.reverse(\u001b[32mcmd102.sc\u001b[39m:\u001b[32m5\u001b[39m)\n  ammonite.$sess.cmd102$Helper.reverse(\u001b[32mcmd102.sc\u001b[39m:\u001b[32m5\u001b[39m)\n  ammonite.$sess.cmd102$Helper.reverse(\u001b[32mcmd102.sc\u001b[39m:\u001b[32m5\u001b[39m)\n  ammonite.$sess.cmd102$Helper.reverse(\u001b[32mcmd102.sc\u001b[39m:\u001b[32m5\u001b[39m)\n  ammonite.$sess.cmd102$Helper.reverse(\u001b[32mcmd102.sc\u001b[39m:\u001b[32m5\u001b[39m)\n  ammonite.$sess.cmd102$Helper.reverse(\u001b[32mcmd102.sc\u001b[39m:\u001b[32m5\u001b[39m)\n  ammonite.$sess.cmd102$Helper.reverse(\u001b[32mcmd102.sc\u001b[39m:\u001b[32m5\u001b[39m)\n  ammonite.$sess.cmd102$Helper.reverse(\u001b[32mcmd102.sc\u001b[39m:\u001b[32m5\u001b[39m)\n  ammonite.$sess.cmd102$Helper.reverse(\u001b[32mcmd102.sc\u001b[39m:\u001b[32m5\u001b[39m)\n  ammonite.$sess.cmd102$Helper.reverse(\u001b[32mcmd102.sc\u001b[39m:\u001b[32m5\u001b[39m)\n  ammonite.$sess.cmd102$Helper.reverse(\u001b[32mcmd102.sc\u001b[39m:\u001b[32m5\u001b[39m)\n  ammonite.$sess.cmd102$Helper.reverse(\u001b[32mcmd102.sc\u001b[39m:\u001b[32m5\u001b[39m)\n  ammonite.$sess.cmd102$Helper.reverse(\u001b[32mcmd102.sc\u001b[39m:\u001b[32m5\u001b[39m)\n  ammonite.$sess.cmd102$Helper.reverse(\u001b[32mcmd102.sc\u001b[39m:\u001b[32m5\u001b[39m)\n  ammonite.$sess.cmd102$Helper.reverse(\u001b[32mcmd102.sc\u001b[39m:\u001b[32m5\u001b[39m)\n  ammonite.$sess.cmd102$Helper.reverse(\u001b[32mcmd102.sc\u001b[39m:\u001b[32m5\u001b[39m)\n  ammonite.$sess.cmd102$Helper.reverse(\u001b[32mcmd102.sc\u001b[39m:\u001b[32m5\u001b[39m)\n  ammonite.$sess.cmd102$Helper.reverse(\u001b[32mcmd102.sc\u001b[39m:\u001b[32m5\u001b[39m)\n  ammonite.$sess.cmd102$Helper.reverse(\u001b[32mcmd102.sc\u001b[39m:\u001b[32m5\u001b[39m)\n  ammonite.$sess.cmd102$Helper.reverse(\u001b[32mcmd102.sc\u001b[39m:\u001b[32m5\u001b[39m)\n  ammonite.$sess.cmd102$Helper.reverse(\u001b[32mcmd102.sc\u001b[39m:\u001b[32m5\u001b[39m)\n  ammonite.$sess.cmd102$Helper.reverse(\u001b[32mcmd102.sc\u001b[39m:\u001b[32m5\u001b[39m)\n  ammonite.$sess.cmd102$Helper.reverse(\u001b[32mcmd102.sc\u001b[39m:\u001b[32m5\u001b[39m)\n  ammonite.$sess.cmd102$Helper.reverse(\u001b[32mcmd102.sc\u001b[39m:\u001b[32m5\u001b[39m)\n  ammonite.$sess.cmd102$Helper.reverse(\u001b[32mcmd102.sc\u001b[39m:\u001b[32m5\u001b[39m)\n  ammonite.$sess.cmd102$Helper.reverse(\u001b[32mcmd102.sc\u001b[39m:\u001b[32m5\u001b[39m)\n  ammonite.$sess.cmd102$Helper.reverse(\u001b[32mcmd102.sc\u001b[39m:\u001b[32m5\u001b[39m)\n  ammonite.$sess.cmd102$Helper.reverse(\u001b[32mcmd102.sc\u001b[39m:\u001b[32m5\u001b[39m)\n  ammonite.$sess.cmd102$Helper.reverse(\u001b[32mcmd102.sc\u001b[39m:\u001b[32m5\u001b[39m)\n  ammonite.$sess.cmd102$Helper.reverse(\u001b[32mcmd102.sc\u001b[39m:\u001b[32m5\u001b[39m)\n  ammonite.$sess.cmd102$Helper.reverse(\u001b[32mcmd102.sc\u001b[39m:\u001b[32m5\u001b[39m)\n  ammonite.$sess.cmd102$Helper.reverse(\u001b[32mcmd102.sc\u001b[39m:\u001b[32m5\u001b[39m)\n  ammonite.$sess.cmd102$Helper.reverse(\u001b[32mcmd102.sc\u001b[39m:\u001b[32m5\u001b[39m)\n  ammonite.$sess.cmd102$Helper.reverse(\u001b[32mcmd102.sc\u001b[39m:\u001b[32m5\u001b[39m)\n  ammonite.$sess.cmd102$Helper.reverse(\u001b[32mcmd102.sc\u001b[39m:\u001b[32m5\u001b[39m)\n  ammonite.$sess.cmd102$Helper.reverse(\u001b[32mcmd102.sc\u001b[39m:\u001b[32m5\u001b[39m)\n  ammonite.$sess.cmd102$Helper.reverse(\u001b[32mcmd102.sc\u001b[39m:\u001b[32m5\u001b[39m)\n  ammonite.$sess.cmd102$Helper.reverse(\u001b[32mcmd102.sc\u001b[39m:\u001b[32m5\u001b[39m)\n  ammonite.$sess.cmd102$Helper.reverse(\u001b[32mcmd102.sc\u001b[39m:\u001b[32m5\u001b[39m)\n  ammonite.$sess.cmd102$Helper.reverse(\u001b[32mcmd102.sc\u001b[39m:\u001b[32m5\u001b[39m)\n  ammonite.$sess.cmd102$Helper.reverse(\u001b[32mcmd102.sc\u001b[39m:\u001b[32m5\u001b[39m)\n  ammonite.$sess.cmd102$Helper.reverse(\u001b[32mcmd102.sc\u001b[39m:\u001b[32m5\u001b[39m)\n  ammonite.$sess.cmd102$Helper.reverse(\u001b[32mcmd102.sc\u001b[39m:\u001b[32m5\u001b[39m)\n  ammonite.$sess.cmd102$Helper.reverse(\u001b[32mcmd102.sc\u001b[39m:\u001b[32m5\u001b[39m)\n  ammonite.$sess.cmd102$Helper.reverse(\u001b[32mcmd102.sc\u001b[39m:\u001b[32m5\u001b[39m)\n  ammonite.$sess.cmd102$Helper.reverse(\u001b[32mcmd102.sc\u001b[39m:\u001b[32m5\u001b[39m)\n  ammonite.$sess.cmd102$Helper.reverse(\u001b[32mcmd102.sc\u001b[39m:\u001b[32m5\u001b[39m)\n  ammonite.$sess.cmd102$Helper.reverse(\u001b[32mcmd102.sc\u001b[39m:\u001b[32m5\u001b[39m)\n  ammonite.$sess.cmd102$Helper.reverse(\u001b[32mcmd102.sc\u001b[39m:\u001b[32m5\u001b[39m)\n  ammonite.$sess.cmd102$Helper.reverse(\u001b[32mcmd102.sc\u001b[39m:\u001b[32m5\u001b[39m)\n  ammonite.$sess.cmd102$Helper.reverse(\u001b[32mcmd102.sc\u001b[39m:\u001b[32m5\u001b[39m)\n  ammonite.$sess.cmd102$Helper.reverse(\u001b[32mcmd102.sc\u001b[39m:\u001b[32m5\u001b[39m)\n  ammonite.$sess.cmd102$Helper.reverse(\u001b[32mcmd102.sc\u001b[39m:\u001b[32m5\u001b[39m)\n  ammonite.$sess.cmd102$Helper.reverse(\u001b[32mcmd102.sc\u001b[39m:\u001b[32m5\u001b[39m)\n  ammonite.$sess.cmd102$Helper.reverse(\u001b[32mcmd102.sc\u001b[39m:\u001b[32m5\u001b[39m)\n  ammonite.$sess.cmd102$Helper.reverse(\u001b[32mcmd102.sc\u001b[39m:\u001b[32m5\u001b[39m)\n  ammonite.$sess.cmd102$Helper.reverse(\u001b[32mcmd102.sc\u001b[39m:\u001b[32m5\u001b[39m)\n  ammonite.$sess.cmd102$Helper.reverse(\u001b[32mcmd102.sc\u001b[39m:\u001b[32m5\u001b[39m)\n  ammonite.$sess.cmd102$Helper.reverse(\u001b[32mcmd102.sc\u001b[39m:\u001b[32m5\u001b[39m)\n  ammonite.$sess.cmd102$Helper.reverse(\u001b[32mcmd102.sc\u001b[39m:\u001b[32m5\u001b[39m)\n  ammonite.$sess.cmd102$Helper.reverse(\u001b[32mcmd102.sc\u001b[39m:\u001b[32m5\u001b[39m)\n  ammonite.$sess.cmd102$Helper.reverse(\u001b[32mcmd102.sc\u001b[39m:\u001b[32m5\u001b[39m)\n  ammonite.$sess.cmd102$Helper.reverse(\u001b[32mcmd102.sc\u001b[39m:\u001b[32m5\u001b[39m)\n  ammonite.$sess.cmd102$Helper.reverse(\u001b[32mcmd102.sc\u001b[39m:\u001b[32m5\u001b[39m)\n  ammonite.$sess.cmd102$Helper.reverse(\u001b[32mcmd102.sc\u001b[39m:\u001b[32m5\u001b[39m)\n  ammonite.$sess.cmd102$Helper.reverse(\u001b[32mcmd102.sc\u001b[39m:\u001b[32m5\u001b[39m)\n  ammonite.$sess.cmd102$Helper.reverse(\u001b[32mcmd102.sc\u001b[39m:\u001b[32m5\u001b[39m)\n  ammonite.$sess.cmd102$Helper.reverse(\u001b[32mcmd102.sc\u001b[39m:\u001b[32m5\u001b[39m)\n  ammonite.$sess.cmd102$Helper.reverse(\u001b[32mcmd102.sc\u001b[39m:\u001b[32m5\u001b[39m)\n  ammonite.$sess.cmd102$Helper.reverse(\u001b[32mcmd102.sc\u001b[39m:\u001b[32m5\u001b[39m)\n  ammonite.$sess.cmd102$Helper.reverse(\u001b[32mcmd102.sc\u001b[39m:\u001b[32m5\u001b[39m)\n  ammonite.$sess.cmd102$Helper.reverse(\u001b[32mcmd102.sc\u001b[39m:\u001b[32m5\u001b[39m)\n  ammonite.$sess.cmd102$Helper.reverse(\u001b[32mcmd102.sc\u001b[39m:\u001b[32m5\u001b[39m)\n  ammonite.$sess.cmd102$Helper.reverse(\u001b[32mcmd102.sc\u001b[39m:\u001b[32m5\u001b[39m)\n  ammonite.$sess.cmd102$Helper.reverse(\u001b[32mcmd102.sc\u001b[39m:\u001b[32m5\u001b[39m)\n  ammonite.$sess.cmd102$Helper.reverse(\u001b[32mcmd102.sc\u001b[39m:\u001b[32m5\u001b[39m)\n  ammonite.$sess.cmd102$Helper.reverse(\u001b[32mcmd102.sc\u001b[39m:\u001b[32m5\u001b[39m)\n  ammonite.$sess.cmd102$Helper.reverse(\u001b[32mcmd102.sc\u001b[39m:\u001b[32m5\u001b[39m)\n  ammonite.$sess.cmd102$Helper.reverse(\u001b[32mcmd102.sc\u001b[39m:\u001b[32m5\u001b[39m)\n  ammonite.$sess.cmd102$Helper.reverse(\u001b[32mcmd102.sc\u001b[39m:\u001b[32m5\u001b[39m)\n  ammonite.$sess.cmd102$Helper.reverse(\u001b[32mcmd102.sc\u001b[39m:\u001b[32m5\u001b[39m)\n  ammonite.$sess.cmd102$Helper.reverse(\u001b[32mcmd102.sc\u001b[39m:\u001b[32m5\u001b[39m)\n  ammonite.$sess.cmd102$Helper.reverse(\u001b[32mcmd102.sc\u001b[39m:\u001b[32m5\u001b[39m)\n  ammonite.$sess.cmd102$Helper.reverse(\u001b[32mcmd102.sc\u001b[39m:\u001b[32m5\u001b[39m)\n  ammonite.$sess.cmd102$Helper.reverse(\u001b[32mcmd102.sc\u001b[39m:\u001b[32m5\u001b[39m)\n  ammonite.$sess.cmd102$Helper.reverse(\u001b[32mcmd102.sc\u001b[39m:\u001b[32m5\u001b[39m)\n  ammonite.$sess.cmd102$Helper.reverse(\u001b[32mcmd102.sc\u001b[39m:\u001b[32m5\u001b[39m)\n  ammonite.$sess.cmd102$Helper.reverse(\u001b[32mcmd102.sc\u001b[39m:\u001b[32m5\u001b[39m)\n  ammonite.$sess.cmd102$Helper.reverse(\u001b[32mcmd102.sc\u001b[39m:\u001b[32m5\u001b[39m)\n  ammonite.$sess.cmd102$Helper.reverse(\u001b[32mcmd102.sc\u001b[39m:\u001b[32m5\u001b[39m)\n  ammonite.$sess.cmd102$Helper.reverse(\u001b[32mcmd102.sc\u001b[39m:\u001b[32m5\u001b[39m)\n  ammonite.$sess.cmd102$Helper.reverse(\u001b[32mcmd102.sc\u001b[39m:\u001b[32m5\u001b[39m)\n  ammonite.$sess.cmd102$Helper.reverse(\u001b[32mcmd102.sc\u001b[39m:\u001b[32m5\u001b[39m)\n  ammonite.$sess.cmd102$Helper.reverse(\u001b[32mcmd102.sc\u001b[39m:\u001b[32m5\u001b[39m)\n  ammonite.$sess.cmd102$Helper.reverse(\u001b[32mcmd102.sc\u001b[39m:\u001b[32m5\u001b[39m)\n  ammonite.$sess.cmd102$Helper.reverse(\u001b[32mcmd102.sc\u001b[39m:\u001b[32m5\u001b[39m)\n  ammonite.$sess.cmd102$Helper.reverse(\u001b[32mcmd102.sc\u001b[39m:\u001b[32m5\u001b[39m)\n  ammonite.$sess.cmd102$Helper.reverse(\u001b[32mcmd102.sc\u001b[39m:\u001b[32m5\u001b[39m)\n  ammonite.$sess.cmd102$Helper.reverse(\u001b[32mcmd102.sc\u001b[39m:\u001b[32m5\u001b[39m)\n  ammonite.$sess.cmd102$Helper.reverse(\u001b[32mcmd102.sc\u001b[39m:\u001b[32m5\u001b[39m)\n  ammonite.$sess.cmd102$Helper.reverse(\u001b[32mcmd102.sc\u001b[39m:\u001b[32m5\u001b[39m)\n  ammonite.$sess.cmd102$Helper.reverse(\u001b[32mcmd102.sc\u001b[39m:\u001b[32m5\u001b[39m)\n  ammonite.$sess.cmd102$Helper.reverse(\u001b[32mcmd102.sc\u001b[39m:\u001b[32m5\u001b[39m)\n  ammonite.$sess.cmd102$Helper.reverse(\u001b[32mcmd102.sc\u001b[39m:\u001b[32m5\u001b[39m)\n  ammonite.$sess.cmd102$Helper.reverse(\u001b[32mcmd102.sc\u001b[39m:\u001b[32m5\u001b[39m)\n  ammonite.$sess.cmd102$Helper.reverse(\u001b[32mcmd102.sc\u001b[39m:\u001b[32m5\u001b[39m)\n  ammonite.$sess.cmd102$Helper.reverse(\u001b[32mcmd102.sc\u001b[39m:\u001b[32m5\u001b[39m)\n  ammonite.$sess.cmd102$Helper.reverse(\u001b[32mcmd102.sc\u001b[39m:\u001b[32m5\u001b[39m)\n  ammonite.$sess.cmd102$Helper.reverse(\u001b[32mcmd102.sc\u001b[39m:\u001b[32m5\u001b[39m)\n  ammonite.$sess.cmd102$Helper.reverse(\u001b[32mcmd102.sc\u001b[39m:\u001b[32m5\u001b[39m)\n  ammonite.$sess.cmd102$Helper.reverse(\u001b[32mcmd102.sc\u001b[39m:\u001b[32m5\u001b[39m)\n  ammonite.$sess.cmd102$Helper.reverse(\u001b[32mcmd102.sc\u001b[39m:\u001b[32m5\u001b[39m)\n  ammonite.$sess.cmd102$Helper.reverse(\u001b[32mcmd102.sc\u001b[39m:\u001b[32m5\u001b[39m)\n  ammonite.$sess.cmd102$Helper.reverse(\u001b[32mcmd102.sc\u001b[39m:\u001b[32m5\u001b[39m)\n  ammonite.$sess.cmd102$Helper.reverse(\u001b[32mcmd102.sc\u001b[39m:\u001b[32m5\u001b[39m)\n  ammonite.$sess.cmd102$Helper.reverse(\u001b[32mcmd102.sc\u001b[39m:\u001b[32m5\u001b[39m)\n  ammonite.$sess.cmd102$Helper.reverse(\u001b[32mcmd102.sc\u001b[39m:\u001b[32m5\u001b[39m)\n  ammonite.$sess.cmd102$Helper.reverse(\u001b[32mcmd102.sc\u001b[39m:\u001b[32m5\u001b[39m)\n  ammonite.$sess.cmd102$Helper.reverse(\u001b[32mcmd102.sc\u001b[39m:\u001b[32m5\u001b[39m)\n  ammonite.$sess.cmd102$Helper.reverse(\u001b[32mcmd102.sc\u001b[39m:\u001b[32m5\u001b[39m)\n  ammonite.$sess.cmd102$Helper.reverse(\u001b[32mcmd102.sc\u001b[39m:\u001b[32m5\u001b[39m)\n  ammonite.$sess.cmd102$Helper.reverse(\u001b[32mcmd102.sc\u001b[39m:\u001b[32m5\u001b[39m)\n  ammonite.$sess.cmd102$Helper.reverse(\u001b[32mcmd102.sc\u001b[39m:\u001b[32m5\u001b[39m)\n  ammonite.$sess.cmd102$Helper.reverse(\u001b[32mcmd102.sc\u001b[39m:\u001b[32m5\u001b[39m)\n  ammonite.$sess.cmd102$Helper.reverse(\u001b[32mcmd102.sc\u001b[39m:\u001b[32m5\u001b[39m)\n  ammonite.$sess.cmd102$Helper.reverse(\u001b[32mcmd102.sc\u001b[39m:\u001b[32m5\u001b[39m)\n  ammonite.$sess.cmd102$Helper.reverse(\u001b[32mcmd102.sc\u001b[39m:\u001b[32m5\u001b[39m)\n  ammonite.$sess.cmd102$Helper.reverse(\u001b[32mcmd102.sc\u001b[39m:\u001b[32m5\u001b[39m)\n  ammonite.$sess.cmd102$Helper.reverse(\u001b[32mcmd102.sc\u001b[39m:\u001b[32m5\u001b[39m)\n  ammonite.$sess.cmd102$Helper.reverse(\u001b[32mcmd102.sc\u001b[39m:\u001b[32m5\u001b[39m)\n  ammonite.$sess.cmd102$Helper.reverse(\u001b[32mcmd102.sc\u001b[39m:\u001b[32m5\u001b[39m)\n  ammonite.$sess.cmd102$Helper.reverse(\u001b[32mcmd102.sc\u001b[39m:\u001b[32m5\u001b[39m)\n  ammonite.$sess.cmd102$Helper.reverse(\u001b[32mcmd102.sc\u001b[39m:\u001b[32m5\u001b[39m)\n  ammonite.$sess.cmd102$Helper.reverse(\u001b[32mcmd102.sc\u001b[39m:\u001b[32m5\u001b[39m)\n  ammonite.$sess.cmd102$Helper.reverse(\u001b[32mcmd102.sc\u001b[39m:\u001b[32m5\u001b[39m)\n  ammonite.$sess.cmd102$Helper.reverse(\u001b[32mcmd102.sc\u001b[39m:\u001b[32m5\u001b[39m)\n  ammonite.$sess.cmd102$Helper.reverse(\u001b[32mcmd102.sc\u001b[39m:\u001b[32m5\u001b[39m)\n  ammonite.$sess.cmd102$Helper.reverse(\u001b[32mcmd102.sc\u001b[39m:\u001b[32m5\u001b[39m)\n  ammonite.$sess.cmd102$Helper.reverse(\u001b[32mcmd102.sc\u001b[39m:\u001b[32m5\u001b[39m)\n  ammonite.$sess.cmd102$Helper.reverse(\u001b[32mcmd102.sc\u001b[39m:\u001b[32m5\u001b[39m)\n  ammonite.$sess.cmd102$Helper.reverse(\u001b[32mcmd102.sc\u001b[39m:\u001b[32m5\u001b[39m)\n  ammonite.$sess.cmd102$Helper.reverse(\u001b[32mcmd102.sc\u001b[39m:\u001b[32m5\u001b[39m)\n  ammonite.$sess.cmd102$Helper.reverse(\u001b[32mcmd102.sc\u001b[39m:\u001b[32m5\u001b[39m)\n  ammonite.$sess.cmd102$Helper.reverse(\u001b[32mcmd102.sc\u001b[39m:\u001b[32m5\u001b[39m)\n  ammonite.$sess.cmd102$Helper.reverse(\u001b[32mcmd102.sc\u001b[39m:\u001b[32m5\u001b[39m)\n  ammonite.$sess.cmd102$Helper.reverse(\u001b[32mcmd102.sc\u001b[39m:\u001b[32m5\u001b[39m)\n  ammonite.$sess.cmd102$Helper.reverse(\u001b[32mcmd102.sc\u001b[39m:\u001b[32m5\u001b[39m)\n  ammonite.$sess.cmd102$Helper.reverse(\u001b[32mcmd102.sc\u001b[39m:\u001b[32m5\u001b[39m)\n  ammonite.$sess.cmd102$Helper.reverse(\u001b[32mcmd102.sc\u001b[39m:\u001b[32m5\u001b[39m)\n  ammonite.$sess.cmd102$Helper.reverse(\u001b[32mcmd102.sc\u001b[39m:\u001b[32m5\u001b[39m)\n  ammonite.$sess.cmd102$Helper.reverse(\u001b[32mcmd102.sc\u001b[39m:\u001b[32m5\u001b[39m)\n  ammonite.$sess.cmd102$Helper.reverse(\u001b[32mcmd102.sc\u001b[39m:\u001b[32m5\u001b[39m)\n  ammonite.$sess.cmd102$Helper.reverse(\u001b[32mcmd102.sc\u001b[39m:\u001b[32m5\u001b[39m)\n  ammonite.$sess.cmd102$Helper.reverse(\u001b[32mcmd102.sc\u001b[39m:\u001b[32m5\u001b[39m)\n  ammonite.$sess.cmd102$Helper.reverse(\u001b[32mcmd102.sc\u001b[39m:\u001b[32m5\u001b[39m)\n  ammonite.$sess.cmd102$Helper.reverse(\u001b[32mcmd102.sc\u001b[39m:\u001b[32m5\u001b[39m)\n  ammonite.$sess.cmd102$Helper.reverse(\u001b[32mcmd102.sc\u001b[39m:\u001b[32m5\u001b[39m)\n  ammonite.$sess.cmd102$Helper.reverse(\u001b[32mcmd102.sc\u001b[39m:\u001b[32m5\u001b[39m)\n  ammonite.$sess.cmd102$Helper.reverse(\u001b[32mcmd102.sc\u001b[39m:\u001b[32m5\u001b[39m)\n  ammonite.$sess.cmd102$Helper.reverse(\u001b[32mcmd102.sc\u001b[39m:\u001b[32m5\u001b[39m)\n  ammonite.$sess.cmd102$Helper.reverse(\u001b[32mcmd102.sc\u001b[39m:\u001b[32m5\u001b[39m)\n  ammonite.$sess.cmd102$Helper.reverse(\u001b[32mcmd102.sc\u001b[39m:\u001b[32m5\u001b[39m)\n  ammonite.$sess.cmd102$Helper.reverse(\u001b[32mcmd102.sc\u001b[39m:\u001b[32m5\u001b[39m)\n  ammonite.$sess.cmd102$Helper.reverse(\u001b[32mcmd102.sc\u001b[39m:\u001b[32m5\u001b[39m)\n  ammonite.$sess.cmd102$Helper.reverse(\u001b[32mcmd102.sc\u001b[39m:\u001b[32m5\u001b[39m)\n  ammonite.$sess.cmd102$Helper.reverse(\u001b[32mcmd102.sc\u001b[39m:\u001b[32m5\u001b[39m)\n  ammonite.$sess.cmd102$Helper.reverse(\u001b[32mcmd102.sc\u001b[39m:\u001b[32m5\u001b[39m)\n  ammonite.$sess.cmd102$Helper.reverse(\u001b[32mcmd102.sc\u001b[39m:\u001b[32m5\u001b[39m)\n  ammonite.$sess.cmd102$Helper.reverse(\u001b[32mcmd102.sc\u001b[39m:\u001b[32m5\u001b[39m)\n  ammonite.$sess.cmd102$Helper.reverse(\u001b[32mcmd102.sc\u001b[39m:\u001b[32m5\u001b[39m)\n  ammonite.$sess.cmd102$Helper.reverse(\u001b[32mcmd102.sc\u001b[39m:\u001b[32m5\u001b[39m)\n  ammonite.$sess.cmd102$Helper.reverse(\u001b[32mcmd102.sc\u001b[39m:\u001b[32m5\u001b[39m)\n  ammonite.$sess.cmd102$Helper.reverse(\u001b[32mcmd102.sc\u001b[39m:\u001b[32m5\u001b[39m)\n  ammonite.$sess.cmd102$Helper.reverse(\u001b[32mcmd102.sc\u001b[39m:\u001b[32m5\u001b[39m)\n  ammonite.$sess.cmd102$Helper.reverse(\u001b[32mcmd102.sc\u001b[39m:\u001b[32m5\u001b[39m)\n  ammonite.$sess.cmd102$Helper.reverse(\u001b[32mcmd102.sc\u001b[39m:\u001b[32m5\u001b[39m)\n  ammonite.$sess.cmd102$Helper.reverse(\u001b[32mcmd102.sc\u001b[39m:\u001b[32m5\u001b[39m)\n  ammonite.$sess.cmd102$Helper.reverse(\u001b[32mcmd102.sc\u001b[39m:\u001b[32m5\u001b[39m)\n  ammonite.$sess.cmd102$Helper.reverse(\u001b[32mcmd102.sc\u001b[39m:\u001b[32m5\u001b[39m)\n  ammonite.$sess.cmd102$Helper.reverse(\u001b[32mcmd102.sc\u001b[39m:\u001b[32m5\u001b[39m)\n  ammonite.$sess.cmd102$Helper.reverse(\u001b[32mcmd102.sc\u001b[39m:\u001b[32m5\u001b[39m)\n  ammonite.$sess.cmd102$Helper.reverse(\u001b[32mcmd102.sc\u001b[39m:\u001b[32m5\u001b[39m)\n  ammonite.$sess.cmd102$Helper.reverse(\u001b[32mcmd102.sc\u001b[39m:\u001b[32m5\u001b[39m)\n  ammonite.$sess.cmd102$Helper.reverse(\u001b[32mcmd102.sc\u001b[39m:\u001b[32m5\u001b[39m)\n  ammonite.$sess.cmd102$Helper.reverse(\u001b[32mcmd102.sc\u001b[39m:\u001b[32m5\u001b[39m)\n  ammonite.$sess.cmd102$Helper.reverse(\u001b[32mcmd102.sc\u001b[39m:\u001b[32m5\u001b[39m)\n  ammonite.$sess.cmd102$Helper.reverse(\u001b[32mcmd102.sc\u001b[39m:\u001b[32m5\u001b[39m)\n  ammonite.$sess.cmd102$Helper.reverse(\u001b[32mcmd102.sc\u001b[39m:\u001b[32m5\u001b[39m)\n  ammonite.$sess.cmd102$Helper.reverse(\u001b[32mcmd102.sc\u001b[39m:\u001b[32m5\u001b[39m)\n  ammonite.$sess.cmd102$Helper.reverse(\u001b[32mcmd102.sc\u001b[39m:\u001b[32m5\u001b[39m)\n  ammonite.$sess.cmd102$Helper.reverse(\u001b[32mcmd102.sc\u001b[39m:\u001b[32m5\u001b[39m)\n  ammonite.$sess.cmd102$Helper.reverse(\u001b[32mcmd102.sc\u001b[39m:\u001b[32m5\u001b[39m)\n  ammonite.$sess.cmd102$Helper.reverse(\u001b[32mcmd102.sc\u001b[39m:\u001b[32m5\u001b[39m)\n  ammonite.$sess.cmd102$Helper.reverse(\u001b[32mcmd102.sc\u001b[39m:\u001b[32m5\u001b[39m)\n  ammonite.$sess.cmd102$Helper.reverse(\u001b[32mcmd102.sc\u001b[39m:\u001b[32m5\u001b[39m)\n  ammonite.$sess.cmd102$Helper.reverse(\u001b[32mcmd102.sc\u001b[39m:\u001b[32m5\u001b[39m)\n  ammonite.$sess.cmd102$Helper.reverse(\u001b[32mcmd102.sc\u001b[39m:\u001b[32m5\u001b[39m)\n  ammonite.$sess.cmd102$Helper.reverse(\u001b[32mcmd102.sc\u001b[39m:\u001b[32m5\u001b[39m)\n  ammonite.$sess.cmd102$Helper.reverse(\u001b[32mcmd102.sc\u001b[39m:\u001b[32m5\u001b[39m)\n  ammonite.$sess.cmd102$Helper.reverse(\u001b[32mcmd102.sc\u001b[39m:\u001b[32m5\u001b[39m)\n  ammonite.$sess.cmd102$Helper.reverse(\u001b[32mcmd102.sc\u001b[39m:\u001b[32m5\u001b[39m)\n  ammonite.$sess.cmd102$Helper.reverse(\u001b[32mcmd102.sc\u001b[39m:\u001b[32m5\u001b[39m)\n  ammonite.$sess.cmd102$Helper.reverse(\u001b[32mcmd102.sc\u001b[39m:\u001b[32m5\u001b[39m)\n  ammonite.$sess.cmd102$Helper.reverse(\u001b[32mcmd102.sc\u001b[39m:\u001b[32m5\u001b[39m)\n  ammonite.$sess.cmd102$Helper.reverse(\u001b[32mcmd102.sc\u001b[39m:\u001b[32m5\u001b[39m)\n  ammonite.$sess.cmd102$Helper.reverse(\u001b[32mcmd102.sc\u001b[39m:\u001b[32m5\u001b[39m)\n  ammonite.$sess.cmd102$Helper.reverse(\u001b[32mcmd102.sc\u001b[39m:\u001b[32m5\u001b[39m)\n  ammonite.$sess.cmd102$Helper.reverse(\u001b[32mcmd102.sc\u001b[39m:\u001b[32m5\u001b[39m)\n  ammonite.$sess.cmd102$Helper.reverse(\u001b[32mcmd102.sc\u001b[39m:\u001b[32m5\u001b[39m)\n  ammonite.$sess.cmd102$Helper.reverse(\u001b[32mcmd102.sc\u001b[39m:\u001b[32m5\u001b[39m)\n  ammonite.$sess.cmd102$Helper.reverse(\u001b[32mcmd102.sc\u001b[39m:\u001b[32m5\u001b[39m)\n  ammonite.$sess.cmd102$Helper.reverse(\u001b[32mcmd102.sc\u001b[39m:\u001b[32m5\u001b[39m)\n  ammonite.$sess.cmd102$Helper.reverse(\u001b[32mcmd102.sc\u001b[39m:\u001b[32m5\u001b[39m)\n  ammonite.$sess.cmd102$Helper.reverse(\u001b[32mcmd102.sc\u001b[39m:\u001b[32m5\u001b[39m)\n  ammonite.$sess.cmd102$Helper.reverse(\u001b[32mcmd102.sc\u001b[39m:\u001b[32m5\u001b[39m)\n  ammonite.$sess.cmd102$Helper.reverse(\u001b[32mcmd102.sc\u001b[39m:\u001b[32m5\u001b[39m)\n  ammonite.$sess.cmd102$Helper.reverse(\u001b[32mcmd102.sc\u001b[39m:\u001b[32m5\u001b[39m)\n  ammonite.$sess.cmd102$Helper.reverse(\u001b[32mcmd102.sc\u001b[39m:\u001b[32m5\u001b[39m)\n  ammonite.$sess.cmd102$Helper.reverse(\u001b[32mcmd102.sc\u001b[39m:\u001b[32m5\u001b[39m)\n  ammonite.$sess.cmd102$Helper.reverse(\u001b[32mcmd102.sc\u001b[39m:\u001b[32m5\u001b[39m)\n  ammonite.$sess.cmd102$Helper.reverse(\u001b[32mcmd102.sc\u001b[39m:\u001b[32m5\u001b[39m)\n  ammonite.$sess.cmd102$Helper.reverse(\u001b[32mcmd102.sc\u001b[39m:\u001b[32m5\u001b[39m)\n  ammonite.$sess.cmd102$Helper.reverse(\u001b[32mcmd102.sc\u001b[39m:\u001b[32m5\u001b[39m)\n  ammonite.$sess.cmd102$Helper.reverse(\u001b[32mcmd102.sc\u001b[39m:\u001b[32m5\u001b[39m)\n  ammonite.$sess.cmd102$Helper.reverse(\u001b[32mcmd102.sc\u001b[39m:\u001b[32m5\u001b[39m)\n  ammonite.$sess.cmd102$Helper.reverse(\u001b[32mcmd102.sc\u001b[39m:\u001b[32m5\u001b[39m)\n  ammonite.$sess.cmd102$Helper.reverse(\u001b[32mcmd102.sc\u001b[39m:\u001b[32m5\u001b[39m)\n  ammonite.$sess.cmd102$Helper.reverse(\u001b[32mcmd102.sc\u001b[39m:\u001b[32m5\u001b[39m)\n  ammonite.$sess.cmd102$Helper.reverse(\u001b[32mcmd102.sc\u001b[39m:\u001b[32m5\u001b[39m)\n  ammonite.$sess.cmd102$Helper.reverse(\u001b[32mcmd102.sc\u001b[39m:\u001b[32m5\u001b[39m)\n  ammonite.$sess.cmd102$Helper.reverse(\u001b[32mcmd102.sc\u001b[39m:\u001b[32m5\u001b[39m)\n  ammonite.$sess.cmd102$Helper.reverse(\u001b[32mcmd102.sc\u001b[39m:\u001b[32m5\u001b[39m)\n  ammonite.$sess.cmd102$Helper.reverse(\u001b[32mcmd102.sc\u001b[39m:\u001b[32m5\u001b[39m)\n  ammonite.$sess.cmd102$Helper.reverse(\u001b[32mcmd102.sc\u001b[39m:\u001b[32m5\u001b[39m)\n  ammonite.$sess.cmd102$Helper.reverse(\u001b[32mcmd102.sc\u001b[39m:\u001b[32m5\u001b[39m)\n  ammonite.$sess.cmd102$Helper.reverse(\u001b[32mcmd102.sc\u001b[39m:\u001b[32m5\u001b[39m)\n  ammonite.$sess.cmd102$Helper.reverse(\u001b[32mcmd102.sc\u001b[39m:\u001b[32m5\u001b[39m)\n  ammonite.$sess.cmd102$Helper.reverse(\u001b[32mcmd102.sc\u001b[39m:\u001b[32m5\u001b[39m)\n  ammonite.$sess.cmd102$Helper.reverse(\u001b[32mcmd102.sc\u001b[39m:\u001b[32m5\u001b[39m)\n  ammonite.$sess.cmd102$Helper.reverse(\u001b[32mcmd102.sc\u001b[39m:\u001b[32m5\u001b[39m)\n  ammonite.$sess.cmd102$Helper.reverse(\u001b[32mcmd102.sc\u001b[39m:\u001b[32m5\u001b[39m)\n  ammonite.$sess.cmd102$Helper.reverse(\u001b[32mcmd102.sc\u001b[39m:\u001b[32m5\u001b[39m)\n  ammonite.$sess.cmd102$Helper.reverse(\u001b[32mcmd102.sc\u001b[39m:\u001b[32m5\u001b[39m)\n  ammonite.$sess.cmd102$Helper.reverse(\u001b[32mcmd102.sc\u001b[39m:\u001b[32m5\u001b[39m)\n  ammonite.$sess.cmd102$Helper.reverse(\u001b[32mcmd102.sc\u001b[39m:\u001b[32m5\u001b[39m)\n  ammonite.$sess.cmd102$Helper.reverse(\u001b[32mcmd102.sc\u001b[39m:\u001b[32m5\u001b[39m)\n  ammonite.$sess.cmd102$Helper.reverse(\u001b[32mcmd102.sc\u001b[39m:\u001b[32m5\u001b[39m)\n  ammonite.$sess.cmd102$Helper.reverse(\u001b[32mcmd102.sc\u001b[39m:\u001b[32m5\u001b[39m)\n  ammonite.$sess.cmd102$Helper.reverse(\u001b[32mcmd102.sc\u001b[39m:\u001b[32m5\u001b[39m)\n  ammonite.$sess.cmd102$Helper.reverse(\u001b[32mcmd102.sc\u001b[39m:\u001b[32m5\u001b[39m)\n  ammonite.$sess.cmd102$Helper.reverse(\u001b[32mcmd102.sc\u001b[39m:\u001b[32m5\u001b[39m)\n  ammonite.$sess.cmd102$Helper.reverse(\u001b[32mcmd102.sc\u001b[39m:\u001b[32m5\u001b[39m)\n  ammonite.$sess.cmd102$Helper.reverse(\u001b[32mcmd102.sc\u001b[39m:\u001b[32m5\u001b[39m)\n  ammonite.$sess.cmd102$Helper.reverse(\u001b[32mcmd102.sc\u001b[39m:\u001b[32m5\u001b[39m)\n  ammonite.$sess.cmd102$Helper.reverse(\u001b[32mcmd102.sc\u001b[39m:\u001b[32m5\u001b[39m)\n  ammonite.$sess.cmd102$Helper.reverse(\u001b[32mcmd102.sc\u001b[39m:\u001b[32m5\u001b[39m)\n  ammonite.$sess.cmd102$Helper.reverse(\u001b[32mcmd102.sc\u001b[39m:\u001b[32m5\u001b[39m)\n  ammonite.$sess.cmd102$Helper.reverse(\u001b[32mcmd102.sc\u001b[39m:\u001b[32m5\u001b[39m)\n  ammonite.$sess.cmd102$Helper.reverse(\u001b[32mcmd102.sc\u001b[39m:\u001b[32m5\u001b[39m)\n  ammonite.$sess.cmd102$Helper.reverse(\u001b[32mcmd102.sc\u001b[39m:\u001b[32m5\u001b[39m)\n  ammonite.$sess.cmd102$Helper.reverse(\u001b[32mcmd102.sc\u001b[39m:\u001b[32m5\u001b[39m)\n  ammonite.$sess.cmd102$Helper.reverse(\u001b[32mcmd102.sc\u001b[39m:\u001b[32m5\u001b[39m)\n  ammonite.$sess.cmd102$Helper.reverse(\u001b[32mcmd102.sc\u001b[39m:\u001b[32m5\u001b[39m)\n  ammonite.$sess.cmd102$Helper.reverse(\u001b[32mcmd102.sc\u001b[39m:\u001b[32m5\u001b[39m)\n  ammonite.$sess.cmd102$Helper.reverse(\u001b[32mcmd102.sc\u001b[39m:\u001b[32m5\u001b[39m)\n  ammonite.$sess.cmd102$Helper.reverse(\u001b[32mcmd102.sc\u001b[39m:\u001b[32m5\u001b[39m)\n  ammonite.$sess.cmd102$Helper.reverse(\u001b[32mcmd102.sc\u001b[39m:\u001b[32m5\u001b[39m)\n  ammonite.$sess.cmd102$Helper.reverse(\u001b[32mcmd102.sc\u001b[39m:\u001b[32m5\u001b[39m)\n  ammonite.$sess.cmd102$Helper.reverse(\u001b[32mcmd102.sc\u001b[39m:\u001b[32m5\u001b[39m)\n  ammonite.$sess.cmd102$Helper.reverse(\u001b[32mcmd102.sc\u001b[39m:\u001b[32m5\u001b[39m)\n  ammonite.$sess.cmd102$Helper.reverse(\u001b[32mcmd102.sc\u001b[39m:\u001b[32m5\u001b[39m)\n  ammonite.$sess.cmd102$Helper.reverse(\u001b[32mcmd102.sc\u001b[39m:\u001b[32m5\u001b[39m)\n  ammonite.$sess.cmd102$Helper.reverse(\u001b[32mcmd102.sc\u001b[39m:\u001b[32m5\u001b[39m)\n  ammonite.$sess.cmd102$Helper.reverse(\u001b[32mcmd102.sc\u001b[39m:\u001b[32m5\u001b[39m)\n  ammonite.$sess.cmd102$Helper.reverse(\u001b[32mcmd102.sc\u001b[39m:\u001b[32m5\u001b[39m)\n  ammonite.$sess.cmd102$Helper.reverse(\u001b[32mcmd102.sc\u001b[39m:\u001b[32m5\u001b[39m)\n  ammonite.$sess.cmd102$Helper.reverse(\u001b[32mcmd102.sc\u001b[39m:\u001b[32m5\u001b[39m)\n  ammonite.$sess.cmd102$Helper.reverse(\u001b[32mcmd102.sc\u001b[39m:\u001b[32m5\u001b[39m)\n  ammonite.$sess.cmd102$Helper.reverse(\u001b[32mcmd102.sc\u001b[39m:\u001b[32m5\u001b[39m)\n  ammonite.$sess.cmd102$Helper.reverse(\u001b[32mcmd102.sc\u001b[39m:\u001b[32m5\u001b[39m)\n  ammonite.$sess.cmd102$Helper.reverse(\u001b[32mcmd102.sc\u001b[39m:\u001b[32m5\u001b[39m)\n  ammonite.$sess.cmd102$Helper.reverse(\u001b[32mcmd102.sc\u001b[39m:\u001b[32m5\u001b[39m)\n  ammonite.$sess.cmd102$Helper.reverse(\u001b[32mcmd102.sc\u001b[39m:\u001b[32m5\u001b[39m)\n  ammonite.$sess.cmd102$Helper.reverse(\u001b[32mcmd102.sc\u001b[39m:\u001b[32m5\u001b[39m)\n  ammonite.$sess.cmd102$Helper.reverse(\u001b[32mcmd102.sc\u001b[39m:\u001b[32m5\u001b[39m)\n  ammonite.$sess.cmd102$Helper.reverse(\u001b[32mcmd102.sc\u001b[39m:\u001b[32m5\u001b[39m)\n  ammonite.$sess.cmd102$Helper.reverse(\u001b[32mcmd102.sc\u001b[39m:\u001b[32m5\u001b[39m)\n  ammonite.$sess.cmd102$Helper.reverse(\u001b[32mcmd102.sc\u001b[39m:\u001b[32m5\u001b[39m)\n  ammonite.$sess.cmd102$Helper.reverse(\u001b[32mcmd102.sc\u001b[39m:\u001b[32m5\u001b[39m)\n  ammonite.$sess.cmd102$Helper.reverse(\u001b[32mcmd102.sc\u001b[39m:\u001b[32m5\u001b[39m)\n  ammonite.$sess.cmd102$Helper.reverse(\u001b[32mcmd102.sc\u001b[39m:\u001b[32m5\u001b[39m)\n  ammonite.$sess.cmd102$Helper.reverse(\u001b[32mcmd102.sc\u001b[39m:\u001b[32m5\u001b[39m)\n  ammonite.$sess.cmd102$Helper.reverse(\u001b[32mcmd102.sc\u001b[39m:\u001b[32m5\u001b[39m)\n  ammonite.$sess.cmd102$Helper.reverse(\u001b[32mcmd102.sc\u001b[39m:\u001b[32m5\u001b[39m)\n  ammonite.$sess.cmd102$Helper.reverse(\u001b[32mcmd102.sc\u001b[39m:\u001b[32m5\u001b[39m)\n  ammonite.$sess.cmd102$Helper.reverse(\u001b[32mcmd102.sc\u001b[39m:\u001b[32m5\u001b[39m)\n  ammonite.$sess.cmd102$Helper.reverse(\u001b[32mcmd102.sc\u001b[39m:\u001b[32m5\u001b[39m)\n  ammonite.$sess.cmd102$Helper.reverse(\u001b[32mcmd102.sc\u001b[39m:\u001b[32m5\u001b[39m)\n  ammonite.$sess.cmd102$Helper.reverse(\u001b[32mcmd102.sc\u001b[39m:\u001b[32m5\u001b[39m)\n  ammonite.$sess.cmd102$Helper.reverse(\u001b[32mcmd102.sc\u001b[39m:\u001b[32m5\u001b[39m)\n  ammonite.$sess.cmd102$Helper.reverse(\u001b[32mcmd102.sc\u001b[39m:\u001b[32m5\u001b[39m)\n  ammonite.$sess.cmd102$Helper.reverse(\u001b[32mcmd102.sc\u001b[39m:\u001b[32m5\u001b[39m)\n  ammonite.$sess.cmd102$Helper.reverse(\u001b[32mcmd102.sc\u001b[39m:\u001b[32m5\u001b[39m)\n  ammonite.$sess.cmd102$Helper.reverse(\u001b[32mcmd102.sc\u001b[39m:\u001b[32m5\u001b[39m)\n  ammonite.$sess.cmd102$Helper.reverse(\u001b[32mcmd102.sc\u001b[39m:\u001b[32m5\u001b[39m)\n  ammonite.$sess.cmd102$Helper.reverse(\u001b[32mcmd102.sc\u001b[39m:\u001b[32m5\u001b[39m)\n  ammonite.$sess.cmd102$Helper.reverse(\u001b[32mcmd102.sc\u001b[39m:\u001b[32m5\u001b[39m)\n  ammonite.$sess.cmd102$Helper.reverse(\u001b[32mcmd102.sc\u001b[39m:\u001b[32m5\u001b[39m)\n  ammonite.$sess.cmd102$Helper.reverse(\u001b[32mcmd102.sc\u001b[39m:\u001b[32m5\u001b[39m)\n  ammonite.$sess.cmd102$Helper.reverse(\u001b[32mcmd102.sc\u001b[39m:\u001b[32m5\u001b[39m)\n  ammonite.$sess.cmd102$Helper.reverse(\u001b[32mcmd102.sc\u001b[39m:\u001b[32m5\u001b[39m)\n  ammonite.$sess.cmd102$Helper.reverse(\u001b[32mcmd102.sc\u001b[39m:\u001b[32m5\u001b[39m)\n  ammonite.$sess.cmd102$Helper.reverse(\u001b[32mcmd102.sc\u001b[39m:\u001b[32m5\u001b[39m)\n  ammonite.$sess.cmd102$Helper.reverse(\u001b[32mcmd102.sc\u001b[39m:\u001b[32m5\u001b[39m)\n  ammonite.$sess.cmd102$Helper.reverse(\u001b[32mcmd102.sc\u001b[39m:\u001b[32m5\u001b[39m)\n  ammonite.$sess.cmd102$Helper.reverse(\u001b[32mcmd102.sc\u001b[39m:\u001b[32m5\u001b[39m)\n  ammonite.$sess.cmd102$Helper.reverse(\u001b[32mcmd102.sc\u001b[39m:\u001b[32m5\u001b[39m)\n  ammonite.$sess.cmd102$Helper.reverse(\u001b[32mcmd102.sc\u001b[39m:\u001b[32m5\u001b[39m)\n  ammonite.$sess.cmd102$Helper.reverse(\u001b[32mcmd102.sc\u001b[39m:\u001b[32m5\u001b[39m)\n  ammonite.$sess.cmd102$Helper.reverse(\u001b[32mcmd102.sc\u001b[39m:\u001b[32m5\u001b[39m)\n  ammonite.$sess.cmd102$Helper.reverse(\u001b[32mcmd102.sc\u001b[39m:\u001b[32m5\u001b[39m)\n  ammonite.$sess.cmd102$Helper.reverse(\u001b[32mcmd102.sc\u001b[39m:\u001b[32m5\u001b[39m)\n  ammonite.$sess.cmd102$Helper.reverse(\u001b[32mcmd102.sc\u001b[39m:\u001b[32m5\u001b[39m)\n  ammonite.$sess.cmd102$Helper.reverse(\u001b[32mcmd102.sc\u001b[39m:\u001b[32m5\u001b[39m)\n  ammonite.$sess.cmd102$Helper.reverse(\u001b[32mcmd102.sc\u001b[39m:\u001b[32m5\u001b[39m)\n  ammonite.$sess.cmd102$Helper.reverse(\u001b[32mcmd102.sc\u001b[39m:\u001b[32m5\u001b[39m)\n  ammonite.$sess.cmd102$Helper.reverse(\u001b[32mcmd102.sc\u001b[39m:\u001b[32m5\u001b[39m)\n  ammonite.$sess.cmd102$Helper.reverse(\u001b[32mcmd102.sc\u001b[39m:\u001b[32m5\u001b[39m)\n  ammonite.$sess.cmd102$Helper.reverse(\u001b[32mcmd102.sc\u001b[39m:\u001b[32m5\u001b[39m)\n  ammonite.$sess.cmd102$Helper.reverse(\u001b[32mcmd102.sc\u001b[39m:\u001b[32m5\u001b[39m)\n  ammonite.$sess.cmd102$Helper.reverse(\u001b[32mcmd102.sc\u001b[39m:\u001b[32m5\u001b[39m)\n  ammonite.$sess.cmd102$Helper.reverse(\u001b[32mcmd102.sc\u001b[39m:\u001b[32m5\u001b[39m)\n  ammonite.$sess.cmd102$Helper.reverse(\u001b[32mcmd102.sc\u001b[39m:\u001b[32m5\u001b[39m)\n  ammonite.$sess.cmd102$Helper.reverse(\u001b[32mcmd102.sc\u001b[39m:\u001b[32m5\u001b[39m)\n  ammonite.$sess.cmd102$Helper.reverse(\u001b[32mcmd102.sc\u001b[39m:\u001b[32m5\u001b[39m)\n  ammonite.$sess.cmd102$Helper.reverse(\u001b[32mcmd102.sc\u001b[39m:\u001b[32m5\u001b[39m)\n  ammonite.$sess.cmd102$Helper.reverse(\u001b[32mcmd102.sc\u001b[39m:\u001b[32m5\u001b[39m)\n  ammonite.$sess.cmd102$Helper.reverse(\u001b[32mcmd102.sc\u001b[39m:\u001b[32m5\u001b[39m)\n  ammonite.$sess.cmd102$Helper.reverse(\u001b[32mcmd102.sc\u001b[39m:\u001b[32m5\u001b[39m)\n  ammonite.$sess.cmd102$Helper.reverse(\u001b[32mcmd102.sc\u001b[39m:\u001b[32m5\u001b[39m)\n  ammonite.$sess.cmd102$Helper.reverse(\u001b[32mcmd102.sc\u001b[39m:\u001b[32m5\u001b[39m)\n  ammonite.$sess.cmd102$Helper.reverse(\u001b[32mcmd102.sc\u001b[39m:\u001b[32m5\u001b[39m)\n  ammonite.$sess.cmd102$Helper.reverse(\u001b[32mcmd102.sc\u001b[39m:\u001b[32m5\u001b[39m)\n  ammonite.$sess.cmd102$Helper.reverse(\u001b[32mcmd102.sc\u001b[39m:\u001b[32m5\u001b[39m)\n  ammonite.$sess.cmd102$Helper.reverse(\u001b[32mcmd102.sc\u001b[39m:\u001b[32m5\u001b[39m)\n  ammonite.$sess.cmd102$Helper.reverse(\u001b[32mcmd102.sc\u001b[39m:\u001b[32m5\u001b[39m)\n  ammonite.$sess.cmd102$Helper.reverse(\u001b[32mcmd102.sc\u001b[39m:\u001b[32m5\u001b[39m)\n  ammonite.$sess.cmd102$Helper.reverse(\u001b[32mcmd102.sc\u001b[39m:\u001b[32m5\u001b[39m)\n  ammonite.$sess.cmd102$Helper.reverse(\u001b[32mcmd102.sc\u001b[39m:\u001b[32m5\u001b[39m)\n  ammonite.$sess.cmd102$Helper.reverse(\u001b[32mcmd102.sc\u001b[39m:\u001b[32m5\u001b[39m)\n  ammonite.$sess.cmd102$Helper.reverse(\u001b[32mcmd102.sc\u001b[39m:\u001b[32m5\u001b[39m)\n  ammonite.$sess.cmd102$Helper.reverse(\u001b[32mcmd102.sc\u001b[39m:\u001b[32m5\u001b[39m)\n  ammonite.$sess.cmd102$Helper.reverse(\u001b[32mcmd102.sc\u001b[39m:\u001b[32m5\u001b[39m)\n  ammonite.$sess.cmd102$Helper.reverse(\u001b[32mcmd102.sc\u001b[39m:\u001b[32m5\u001b[39m)\n  ammonite.$sess.cmd102$Helper.reverse(\u001b[32mcmd102.sc\u001b[39m:\u001b[32m5\u001b[39m)\n  ammonite.$sess.cmd102$Helper.reverse(\u001b[32mcmd102.sc\u001b[39m:\u001b[32m5\u001b[39m)\n  ammonite.$sess.cmd102$Helper.reverse(\u001b[32mcmd102.sc\u001b[39m:\u001b[32m5\u001b[39m)\n  ammonite.$sess.cmd102$Helper.reverse(\u001b[32mcmd102.sc\u001b[39m:\u001b[32m5\u001b[39m)\n  ammonite.$sess.cmd102$Helper.reverse(\u001b[32mcmd102.sc\u001b[39m:\u001b[32m5\u001b[39m)\n  ammonite.$sess.cmd102$Helper.reverse(\u001b[32mcmd102.sc\u001b[39m:\u001b[32m5\u001b[39m)\n  ammonite.$sess.cmd102$Helper.reverse(\u001b[32mcmd102.sc\u001b[39m:\u001b[32m5\u001b[39m)\n  ammonite.$sess.cmd102$Helper.reverse(\u001b[32mcmd102.sc\u001b[39m:\u001b[32m5\u001b[39m)\n  ammonite.$sess.cmd102$Helper.reverse(\u001b[32mcmd102.sc\u001b[39m:\u001b[32m5\u001b[39m)\n  ammonite.$sess.cmd102$Helper.reverse(\u001b[32mcmd102.sc\u001b[39m:\u001b[32m5\u001b[39m)\n  ammonite.$sess.cmd102$Helper.reverse(\u001b[32mcmd102.sc\u001b[39m:\u001b[32m5\u001b[39m)\n  ammonite.$sess.cmd102$Helper.reverse(\u001b[32mcmd102.sc\u001b[39m:\u001b[32m5\u001b[39m)\n  ammonite.$sess.cmd102$Helper.reverse(\u001b[32mcmd102.sc\u001b[39m:\u001b[32m5\u001b[39m)\n  ammonite.$sess.cmd102$Helper.reverse(\u001b[32mcmd102.sc\u001b[39m:\u001b[32m5\u001b[39m)\n  ammonite.$sess.cmd102$Helper.reverse(\u001b[32mcmd102.sc\u001b[39m:\u001b[32m5\u001b[39m)\n  ammonite.$sess.cmd102$Helper.reverse(\u001b[32mcmd102.sc\u001b[39m:\u001b[32m5\u001b[39m)\n  ammonite.$sess.cmd102$Helper.reverse(\u001b[32mcmd102.sc\u001b[39m:\u001b[32m5\u001b[39m)\n  ammonite.$sess.cmd102$Helper.reverse(\u001b[32mcmd102.sc\u001b[39m:\u001b[32m5\u001b[39m)\n  ammonite.$sess.cmd102$Helper.reverse(\u001b[32mcmd102.sc\u001b[39m:\u001b[32m5\u001b[39m)\n  ammonite.$sess.cmd102$Helper.reverse(\u001b[32mcmd102.sc\u001b[39m:\u001b[32m5\u001b[39m)\n  ammonite.$sess.cmd102$Helper.reverse(\u001b[32mcmd102.sc\u001b[39m:\u001b[32m5\u001b[39m)\n  ammonite.$sess.cmd102$Helper.reverse(\u001b[32mcmd102.sc\u001b[39m:\u001b[32m5\u001b[39m)\n  ammonite.$sess.cmd102$Helper.reverse(\u001b[32mcmd102.sc\u001b[39m:\u001b[32m5\u001b[39m)\n  ammonite.$sess.cmd102$Helper.reverse(\u001b[32mcmd102.sc\u001b[39m:\u001b[32m5\u001b[39m)\n  ammonite.$sess.cmd102$Helper.reverse(\u001b[32mcmd102.sc\u001b[39m:\u001b[32m5\u001b[39m)\n  ammonite.$sess.cmd102$Helper.reverse(\u001b[32mcmd102.sc\u001b[39m:\u001b[32m5\u001b[39m)\n  ammonite.$sess.cmd102$Helper.reverse(\u001b[32mcmd102.sc\u001b[39m:\u001b[32m5\u001b[39m)\n  ammonite.$sess.cmd102$Helper.reverse(\u001b[32mcmd102.sc\u001b[39m:\u001b[32m5\u001b[39m)\n  ammonite.$sess.cmd102$Helper.reverse(\u001b[32mcmd102.sc\u001b[39m:\u001b[32m5\u001b[39m)\n  ammonite.$sess.cmd102$Helper.reverse(\u001b[32mcmd102.sc\u001b[39m:\u001b[32m5\u001b[39m)\n  ammonite.$sess.cmd102$Helper.reverse(\u001b[32mcmd102.sc\u001b[39m:\u001b[32m5\u001b[39m)\n  ammonite.$sess.cmd102$Helper.reverse(\u001b[32mcmd102.sc\u001b[39m:\u001b[32m5\u001b[39m)\n  ammonite.$sess.cmd102$Helper.reverse(\u001b[32mcmd102.sc\u001b[39m:\u001b[32m5\u001b[39m)\n  ammonite.$sess.cmd102$Helper.reverse(\u001b[32mcmd102.sc\u001b[39m:\u001b[32m5\u001b[39m)\n  ammonite.$sess.cmd102$Helper.reverse(\u001b[32mcmd102.sc\u001b[39m:\u001b[32m5\u001b[39m)\n  ammonite.$sess.cmd102$Helper.reverse(\u001b[32mcmd102.sc\u001b[39m:\u001b[32m5\u001b[39m)\n  ammonite.$sess.cmd102$Helper.reverse(\u001b[32mcmd102.sc\u001b[39m:\u001b[32m5\u001b[39m)\n  ammonite.$sess.cmd102$Helper.reverse(\u001b[32mcmd102.sc\u001b[39m:\u001b[32m5\u001b[39m)\n  ammonite.$sess.cmd102$Helper.reverse(\u001b[32mcmd102.sc\u001b[39m:\u001b[32m5\u001b[39m)\n  ammonite.$sess.cmd102$Helper.reverse(\u001b[32mcmd102.sc\u001b[39m:\u001b[32m5\u001b[39m)\n  ammonite.$sess.cmd102$Helper.reverse(\u001b[32mcmd102.sc\u001b[39m:\u001b[32m5\u001b[39m)\n  ammonite.$sess.cmd102$Helper.reverse(\u001b[32mcmd102.sc\u001b[39m:\u001b[32m5\u001b[39m)\n  ammonite.$sess.cmd102$Helper.reverse(\u001b[32mcmd102.sc\u001b[39m:\u001b[32m5\u001b[39m)\n  ammonite.$sess.cmd102$Helper.reverse(\u001b[32mcmd102.sc\u001b[39m:\u001b[32m5\u001b[39m)\n  ammonite.$sess.cmd102$Helper.reverse(\u001b[32mcmd102.sc\u001b[39m:\u001b[32m5\u001b[39m)\n  ammonite.$sess.cmd102$Helper.reverse(\u001b[32mcmd102.sc\u001b[39m:\u001b[32m5\u001b[39m)\n  ammonite.$sess.cmd102$Helper.reverse(\u001b[32mcmd102.sc\u001b[39m:\u001b[32m5\u001b[39m)\n  ammonite.$sess.cmd102$Helper.reverse(\u001b[32mcmd102.sc\u001b[39m:\u001b[32m5\u001b[39m)\n  ammonite.$sess.cmd102$Helper.reverse(\u001b[32mcmd102.sc\u001b[39m:\u001b[32m5\u001b[39m)\n  ammonite.$sess.cmd102$Helper.reverse(\u001b[32mcmd102.sc\u001b[39m:\u001b[32m5\u001b[39m)\n  ammonite.$sess.cmd102$Helper.reverse(\u001b[32mcmd102.sc\u001b[39m:\u001b[32m5\u001b[39m)\n  ammonite.$sess.cmd102$Helper.reverse(\u001b[32mcmd102.sc\u001b[39m:\u001b[32m5\u001b[39m)\n  ammonite.$sess.cmd102$Helper.reverse(\u001b[32mcmd102.sc\u001b[39m:\u001b[32m5\u001b[39m)\n  ammonite.$sess.cmd102$Helper.reverse(\u001b[32mcmd102.sc\u001b[39m:\u001b[32m5\u001b[39m)\n  ammonite.$sess.cmd102$Helper.reverse(\u001b[32mcmd102.sc\u001b[39m:\u001b[32m5\u001b[39m)\n  ammonite.$sess.cmd102$Helper.reverse(\u001b[32mcmd102.sc\u001b[39m:\u001b[32m5\u001b[39m)\n  ammonite.$sess.cmd102$Helper.reverse(\u001b[32mcmd102.sc\u001b[39m:\u001b[32m5\u001b[39m)\n  ammonite.$sess.cmd102$Helper.reverse(\u001b[32mcmd102.sc\u001b[39m:\u001b[32m5\u001b[39m)\n  ammonite.$sess.cmd102$Helper.reverse(\u001b[32mcmd102.sc\u001b[39m:\u001b[32m5\u001b[39m)\n  ammonite.$sess.cmd102$Helper.reverse(\u001b[32mcmd102.sc\u001b[39m:\u001b[32m5\u001b[39m)\n  ammonite.$sess.cmd102$Helper.reverse(\u001b[32mcmd102.sc\u001b[39m:\u001b[32m5\u001b[39m)\n  ammonite.$sess.cmd102$Helper.reverse(\u001b[32mcmd102.sc\u001b[39m:\u001b[32m5\u001b[39m)\n  ammonite.$sess.cmd102$Helper.reverse(\u001b[32mcmd102.sc\u001b[39m:\u001b[32m5\u001b[39m)\n  ammonite.$sess.cmd102$Helper.reverse(\u001b[32mcmd102.sc\u001b[39m:\u001b[32m5\u001b[39m)\n  ammonite.$sess.cmd102$Helper.reverse(\u001b[32mcmd102.sc\u001b[39m:\u001b[32m5\u001b[39m)\n  ammonite.$sess.cmd102$Helper.reverse(\u001b[32mcmd102.sc\u001b[39m:\u001b[32m5\u001b[39m)\n  ammonite.$sess.cmd102$Helper.reverse(\u001b[32mcmd102.sc\u001b[39m:\u001b[32m5\u001b[39m)\n  ammonite.$sess.cmd102$Helper.reverse(\u001b[32mcmd102.sc\u001b[39m:\u001b[32m5\u001b[39m)\n  ammonite.$sess.cmd102$Helper.reverse(\u001b[32mcmd102.sc\u001b[39m:\u001b[32m5\u001b[39m)\n  ammonite.$sess.cmd102$Helper.reverse(\u001b[32mcmd102.sc\u001b[39m:\u001b[32m5\u001b[39m)\n  ammonite.$sess.cmd102$Helper.reverse(\u001b[32mcmd102.sc\u001b[39m:\u001b[32m5\u001b[39m)\n  ammonite.$sess.cmd102$Helper.reverse(\u001b[32mcmd102.sc\u001b[39m:\u001b[32m5\u001b[39m)\n  ammonite.$sess.cmd102$Helper.reverse(\u001b[32mcmd102.sc\u001b[39m:\u001b[32m5\u001b[39m)\n  ammonite.$sess.cmd102$Helper.reverse(\u001b[32mcmd102.sc\u001b[39m:\u001b[32m5\u001b[39m)\n  ammonite.$sess.cmd102$Helper.reverse(\u001b[32mcmd102.sc\u001b[39m:\u001b[32m5\u001b[39m)\n  ammonite.$sess.cmd102$Helper.reverse(\u001b[32mcmd102.sc\u001b[39m:\u001b[32m5\u001b[39m)\n  ammonite.$sess.cmd102$Helper.reverse(\u001b[32mcmd102.sc\u001b[39m:\u001b[32m5\u001b[39m)\n  ammonite.$sess.cmd102$Helper.reverse(\u001b[32mcmd102.sc\u001b[39m:\u001b[32m5\u001b[39m)\n  ammonite.$sess.cmd102$Helper.reverse(\u001b[32mcmd102.sc\u001b[39m:\u001b[32m5\u001b[39m)\n  ammonite.$sess.cmd102$Helper.reverse(\u001b[32mcmd102.sc\u001b[39m:\u001b[32m5\u001b[39m)\n  ammonite.$sess.cmd102$Helper.reverse(\u001b[32mcmd102.sc\u001b[39m:\u001b[32m5\u001b[39m)\n  ammonite.$sess.cmd102$Helper.reverse(\u001b[32mcmd102.sc\u001b[39m:\u001b[32m5\u001b[39m)\n  ammonite.$sess.cmd102$Helper.reverse(\u001b[32mcmd102.sc\u001b[39m:\u001b[32m5\u001b[39m)\n  ammonite.$sess.cmd102$Helper.reverse(\u001b[32mcmd102.sc\u001b[39m:\u001b[32m5\u001b[39m)\n  ammonite.$sess.cmd102$Helper.reverse(\u001b[32mcmd102.sc\u001b[39m:\u001b[32m5\u001b[39m)\n  ammonite.$sess.cmd102$Helper.reverse(\u001b[32mcmd102.sc\u001b[39m:\u001b[32m5\u001b[39m)\n  ammonite.$sess.cmd102$Helper.reverse(\u001b[32mcmd102.sc\u001b[39m:\u001b[32m5\u001b[39m)\n  ammonite.$sess.cmd102$Helper.reverse(\u001b[32mcmd102.sc\u001b[39m:\u001b[32m5\u001b[39m)\n  ammonite.$sess.cmd102$Helper.reverse(\u001b[32mcmd102.sc\u001b[39m:\u001b[32m5\u001b[39m)\n  ammonite.$sess.cmd102$Helper.reverse(\u001b[32mcmd102.sc\u001b[39m:\u001b[32m5\u001b[39m)\n  ammonite.$sess.cmd102$Helper.reverse(\u001b[32mcmd102.sc\u001b[39m:\u001b[32m5\u001b[39m)\n  ammonite.$sess.cmd102$Helper.reverse(\u001b[32mcmd102.sc\u001b[39m:\u001b[32m5\u001b[39m)\n  ammonite.$sess.cmd102$Helper.reverse(\u001b[32mcmd102.sc\u001b[39m:\u001b[32m5\u001b[39m)\n  ammonite.$sess.cmd102$Helper.reverse(\u001b[32mcmd102.sc\u001b[39m:\u001b[32m5\u001b[39m)\n  ammonite.$sess.cmd102$Helper.reverse(\u001b[32mcmd102.sc\u001b[39m:\u001b[32m5\u001b[39m)\n  ammonite.$sess.cmd102$Helper.reverse(\u001b[32mcmd102.sc\u001b[39m:\u001b[32m5\u001b[39m)\n  ammonite.$sess.cmd102$Helper.reverse(\u001b[32mcmd102.sc\u001b[39m:\u001b[32m5\u001b[39m)\n  ammonite.$sess.cmd102$Helper.reverse(\u001b[32mcmd102.sc\u001b[39m:\u001b[32m5\u001b[39m)\n  ammonite.$sess.cmd102$Helper.reverse(\u001b[32mcmd102.sc\u001b[39m:\u001b[32m5\u001b[39m)\n  ammonite.$sess.cmd102$Helper.reverse(\u001b[32mcmd102.sc\u001b[39m:\u001b[32m5\u001b[39m)\n  ammonite.$sess.cmd102$Helper.reverse(\u001b[32mcmd102.sc\u001b[39m:\u001b[32m5\u001b[39m)\n  ammonite.$sess.cmd102$Helper.reverse(\u001b[32mcmd102.sc\u001b[39m:\u001b[32m5\u001b[39m)\n  ammonite.$sess.cmd102$Helper.reverse(\u001b[32mcmd102.sc\u001b[39m:\u001b[32m5\u001b[39m)\n  ammonite.$sess.cmd102$Helper.reverse(\u001b[32mcmd102.sc\u001b[39m:\u001b[32m5\u001b[39m)\n  ammonite.$sess.cmd102$Helper.reverse(\u001b[32mcmd102.sc\u001b[39m:\u001b[32m5\u001b[39m)\n  ammonite.$sess.cmd102$Helper.reverse(\u001b[32mcmd102.sc\u001b[39m:\u001b[32m5\u001b[39m)\n  ammonite.$sess.cmd102$Helper.reverse(\u001b[32mcmd102.sc\u001b[39m:\u001b[32m5\u001b[39m)\n  ammonite.$sess.cmd102$Helper.reverse(\u001b[32mcmd102.sc\u001b[39m:\u001b[32m5\u001b[39m)\n  ammonite.$sess.cmd102$Helper.reverse(\u001b[32mcmd102.sc\u001b[39m:\u001b[32m5\u001b[39m)\n  ammonite.$sess.cmd102$Helper.reverse(\u001b[32mcmd102.sc\u001b[39m:\u001b[32m5\u001b[39m)\n  ammonite.$sess.cmd102$Helper.reverse(\u001b[32mcmd102.sc\u001b[39m:\u001b[32m5\u001b[39m)\n  ammonite.$sess.cmd102$Helper.reverse(\u001b[32mcmd102.sc\u001b[39m:\u001b[32m5\u001b[39m)\n  ammonite.$sess.cmd102$Helper.reverse(\u001b[32mcmd102.sc\u001b[39m:\u001b[32m5\u001b[39m)\n  ammonite.$sess.cmd102$Helper.reverse(\u001b[32mcmd102.sc\u001b[39m:\u001b[32m5\u001b[39m)\n  ammonite.$sess.cmd102$Helper.reverse(\u001b[32mcmd102.sc\u001b[39m:\u001b[32m5\u001b[39m)\n  ammonite.$sess.cmd102$Helper.reverse(\u001b[32mcmd102.sc\u001b[39m:\u001b[32m5\u001b[39m)\n  ammonite.$sess.cmd102$Helper.reverse(\u001b[32mcmd102.sc\u001b[39m:\u001b[32m5\u001b[39m)\n  ammonite.$sess.cmd102$Helper.reverse(\u001b[32mcmd102.sc\u001b[39m:\u001b[32m5\u001b[39m)\n  ammonite.$sess.cmd102$Helper.reverse(\u001b[32mcmd102.sc\u001b[39m:\u001b[32m5\u001b[39m)\n  ammonite.$sess.cmd102$Helper.reverse(\u001b[32mcmd102.sc\u001b[39m:\u001b[32m5\u001b[39m)\n  ammonite.$sess.cmd102$Helper.reverse(\u001b[32mcmd102.sc\u001b[39m:\u001b[32m5\u001b[39m)\n  ammonite.$sess.cmd102$Helper.reverse(\u001b[32mcmd102.sc\u001b[39m:\u001b[32m5\u001b[39m)\n  ammonite.$sess.cmd102$Helper.reverse(\u001b[32mcmd102.sc\u001b[39m:\u001b[32m5\u001b[39m)\n  ammonite.$sess.cmd102$Helper.reverse(\u001b[32mcmd102.sc\u001b[39m:\u001b[32m5\u001b[39m)\n  ammonite.$sess.cmd102$Helper.reverse(\u001b[32mcmd102.sc\u001b[39m:\u001b[32m5\u001b[39m)\n  ammonite.$sess.cmd102$Helper.reverse(\u001b[32mcmd102.sc\u001b[39m:\u001b[32m5\u001b[39m)\n  ammonite.$sess.cmd102$Helper.reverse(\u001b[32mcmd102.sc\u001b[39m:\u001b[32m5\u001b[39m)\n  ammonite.$sess.cmd102$Helper.reverse(\u001b[32mcmd102.sc\u001b[39m:\u001b[32m5\u001b[39m)\n  ammonite.$sess.cmd102$Helper.reverse(\u001b[32mcmd102.sc\u001b[39m:\u001b[32m5\u001b[39m)\n  ammonite.$sess.cmd102$Helper.reverse(\u001b[32mcmd102.sc\u001b[39m:\u001b[32m5\u001b[39m)\n  ammonite.$sess.cmd102$Helper.reverse(\u001b[32mcmd102.sc\u001b[39m:\u001b[32m5\u001b[39m)\n  ammonite.$sess.cmd102$Helper.reverse(\u001b[32mcmd102.sc\u001b[39m:\u001b[32m5\u001b[39m)\n  ammonite.$sess.cmd102$Helper.reverse(\u001b[32mcmd102.sc\u001b[39m:\u001b[32m5\u001b[39m)\n  ammonite.$sess.cmd102$Helper.reverse(\u001b[32mcmd102.sc\u001b[39m:\u001b[32m5\u001b[39m)\n  ammonite.$sess.cmd102$Helper.reverse(\u001b[32mcmd102.sc\u001b[39m:\u001b[32m5\u001b[39m)\n  ammonite.$sess.cmd102$Helper.reverse(\u001b[32mcmd102.sc\u001b[39m:\u001b[32m5\u001b[39m)\n  ammonite.$sess.cmd102$Helper.reverse(\u001b[32mcmd102.sc\u001b[39m:\u001b[32m5\u001b[39m)\n  ammonite.$sess.cmd102$Helper.reverse(\u001b[32mcmd102.sc\u001b[39m:\u001b[32m5\u001b[39m)\n  ammonite.$sess.cmd102$Helper.reverse(\u001b[32mcmd102.sc\u001b[39m:\u001b[32m5\u001b[39m)\n  ammonite.$sess.cmd102$Helper.reverse(\u001b[32mcmd102.sc\u001b[39m:\u001b[32m5\u001b[39m)\n  ammonite.$sess.cmd102$Helper.reverse(\u001b[32mcmd102.sc\u001b[39m:\u001b[32m5\u001b[39m)\n  ammonite.$sess.cmd102$Helper.reverse(\u001b[32mcmd102.sc\u001b[39m:\u001b[32m5\u001b[39m)\n  ammonite.$sess.cmd102$Helper.reverse(\u001b[32mcmd102.sc\u001b[39m:\u001b[32m5\u001b[39m)\n  ammonite.$sess.cmd102$Helper.reverse(\u001b[32mcmd102.sc\u001b[39m:\u001b[32m5\u001b[39m)\n  ammonite.$sess.cmd102$Helper.reverse(\u001b[32mcmd102.sc\u001b[39m:\u001b[32m5\u001b[39m)\n  ammonite.$sess.cmd102$Helper.reverse(\u001b[32mcmd102.sc\u001b[39m:\u001b[32m5\u001b[39m)\n  ammonite.$sess.cmd102$Helper.reverse(\u001b[32mcmd102.sc\u001b[39m:\u001b[32m5\u001b[39m)\n  ammonite.$sess.cmd102$Helper.reverse(\u001b[32mcmd102.sc\u001b[39m:\u001b[32m5\u001b[39m)\n  ammonite.$sess.cmd102$Helper.reverse(\u001b[32mcmd102.sc\u001b[39m:\u001b[32m5\u001b[39m)\n  ammonite.$sess.cmd102$Helper.reverse(\u001b[32mcmd102.sc\u001b[39m:\u001b[32m5\u001b[39m)\n  ammonite.$sess.cmd102$Helper.reverse(\u001b[32mcmd102.sc\u001b[39m:\u001b[32m5\u001b[39m)\n  ammonite.$sess.cmd102$Helper.reverse(\u001b[32mcmd102.sc\u001b[39m:\u001b[32m5\u001b[39m)\n  ammonite.$sess.cmd102$Helper.reverse(\u001b[32mcmd102.sc\u001b[39m:\u001b[32m5\u001b[39m)\n  ammonite.$sess.cmd102$Helper.reverse(\u001b[32mcmd102.sc\u001b[39m:\u001b[32m5\u001b[39m)\n  ammonite.$sess.cmd102$Helper.reverse(\u001b[32mcmd102.sc\u001b[39m:\u001b[32m5\u001b[39m)\n  ammonite.$sess.cmd102$Helper.reverse(\u001b[32mcmd102.sc\u001b[39m:\u001b[32m5\u001b[39m)\n  ammonite.$sess.cmd102$Helper.reverse(\u001b[32mcmd102.sc\u001b[39m:\u001b[32m5\u001b[39m)\n  ammonite.$sess.cmd102$Helper.reverse(\u001b[32mcmd102.sc\u001b[39m:\u001b[32m5\u001b[39m)\n  ammonite.$sess.cmd102$Helper.reverse(\u001b[32mcmd102.sc\u001b[39m:\u001b[32m5\u001b[39m)\n  ammonite.$sess.cmd102$Helper.reverse(\u001b[32mcmd102.sc\u001b[39m:\u001b[32m5\u001b[39m)\n  ammonite.$sess.cmd102$Helper.reverse(\u001b[32mcmd102.sc\u001b[39m:\u001b[32m5\u001b[39m)\n  ammonite.$sess.cmd102$Helper.reverse(\u001b[32mcmd102.sc\u001b[39m:\u001b[32m5\u001b[39m)\n  ammonite.$sess.cmd102$Helper.reverse(\u001b[32mcmd102.sc\u001b[39m:\u001b[32m5\u001b[39m)\n  ammonite.$sess.cmd102$Helper.reverse(\u001b[32mcmd102.sc\u001b[39m:\u001b[32m5\u001b[39m)\n  ammonite.$sess.cmd102$Helper.reverse(\u001b[32mcmd102.sc\u001b[39m:\u001b[32m5\u001b[39m)\n  ammonite.$sess.cmd102$Helper.reverse(\u001b[32mcmd102.sc\u001b[39m:\u001b[32m5\u001b[39m)\n  ammonite.$sess.cmd102$Helper.reverse(\u001b[32mcmd102.sc\u001b[39m:\u001b[32m5\u001b[39m)\n  ammonite.$sess.cmd102$Helper.reverse(\u001b[32mcmd102.sc\u001b[39m:\u001b[32m5\u001b[39m)\n  ammonite.$sess.cmd102$Helper.reverse(\u001b[32mcmd102.sc\u001b[39m:\u001b[32m5\u001b[39m)\n  ammonite.$sess.cmd102$Helper.reverse(\u001b[32mcmd102.sc\u001b[39m:\u001b[32m5\u001b[39m)\n  ammonite.$sess.cmd102$Helper.reverse(\u001b[32mcmd102.sc\u001b[39m:\u001b[32m5\u001b[39m)\n  ammonite.$sess.cmd102$Helper.reverse(\u001b[32mcmd102.sc\u001b[39m:\u001b[32m5\u001b[39m)\n  ammonite.$sess.cmd102$Helper.reverse(\u001b[32mcmd102.sc\u001b[39m:\u001b[32m5\u001b[39m)\n  ammonite.$sess.cmd102$Helper.reverse(\u001b[32mcmd102.sc\u001b[39m:\u001b[32m5\u001b[39m)\n  ammonite.$sess.cmd102$Helper.reverse(\u001b[32mcmd102.sc\u001b[39m:\u001b[32m5\u001b[39m)\n  ammonite.$sess.cmd102$Helper.reverse(\u001b[32mcmd102.sc\u001b[39m:\u001b[32m5\u001b[39m)\n  ammonite.$sess.cmd102$Helper.reverse(\u001b[32mcmd102.sc\u001b[39m:\u001b[32m5\u001b[39m)\n  ammonite.$sess.cmd102$Helper.reverse(\u001b[32mcmd102.sc\u001b[39m:\u001b[32m5\u001b[39m)\n  ammonite.$sess.cmd102$Helper.reverse(\u001b[32mcmd102.sc\u001b[39m:\u001b[32m5\u001b[39m)\n  ammonite.$sess.cmd102$Helper.reverse(\u001b[32mcmd102.sc\u001b[39m:\u001b[32m5\u001b[39m)\n  ammonite.$sess.cmd102$Helper.reverse(\u001b[32mcmd102.sc\u001b[39m:\u001b[32m5\u001b[39m)\n  ammonite.$sess.cmd102$Helper.reverse(\u001b[32mcmd102.sc\u001b[39m:\u001b[32m5\u001b[39m)\n  ammonite.$sess.cmd102$Helper.reverse(\u001b[32mcmd102.sc\u001b[39m:\u001b[32m5\u001b[39m)\n  ammonite.$sess.cmd102$Helper.reverse(\u001b[32mcmd102.sc\u001b[39m:\u001b[32m5\u001b[39m)\n  ammonite.$sess.cmd102$Helper.reverse(\u001b[32mcmd102.sc\u001b[39m:\u001b[32m5\u001b[39m)\n  ammonite.$sess.cmd102$Helper.reverse(\u001b[32mcmd102.sc\u001b[39m:\u001b[32m5\u001b[39m)\n  ammonite.$sess.cmd102$Helper.reverse(\u001b[32mcmd102.sc\u001b[39m:\u001b[32m5\u001b[39m)\n  ammonite.$sess.cmd102$Helper.reverse(\u001b[32mcmd102.sc\u001b[39m:\u001b[32m5\u001b[39m)\n  ammonite.$sess.cmd102$Helper.reverse(\u001b[32mcmd102.sc\u001b[39m:\u001b[32m5\u001b[39m)\n  ammonite.$sess.cmd102$Helper.reverse(\u001b[32mcmd102.sc\u001b[39m:\u001b[32m5\u001b[39m)\n  ammonite.$sess.cmd102$Helper.reverse(\u001b[32mcmd102.sc\u001b[39m:\u001b[32m5\u001b[39m)\n  ammonite.$sess.cmd102$Helper.reverse(\u001b[32mcmd102.sc\u001b[39m:\u001b[32m5\u001b[39m)\n  ammonite.$sess.cmd102$Helper.reverse(\u001b[32mcmd102.sc\u001b[39m:\u001b[32m5\u001b[39m)\n  ammonite.$sess.cmd102$Helper.reverse(\u001b[32mcmd102.sc\u001b[39m:\u001b[32m5\u001b[39m)\n  ammonite.$sess.cmd102$Helper.reverse(\u001b[32mcmd102.sc\u001b[39m:\u001b[32m5\u001b[39m)\n  ammonite.$sess.cmd102$Helper.reverse(\u001b[32mcmd102.sc\u001b[39m:\u001b[32m5\u001b[39m)\n  ammonite.$sess.cmd102$Helper.reverse(\u001b[32mcmd102.sc\u001b[39m:\u001b[32m5\u001b[39m)\n  ammonite.$sess.cmd102$Helper.reverse(\u001b[32mcmd102.sc\u001b[39m:\u001b[32m5\u001b[39m)\n  ammonite.$sess.cmd102$Helper.reverse(\u001b[32mcmd102.sc\u001b[39m:\u001b[32m5\u001b[39m)\n  ammonite.$sess.cmd102$Helper.reverse(\u001b[32mcmd102.sc\u001b[39m:\u001b[32m5\u001b[39m)\n  ammonite.$sess.cmd102$Helper.reverse(\u001b[32mcmd102.sc\u001b[39m:\u001b[32m5\u001b[39m)\n  ammonite.$sess.cmd102$Helper.reverse(\u001b[32mcmd102.sc\u001b[39m:\u001b[32m5\u001b[39m)\n  ammonite.$sess.cmd102$Helper.reverse(\u001b[32mcmd102.sc\u001b[39m:\u001b[32m5\u001b[39m)\n  ammonite.$sess.cmd102$Helper.reverse(\u001b[32mcmd102.sc\u001b[39m:\u001b[32m5\u001b[39m)\n  ammonite.$sess.cmd102$Helper.reverse(\u001b[32mcmd102.sc\u001b[39m:\u001b[32m5\u001b[39m)\n  ammonite.$sess.cmd102$Helper.reverse(\u001b[32mcmd102.sc\u001b[39m:\u001b[32m5\u001b[39m)\n  ammonite.$sess.cmd102$Helper.reverse(\u001b[32mcmd102.sc\u001b[39m:\u001b[32m5\u001b[39m)\n  ammonite.$sess.cmd102$Helper.reverse(\u001b[32mcmd102.sc\u001b[39m:\u001b[32m5\u001b[39m)\n  ammonite.$sess.cmd102$Helper.reverse(\u001b[32mcmd102.sc\u001b[39m:\u001b[32m5\u001b[39m)\n  ammonite.$sess.cmd102$Helper.reverse(\u001b[32mcmd102.sc\u001b[39m:\u001b[32m5\u001b[39m)\n  ammonite.$sess.cmd102$Helper.reverse(\u001b[32mcmd102.sc\u001b[39m:\u001b[32m5\u001b[39m)\n  ammonite.$sess.cmd102$Helper.reverse(\u001b[32mcmd102.sc\u001b[39m:\u001b[32m5\u001b[39m)\n  ammonite.$sess.cmd102$Helper.reverse(\u001b[32mcmd102.sc\u001b[39m:\u001b[32m5\u001b[39m)\n  ammonite.$sess.cmd102$Helper.reverse(\u001b[32mcmd102.sc\u001b[39m:\u001b[32m5\u001b[39m)\n  ammonite.$sess.cmd102$Helper.reverse(\u001b[32mcmd102.sc\u001b[39m:\u001b[32m5\u001b[39m)\n  ammonite.$sess.cmd102$Helper.reverse(\u001b[32mcmd102.sc\u001b[39m:\u001b[32m5\u001b[39m)\n  ammonite.$sess.cmd102$Helper.reverse(\u001b[32mcmd102.sc\u001b[39m:\u001b[32m5\u001b[39m)\n  ammonite.$sess.cmd102$Helper.reverse(\u001b[32mcmd102.sc\u001b[39m:\u001b[32m5\u001b[39m)\n  ammonite.$sess.cmd102$Helper.reverse(\u001b[32mcmd102.sc\u001b[39m:\u001b[32m5\u001b[39m)\n  ammonite.$sess.cmd102$Helper.reverse(\u001b[32mcmd102.sc\u001b[39m:\u001b[32m5\u001b[39m)\n  ammonite.$sess.cmd102$Helper.reverse(\u001b[32mcmd102.sc\u001b[39m:\u001b[32m5\u001b[39m)\n  ammonite.$sess.cmd102$Helper.reverse(\u001b[32mcmd102.sc\u001b[39m:\u001b[32m5\u001b[39m)\n  ammonite.$sess.cmd102$Helper.reverse(\u001b[32mcmd102.sc\u001b[39m:\u001b[32m5\u001b[39m)"
     ]
    }
   ],
   "source": [
    "reverse(List.fill(1000000)('a'))"
   ]
  },
  {
   "cell_type": "code",
   "execution_count": 96,
   "metadata": {},
   "outputs": [
    {
     "name": "stdout",
     "output_type": "stream",
     "text": [
      "\u001b[32mcmd93$Helper$TestReverse:\u001b[0m\n",
      "\u001b[32mreverse\u001b[0m\n",
      "\u001b[32m- should work\u001b[0m\n"
     ]
    }
   ],
   "source": [
    "run(new TestReverse(reverse))"
   ]
  },
  {
   "cell_type": "code",
   "execution_count": 111,
   "metadata": {},
   "outputs": [
    {
     "data": {
      "text/plain": [
       "defined \u001b[32mfunction\u001b[39m \u001b[36mreverseTR\u001b[39m"
      ]
     },
     "execution_count": 111,
     "metadata": {},
     "output_type": "execute_result"
    }
   ],
   "source": [
    "// Tail-recursive, efficiently\n",
    "/*\n",
    "1 :: 2 :: 3 :: Nil \n",
    "\n",
    "out = Nil \n",
    "1 :: Nil\n",
    "2 :: 1 :: Nil\n",
    "3 :: 2 :: 1 :: Nil\n",
    "*/\n",
    "def reverseTR[A](l: List[A]): List[A] = {\n",
    "    def auxReverse(out: List[A], aux: List[A]): List[A] = \n",
    "        aux match {\n",
    "            case Nil => out\n",
    "            case head :: tail => \n",
    "                auxReverse(head :: out, tail)\n",
    "        }\n",
    "    \n",
    "    auxReverse(List(), l)\n",
    "}"
   ]
  },
  {
   "cell_type": "code",
   "execution_count": 112,
   "metadata": {},
   "outputs": [
    {
     "name": "stdout",
     "output_type": "stream",
     "text": [
      "\u001b[32mcmd93$Helper$TestReverse:\u001b[0m\n",
      "\u001b[32mreverse\u001b[0m\n",
      "\u001b[32m- should work\u001b[0m\n"
     ]
    }
   ],
   "source": [
    "run(new TestReverse(reverseTR))"
   ]
  },
  {
   "cell_type": "code",
   "execution_count": null,
   "metadata": {},
   "outputs": [],
   "source": []
  }
 ],
 "metadata": {
  "kernelspec": {
   "display_name": "Scala",
   "language": "scala",
   "name": "scala"
  },
  "language_info": {
   "codemirror_mode": "text/x-scala",
   "file_extension": ".scala",
   "mimetype": "text/x-scala",
   "name": "scala",
   "nbconvert_exporter": "script",
   "version": "2.13.0"
  }
 },
 "nbformat": 4,
 "nbformat_minor": 2
}
