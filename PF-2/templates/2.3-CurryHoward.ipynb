{
 "cells": [
  {
   "cell_type": "markdown",
   "metadata": {},
   "source": [
    "# 2.3 Curry-Howard correspondence"
   ]
  },
  {
   "cell_type": "markdown",
   "metadata": {},
   "source": [
    "![haskell](../../images/haskellcurry.jpeg) Haskell Brooks Curry\n",
    "\n",
    "![howard](../../images/howard-resize.jpg)Willian Howard"
   ]
  },
  {
   "cell_type": "markdown",
   "metadata": {},
   "source": [
    "In this notebook we deal with another striking connection between functional programming and, in principle, a completely unrelated field of knowledge. When algebraic data types were introduced, we established a strong connection with _arithmetics_: now, it's the turn of _logic_. We will see that functional programming is akin, in a very close sense, to doing logic. That, when we write a type signature we are writing propositions that have to be proved; and that when we implement that signature, we are actually providing a proof of that proposition. Thus, this notebook resolves to show the following correspondences:\n",
    "\n",
    "$$\n",
    "\\begin{array}{cc}\n",
    "\\mathrm{\\bf Computation} & \\mathrm{\\bf Logic} \\\\\n",
    "\\hline \n",
    "\\mathrm{Programs} & \\mathrm{Proofs} \\\\\n",
    "\\mathrm{Types} & \\mathrm{Propositions} \n",
    "\\end{array}\n",
    "$$\n",
    "\n",
    "This correspondence between logic and computation is known as the Curry-Howard correspondence. It shows that programming functionally and following the laws of logic is the very same thing, ... and who on earth would want to program in a different way!"
   ]
  },
  {
   "cell_type": "markdown",
   "metadata": {},
   "source": [
    "### References\n",
    "\n",
    "[__The Curry-Howard correspondence__](https://en.wikipedia.org/wiki/Curry%E2%80%93Howard_correspondence) Wikpedia. \n",
    "\n",
    "[__Propositions as types__](https://homepages.inf.ed.ac.uk/wadler/papers/propositions-as-types/propositions-as-types.pdf). Philip Wadler. \n",
    "\n",
    "[__Intuitionistic logic__](https://en.wikipedia.org/wiki/Intuitionistic_logic). Wikipedia."
   ]
  },
  {
   "cell_type": "markdown",
   "metadata": {},
   "source": [
    "# A refresher: arithmetic and types"
   ]
  },
  {
   "cell_type": "markdown",
   "metadata": {},
   "source": [
    "Recall the correspondence between algebraic data types and arithmetic operators: \n",
    "\n",
    "$$ \n",
    "\\begin{array}{cc}\n",
    "\\mathrm{\\bf Scala\\ ADTs} & \\mathrm{\\bf Arithmetic} \\\\\n",
    "\\hline\n",
    "\\mathtt{Unit} & 1 \\\\\n",
    "\\mathtt{Nothing} & 0 \\\\\n",
    "\\mathtt{Either[X, Y]} & x + y \\\\\n",
    "\\mathtt{Tuple2[X, Y]} & x * y \\\\\n",
    "\\mathtt{X => Y} & {y^x}  \n",
    "\\end{array}\n",
    "$$\n",
    "\n",
    "According to this algebraic interpretation of types, the type "
   ]
  },
  {
   "cell_type": "code",
   "execution_count": 1,
   "metadata": {},
   "outputs": [
    {
     "data": {
      "text/plain": [
       "defined \u001b[32mtype\u001b[39m \u001b[36mA\u001b[39m"
      ]
     },
     "execution_count": 1,
     "metadata": {},
     "output_type": "execute_result"
    }
   ],
   "source": [
    "type A = (Unit, Either[Unit, (Boolean => Either[Unit, Unit])])"
   ]
  },
  {
   "cell_type": "markdown",
   "metadata": {},
   "source": [
    "has exactly `1*(1+(1+1)^2)` values. But not only that: corresponding to the equality `1*(1+(1+1)^2)=5`, the following isomorphism holds: "
   ]
  },
  {
   "cell_type": "code",
   "execution_count": 2,
   "metadata": {},
   "outputs": [
    {
     "data": {
      "text/plain": [
       "defined \u001b[32mfunction\u001b[39m \u001b[36mfrom\u001b[39m\n",
       "defined \u001b[32mfunction\u001b[39m \u001b[36mto\u001b[39m"
      ]
     },
     "execution_count": 2,
     "metadata": {},
     "output_type": "execute_result"
    }
   ],
   "source": [
    "def from(a: A): Either[Unit, \n",
    "    Either[Unit, Either[Unit, Either[Unit, Unit]]]] = ???\n",
    "def to(a: Either[Unit, \n",
    "    Either[Unit, Either[Unit, Either[Unit, Unit]]]]): A = ???"
   ]
  },
  {
   "cell_type": "markdown",
   "metadata": {},
   "source": [
    "# Propositions as types"
   ]
  },
  {
   "cell_type": "markdown",
   "metadata": {},
   "source": [
    "We put forward now the following correspondence: \n",
    "\n",
    "$$ \n",
    "\\begin{array}{cc}\n",
    "\\mathrm{\\bf Scala\\ ADTs} & \\mathrm{\\bf Logic} \\\\\n",
    "\\hline\n",
    "\\mathtt{Unit} & \\top \\\\\n",
    "\\mathtt{Nothing} & \\bot \\\\\n",
    "\\mathtt{Either[P, Q]} & p \\vee q \\\\\n",
    "\\mathtt{Tuple2[P, Q]} & p \\wedge q \\\\\n",
    "\\mathtt{P => Q} & p \\rightarrow q \n",
    "\\end{array}\n",
    "$$\n"
   ]
  },
  {
   "cell_type": "markdown",
   "metadata": {},
   "source": [
    "so that, for instance, the following type:\n",
    "\n",
    "```scala\n",
    "(P => Q, P) => Q\n",
    "```\n",
    "\n",
    "corresponds to the following formula of propositional logic: \n",
    "\n",
    "$\\hspace{0.8cm} ??? $\n",
    "\n",
    "Let's get used to read Scala types as propositional formulas with these examples: \n",
    "\n",
    "$$\n",
    "\\begin{array}{cc}\n",
    "\\mathrm{\\bf Scala\\ types} & \\mathrm{\\bf Propositions} \\\\\n",
    "\\hline\n",
    "\\mathtt{(P, Either[Q, R])} & ??? \\\\ \n",
    "\\mathtt{P => Q => (Q, R)} & ??? \\\\\n",
    "\\mathtt{(P => Nothing) => Nothing} & ??? \\\\ \n",
    "\\end{array}\n",
    "$$"
   ]
  },
  {
   "cell_type": "markdown",
   "metadata": {},
   "source": [
    "What about logical negation and equivalence? They are commonly regarded as abbreviations: \n",
    "\n",
    "* $\\neg p$ abbreviates $p \\rightarrow \\bot$ (i.e. if we assume $p$, we reach a contradiction)\n",
    "* $p \\leftrightarrow q$ abbreviates $p \\rightarrow q \\wedge q \\rightarrow p$\n",
    "\n",
    "so, they will be represented in Scala through the following type aliases: "
   ]
  },
  {
   "cell_type": "code",
   "execution_count": 3,
   "metadata": {},
   "outputs": [
    {
     "data": {
      "text/plain": [
       "defined \u001b[32mtype\u001b[39m \u001b[36mNot\u001b[39m\n",
       "defined \u001b[32mtype\u001b[39m \u001b[36m<=>\u001b[39m"
      ]
     },
     "execution_count": 3,
     "metadata": {},
     "output_type": "execute_result"
    }
   ],
   "source": [
    "type Not[P] = Any\n",
    "type <=>[P, Q] = Any"
   ]
  },
  {
   "cell_type": "markdown",
   "metadata": {},
   "source": [
    "Let's translate the following propositional formulas to Scala types: "
   ]
  },
  {
   "cell_type": "markdown",
   "metadata": {},
   "source": [
    "\n",
    "$$ \n",
    "\\begin{array}{cc}\n",
    "\\mathrm{\\bf Logic} & \\mathrm{\\bf Scala\\ ADTs} \\\\\n",
    "\\hline\n",
    "(p \\wedge q \\rightarrow r) \\leftrightarrow (p \\rightarrow q \\rightarrow r) & \\mathtt{???} \\\\\n",
    "\\neg (p \\wedge q) \\rightarrow \\neg p \\vee \\neg q & \\mathtt{???}\\\\\n",
    "\\neg\\neg(p \\vee \\neg p) & \\mathtt{???}\\\\\n",
    "p \\vee (q \\wedge r) \\leftrightarrow (p \\vee q) \\wedge (p \\vee r) & \n",
    "\\mathtt{???}\n",
    "\\end{array}\n",
    "$$\n"
   ]
  },
  {
   "cell_type": "markdown",
   "metadata": {},
   "source": [
    "Note that $p \\wedge q \\rightarrow r$ translates to `((P,Q)) => R`, and not to `(P, Q) => R`. The former is a `Function1` which receives a single argument of tuple type `(P, Q)`; the latter is a `Function2` which receives two arguments of types `P` and `Q`. "
   ]
  },
  {
   "cell_type": "markdown",
   "metadata": {},
   "source": [
    "# Proofs as programs"
   ]
  },
  {
   "cell_type": "markdown",
   "metadata": {},
   "source": [
    "Right, but this is just a syntactic rewriting. In which sense, for instance, the Scala type\n",
    "\n",
    "`(P, Either[Q, R]) => Either[(P, Q), (P, R)]`\n",
    "\n",
    "is a proper counterpart of the proposition\n",
    "$p \\wedge (q \\vee r) \\rightarrow p \\wedge q \\vee p \\wedge r$? The answer is that they behave exactly in the same way: we can implement a program (expression or term) of that type if, and only if, the corresponding proposition is a theorem. Thus, the program is a witness that the proposition can be proved; in fact, we can automatically obtained a proof from that program, and viceversa. Let's start from a possible program:\n",
    "\n"
   ]
  },
  {
   "cell_type": "code",
   "execution_count": 4,
   "metadata": {},
   "outputs": [
    {
     "data": {
      "text/plain": [
       "defined \u001b[32mfunction\u001b[39m \u001b[36mprogram\u001b[39m"
      ]
     },
     "execution_count": 4,
     "metadata": {},
     "output_type": "execute_result"
    }
   ],
   "source": [
    "def program[P, Q, R]: ((P, Either[Q, R])) => Either[(P, Q), (P, R)] = \n",
    "    ???"
   ]
  },
  {
   "cell_type": "markdown",
   "metadata": {},
   "source": [
    "How is this program related to a proof of $p \\wedge (q \\vee r) \\rightarrow p \\wedge q \\vee p \\wedge r$? In order to talk about proofs we need a formal system, and our proof system of choice is Gentzen's natural deduction system. These are its introduction and elimination rules: "
   ]
  },
  {
   "cell_type": "markdown",
   "metadata": {},
   "source": [
    "![natural deduction rules](../../images/natdedrules.png)"
   ]
  },
  {
   "cell_type": "markdown",
   "metadata": {},
   "source": [
    "Now, we can give a proof as follows:\n",
    "\n",
    "$$\n",
    "\\begin{array}{llr}\n",
    "1     & p \\wedge (q \\vee r) & premise \\\\\n",
    "1.1   & p  & \\wedge E(1) \\\\\n",
    "1.2   & q \\vee r & \\wedge E(1) \\\\\n",
    "&& \\\\\n",
    "1.3   & q & premise \\\\\n",
    "1.3.1 & p \\wedge q & \\wedge I(1.1,1.3) \\\\\n",
    "1.3.2 & (p \\wedge q) \\vee (p \\wedge r) & \\vee I(1.3.1) \\\\\n",
    "&& \\\\ \n",
    "1.4   & r & premise \\\\\n",
    "1.4.1 & p \\wedge r & \\wedge I(1.1,1.4) \\\\\n",
    "1.4.2 & (p \\wedge q) \\vee (p \\wedge r) & \\vee I(1.4.2) \\\\\n",
    "&& \\\\\n",
    "1.5   & (p \\wedge q) \\vee (p \\wedge r) & \\vee E(1.3-1.3.2,1.4-1.4.2,1.2) \\\\\n",
    "2     & p \\wedge (q \\vee r) \\rightarrow (p \\wedge q) \\vee (p \\wedge r) & \\rightarrow I(1-1.5)\n",
    "\\end{array}\n",
    "$$"
   ]
  },
  {
   "cell_type": "markdown",
   "metadata": {},
   "source": [
    "Apparently, this proof is at odds with the previous program, but algebraic data types also work in terms of introduction and ellimination rules, much in the same way as Gentzen's introduction and elimination rules. In order to emphasize this, let's reimplement our program in a more verbose way: "
   ]
  },
  {
   "cell_type": "code",
   "execution_count": 5,
   "metadata": {},
   "outputs": [
    {
     "data": {
      "text/plain": [
       "defined \u001b[32mfunction\u001b[39m \u001b[36mprogram\u001b[39m"
      ]
     },
     "execution_count": 5,
     "metadata": {},
     "output_type": "execute_result"
    }
   ],
   "source": [
    "def program[P, Q, R]: ((P, Either[Q, R])) => Either[(P, Q), (P, R)] = \n",
    "    {\n",
    "        case (p, Left(q)) => Left((p, q))\n",
    "        case (p, Right(r)) => Right((p, r))\n",
    "    }"
   ]
  },
  {
   "cell_type": "markdown",
   "metadata": {},
   "source": [
    "As we can see, conjunction behave very much like products, in the sense that the introduction rule $\\wedge.I$ corresponds to the product constructor `(_, _)`, and the elimination rule $\\wedge.E$ to the selectors `_._1` and `_._2`. Similarly, the introduction rule for disjunction corresponds to the constructors of `Either`, i.e. `Left(_)` and `Right(_)`, and the elimination rule to pattern matching. Last, the introduction of an implication corresponds to the contruction of a lambda expression, and its elimination (not illustrated in the example), to function application. We can obtain an even more closer correspondence between the program and its corresponding proof with the following type aliases and definitions:"
   ]
  },
  {
   "cell_type": "code",
   "execution_count": 6,
   "metadata": {},
   "outputs": [
    {
     "data": {
      "text/plain": [
       "defined \u001b[32mobject\u001b[39m \u001b[36mAx\u001b[39m\n",
       "defined \u001b[32mtype\u001b[39m \u001b[36m⟶\u001b[39m\n",
       "defined \u001b[32mobject\u001b[39m \u001b[36m⟶\u001b[39m\n",
       "defined \u001b[32mtype\u001b[39m \u001b[36m⊥\u001b[39m\n",
       "defined \u001b[32mobject\u001b[39m \u001b[36m⊥\u001b[39m\n",
       "defined \u001b[32mtype\u001b[39m \u001b[36m∨\u001b[39m\n",
       "defined \u001b[32mobject\u001b[39m \u001b[36m∨\u001b[39m\n",
       "defined \u001b[32mtype\u001b[39m \u001b[36m∧\u001b[39m\n",
       "defined \u001b[32mobject\u001b[39m \u001b[36m∧\u001b[39m"
      ]
     },
     "execution_count": 6,
     "metadata": {},
     "output_type": "execute_result"
    }
   ],
   "source": [
    "object Ax{\n",
    "    def apply[P](a: P): P = ???\n",
    "}\n",
    "\n",
    "type ⟶[A, B] = A => B\n",
    "\n",
    "object ⟶{\n",
    "    def I[A, B](f: A => B): A ⟶ B =\n",
    "        ???\n",
    "    \n",
    "    def E[A, B](f: A ⟶ B)(a: A): B = \n",
    "        ???\n",
    "}\n",
    "\n",
    "type ⊥ = Nothing \n",
    "\n",
    "object ⊥{\n",
    "    def E[A](a: ⊥): A = ???\n",
    "} \n",
    "\n",
    "type ∨[A, B] = Either[A, B]\n",
    "\n",
    "object ∨{\n",
    "    def IL[A, B](a: A): A ∨ B = ???\n",
    "\n",
    "    def IR[A, B](b: B): A ∨ B = ???\n",
    "    \n",
    "    def E[A, B, C](f: A => C, g: B => C)(or: A ∨ B): C = \n",
    "        ???\n",
    "}\n",
    "\n",
    "type ∧[A, B] = (A, B)\n",
    "\n",
    "object ∧{\n",
    "    def I[A, B](a: A, b: B): A ∧ B = ???\n",
    "    \n",
    "    def EL[A, B](and: A ∧ B): A = ???\n",
    "    \n",
    "    def ER[A, B](and: A ∧ B): B = ???\n",
    "}"
   ]
  },
  {
   "cell_type": "markdown",
   "metadata": {},
   "source": [
    "Together, the fully implement the introduction and ellimination rules of the natural deduction system introduced above. We can also add these aliases for negation and equivalence. "
   ]
  },
  {
   "cell_type": "code",
   "execution_count": 7,
   "metadata": {},
   "outputs": [
    {
     "data": {
      "text/plain": [
       "defined \u001b[32mtype\u001b[39m \u001b[36m¬\u001b[39m\n",
       "defined \u001b[32mtype\u001b[39m \u001b[36m⟷\u001b[39m"
      ]
     },
     "execution_count": 7,
     "metadata": {},
     "output_type": "execute_result"
    }
   ],
   "source": [
    "type ¬[A] = A ⟶ ⊥\n",
    "type ⟷[A, B] = (A ⟶ B) ∧ (B ⟶ A)"
   ]
  },
  {
   "cell_type": "markdown",
   "metadata": {},
   "source": [
    "The following aliases will also come in handy if we can't easily write unicode characters in our keyboard:"
   ]
  },
  {
   "cell_type": "code",
   "execution_count": 8,
   "metadata": {},
   "outputs": [
    {
     "data": {
      "text/plain": [
       "defined \u001b[32mtype\u001b[39m \u001b[36mAbsurd\u001b[39m\n",
       "defined \u001b[32mtype\u001b[39m \u001b[36mOr\u001b[39m\n",
       "defined \u001b[32mtype\u001b[39m \u001b[36mAnd\u001b[39m\n",
       "\u001b[36mImplies\u001b[39m: \u001b[32m⟶\u001b[39m.type = ammonite.$sess.cmd5$Helper$$u27F6$@7e6fc78c\n",
       "\u001b[36mOr\u001b[39m: \u001b[32m∨\u001b[39m.type = ammonite.$sess.cmd5$Helper$$u2228$@6d2da96a\n",
       "\u001b[36mAnd\u001b[39m: \u001b[32m∧\u001b[39m.type = ammonite.$sess.cmd5$Helper$$u2227$@681025c3"
      ]
     },
     "execution_count": 8,
     "metadata": {},
     "output_type": "execute_result"
    }
   ],
   "source": [
    "type Absurd = ⊥\n",
    "type Or[A, B] = ∨[A, B] \n",
    "type And[A, B] = ∧[A, B]\n",
    "val Implies = ⟶\n",
    "val Or = ∨ \n",
    "val And = ∧"
   ]
  },
  {
   "cell_type": "markdown",
   "metadata": {},
   "source": [
    "Now, we can re-implement our program so that its correspondence with the natural deduction proof is more than apparent:"
   ]
  },
  {
   "cell_type": "code",
   "execution_count": 9,
   "metadata": {},
   "outputs": [
    {
     "data": {
      "text/plain": [
       "defined \u001b[32mfunction\u001b[39m \u001b[36mproof\u001b[39m"
      ]
     },
     "execution_count": 9,
     "metadata": {},
     "output_type": "execute_result"
    }
   ],
   "source": [
    "def proof[P, Q, R]: (P ∧ (Q ∨ R)) ⟶ ((P ∧ Q) ∨ (P ∧ R)) = \n",
    "    {`1`: (P, Either[Q,R])  =>                        // 1     p ∧ (q ∨ r) \n",
    "        val `1.1`: P = `1`._1                         // 1.1   p \n",
    "        val `1.2`: Either[Q, R] = `1`._2              // 1.2   q ∨ r \n",
    "        (`1.2` match {                                \n",
    "            case Left(_1_3: Q) =>                     // 1.3   q\n",
    "                val `1.3.1`: (P, Q) = (`1.1`,_1_3)    // 1.3.1 p ∧ q \n",
    "                Left(`1.3.1`)                         // 1.3.2 (p ∧ q) ∨ (p ∧ r)\n",
    "            \n",
    "            case Right(_1_4: R) =>                    // 1.4   r\n",
    "                val `1.4.1`: (P, R) = (`1.1`, _1_4)   // 1.4.1 p ∧ r \n",
    "                Right(`1.4.1`)                        // 1.4.2 (p ∧ q) ∨ (p ∧ r)\n",
    "            \n",
    "        }): Either[(P,Q), (P,R)]                      // 1.5   (p ∧ q) ∨ (p ∧ r)\n",
    "    }: (((P, Either[Q, R])) => Either[(P,Q), (P,R)])  // 2     p ∧ (q ∨ r) ⟶ (p ∧ q) ∨ (p ∧ r)"
   ]
  },
  {
   "cell_type": "markdown",
   "metadata": {},
   "source": [
    "# More examples"
   ]
  },
  {
   "cell_type": "markdown",
   "metadata": {},
   "source": [
    "If you can't still believe what we have shown, let's see some more examples which show how to prove a theorem with a functional program."
   ]
  },
  {
   "cell_type": "markdown",
   "metadata": {},
   "source": [
    "# $\\vdash (p \\rightarrow q) \\wedge p \\rightarrow q$"
   ]
  },
  {
   "cell_type": "code",
   "execution_count": 10,
   "metadata": {},
   "outputs": [
    {
     "data": {
      "text/plain": [
       "defined \u001b[32mfunction\u001b[39m \u001b[36mprogram\u001b[39m"
      ]
     },
     "execution_count": 10,
     "metadata": {},
     "output_type": "execute_result"
    }
   ],
   "source": [
    "def program[P, Q]: (P => Q, P) => Q = \n",
    "    ???"
   ]
  },
  {
   "cell_type": "markdown",
   "metadata": {},
   "source": [
    "Believe it or not, the program above corresponds exactly to the following proof:\n",
    "\n",
    "$$\n",
    "\\begin{array}{llr}\n",
    "1 & (p \\rightarrow q) \\wedge p & premise \\\\\n",
    "1.1 & p \\rightarrow q & \\wedge E(1) \\\\\n",
    "1.2 & p  & \\wedge E(1) \\\\\n",
    "1.3 & q  & \\rightarrow E(1.1,1.2) \\\\\n",
    "2 & (p \\rightarrow q) \\wedge p \\rightarrow q & \\rightarrow I(1-1.3)\n",
    "\\end{array}\n",
    "$$\n",
    "\n",
    "Which can be shown as follows:"
   ]
  },
  {
   "cell_type": "code",
   "execution_count": 11,
   "metadata": {},
   "outputs": [
    {
     "data": {
      "text/plain": [
       "defined \u001b[32mfunction\u001b[39m \u001b[36mproof\u001b[39m"
      ]
     },
     "execution_count": 11,
     "metadata": {},
     "output_type": "execute_result"
    }
   ],
   "source": [
    "def proof[P, Q]: (P ⟶ Q) ∧ P ⟶ Q = \n",
    "    ???"
   ]
  },
  {
   "attachments": {
    "image.png": {
     "image/png": "[encoded data removed]"
    }
   },
   "cell_type": "markdown",
   "metadata": {},
   "source": [
    "![image.png](attachment:image.png)"
   ]
  },
  {
   "cell_type": "code",
   "execution_count": 12,
   "metadata": {},
   "outputs": [
    {
     "data": {
      "text/plain": [
       "defined \u001b[32mfunction\u001b[39m \u001b[36mproof\u001b[39m"
      ]
     },
     "execution_count": 12,
     "metadata": {},
     "output_type": "execute_result"
    }
   ],
   "source": [
    "def proof[P, Q](p1: Either[P, Q], p2: Not[Q]): P =\n",
    "    ???"
   ]
  },
  {
   "cell_type": "code",
   "execution_count": 13,
   "metadata": {},
   "outputs": [
    {
     "data": {
      "text/plain": [
       "defined \u001b[32mfunction\u001b[39m \u001b[36mproof\u001b[39m"
      ]
     },
     "execution_count": 13,
     "metadata": {},
     "output_type": "execute_result"
    }
   ],
   "source": [
    "def proof[P, Q](p1: Either[P, Q])(p2: Not[Q]): P =\n",
    "    ???"
   ]
  },
  {
   "cell_type": "markdown",
   "metadata": {},
   "source": [
    "# $\\vdash p \\vee q \\rightarrow \\neg p \\rightarrow q$ "
   ]
  },
  {
   "cell_type": "code",
   "execution_count": 14,
   "metadata": {},
   "outputs": [
    {
     "data": {
      "text/plain": [
       "defined \u001b[32mfunction\u001b[39m \u001b[36mproof\u001b[39m"
      ]
     },
     "execution_count": 14,
     "metadata": {},
     "output_type": "execute_result"
    }
   ],
   "source": [
    "def proof[P, Q]: Either[P, Q] => (P => Nothing) => Q = \n",
    "    ???"
   ]
  },
  {
   "cell_type": "markdown",
   "metadata": {},
   "source": [
    "$$\n",
    "\\begin{array}{llr}\n",
    "1 & p \\vee q & \\mathrm{premise} \\\\ \n",
    "1.1 & \\neg p & \\mathrm{premise} \\\\\n",
    "&& \\\\\n",
    "1.1.1 & p & \\mathrm{premise} \\\\\n",
    "1.1.1.1 & \\bot & \\rightarrow E(1.1,1.1.1) \\\\\n",
    "1.1.1.2 & q & \\bot E(1.1.1.1)\\\\\n",
    "&& \\\\\n",
    "1.1.2 & q & \\mathrm{premise} \\\\\n",
    "1.1.2.1 & q & \\mathrm{Ax}(1.1.2) \\\\\n",
    "&& \\\\\n",
    "1.1.3 & q & \\vee E(1.1.1-1.1.1.2,1.1.2-1.1.2.1,1)\\\\ \n",
    "1.2 & \\neg p \\rightarrow q & \\rightarrow I(1.1-1.1.3)\\\\\n",
    "2 & p \\vee q \\rightarrow \\neg p \\rightarrow q & \\rightarrow I(1-1.2) \n",
    "\\end{array}\n",
    "$$"
   ]
  },
  {
   "cell_type": "code",
   "execution_count": 15,
   "metadata": {},
   "outputs": [
    {
     "data": {
      "text/plain": [
       "defined \u001b[32mfunction\u001b[39m \u001b[36mproof\u001b[39m"
      ]
     },
     "execution_count": 15,
     "metadata": {},
     "output_type": "execute_result"
    }
   ],
   "source": [
    "def proof[P, Q]: P ∨ Q ⟶ (¬[P] ⟶ Q) = \n",
    "    ???"
   ]
  },
  {
   "cell_type": "markdown",
   "metadata": {},
   "source": [
    "# $\\vdash (p \\rightarrow \\neg q) \\rightarrow (p \\rightarrow q) \\rightarrow \\neg p$"
   ]
  },
  {
   "cell_type": "code",
   "execution_count": 34,
   "metadata": {},
   "outputs": [
    {
     "data": {
      "text/plain": [
       "defined \u001b[32mfunction\u001b[39m \u001b[36mproof3\u001b[39m"
      ]
     },
     "execution_count": 34,
     "metadata": {},
     "output_type": "execute_result"
    }
   ],
   "source": [
    "def proof3[P, Q]: (P => Not[Q]) => (P => Q) => Not[P] = \n",
    "   (f: (P => (Q => Nothing))) => \n",
    "        (g: (P => Q)) => \n",
    "            (p: P) => \n",
    "                f(p)(g(p) : Q)  : Nothing"
   ]
  },
  {
   "cell_type": "markdown",
   "metadata": {},
   "source": [
    "$$\n",
    "\\begin{array}{llr}\n",
    "1 & p \\rightarrow \\neg q & premise \\\\\n",
    "1.1 & p \\rightarrow q & premise \\\\\n",
    "1.1.1 & p & premise \\\\ \n",
    "1.1.1.1 & \\neg q & \\rightarrow E(1,1.1.1) \\\\\n",
    "1.1.1.2 & q & \\rightarrow E(1.1, 1.1.1) \\\\\n",
    "1.1.1.3 & \\bot & \\rightarrow E(1.1.1.1,1.1.1.2) \\\\\n",
    "1.1.2 & \\neg p & \\rightarrow I(1.1.1-1.1.1.3) \\\\\n",
    "1.2 & (p \\rightarrow q) \\rightarrow \\neg p & \\rightarrow I(1.1-1.1.2)\\\\\n",
    "2 & (p \\rightarrow \\neg q) \\rightarrow (p \\rightarrow q) \\rightarrow \\neg p & \\rightarrow I(1-1.2)\n",
    "\\end{array}\n",
    "$$"
   ]
  },
  {
   "cell_type": "code",
   "execution_count": 17,
   "metadata": {},
   "outputs": [
    {
     "data": {
      "text/plain": [
       "defined \u001b[32mfunction\u001b[39m \u001b[36mproof3\u001b[39m"
      ]
     },
     "execution_count": 17,
     "metadata": {},
     "output_type": "execute_result"
    }
   ],
   "source": [
    "def proof3[P, Q]: (P ⟶ ¬[Q]) ⟶ ((P ⟶ Q) ⟶ (¬[P])) = \n",
    "    ???"
   ]
  },
  {
   "attachments": {
    "image.png": {
     "image/png": "[encoded data removed]"
    }
   },
   "cell_type": "markdown",
   "metadata": {},
   "source": [
    "![image.png](attachment:image.png)"
   ]
  },
  {
   "cell_type": "markdown",
   "metadata": {},
   "source": [
    "# $\\vdash (p \\rightarrow q) \\rightarrow (\\neg q \\rightarrow \\neg p)$"
   ]
  },
  {
   "cell_type": "code",
   "execution_count": 18,
   "metadata": {},
   "outputs": [
    {
     "data": {
      "text/plain": [
       "defined \u001b[32mfunction\u001b[39m \u001b[36mprogram\u001b[39m"
      ]
     },
     "execution_count": 18,
     "metadata": {},
     "output_type": "execute_result"
    }
   ],
   "source": [
    "def program[P, Q]: (P => Q) => (Not[Q] => Not[P]) = \n",
    "    ??? : ((P => Q) => (Not[Q] => Not[P]))"
   ]
  },
  {
   "cell_type": "code",
   "execution_count": 19,
   "metadata": {},
   "outputs": [
    {
     "data": {
      "text/plain": [
       "defined \u001b[32mfunction\u001b[39m \u001b[36mprogram\u001b[39m"
      ]
     },
     "execution_count": 19,
     "metadata": {},
     "output_type": "execute_result"
    }
   ],
   "source": [
    "def program[P, Q]: (P => Q) => (Not[Q] => Not[P]) = \n",
    "    { `1`: (P => Q) => \n",
    "        ??? : (Not[Q] => Not[P])\n",
    "    } : ((P => Q) => (Not[Q] => Not[P]))"
   ]
  },
  {
   "cell_type": "code",
   "execution_count": 20,
   "metadata": {},
   "outputs": [],
   "source": [
    "//val a: Nothing = ???"
   ]
  },
  {
   "cell_type": "code",
   "execution_count": 21,
   "metadata": {},
   "outputs": [
    {
     "data": {
      "text/plain": [
       "defined \u001b[32mfunction\u001b[39m \u001b[36mprogram\u001b[39m"
      ]
     },
     "execution_count": 21,
     "metadata": {},
     "output_type": "execute_result"
    }
   ],
   "source": [
    "def program[P, Q]: (P => Q) => Not[Q] => Not[P] = \n",
    "    { `1`: (P => Q) => \n",
    "        { `1.1`: Not[Q] => \n",
    "            { p: P => \n",
    "                ??? \n",
    "            }: (P  => Nothing) \n",
    "        }: (Not[Q] => Not[P])\n",
    "    }: ((P => Q) => (Not[Q] => Not[P]))\n"
   ]
  },
  {
   "cell_type": "code",
   "execution_count": 22,
   "metadata": {},
   "outputs": [
    {
     "data": {
      "text/plain": [
       "defined \u001b[32mfunction\u001b[39m \u001b[36mprogram\u001b[39m"
      ]
     },
     "execution_count": 22,
     "metadata": {},
     "output_type": "execute_result"
    }
   ],
   "source": [
    "def program[P, Q]: (P => Q) => Not[Q] => Not[P] = \n",
    "    { `1`: (P => Q) => \n",
    "        { `1.1`: Not[Q] => \n",
    "            { `1.1.1`: P => \n",
    "                val `1.1.1.1`: Q = `1`(`1.1.1`) \n",
    "                ??? : Nothing\n",
    "            }: (P  => Nothing) \n",
    "        }: (Not[Q] => Not[P])\n",
    "    }: ((P => Q) => (Not[Q] => Not[P]))\n"
   ]
  },
  {
   "cell_type": "code",
   "execution_count": 23,
   "metadata": {},
   "outputs": [
    {
     "data": {
      "text/plain": [
       "defined \u001b[32mtype\u001b[39m \u001b[36mNot\u001b[39m"
      ]
     },
     "execution_count": 23,
     "metadata": {},
     "output_type": "execute_result"
    }
   ],
   "source": [
    "type Not[P] = P => Nothing"
   ]
  },
  {
   "cell_type": "code",
   "execution_count": 28,
   "metadata": {},
   "outputs": [
    {
     "data": {
      "text/plain": [
       "defined \u001b[32mfunction\u001b[39m \u001b[36mprogram\u001b[39m"
      ]
     },
     "execution_count": 28,
     "metadata": {},
     "output_type": "execute_result"
    }
   ],
   "source": [
    "def program[P, Q]: (P => Q) => Not[Q] => Not[P] = \n",
    "    f => nq => p => nq(f(p))"
   ]
  },
  {
   "cell_type": "code",
   "execution_count": 26,
   "metadata": {},
   "outputs": [
    {
     "data": {
      "text/plain": [
       "defined \u001b[32mfunction\u001b[39m \u001b[36mprogram\u001b[39m"
      ]
     },
     "execution_count": 26,
     "metadata": {},
     "output_type": "execute_result"
    }
   ],
   "source": [
    "def program[P, Q]: (P => Q) => Not[Q] => Not[P] = \n",
    "    { `1`: (P => Q) => \n",
    "        { `1.1` : (Q => Nothing) => \n",
    "            { `1.1.1`: P => \n",
    "                val `1.1.1.1`: Q = `1`(`1.1.1`) \n",
    "                `1.1`(`1.1.1.1`) : Nothing\n",
    "            }: (P  => Nothing) \n",
    "        }: (Not[Q] => Not[P])\n",
    "    }: ((P => Q) => (Not[Q] => Not[P]))"
   ]
  },
  {
   "cell_type": "markdown",
   "metadata": {},
   "source": [
    "$$\n",
    "\\begin{array}{llr}\n",
    "1 & p \\rightarrow q  &  premise \\\\\n",
    "1.1 & \\neg q & premise \\\\\n",
    "1.1.1 & p & premise \\\\ \n",
    "1.1.1.1 & q & \\rightarrow E(1,1.1.1) \\\\\n",
    "1.1.1.2 & \\bot & \\rightarrow E(1.1, 1.1.1.1) \\\\\n",
    "1.1.2 & \\neg p & \\rightarrow I(1.1.1-1.1.1.2) \\\\\n",
    "1.2 & \\neg q \\rightarrow \\neg p & \\rightarrow I(1.1-1.1.2)\\\\\n",
    "2 & (p \\rightarrow q) \\rightarrow (\\neg q \\rightarrow \\neg p) & \\rightarrow I(1-1.2)\n",
    "\\end{array}\n",
    "$$"
   ]
  },
  {
   "cell_type": "code",
   "execution_count": null,
   "metadata": {},
   "outputs": [],
   "source": [
    "def proof[P, Q]: (P ⟶ Q) ⟶ (¬[Q] ⟶ ¬[P]) = \n",
    "    ???"
   ]
  },
  {
   "cell_type": "markdown",
   "metadata": {},
   "source": [
    "The previous examples were all positive ones: if we have a theorem, then we can implement the corresponding function. The opposite also works: if some proposition is not a theorem, then we won't be able to implement that function, no matter how hard we try."
   ]
  },
  {
   "cell_type": "markdown",
   "metadata": {},
   "source": [
    "# The intuitionistic stance"
   ]
  },
  {
   "cell_type": "markdown",
   "metadata": {},
   "source": [
    "But, what about the following theorem? "
   ]
  },
  {
   "cell_type": "markdown",
   "metadata": {},
   "source": [
    "# $\\vdash \\neg (p \\wedge q) \\rightarrow \\neg p \\vee \\neg q$"
   ]
  },
  {
   "cell_type": "code",
   "execution_count": 45,
   "metadata": {},
   "outputs": [
    {
     "data": {
      "text/plain": [
       "defined \u001b[32mfunction\u001b[39m \u001b[36mprogram\u001b[39m"
      ]
     },
     "execution_count": 45,
     "metadata": {},
     "output_type": "execute_result"
    }
   ],
   "source": [
    "def program[P, Q]: (((P, Q)) => Nothing) => Either[P => Nothing, Q => Nothing] = \n",
    "    {`1` : (((P, Q)) => Nothing) => \n",
    "         Right((q: Q) => `1`((??? : P, q : Q)): Nothing) : Either[P => Nothing, Q => Nothing]\n",
    "    }"
   ]
  },
  {
   "cell_type": "code",
   "execution_count": 41,
   "metadata": {},
   "outputs": [
    {
     "data": {
      "text/plain": [
       "defined \u001b[32mfunction\u001b[39m \u001b[36mprogram\u001b[39m"
      ]
     },
     "execution_count": 41,
     "metadata": {},
     "output_type": "execute_result"
    }
   ],
   "source": [
    "def program[P, Q]: (((P, Q)) => Nothing) => Either[P => Nothing, Q => Nothing] = \n",
    "    {`1` : (((P, Q)) => Nothing) => \n",
    "         Left((p: P) => `1`((p : P, ??? : Q)) : Nothing) : Either[P => Nothing, Q => Nothing]\n",
    "    }"
   ]
  },
  {
   "cell_type": "code",
   "execution_count": 41,
   "metadata": {},
   "outputs": [
    {
     "data": {
      "text/plain": [
       "defined \u001b[32mfunction\u001b[39m \u001b[36mprogram\u001b[39m"
      ]
     },
     "execution_count": 41,
     "metadata": {},
     "output_type": "execute_result"
    }
   ],
   "source": [
    "def program[P, Q]: (((P, Q)) => Nothing) => Either[P => Nothing, Q => Nothing] = \n",
    "    {`1` : (((P, Q)) => Nothing) => \n",
    "         Left((p: P) => `1`((??? : P, ??? : Q)) : Nothing) : Either[P => Nothing, Q => Nothing]\n",
    "    }"
   ]
  },
  {
   "cell_type": "code",
   "execution_count": 40,
   "metadata": {},
   "outputs": [
    {
     "data": {
      "text/plain": [
       "defined \u001b[32mfunction\u001b[39m \u001b[36mprogram\u001b[39m"
      ]
     },
     "execution_count": 40,
     "metadata": {},
     "output_type": "execute_result"
    }
   ],
   "source": [
    "def program[P, Q]: (((P, Q)) => Nothing) => Either[P => Nothing, Q => Nothing] = \n",
    "    {`1` : (((P, Q)) => Nothing) => \n",
    "         Left((p: P) => `1`(??? : (P, Q)) : Nothing) : Either[P => Nothing, Q => Nothing]\n",
    "    }"
   ]
  },
  {
   "cell_type": "code",
   "execution_count": 39,
   "metadata": {},
   "outputs": [
    {
     "data": {
      "text/plain": [
       "defined \u001b[32mfunction\u001b[39m \u001b[36mprogram\u001b[39m"
      ]
     },
     "execution_count": 39,
     "metadata": {},
     "output_type": "execute_result"
    }
   ],
   "source": [
    "def program[P, Q]: (((P, Q)) => Nothing) => Either[P => Nothing, Q => Nothing] = \n",
    "    {`1` : (((P, Q)) => Nothing) => \n",
    "         Left((p: P) => ??? : Nothing) : Either[P => Nothing, Q => Nothing]\n",
    "    }"
   ]
  },
  {
   "cell_type": "code",
   "execution_count": 38,
   "metadata": {},
   "outputs": [
    {
     "data": {
      "text/plain": [
       "defined \u001b[32mfunction\u001b[39m \u001b[36mprogram\u001b[39m"
      ]
     },
     "execution_count": 38,
     "metadata": {},
     "output_type": "execute_result"
    }
   ],
   "source": [
    "def program[P, Q]: (((P, Q)) => Nothing) => Either[P => Nothing, Q => Nothing] = \n",
    "    {`1` : (((P, Q)) => Nothing) => \n",
    "         Left(??? : P => Nothing) : Either[P => Nothing, Q => Nothing]\n",
    "    }"
   ]
  },
  {
   "cell_type": "code",
   "execution_count": 37,
   "metadata": {},
   "outputs": [
    {
     "data": {
      "text/plain": [
       "defined \u001b[32mfunction\u001b[39m \u001b[36mprogram\u001b[39m"
      ]
     },
     "execution_count": 37,
     "metadata": {},
     "output_type": "execute_result"
    }
   ],
   "source": [
    "def program[P, Q]: (((P, Q)) => Nothing) => Either[P => Nothing, Q => Nothing] = \n",
    "    {`1` : (((P, Q)) => Nothing) => \n",
    "         ??? : Either[P => Nothing, Q => Nothing]\n",
    "    }"
   ]
  },
  {
   "cell_type": "code",
   "execution_count": 36,
   "metadata": {},
   "outputs": [
    {
     "data": {
      "text/plain": [
       "defined \u001b[32mfunction\u001b[39m \u001b[36mprogram\u001b[39m"
      ]
     },
     "execution_count": 36,
     "metadata": {},
     "output_type": "execute_result"
    }
   ],
   "source": [
    "def program[P, Q]: (((P, Q)) => Nothing) => Either[P => Nothing, Q => Nothing] = \n",
    "    ??? : (((P, Q)) => Nothing) => Either[P => Nothing, Q => Nothing]"
   ]
  },
  {
   "cell_type": "markdown",
   "metadata": {},
   "source": [
    "No matter how hard we try, we get stuck, i.e. we can't complete an implementation of that function. And yet, the proposition is a theorem of logic ... or is it not? Well, it depends on the _kind_ of logic we are talking about: indeed, that formula is a theorem of _classical_ logic, but it's is not a theorem of _intuitionistic_ logic. And the kind of logic which actually corresponds to the kind of functional programming we are doing is _intuitionistic propositional logic_. This logic is characterised by a different mode of reasoning: in classical logic, our reasoning revolves around _truth_, whereas in intuitionistic logic our reasoning revolves around _proofs_. For instance, the formula above can be read as follows:\n",
    "\n",
    "* If p and q is false, then p is false or q is false (the classical reading)\n",
    "\n",
    "* If we can prove absurdity given a proof of p and a proof of q, then we can prove absurdity given either a proof of p alone, or a proof of q alone (the intuitionistic reading)"
   ]
  },
  {
   "cell_type": "markdown",
   "metadata": {},
   "source": [
    "Clasically, it makes sense; intuitionistically, the premise does not support the conclusion at all. The same happens with other formulas, most notably, the double negation theorem and the law of the third middle: "
   ]
  },
  {
   "cell_type": "markdown",
   "metadata": {},
   "source": [
    "# $\\vdash \\neg \\neg p \\rightarrow p$"
   ]
  },
  {
   "cell_type": "code",
   "execution_count": 46,
   "metadata": {},
   "outputs": [
    {
     "data": {
      "text/plain": [
       "defined \u001b[32mfunction\u001b[39m \u001b[36mprogram\u001b[39m"
      ]
     },
     "execution_count": 46,
     "metadata": {},
     "output_type": "execute_result"
    }
   ],
   "source": [
    "def program[P]: Not[Not[P]] => P = \n",
    "    (nnp: Not[Not[P]]) => \n",
    "        ??? : P"
   ]
  },
  {
   "cell_type": "code",
   "execution_count": 46,
   "metadata": {},
   "outputs": [
    {
     "data": {
      "text/plain": [
       "defined \u001b[32mfunction\u001b[39m \u001b[36mprogram\u001b[39m"
      ]
     },
     "execution_count": 46,
     "metadata": {},
     "output_type": "execute_result"
    }
   ],
   "source": [
    "def program[P]: Not[Not[P]] => P = \n",
    "    (nnp: ((P => Nothing) => Nothing) => \n",
    "        ??? : P"
   ]
  },
  {
   "cell_type": "code",
   "execution_count": 47,
   "metadata": {},
   "outputs": [
    {
     "data": {
      "text/plain": [
       "defined \u001b[32mfunction\u001b[39m \u001b[36mprogram\u001b[39m"
      ]
     },
     "execution_count": 47,
     "metadata": {},
     "output_type": "execute_result"
    }
   ],
   "source": [
    "def program[P]: Not[Not[P]] => P = \n",
    "    (nnp: ((P => Nothing) => Nothing)) => \n",
    "        nnp(??? : (P => Nothing)): P"
   ]
  },
  {
   "cell_type": "code",
   "execution_count": 48,
   "metadata": {},
   "outputs": [
    {
     "data": {
      "text/plain": [
       "defined \u001b[32mfunction\u001b[39m \u001b[36mprogram\u001b[39m"
      ]
     },
     "execution_count": 48,
     "metadata": {},
     "output_type": "execute_result"
    }
   ],
   "source": [
    "def program[P]: Not[Not[P]] => P = \n",
    "    (nnp: ((P => Nothing) => Nothing)) => \n",
    "        nnp((p: P) => ??? : Nothing): P"
   ]
  },
  {
   "cell_type": "markdown",
   "metadata": {},
   "source": [
    "In this case, the premise asserts that we can reach a contradiction (proving the absurd) if we asume that p can't be proved; but that does not mean that we can construct an actual proof of $p$ at all!"
   ]
  },
  {
   "cell_type": "markdown",
   "metadata": {},
   "source": [
    "# $\\vdash p \\vee \\neg p$"
   ]
  },
  {
   "cell_type": "code",
   "execution_count": 49,
   "metadata": {},
   "outputs": [
    {
     "data": {
      "text/plain": [
       "defined \u001b[32mfunction\u001b[39m \u001b[36mprogram\u001b[39m"
      ]
     },
     "execution_count": 49,
     "metadata": {},
     "output_type": "execute_result"
    }
   ],
   "source": [
    "def program[P]: Either[P, Not[P]] = \n",
    "    ??? : Either[P, Not[P]]"
   ]
  },
  {
   "cell_type": "code",
   "execution_count": 50,
   "metadata": {},
   "outputs": [
    {
     "data": {
      "text/plain": [
       "defined \u001b[32mfunction\u001b[39m \u001b[36mprogram\u001b[39m"
      ]
     },
     "execution_count": 50,
     "metadata": {},
     "output_type": "execute_result"
    }
   ],
   "source": [
    "def program[P]: Either[P, Not[P]] = \n",
    "    Left(??? : P) : Either[P, Not[P]]"
   ]
  },
  {
   "cell_type": "code",
   "execution_count": 52,
   "metadata": {},
   "outputs": [
    {
     "data": {
      "text/plain": [
       "defined \u001b[32mfunction\u001b[39m \u001b[36mprogram\u001b[39m"
      ]
     },
     "execution_count": 52,
     "metadata": {},
     "output_type": "execute_result"
    }
   ],
   "source": [
    "def program[P]: Either[P, Not[P]] = \n",
    "    Right((p : P) => ??? : Nothing) : Either[P, Not[P]]"
   ]
  },
  {
   "cell_type": "markdown",
   "metadata": {},
   "source": [
    "\"Given any proposition $p$, we can construct a proof of $p$ or show that a proof of $p$ leads to contradiction\" ... Come off it!"
   ]
  },
  {
   "cell_type": "markdown",
   "metadata": {},
   "source": [
    "These two formulas are important, since we can obtain the expressiveness of classical logic if we assume one of them as premise. For instance:"
   ]
  },
  {
   "cell_type": "code",
   "execution_count": 55,
   "metadata": {},
   "outputs": [
    {
     "data": {
      "text/plain": [
       "defined \u001b[32mfunction\u001b[39m \u001b[36mprogram\u001b[39m"
      ]
     },
     "execution_count": 55,
     "metadata": {},
     "output_type": "execute_result"
    }
   ],
   "source": [
    "def program[P, Q](thirdMiddleP: Either[P, Not[P]]): Not[(P, Q)] => Either[Not[P], Not[Q]] = \n",
    "    {npq: (((P,Q)) => Nothing) => \n",
    "        (thirdMiddleP match {\n",
    "            case Left(p: P) => \n",
    "                Right(??? : Not[Q]) : Either[Not[P], Not[Q]]\n",
    "            case Right(np: Not[P]) => \n",
    "                ??? : Either[Not[P], Not[Q]]\n",
    "        }) : Either[Not[P], Not[Q]]\n",
    "    }"
   ]
  },
  {
   "cell_type": "code",
   "execution_count": 55,
   "metadata": {},
   "outputs": [
    {
     "data": {
      "text/plain": [
       "defined \u001b[32mfunction\u001b[39m \u001b[36mprogram\u001b[39m"
      ]
     },
     "execution_count": 55,
     "metadata": {},
     "output_type": "execute_result"
    }
   ],
   "source": [
    "def program[P, Q](thirdMiddleP: Either[P, Not[P]]): Not[(P, Q)] => Either[Not[P], Not[Q]] = \n",
    "    {npq: (((P,Q)) => Nothing) => \n",
    "        (thirdMiddleP match {\n",
    "            case Left(p: P) => \n",
    "                Right((q: Q) => ??? : Nothing) : Either[Not[P], Not[Q]]\n",
    "            case Right(np: Not[P]) => \n",
    "                ??? : Either[Not[P], Not[Q]]\n",
    "        }) : Either[Not[P], Not[Q]]\n",
    "    }"
   ]
  },
  {
   "cell_type": "code",
   "execution_count": 57,
   "metadata": {},
   "outputs": [
    {
     "data": {
      "text/plain": [
       "defined \u001b[32mfunction\u001b[39m \u001b[36mprogram\u001b[39m"
      ]
     },
     "execution_count": 57,
     "metadata": {},
     "output_type": "execute_result"
    }
   ],
   "source": [
    "def program[P, Q](thirdMiddleP: Either[P, Not[P]]): Not[(P, Q)] => Either[Not[P], Not[Q]] = \n",
    "    {npq: (((P,Q)) => Nothing) => \n",
    "        (thirdMiddleP match {\n",
    "            case Left(p: P) => \n",
    "                Right((q: Q) => npq((p,q)) : Nothing) : Either[Not[P], Not[Q]]\n",
    "            case Right(np: Not[P]) => \n",
    "                ??? : Either[Not[P], Not[Q]]\n",
    "        }) : Either[Not[P], Not[Q]]\n",
    "    }"
   ]
  },
  {
   "cell_type": "code",
   "execution_count": 58,
   "metadata": {},
   "outputs": [
    {
     "data": {
      "text/plain": [
       "defined \u001b[32mfunction\u001b[39m \u001b[36mprogram\u001b[39m"
      ]
     },
     "execution_count": 58,
     "metadata": {},
     "output_type": "execute_result"
    }
   ],
   "source": [
    "def program[P, Q](thirdMiddleP: Either[P, Not[P]]): Not[(P, Q)] => Either[Not[P], Not[Q]] = \n",
    "    {npq: (((P,Q)) => Nothing) => \n",
    "        (thirdMiddleP match {\n",
    "            case Left(p: P) => \n",
    "                Right((q: Q) => npq((p,q)) : Nothing) : Either[Not[P], Not[Q]]\n",
    "            case Right(np: Not[P]) => \n",
    "                Left(np : Not[P]): Either[Not[P], Not[Q]]\n",
    "                //Right(??? : Not[Q]): Either[Not[P], Not[Q]]\n",
    "        }) : Either[Not[P], Not[Q]]\n",
    "    }"
   ]
  },
  {
   "cell_type": "markdown",
   "metadata": {},
   "source": [
    "# Conclusion\n"
   ]
  },
  {
   "cell_type": "markdown",
   "metadata": {},
   "source": [
    "The correspondence between intuitionistic propositional logic and computation that we have just seen is awesome. But it goes even further, since it pervades the whole spectrum of logics: first-order logic, modal logics, higher-order logic, etc., have also their computational counterparts in terms of different types of functional languages: dependently-typed programming languages correspond to (intuitionistic) first-order logics, monadic programming to a particular kind of modal logic; generic programming to higher-order logic; etc. Right now, the computation landscape is plagued with programming languages in which this correspondence between logic and computational is not apparent, but the time will come when programming practice will be, in essence, pure logic! Be ready for that ;)"
   ]
  }
 ],
 "metadata": {
  "kernelspec": {
   "display_name": "Scala",
   "language": "scala",
   "name": "scala"
  },
  "language_info": {
   "codemirror_mode": "text/x-scala",
   "file_extension": ".sc",
   "mimetype": "text/x-scala",
   "name": "scala",
   "nbconvert_exporter": "script",
   "version": "2.13.3"
  }
 },
 "nbformat": 4,
 "nbformat_minor": 2
}
