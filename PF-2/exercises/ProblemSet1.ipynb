{
 "cells": [
  {
   "cell_type": "markdown",
   "metadata": {},
   "source": [
    "# Declarative Programming @ URJC\n",
    "# Functional programming\n",
    "## Problem Set 1: Functions"
   ]
  },
  {
   "cell_type": "markdown",
   "metadata": {},
   "source": [
    "## Exercise 1"
   ]
  },
  {
   "cell_type": "markdown",
   "metadata": {},
   "source": [
    "Implement the following _function-methods_ as standard _function-values_ without any syntactic sugar, i.e. as instances of the corresponding trait [Function1](https://www.scala-lang.org/api/current/scala/Function1.html), [Function2](https://www.scala-lang.org/api/current/scala/Function2.html), etc. Implement alternative versions using `object`/`val` declarations, and different levels of type inference."
   ]
  },
  {
   "cell_type": "code",
   "execution_count": null,
   "metadata": {},
   "outputs": [],
   "source": [
    "import scala.math._\n",
    "\n",
    "object FunctionMethods{\n",
    "    \n",
    "    def circleArea(radius: Double): Double = \n",
    "        Pi*pow(radius, 2)\n",
    "    \n",
    "    def triangleArea(base: Double, height: Double): Double = \n",
    "        base * height / 2\n",
    "    \n",
    "    def rectangleArea(width: Double, height: Double): Double = \n",
    "        width * height\n",
    "    \n",
    "    def trapezoidArea(width1: Double, width2: Double, height: Double): Double = \n",
    "        (width1 + width2) * height / 2 \n",
    "}"
   ]
  },
  {
   "cell_type": "code",
   "execution_count": 6,
   "metadata": {},
   "outputs": [
    {
     "data": {
      "text/plain": [
       "\u001b[32mimport \u001b[39m\u001b[36mscala.math._\n",
       "\n",
       "\u001b[39m\n",
       "defined \u001b[32mobject\u001b[39m \u001b[36mFunctionValuesNoSugar\u001b[39m"
      ]
     },
     "execution_count": 6,
     "metadata": {},
     "output_type": "execute_result"
    }
   ],
   "source": [
    "import scala.math._\n",
    "\n",
    "object FunctionValuesNoSugar{\n",
    "    \n",
    "    // object circleArea ...\n",
    "    \n",
    "    object triangleArea extends Function2[Double, Double, Double]{\n",
    "        def apply(base: Double, height: Double): Double = \n",
    "            base * height / 2\n",
    "    }\n",
    "    \n",
    "    // val rectangleArea = new ...\n",
    "    \n",
    "    // val trapezoidArea: ... = ...\n",
    "}"
   ]
  },
  {
   "cell_type": "markdown",
   "metadata": {},
   "source": [
    "## Exercise 2"
   ]
  },
  {
   "cell_type": "markdown",
   "metadata": {},
   "source": [
    "The same as in exercise 1, but using lambda expressions. Implement alternative versions with different levels of type inference and syntactic sugar (e.g. using _underscore_ syntax)."
   ]
  },
  {
   "cell_type": "code",
   "execution_count": 13,
   "metadata": {},
   "outputs": [
    {
     "data": {
      "text/plain": [
       "\u001b[32mimport \u001b[39m\u001b[36mscala.math._\n",
       "\n",
       "\u001b[39m\n",
       "defined \u001b[32mobject\u001b[39m \u001b[36mFunctionValuesSugar\u001b[39m"
      ]
     },
     "execution_count": 13,
     "metadata": {},
     "output_type": "execute_result"
    }
   ],
   "source": [
    "import scala.math._\n",
    "\n",
    "object FunctionValuesSugar{\n",
    "    \n",
    "    // val circleArea: ??? => ??? = ???\n",
    "            \n",
    "    val triangleArea: (Double, Double) => Double = new ((Double, Double)=>Double){\n",
    "        def apply(base: Double, height: Double): Double = \n",
    "            base * height / 2\n",
    "    }\n",
    "    \n",
    "    val triangleArea2: (Double, Double) => Double = \n",
    "        (base: Double, height: Double) =>\n",
    "            base * height / 2\n",
    "    \n",
    "    val triangleArea4 = \n",
    "        (base: Double, height: Double) =>\n",
    "            base * height / 2\n",
    "    \n",
    "    val triangleArea3: (Double, Double) => Double = \n",
    "        (base, height) =>\n",
    "            base * height / 2\n",
    "    \n",
    "    val triangleArea1: (Double, Double) => Double = \n",
    "            _ * _ / 2\n",
    "    \n",
    "        \n",
    "    // val rectangleArea = ???\n",
    "    \n",
    "    // val trapezoidArea: ??? = ???\n",
    "}"
   ]
  },
  {
   "cell_type": "markdown",
   "metadata": {},
   "source": [
    "## Exercise 3 "
   ]
  },
  {
   "cell_type": "markdown",
   "metadata": {},
   "source": [
    "Implement the function-methods as _currified_ function-values."
   ]
  },
  {
   "cell_type": "code",
   "execution_count": 23,
   "metadata": {},
   "outputs": [
    {
     "data": {
      "text/plain": [
       "\u001b[32mimport \u001b[39m\u001b[36mscala.math._\n",
       "\n",
       "\u001b[39m\n",
       "defined \u001b[32mobject\u001b[39m \u001b[36mFunctionValuesCurrified\u001b[39m"
      ]
     },
     "execution_count": 23,
     "metadata": {},
     "output_type": "execute_result"
    }
   ],
   "source": [
    "import scala.math._\n",
    "\n",
    "object FunctionValuesCurrified{\n",
    "    \n",
    "    // val circleArea = ...\n",
    "    \n",
    "    val triangleArea3: Double => (Double => Double) = \n",
    "        (base: Double) => \n",
    "            (((height: Double) => \n",
    "                (base * height / 2 : Double)) : (Double => Double))\n",
    "    \n",
    "    val triangleArea4: Double => (Double => Double) = \n",
    "        base => height => base * height / 2\n",
    "    \n",
    "    val triangleArea6: Double => (Double => Double) = \n",
    "        base => base * _ / 2\n",
    "    \n",
    "    val triangleArea5: Double => (Double => Double) = \n",
    "        height => (_ * height / 2)\n",
    "    //  height => (x$1 => x$1 * height / 2)\n",
    "    \n",
    "    def f(x: Int, y: Int): Int = x \n",
    "    def g(x: Int, y: Int): Int = y\n",
    "    val fc: Int => Int => Int = x => y => x\n",
    "    val gc: Int => Int => Int = x => y => y\n",
    "    // val triangleArea5: Double => (Double => Double) = \n",
    "       // (_: Double) * (_: Double) / 2\n",
    "    \n",
    "    // val rectangleArea = ...\n",
    "    \n",
    "    // val trapezoid = ...\n",
    "}"
   ]
  },
  {
   "cell_type": "markdown",
   "metadata": {},
   "source": [
    "## Exercise 4"
   ]
  },
  {
   "cell_type": "markdown",
   "metadata": {},
   "source": [
    "Given the following monomorphic version of the `call` HOF "
   ]
  },
  {
   "cell_type": "code",
   "execution_count": null,
   "metadata": {},
   "outputs": [],
   "source": [
    "def call(f: Int => Int, a: Int): Int =\n",
    "    f(a)"
   ]
  },
  {
   "cell_type": "markdown",
   "metadata": {},
   "source": [
    "implement a polymorphic version as a function-method, so that it can work with multiple types (i.e. not only with functions of type `Int => Int`). Test that your implementation is correct by checking that the following examples compile and work as expected."
   ]
  },
  {
   "cell_type": "code",
   "execution_count": null,
   "metadata": {},
   "outputs": [],
   "source": [
    "// call[Int, Int](_ + 1, 1)\n",
    "// call((i: Int) => i+1, 3)\n",
    "// call(\"hello, \" + _, \"pepe\")\n",
    "// call((_ : Int) > 0, 3)\n",
    "// call((i: Int) => i < 0, 2)"
   ]
  },
  {
   "cell_type": "markdown",
   "metadata": {},
   "source": [
    "## Exercise 5"
   ]
  },
  {
   "cell_type": "markdown",
   "metadata": {},
   "source": [
    "Given the following monomorphic version of the `call` HOF "
   ]
  },
  {
   "cell_type": "code",
   "execution_count": null,
   "metadata": {},
   "outputs": [],
   "source": [
    "def call(f: Int => Int)(a: Int): Int =\n",
    "    f(a)"
   ]
  },
  {
   "cell_type": "markdown",
   "metadata": {},
   "source": [
    "implement a polymorphic version as a currified function-value, so that it can work with multiple types. The implementation must comply with the following template:"
   ]
  },
  {
   "cell_type": "code",
   "execution_count": null,
   "metadata": {},
   "outputs": [],
   "source": [
    "// def call[A, B]: ... = ???"
   ]
  },
  {
   "cell_type": "markdown",
   "metadata": {},
   "source": [
    "Test that your implementation is correct by checking that the following examples compile and work as expected."
   ]
  },
  {
   "cell_type": "code",
   "execution_count": null,
   "metadata": {},
   "outputs": [],
   "source": [
    "// call[Int, Int](_ + 1)(1)\n",
    "// call((i: Int) => i+1)(3)\n",
    "// call(\"hello, \" + _)(\"pepe\")\n",
    "// call((_ : Int) > 0)(3)\n",
    "// call((i: Int) => i < 0)(2)"
   ]
  },
  {
   "cell_type": "markdown",
   "metadata": {},
   "source": [
    "## Exercise 6"
   ]
  },
  {
   "cell_type": "markdown",
   "metadata": {},
   "source": [
    "Implement the identity laws of function composition:\n",
    "1. `(identity[B] compose f)(a) == f(a)` for all `A : Type`, `B: Type`, `f: A => B`, `a: A`\n",
    "2. `(f compose identity[A])(a) == f(a)` for all `f: A => B`, `a: A`"
   ]
  },
  {
   "cell_type": "code",
   "execution_count": null,
   "metadata": {},
   "outputs": [],
   "source": [
    "def identityRightLaw[A, B](f: A => B, a: A): Boolean = \n",
    "    ???"
   ]
  },
  {
   "cell_type": "code",
   "execution_count": null,
   "metadata": {},
   "outputs": [],
   "source": [
    "def identityLeftLaw[A, B](f: A => B, a: A): Boolean = \n",
    "    ???"
   ]
  },
  {
   "cell_type": "code",
   "execution_count": 3,
   "metadata": {},
   "outputs": [
    {
     "data": {
      "text/plain": [
       "\u001b[36mres2_0\u001b[39m: \u001b[32mString\u001b[39m = \u001b[32m\"hola\"\u001b[39m\n",
       "\u001b[36mres2_1\u001b[39m: \u001b[32mString\u001b[39m => \u001b[32mInt\u001b[39m = scala.Function1$$Lambda$1814/941349246@77b6dfd4"
      ]
     },
     "execution_count": 3,
     "metadata": {},
     "output_type": "execute_result"
    }
   ],
   "source": [
    "identity[String](\"hola\")\n",
    "((s: String) => s.length) compose identity[String]: (String => Int)"
   ]
  },
  {
   "cell_type": "code",
   "execution_count": 4,
   "metadata": {},
   "outputs": [
    {
     "data": {
      "text/plain": [
       "\u001b[36mres3\u001b[39m: \u001b[32mInt\u001b[39m = \u001b[32m4\u001b[39m"
      ]
     },
     "execution_count": 4,
     "metadata": {},
     "output_type": "execute_result"
    }
   ],
   "source": [
    "((s: String) => s.length)(\"hola\")"
   ]
  },
  {
   "cell_type": "code",
   "execution_count": null,
   "metadata": {},
   "outputs": [],
   "source": []
  }
 ],
 "metadata": {
  "kernelspec": {
   "display_name": "Scala",
   "language": "scala",
   "name": "scala"
  },
  "language_info": {
   "codemirror_mode": "text/x-scala",
   "file_extension": ".sc",
   "mimetype": "text/x-scala",
   "name": "scala",
   "nbconvert_exporter": "script",
   "version": "2.13.3"
  }
 },
 "nbformat": 4,
 "nbformat_minor": 2
}
